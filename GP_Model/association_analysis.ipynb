{
 "cells": [
  {
   "cell_type": "code",
   "execution_count": 1,
   "metadata": {},
   "outputs": [],
   "source": [
    "from pathlib import Path\n",
    "import pandas as pd\n",
    "from matplotlib import pyplot as plt\n",
    "from collections import Counter\n",
    "pd.options.mode.chained_assignment = None\n",
    "\n",
    "dataDir = Path.cwd().parent.parent/'Data/processed'\n",
    "usecols = ['id', 'Gigacow_Cow_Id', 'BreedName', 'label']\n",
    "\n",
    "learner_dataset = pd.read_csv(dataDir/\"Cow_Learner_dataset_L1_1500.csv\", index_col=\"id\", usecols=usecols)\n",
    "learner_dataset.drop_duplicates(subset=['Gigacow_Cow_Id'], inplace=True)\n",
    "\n",
    "memory_dataset = pd.read_csv(dataDir/\"memory_targetCows/cow_total/Cow_Memory_dataset_L1_L2.csv\", index_col=\"id\", usecols=usecols)\n",
    "memory_dataset.drop_duplicates(subset=['Gigacow_Cow_Id'], inplace=True)\n",
    "\n",
    "#analysis on memory&learner problem\n",
    "memory_list = [769, 3718, 5147, 2844, 1181, 5160, 4008, 1985, 74, 1738, 2382, 1103, 4176, 5844, 5848, 5465, 5211, 478, 5088, 5092, 2278, 1905, 5235, 3447]\n",
    "learner_list = [2560, 3075, 2569, 4109, 3603, 1555, 5147, 3613, 544, 550, 5160, 2090, 3638, 3657, 74, 1103, 4176, 2135, 6235, 4704, 6241, 4195, 4200, 622, 5235, 3705, 3707, 645, 2694, 5767, 3718, 2702, 151, 6300, 4765, 1181, 3744, 2724, 1705, 6316, 3762, 5301, 182, 4280, 4792, 708, 4295, 5322, 2251, 1738, 1744, 5844, 5846, 4311, 5848, 6360, 1244, 5852, 2278, 2792, 6380, 5873, 2805, 5372, 1277, 769, 1796, 2844, 6434, 4899, 3890, 1336, 2374, 6472, 4939, 5965, 855, 5465, 1905, 3446, 3447, 2423, 4988, 4990, 385, 6018, 3979, 2956, 6039, 2460, 5534, 3487, 926, 2466, 2979, 4525, 943, 5555, 5046, 951, 4537, 961, 1985, 6086, 4038, 2510, 5076, 2517, 985, 478, 5088, 5092, 3563, 2031, 6127, 5616, 2039, 2047]\n",
    "\n",
    "association_cow_list = list(set(memory_list) & set(learner_list))"
   ]
  },
  {
   "cell_type": "code",
   "execution_count": 4,
   "metadata": {},
   "outputs": [
    {
     "name": "stdout",
     "output_type": "stream",
     "text": [
      "num of cows:  21\n",
      "info:  {769: '10', 3718: '11', 5147: '11', 2844: '01', 1181: '11', 5160: '10', 1985: '10', 74: '10', 1738: '10', 1103: '10', 4176: '00', 5844: '01', 5848: '01', 5465: '10', 478: '11', 5088: '11', 5092: '10', 2278: '10', 1905: '10', 5235: '10', 3447: '10'}\n",
      "The label of cow dict:  ['10', '11', '01', '00']\n",
      "The amount of labels:  [12, 5, 3, 1]\n",
      "['Fast learner with bad memory', 'Fast learner with good memory', 'Slow learner with good memory', 'Slow learner with bad memory']\n"
     ]
    }
   ],
   "source": [
    "# save a list of cow data for learner problems \n",
    "cow_dict = dict()\n",
    "learner_list = []\n",
    "memory_list = []\n",
    "\n",
    "for i, cow_id in enumerate(association_cow_list):\n",
    "    learner_label = int(learner_dataset.loc[learner_dataset.Gigacow_Cow_Id == cow_id].label)\n",
    "    memory_label = int(memory_dataset.loc[memory_dataset.Gigacow_Cow_Id == cow_id].label)\n",
    "    learner_list.append(learner_label)\n",
    "    memory_list.append(memory_label)\n",
    "    cow_dict[cow_id] = str(learner_label)+str(memory_label)\n",
    "\n",
    "print(\"num of cows: \", len(cow_dict))\n",
    "print(\"info: \", cow_dict)\n",
    "\n",
    "# collection the key-value pairs from the cow dict\n",
    "collection_labels = list(cow_dict.values())\n",
    "labels = list(Counter(collection_labels).keys())\n",
    "num = list(Counter(collection_labels).values())\n",
    "print(\"The label of cow dict: \", labels)\n",
    "print(\"The amount of labels: \", num)\n",
    "# map the label with explainable text\n",
    "names = {'10':\"Fast learner with bad memory\", '11':\"Fast learner with good memory\", '01':\"Slow learner with good memory\", '00':\"Slow learner with bad memory\"}\n",
    "labels = [x if x not in names else names[x] for x in names]\n",
    "print(labels)"
   ]
  },
  {
   "cell_type": "code",
   "execution_count": 5,
   "metadata": {},
   "outputs": [
    {
     "data": {
      "image/png": "[encoded data removed]",
      "text/plain": [
       "<Figure size 432x288 with 1 Axes>"
      ]
     },
     "metadata": {},
     "output_type": "display_data"
    }
   ],
   "source": [
    "# plot the consist of labels\n",
    "\n",
    "colors = ['#ff9999','#66b3ff','#99ff99','#ffcc99']\n",
    "\n",
    "fig1, ax1 = plt.subplots()\n",
    "ax1.pie(num, colors = colors, startangle=90, \n",
    "        explode=[0, 0, 0.1, 0], labels=labels,\n",
    "        shadow=True, autopct='%1.1f%%', pctdistance=0.8, labeldistance=1.1)\n",
    "ax1.axis('equal')\n",
    "\n",
    "#plt.legend(fontsize=12)\n",
    "plt.title(\"Pie Chart of association_label\", fontsize=16)\n",
    "plt.tight_layout()\n",
    "\n",
    "plt.show()"
   ]
  },
  {
   "cell_type": "code",
   "execution_count": 27,
   "metadata": {},
   "outputs": [
    {
     "name": "stderr",
     "output_type": "stream",
     "text": [
      "C:\\Users\\Savior_Hn\\AppData\\Local\\Temp\\ipykernel_100428\\3587442554.py:2: SettingWithCopyWarning: \n",
      "A value is trying to be set on a copy of a slice from a DataFrame\n",
      "\n",
      "See the caveats in the documentation: https://pandas.pydata.org/pandas-docs/stable/user_guide/indexing.html#returning-a-view-versus-a-copy\n",
      "  learner_select.rename(columns={\"label\":\"learner_label\"}, inplace=True)\n",
      "C:\\Users\\Savior_Hn\\AppData\\Local\\Temp\\ipykernel_100428\\3587442554.py:4: SettingWithCopyWarning: \n",
      "A value is trying to be set on a copy of a slice from a DataFrame\n",
      "\n",
      "See the caveats in the documentation: https://pandas.pydata.org/pandas-docs/stable/user_guide/indexing.html#returning-a-view-versus-a-copy\n",
      "  memory_select.rename(columns={\"label\":\"memory_label\"}, inplace=True)\n"
     ]
    },
    {
     "data": {
      "text/html": [
       "<div>\n",
       "<style scoped>\n",
       "    .dataframe tbody tr th:only-of-type {\n",
       "        vertical-align: middle;\n",
       "    }\n",
       "\n",
       "    .dataframe tbody tr th {\n",
       "        vertical-align: top;\n",
       "    }\n",
       "\n",
       "    .dataframe thead th {\n",
       "        text-align: right;\n",
       "    }\n",
       "</style>\n",
       "<table border=\"1\" class=\"dataframe\">\n",
       "  <thead>\n",
       "    <tr style=\"text-align: right;\">\n",
       "      <th></th>\n",
       "      <th>Gigacow_Cow_Id</th>\n",
       "      <th>BreedName</th>\n",
       "      <th>learner_label</th>\n",
       "      <th>memory_label</th>\n",
       "    </tr>\n",
       "  </thead>\n",
       "  <tbody>\n",
       "    <tr>\n",
       "      <th>0</th>\n",
       "      <td>5147</td>\n",
       "      <td>1</td>\n",
       "      <td>1</td>\n",
       "      <td>1</td>\n",
       "    </tr>\n",
       "    <tr>\n",
       "      <th>1</th>\n",
       "      <td>5160</td>\n",
       "      <td>1</td>\n",
       "      <td>1</td>\n",
       "      <td>0</td>\n",
       "    </tr>\n",
       "    <tr>\n",
       "      <th>2</th>\n",
       "      <td>74</td>\n",
       "      <td>1</td>\n",
       "      <td>1</td>\n",
       "      <td>0</td>\n",
       "    </tr>\n",
       "    <tr>\n",
       "      <th>3</th>\n",
       "      <td>1103</td>\n",
       "      <td>2</td>\n",
       "      <td>1</td>\n",
       "      <td>0</td>\n",
       "    </tr>\n",
       "    <tr>\n",
       "      <th>4</th>\n",
       "      <td>4176</td>\n",
       "      <td>1</td>\n",
       "      <td>0</td>\n",
       "      <td>0</td>\n",
       "    </tr>\n",
       "    <tr>\n",
       "      <th>5</th>\n",
       "      <td>5235</td>\n",
       "      <td>2</td>\n",
       "      <td>1</td>\n",
       "      <td>0</td>\n",
       "    </tr>\n",
       "    <tr>\n",
       "      <th>6</th>\n",
       "      <td>3718</td>\n",
       "      <td>1</td>\n",
       "      <td>1</td>\n",
       "      <td>1</td>\n",
       "    </tr>\n",
       "    <tr>\n",
       "      <th>7</th>\n",
       "      <td>1181</td>\n",
       "      <td>2</td>\n",
       "      <td>1</td>\n",
       "      <td>1</td>\n",
       "    </tr>\n",
       "    <tr>\n",
       "      <th>8</th>\n",
       "      <td>1738</td>\n",
       "      <td>2</td>\n",
       "      <td>1</td>\n",
       "      <td>0</td>\n",
       "    </tr>\n",
       "    <tr>\n",
       "      <th>9</th>\n",
       "      <td>5844</td>\n",
       "      <td>2</td>\n",
       "      <td>0</td>\n",
       "      <td>1</td>\n",
       "    </tr>\n",
       "    <tr>\n",
       "      <th>10</th>\n",
       "      <td>5848</td>\n",
       "      <td>99</td>\n",
       "      <td>0</td>\n",
       "      <td>1</td>\n",
       "    </tr>\n",
       "    <tr>\n",
       "      <th>11</th>\n",
       "      <td>2278</td>\n",
       "      <td>1</td>\n",
       "      <td>1</td>\n",
       "      <td>0</td>\n",
       "    </tr>\n",
       "    <tr>\n",
       "      <th>12</th>\n",
       "      <td>769</td>\n",
       "      <td>2</td>\n",
       "      <td>1</td>\n",
       "      <td>0</td>\n",
       "    </tr>\n",
       "    <tr>\n",
       "      <th>13</th>\n",
       "      <td>2844</td>\n",
       "      <td>1</td>\n",
       "      <td>0</td>\n",
       "      <td>1</td>\n",
       "    </tr>\n",
       "    <tr>\n",
       "      <th>14</th>\n",
       "      <td>5465</td>\n",
       "      <td>1</td>\n",
       "      <td>1</td>\n",
       "      <td>0</td>\n",
       "    </tr>\n",
       "    <tr>\n",
       "      <th>15</th>\n",
       "      <td>1905</td>\n",
       "      <td>2</td>\n",
       "      <td>1</td>\n",
       "      <td>0</td>\n",
       "    </tr>\n",
       "    <tr>\n",
       "      <th>16</th>\n",
       "      <td>3447</td>\n",
       "      <td>2</td>\n",
       "      <td>1</td>\n",
       "      <td>0</td>\n",
       "    </tr>\n",
       "    <tr>\n",
       "      <th>17</th>\n",
       "      <td>1985</td>\n",
       "      <td>2</td>\n",
       "      <td>1</td>\n",
       "      <td>0</td>\n",
       "    </tr>\n",
       "    <tr>\n",
       "      <th>18</th>\n",
       "      <td>478</td>\n",
       "      <td>1</td>\n",
       "      <td>1</td>\n",
       "      <td>1</td>\n",
       "    </tr>\n",
       "    <tr>\n",
       "      <th>19</th>\n",
       "      <td>5088</td>\n",
       "      <td>2</td>\n",
       "      <td>1</td>\n",
       "      <td>1</td>\n",
       "    </tr>\n",
       "    <tr>\n",
       "      <th>20</th>\n",
       "      <td>5092</td>\n",
       "      <td>1</td>\n",
       "      <td>1</td>\n",
       "      <td>0</td>\n",
       "    </tr>\n",
       "  </tbody>\n",
       "</table>\n",
       "</div>"
      ],
      "text/plain": [
       "    Gigacow_Cow_Id  BreedName  learner_label  memory_label\n",
       "0             5147          1              1             1\n",
       "1             5160          1              1             0\n",
       "2               74          1              1             0\n",
       "3             1103          2              1             0\n",
       "4             4176          1              0             0\n",
       "5             5235          2              1             0\n",
       "6             3718          1              1             1\n",
       "7             1181          2              1             1\n",
       "8             1738          2              1             0\n",
       "9             5844          2              0             1\n",
       "10            5848         99              0             1\n",
       "11            2278          1              1             0\n",
       "12             769          2              1             0\n",
       "13            2844          1              0             1\n",
       "14            5465          1              1             0\n",
       "15            1905          2              1             0\n",
       "16            3447          2              1             0\n",
       "17            1985          2              1             0\n",
       "18             478          1              1             1\n",
       "19            5088          2              1             1\n",
       "20            5092          1              1             0"
      ]
     },
     "execution_count": 27,
     "metadata": {},
     "output_type": "execute_result"
    }
   ],
   "source": [
    "learner_select = learner_dataset.loc[learner_dataset.Gigacow_Cow_Id.isin(association_cow_list)]\n",
    "learner_select.rename(columns={\"label\":\"learner_label\"}, inplace=True)\n",
    "memory_select = memory_dataset.loc[memory_dataset.Gigacow_Cow_Id.isin(association_cow_list)]\n",
    "memory_select.rename(columns={\"label\":\"memory_label\"}, inplace=True)\n",
    "\n",
    "association_cows = learner_select.merge(memory_select, how='left', left_on=['Gigacow_Cow_Id', 'BreedName'], right_on=['Gigacow_Cow_Id', 'BreedName'])\n",
    "association_cows"
   ]
  },
  {
   "cell_type": "code",
   "execution_count": 78,
   "metadata": {},
   "outputs": [],
   "source": [
    "breed_1_label = [\"Fast_learner_bad_memory\", \"Fast_learner_good_memory\", \"Slow_learner_bad_memory\", \"Slow_learner_good_memory\"]\n",
    "breed_2_label = [\"Fast_learner_bad_memory\", \"Fast_learner_good_memory\", \"Slow_learner_good_memory\"]\n",
    "association_cows[\"learner_memory_label\"] = association_cows.learner_label.astype(str) + association_cows.memory_label.astype(str)\n",
    "cow_Breed_1 = association_cows.loc[association_cows.BreedName == 1].copy()\n",
    "cow_Breed_2 = association_cows.loc[association_cows.BreedName == 2].copy()\n",
    "cow_Breed_1_counter = cow_Breed_1.learner_memory_label.value_counts().reset_index(name='Sum of Learner_Memory_label').copy()\n",
    "cow_Breed_2_counter = cow_Breed_2.learner_memory_label.value_counts().reset_index(name='Sum of Learner_Memory_label').copy()"
   ]
  },
  {
   "cell_type": "code",
   "execution_count": 76,
   "metadata": {},
   "outputs": [
    {
     "data": {
      "text/html": [
       "<div>\n",
       "<style scoped>\n",
       "    .dataframe tbody tr th:only-of-type {\n",
       "        vertical-align: middle;\n",
       "    }\n",
       "\n",
       "    .dataframe tbody tr th {\n",
       "        vertical-align: top;\n",
       "    }\n",
       "\n",
       "    .dataframe thead th {\n",
       "        text-align: right;\n",
       "    }\n",
       "</style>\n",
       "<table border=\"1\" class=\"dataframe\">\n",
       "  <thead>\n",
       "    <tr style=\"text-align: right;\">\n",
       "      <th></th>\n",
       "      <th>index</th>\n",
       "      <th>Sum of Learner_Memory_label</th>\n",
       "    </tr>\n",
       "  </thead>\n",
       "  <tbody>\n",
       "    <tr>\n",
       "      <th>0</th>\n",
       "      <td>10</td>\n",
       "      <td>7</td>\n",
       "    </tr>\n",
       "    <tr>\n",
       "      <th>1</th>\n",
       "      <td>11</td>\n",
       "      <td>2</td>\n",
       "    </tr>\n",
       "    <tr>\n",
       "      <th>2</th>\n",
       "      <td>01</td>\n",
       "      <td>1</td>\n",
       "    </tr>\n",
       "  </tbody>\n",
       "</table>\n",
       "</div>"
      ],
      "text/plain": [
       "  index  Sum of Learner_Memory_label\n",
       "0    10                            7\n",
       "1    11                            2\n",
       "2    01                            1"
      ]
     },
     "execution_count": 76,
     "metadata": {},
     "output_type": "execute_result"
    }
   ],
   "source": [
    "cow_Breed_2_counter"
   ]
  },
  {
   "cell_type": "code",
   "execution_count": 79,
   "metadata": {},
   "outputs": [
    {
     "data": {
      "image/png": "[encoded data removed]",
      "text/plain": [
       "<Figure size 720x360 with 1 Axes>"
      ]
     },
     "metadata": {},
     "output_type": "display_data"
    }
   ],
   "source": [
    "fig, ax = plt.subplots(figsize=(10,5))\n",
    "\n",
    "bars = ax.bar(breed_1_label, cow_Breed_1_counter['Sum of Learner_Memory_label'], color='#66b3ff', edgecolor='black', width=0.5)\n",
    "\n",
    "for bar in bars:\n",
    "    yval = bar.get_height()\n",
    "    ax.text(bar.get_x() + bar.get_width()/2.0, yval, yval, ha='center', va='bottom')\n",
    "\n",
    "ax.set_facecolor('whitesmoke')\n",
    "ax.grid(color='gray', linestyle='--', linewidth=0.5, alpha=0.7)\n",
    "ax.set_title(\"Distribution of Learner&Memory labels in Breed 1\", fontdict={'fontsize': 18, 'fontweight': 'bold'})\n",
    "ax.set_xlabel(\"Fruit\", fontdict={'fontsize': 14, 'fontweight': 'bold'})\n",
    "ax.set_ylabel(\"Count\", fontdict={'fontsize': 14, 'fontweight': 'bold'})\n",
    "\n",
    "plt.xticks(fontsize=12, fontweight='bold')\n",
    "plt.yticks(fontsize=12, fontweight='bold')\n",
    "\n",
    "plt.tight_layout()\n",
    "plt.show()"
   ]
  },
  {
   "cell_type": "code",
   "execution_count": 81,
   "metadata": {},
   "outputs": [
    {
     "data": {
      "image/png": "[encoded data removed]",
      "text/plain": [
       "<Figure size 720x360 with 1 Axes>"
      ]
     },
     "metadata": {},
     "output_type": "display_data"
    }
   ],
   "source": [
    "fig, ax = plt.subplots(figsize=(10,5))\n",
    "\n",
    "bars = ax.bar(breed_2_label, cow_Breed_2_counter['Sum of Learner_Memory_label'], color='#66b3ff', edgecolor='black', width=0.5)\n",
    "\n",
    "for bar in bars:\n",
    "    yval = bar.get_height()\n",
    "    ax.text(bar.get_x() + bar.get_width()/2.0, yval, yval, ha='center', va='bottom')\n",
    "\n",
    "ax.set_facecolor('whitesmoke')\n",
    "ax.grid(color='gray', linestyle='--', linewidth=0.5, alpha=0.7)\n",
    "ax.set_title(\"Distribution of Learner&Memory labels in Breed 2\", fontdict={'fontsize': 18, 'fontweight': 'bold'})\n",
    "ax.set_xlabel(\"Fruit\", fontdict={'fontsize': 14, 'fontweight': 'bold'})\n",
    "ax.set_ylabel(\"Count\", fontdict={'fontsize': 14, 'fontweight': 'bold'})\n",
    "\n",
    "plt.xticks(fontsize=12, fontweight='bold')\n",
    "plt.yticks(fontsize=12, fontweight='bold')\n",
    "\n",
    "plt.tight_layout()\n",
    "plt.show()"
   ]
  },
  {
   "cell_type": "code",
   "execution_count": 4,
   "metadata": {},
   "outputs": [
    {
     "data": {
      "text/plain": [
       "BreedName\n",
       "2     31\n",
       "1     27\n",
       "4      3\n",
       "99     2\n",
       "dtype: int64"
      ]
     },
     "execution_count": 4,
     "metadata": {},
     "output_type": "execute_result"
    }
   ],
   "source": [
    "learner_dataset.loc[learner_dataset.label == 1].value_counts(\"BreedName\")"
   ]
  }
 ],
 "metadata": {
  "kernelspec": {
   "display_name": "Python 3.9.7 64-bit",
   "language": "python",
   "name": "python3"
  },
  "language_info": {
   "codemirror_mode": {
    "name": "ipython",
    "version": 3
   },
   "file_extension": ".py",
   "mimetype": "text/x-python",
   "name": "python",
   "nbconvert_exporter": "python",
   "pygments_lexer": "ipython3",
   "version": "3.9.7"
  },
  "orig_nbformat": 4,
  "vscode": {
   "interpreter": {
    "hash": "7857ada9c2c05e5ee75d334d60fb77cca110ad03375c3b02029444557fa6212d"
   }
  }
 },
 "nbformat": 4,
 "nbformat_minor": 2
}
