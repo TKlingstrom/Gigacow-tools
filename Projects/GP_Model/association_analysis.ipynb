{
 "cells": [
  {
   "cell_type": "code",
   "execution_count": 8,
   "metadata": {},
   "outputs": [],
   "source": [
    "from pathlib import Path\n",
    "import pandas as pd\n",
    "from matplotlib import pyplot as plt\n",
    "from collections import Counter\n",
    "pd.options.mode.chained_assignment = None\n",
    "\n",
    "dataDir = Path.cwd().parent.parent/'Data/processed'\n",
    "usecols1 = ['id', 'Gigacow_Cow_Id', 'BreedName', 'problematic']\n",
    "usecols = ['id', 'Gigacow_Cow_Id', 'BreedName', 'label']\n",
    "\n",
    "problematic_dataset = pd.read_csv(dataDir/\"Cow_Prob_dataset_L1.csv\", index_col=\"id\", usecols=usecols1)\n",
    "problematic_dataset.drop_duplicates(subset=['Gigacow_Cow_Id'], inplace=True)\n",
    "problematic_dataset.rename(columns={\"problematic\": \"label\"}, inplace=True)\n",
    "\n",
    "prolonged_problematic_dataset = pd.read_csv(dataDir/\"prolonged_problematic_targetCows/cow_total/Cow_prolonged_problematic_dataset_L1_L2.csv\", index_col=\"id\", usecols=usecols)\n",
    "prolonged_problematic_dataset.drop_duplicates(subset=['Gigacow_Cow_Id'], inplace=True)\n",
    "\n",
    "#analysis on prolonged_problematic&problematic problem\n",
    "prolonged_problematic_list = list(prolonged_problematic_dataset.Gigacow_Cow_Id)\n",
    "problematic_list = list(problematic_dataset.Gigacow_Cow_Id)\n",
    "\n",
    "association_cow_list = list(set(prolonged_problematic_list) & set(problematic_list))"
   ]
  },
  {
   "cell_type": "code",
   "execution_count": 28,
   "metadata": {},
   "outputs": [
    {
     "name": "stdout",
     "output_type": "stream",
     "text": [
      "num of cows:  19\n",
      "info:  {769: '00', 3718: '01', 5147: '01', 2844: '01', 1181: '01', 5160: '00', 1985: '00', 74: '00', 1738: '00', 1103: '00', 4176: '00', 5465: '00', 478: '01', 5088: '01', 5092: '00', 2278: '00', 1905: '00', 5235: '00', 3447: '00'}\n",
      "The label of cow dict:  ['00', '01']\n",
      "The amount of labels:  [13, 6]\n",
      "['Problematic in L1 Problematic in L2', 'Problematic in L1 Normal in L2']\n"
     ]
    }
   ],
   "source": [
    "# save a list of cow data for problematic problems \n",
    "cow_dict = dict()\n",
    "problematic_list = []\n",
    "prolonged_problematic_list = []\n",
    "\n",
    "for i, cow_id in enumerate(association_cow_list):\n",
    "    problematic_label = int(problematic_dataset.loc[problematic_dataset.Gigacow_Cow_Id == cow_id].label)\n",
    "    prolonged_problematic_label = int(prolonged_problematic_dataset.loc[prolonged_problematic_dataset.Gigacow_Cow_Id == cow_id].label)\n",
    "    problematic_list.append(problematic_label)\n",
    "    prolonged_problematic_list.append(prolonged_problematic_label)\n",
    "    cow_dict[cow_id] = str(problematic_label)+str(prolonged_problematic_label)\n",
    "\n",
    "print(\"num of cows: \", len(cow_dict))\n",
    "print(\"info: \", cow_dict)\n",
    "\n",
    "# collection the key-value pairs from the cow dict\n",
    "collection_labels = list(cow_dict.values())\n",
    "labels = list(Counter(collection_labels).keys())\n",
    "num = list(Counter(collection_labels).values())\n",
    "print(\"The label of cow dict: \", labels)\n",
    "print(\"The amount of labels: \", num)\n",
    "# map the label with explainable text\n",
    "names = { '00':\"Problematic in L1 Problematic in L2\", '01':\"Problematic in L1 Normal in L2\"}\n",
    "labels = [x if x not in names else names[x] for x in names]\n",
    "print(labels)"
   ]
  },
  {
   "cell_type": "code",
   "execution_count": 27,
   "metadata": {},
   "outputs": [
    {
     "data": {
      "text/plain": [
       "[13, 6]"
      ]
     },
     "execution_count": 27,
     "metadata": {},
     "output_type": "execute_result"
    }
   ],
   "source": [
    "num"
   ]
  },
  {
   "cell_type": "code",
   "execution_count": 30,
   "metadata": {},
   "outputs": [
    {
     "data": {
      "image/png": "[encoded data removed]",
      "text/plain": [
       "<Figure size 432x288 with 1 Axes>"
      ]
     },
     "metadata": {},
     "output_type": "display_data"
    }
   ],
   "source": [
    "# plot the consist of labels\n",
    "colors = ['#ff9999','#66b3ff','#99ff99','#ffcc99']\n",
    "\n",
    "fig1, ax1 = plt.subplots()\n",
    "ax1.pie(num, colors = colors, startangle=90, \n",
    "        explode=[0, 0.1], labels=labels,\n",
    "        shadow=True, autopct='%1.1f%%', pctdistance=0.8, labeldistance=1.1)\n",
    "ax1.axis('equal')\n",
    "\n",
    "#plt.legend(fontsize=12)\n",
    "plt.title(\"Pie Chart of association_label\", fontsize=16)\n",
    "plt.tight_layout()\n",
    "\n",
    "plt.show()"
   ]
  },
  {
   "cell_type": "code",
   "execution_count": 31,
   "metadata": {},
   "outputs": [
    {
     "data": {
      "text/html": [
       "<div>\n",
       "<style scoped>\n",
       "    .dataframe tbody tr th:only-of-type {\n",
       "        vertical-align: middle;\n",
       "    }\n",
       "\n",
       "    .dataframe tbody tr th {\n",
       "        vertical-align: top;\n",
       "    }\n",
       "\n",
       "    .dataframe thead th {\n",
       "        text-align: right;\n",
       "    }\n",
       "</style>\n",
       "<table border=\"1\" class=\"dataframe\">\n",
       "  <thead>\n",
       "    <tr style=\"text-align: right;\">\n",
       "      <th></th>\n",
       "      <th>Gigacow_Cow_Id</th>\n",
       "      <th>BreedName</th>\n",
       "      <th>problematic_label</th>\n",
       "      <th>prolonged_problematic_label</th>\n",
       "    </tr>\n",
       "  </thead>\n",
       "  <tbody>\n",
       "    <tr>\n",
       "      <th>0</th>\n",
       "      <td>5147</td>\n",
       "      <td>1</td>\n",
       "      <td>0</td>\n",
       "      <td>1</td>\n",
       "    </tr>\n",
       "    <tr>\n",
       "      <th>1</th>\n",
       "      <td>5160</td>\n",
       "      <td>1</td>\n",
       "      <td>0</td>\n",
       "      <td>0</td>\n",
       "    </tr>\n",
       "    <tr>\n",
       "      <th>2</th>\n",
       "      <td>74</td>\n",
       "      <td>1</td>\n",
       "      <td>0</td>\n",
       "      <td>0</td>\n",
       "    </tr>\n",
       "    <tr>\n",
       "      <th>3</th>\n",
       "      <td>1103</td>\n",
       "      <td>2</td>\n",
       "      <td>0</td>\n",
       "      <td>0</td>\n",
       "    </tr>\n",
       "    <tr>\n",
       "      <th>4</th>\n",
       "      <td>4176</td>\n",
       "      <td>1</td>\n",
       "      <td>0</td>\n",
       "      <td>0</td>\n",
       "    </tr>\n",
       "    <tr>\n",
       "      <th>5</th>\n",
       "      <td>5235</td>\n",
       "      <td>2</td>\n",
       "      <td>0</td>\n",
       "      <td>0</td>\n",
       "    </tr>\n",
       "    <tr>\n",
       "      <th>6</th>\n",
       "      <td>3718</td>\n",
       "      <td>1</td>\n",
       "      <td>0</td>\n",
       "      <td>1</td>\n",
       "    </tr>\n",
       "    <tr>\n",
       "      <th>7</th>\n",
       "      <td>1181</td>\n",
       "      <td>2</td>\n",
       "      <td>0</td>\n",
       "      <td>1</td>\n",
       "    </tr>\n",
       "    <tr>\n",
       "      <th>8</th>\n",
       "      <td>1738</td>\n",
       "      <td>2</td>\n",
       "      <td>0</td>\n",
       "      <td>0</td>\n",
       "    </tr>\n",
       "    <tr>\n",
       "      <th>9</th>\n",
       "      <td>2278</td>\n",
       "      <td>1</td>\n",
       "      <td>0</td>\n",
       "      <td>0</td>\n",
       "    </tr>\n",
       "    <tr>\n",
       "      <th>10</th>\n",
       "      <td>769</td>\n",
       "      <td>2</td>\n",
       "      <td>0</td>\n",
       "      <td>0</td>\n",
       "    </tr>\n",
       "    <tr>\n",
       "      <th>11</th>\n",
       "      <td>2844</td>\n",
       "      <td>1</td>\n",
       "      <td>0</td>\n",
       "      <td>1</td>\n",
       "    </tr>\n",
       "    <tr>\n",
       "      <th>12</th>\n",
       "      <td>5465</td>\n",
       "      <td>1</td>\n",
       "      <td>0</td>\n",
       "      <td>0</td>\n",
       "    </tr>\n",
       "    <tr>\n",
       "      <th>13</th>\n",
       "      <td>1905</td>\n",
       "      <td>2</td>\n",
       "      <td>0</td>\n",
       "      <td>0</td>\n",
       "    </tr>\n",
       "    <tr>\n",
       "      <th>14</th>\n",
       "      <td>3447</td>\n",
       "      <td>2</td>\n",
       "      <td>0</td>\n",
       "      <td>0</td>\n",
       "    </tr>\n",
       "    <tr>\n",
       "      <th>15</th>\n",
       "      <td>1985</td>\n",
       "      <td>2</td>\n",
       "      <td>0</td>\n",
       "      <td>0</td>\n",
       "    </tr>\n",
       "    <tr>\n",
       "      <th>16</th>\n",
       "      <td>478</td>\n",
       "      <td>1</td>\n",
       "      <td>0</td>\n",
       "      <td>1</td>\n",
       "    </tr>\n",
       "    <tr>\n",
       "      <th>17</th>\n",
       "      <td>5088</td>\n",
       "      <td>2</td>\n",
       "      <td>0</td>\n",
       "      <td>1</td>\n",
       "    </tr>\n",
       "    <tr>\n",
       "      <th>18</th>\n",
       "      <td>5092</td>\n",
       "      <td>1</td>\n",
       "      <td>0</td>\n",
       "      <td>0</td>\n",
       "    </tr>\n",
       "  </tbody>\n",
       "</table>\n",
       "</div>"
      ],
      "text/plain": [
       "    Gigacow_Cow_Id  BreedName  problematic_label  prolonged_problematic_label\n",
       "0             5147          1                  0                            1\n",
       "1             5160          1                  0                            0\n",
       "2               74          1                  0                            0\n",
       "3             1103          2                  0                            0\n",
       "4             4176          1                  0                            0\n",
       "5             5235          2                  0                            0\n",
       "6             3718          1                  0                            1\n",
       "7             1181          2                  0                            1\n",
       "8             1738          2                  0                            0\n",
       "9             2278          1                  0                            0\n",
       "10             769          2                  0                            0\n",
       "11            2844          1                  0                            1\n",
       "12            5465          1                  0                            0\n",
       "13            1905          2                  0                            0\n",
       "14            3447          2                  0                            0\n",
       "15            1985          2                  0                            0\n",
       "16             478          1                  0                            1\n",
       "17            5088          2                  0                            1\n",
       "18            5092          1                  0                            0"
      ]
     },
     "execution_count": 31,
     "metadata": {},
     "output_type": "execute_result"
    }
   ],
   "source": [
    "problematic_select = problematic_dataset.loc[problematic_dataset.Gigacow_Cow_Id.isin(association_cow_list)]\n",
    "problematic_select.rename(columns={\"label\":\"problematic_label\"}, inplace=True)\n",
    "prolonged_problematic_select = prolonged_problematic_dataset.loc[prolonged_problematic_dataset.Gigacow_Cow_Id.isin(association_cow_list)]\n",
    "prolonged_problematic_select.rename(columns={\"label\":\"prolonged_problematic_label\"}, inplace=True)\n",
    "\n",
    "association_cows = problematic_select.merge(prolonged_problematic_select, how='left', left_on=['Gigacow_Cow_Id', 'BreedName'], right_on=['Gigacow_Cow_Id', 'BreedName'])\n",
    "association_cows"
   ]
  },
  {
   "cell_type": "code",
   "execution_count": 35,
   "metadata": {},
   "outputs": [],
   "source": [
    "breed_1_label = ['Problematic in L1 Problematic in L2', 'Problematic in L1 Normal in L2']\n",
    "breed_2_label = ['Problematic in L1 Problematic in L2', 'Problematic in L1 Normal in L2']\n",
    "association_cows[\"problematic_prolonged_problematic_label\"] = association_cows.problematic_label.astype(str) + association_cows.prolonged_problematic_label.astype(str)\n",
    "cow_Breed_1 = association_cows.loc[association_cows.BreedName == 1].copy()\n",
    "cow_Breed_2 = association_cows.loc[association_cows.BreedName == 2].copy()\n",
    "cow_Breed_1_counter = cow_Breed_1.problematic_prolonged_problematic_label.value_counts().reset_index(name='Sum of problematic_prolonged_problematic_label').copy()\n",
    "cow_Breed_2_counter = cow_Breed_2.problematic_prolonged_problematic_label.value_counts().reset_index(name='Sum of problematic_prolonged_problematic_label').copy()"
   ]
  },
  {
   "cell_type": "code",
   "execution_count": 36,
   "metadata": {},
   "outputs": [
    {
     "data": {
      "text/html": [
       "<div>\n",
       "<style scoped>\n",
       "    .dataframe tbody tr th:only-of-type {\n",
       "        vertical-align: middle;\n",
       "    }\n",
       "\n",
       "    .dataframe tbody tr th {\n",
       "        vertical-align: top;\n",
       "    }\n",
       "\n",
       "    .dataframe thead th {\n",
       "        text-align: right;\n",
       "    }\n",
       "</style>\n",
       "<table border=\"1\" class=\"dataframe\">\n",
       "  <thead>\n",
       "    <tr style=\"text-align: right;\">\n",
       "      <th></th>\n",
       "      <th>index</th>\n",
       "      <th>Sum of problematic_prolonged_problematic_label</th>\n",
       "    </tr>\n",
       "  </thead>\n",
       "  <tbody>\n",
       "    <tr>\n",
       "      <th>0</th>\n",
       "      <td>00</td>\n",
       "      <td>7</td>\n",
       "    </tr>\n",
       "    <tr>\n",
       "      <th>1</th>\n",
       "      <td>01</td>\n",
       "      <td>2</td>\n",
       "    </tr>\n",
       "  </tbody>\n",
       "</table>\n",
       "</div>"
      ],
      "text/plain": [
       "  index  Sum of problematic_prolonged_problematic_label\n",
       "0    00                                               7\n",
       "1    01                                               2"
      ]
     },
     "execution_count": 36,
     "metadata": {},
     "output_type": "execute_result"
    }
   ],
   "source": [
    "cow_Breed_2_counter"
   ]
  },
  {
   "cell_type": "code",
   "execution_count": 37,
   "metadata": {},
   "outputs": [
    {
     "data": {
      "image/png": "[encoded data removed]",
      "text/plain": [
       "<Figure size 720x360 with 1 Axes>"
      ]
     },
     "metadata": {
      "needs_background": "light"
     },
     "output_type": "display_data"
    }
   ],
   "source": [
    "fig, ax = plt.subplots(figsize=(10,5))\n",
    "\n",
    "bars = ax.bar(breed_1_label, cow_Breed_1_counter['Sum of problematic_prolonged_problematic_label'], color='#66b3ff', edgecolor='black', width=0.5)\n",
    "\n",
    "for bar in bars:\n",
    "    yval = bar.get_height()\n",
    "    ax.text(bar.get_x() + bar.get_width()/2.0, yval, yval, ha='center', va='bottom')\n",
    "\n",
    "ax.set_facecolor('whitesmoke')\n",
    "ax.grid(color='gray', linestyle='--', linewidth=0.5, alpha=0.7)\n",
    "ax.set_title(\"Distribution of problematic&prolonged_problematic labels in Breed 1\", fontdict={'fontsize': 18, 'fontweight': 'bold'})\n",
    "ax.set_xlabel(\"Fruit\", fontdict={'fontsize': 14, 'fontweight': 'bold'})\n",
    "ax.set_ylabel(\"Count\", fontdict={'fontsize': 14, 'fontweight': 'bold'})\n",
    "\n",
    "plt.xticks(fontsize=12, fontweight='bold')\n",
    "plt.yticks(fontsize=12, fontweight='bold')\n",
    "\n",
    "plt.tight_layout()\n",
    "plt.show()"
   ]
  },
  {
   "cell_type": "code",
   "execution_count": 38,
   "metadata": {},
   "outputs": [
    {
     "data": {
      "image/png": "[encoded data removed]",
      "text/plain": [
       "<Figure size 720x360 with 1 Axes>"
      ]
     },
     "metadata": {
      "needs_background": "light"
     },
     "output_type": "display_data"
    }
   ],
   "source": [
    "fig, ax = plt.subplots(figsize=(10,5))\n",
    "\n",
    "bars = ax.bar(breed_2_label, cow_Breed_2_counter['Sum of problematic_prolonged_problematic_label'], color='#66b3ff', edgecolor='black', width=0.5)\n",
    "\n",
    "for bar in bars:\n",
    "    yval = bar.get_height()\n",
    "    ax.text(bar.get_x() + bar.get_width()/2.0, yval, yval, ha='center', va='bottom')\n",
    "\n",
    "ax.set_facecolor('whitesmoke')\n",
    "ax.grid(color='gray', linestyle='--', linewidth=0.5, alpha=0.7)\n",
    "ax.set_title(\"Distribution of problematic&prolonged_problematic labels in Breed 2\", fontdict={'fontsize': 18, 'fontweight': 'bold'})\n",
    "ax.set_xlabel(\"Fruit\", fontdict={'fontsize': 14, 'fontweight': 'bold'})\n",
    "ax.set_ylabel(\"Count\", fontdict={'fontsize': 14, 'fontweight': 'bold'})\n",
    "\n",
    "plt.xticks(fontsize=12, fontweight='bold')\n",
    "plt.yticks(fontsize=12, fontweight='bold')\n",
    "\n",
    "plt.tight_layout()\n",
    "plt.show()"
   ]
  },
  {
   "cell_type": "code",
   "execution_count": 39,
   "metadata": {},
   "outputs": [
    {
     "data": {
      "text/plain": [
       "BreedName\n",
       "2     17\n",
       "99    10\n",
       "4      5\n",
       "dtype: int64"
      ]
     },
     "execution_count": 39,
     "metadata": {},
     "output_type": "execute_result"
    }
   ],
   "source": [
    "problematic_dataset.loc[problematic_dataset.label == 1].value_counts(\"BreedName\")"
   ]
  }
 ],
 "metadata": {
  "kernelspec": {
   "display_name": "Python 3.9.7 64-bit",
   "language": "python",
   "name": "python3"
  },
  "language_info": {
   "codemirror_mode": {
    "name": "ipython",
    "version": 3
   },
   "file_extension": ".py",
   "mimetype": "text/x-python",
   "name": "python",
   "nbconvert_exporter": "python",
   "pygments_lexer": "ipython3",
   "version": "3.9.7"
  },
  "orig_nbformat": 4,
  "vscode": {
   "interpreter": {
    "hash": "7857ada9c2c05e5ee75d334d60fb77cca110ad03375c3b02029444557fa6212d"
   }
  }
 },
 "nbformat": 4,
 "nbformat_minor": 2
}
