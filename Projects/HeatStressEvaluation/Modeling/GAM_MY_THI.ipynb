{
 "cells": [
  {
   "cell_type": "markdown",
   "metadata": {},
   "source": [
    "# GAM modelling MYDeviation"
   ]
  },
  {
   "cell_type": "code",
   "execution_count": 18,
   "metadata": {},
   "outputs": [],
   "source": [
    "import pandas as pd\n",
    "import numpy as np\n",
    "\n",
    "import matplotlib.pyplot as plt\n",
    "import seaborn as sns\n",
    "\n",
    "import statsmodels.api as sm\n",
    "import statsmodels.formula.api as smf\n",
    "import scipy.stats as stats\n",
    "\n",
    "from pygam import LinearGAM, s, f"
   ]
  },
  {
   "cell_type": "code",
   "execution_count": 19,
   "metadata": {},
   "outputs": [],
   "source": [
    "# Load data\n",
    "# milk_data = pd.read_csv('../Data/MergedData/HeatApproachCleanedYieldDataTestQuantile61.csv', low_memory=False)\n",
    "# milk_data = pd.read_csv('../Data/MergedData/HeatApproachCleanedYieldDataTestQuantile67.csv', low_memory=False)\n",
    "\n",
    "milk_data = pd.read_csv(\"../Data/MergedData/QuantileRerunTHI61.csv\", low_memory=False)\n",
    "\n",
    "col_keep = [\"Date\", \"FarmName_Pseudo\", \"SE_Number\", \"LactationNumber\", \"BreedName\", \"DaysInMilk\", \"DailyYield\", \"ExpectedYield\", \"MeanTHI_adj\", \"YearSeason\"]\n",
    "milk_data = milk_data[col_keep]"
   ]
  },
  {
   "cell_type": "code",
   "execution_count": null,
   "metadata": {},
   "outputs": [],
   "source": [
    "# Make HYS effect\n",
    "milk_data[\"HYS\"] = milk_data[\"FarmName_Pseudo\"].astype(str) + milk_data[\"YearSeason\"].astype(str)\n",
    "milk_data"
   ]
  },
  {
   "cell_type": "code",
   "execution_count": null,
   "metadata": {},
   "outputs": [],
   "source": [
    "# Shift THI reading down for each day\n",
    "milk_data[\"THI1d\"] = milk_data.groupby([\"SE_Number\", \"LactationNumber\"])[\"MeanTHI_adj\"].shift(1)\n",
    "milk_data[\"THI2d\"] = milk_data.groupby([\"SE_Number\", \"LactationNumber\"])[\"MeanTHI_adj\"].shift(2)\n",
    "milk_data[\"THI3d\"] = milk_data.groupby([\"SE_Number\", \"LactationNumber\"])[\"MeanTHI_adj\"].shift(3)\n",
    "milk_data"
   ]
  },
  {
   "cell_type": "code",
   "execution_count": 22,
   "metadata": {},
   "outputs": [],
   "source": [
    "# Make Parity\n",
    "milk_data[\"Parity\"] = milk_data[\"LactationNumber\"]\n",
    "milk_data.loc[(milk_data['LactationNumber'] >= 3) & (milk_data['LactationNumber'] <= 8), 'Parity'] = 3"
   ]
  },
  {
   "cell_type": "code",
   "execution_count": null,
   "metadata": {},
   "outputs": [],
   "source": [
    "milk_data[\"MYDeviation\"] = milk_data[\"DailyYield\"] - milk_data[\"ExpectedYield\"]\n",
    "milk_data"
   ]
  },
  {
   "cell_type": "code",
   "execution_count": 24,
   "metadata": {},
   "outputs": [],
   "source": [
    "# Define conditions and corresponding values\n",
    "conditions = [\n",
    "    milk_data['BreedName'] == 'NRDC',\n",
    "    milk_data['BreedName'] == 'SLB',\n",
    "    milk_data[\"BreedName\"] == 'SJB',\n",
    "    milk_data[\"BreedName\"] == \"Dairy crosses\"\n",
    "]\n",
    "choices = [1, 2, 3, 4]\n",
    "\n",
    "# Create 'ras' column\n",
    "milk_data['ras'] = np.select(conditions, choices, default=0) "
   ]
  },
  {
   "cell_type": "code",
   "execution_count": null,
   "metadata": {},
   "outputs": [],
   "source": [
    "# Check for NaN values\n",
    "print(milk_data['MYDeviation'].isna().sum())\n",
    "\n",
    "# Check for Inf values\n",
    "print(np.isinf(milk_data['MYDeviation']).sum())"
   ]
  },
  {
   "cell_type": "markdown",
   "metadata": {},
   "source": [
    "## First simple model"
   ]
  },
  {
   "cell_type": "code",
   "execution_count": null,
   "metadata": {},
   "outputs": [],
   "source": [
    "# Verify that columns exist\n",
    "assert 'MeanTHI_adj' in milk_data.columns, \"'MeanTHI_adj' column missing\"\n",
    "assert 'MYDeviation' in milk_data.columns, \"'MYDeviation' column missing\"\n",
    "\n",
    "# Clean the data to remove NaN values\n",
    "# milk_data = milk_data[milk_data[\"MeanTHI_adj\"].notna()]\n",
    "# milk_data = milk_data[milk_data[\"MYDeviation\"].notna()]\n",
    "\n",
    "# Remove NaN or Inf values\n",
    "X = milk_data[['MeanTHI_adj']].values  # Independent variable (MeanTHI_adj)\n",
    "y = milk_data['MYDeviation'].values    # Dependent variable (MYDeviation)\n",
    "\n",
    "# Remove NaN or Inf values\n",
    "# y_clean = y.replace([np.inf, -np.inf], np.nan).dropna()\n",
    "# X_clean = X.replace([np.inf, -np.inf], np.nan).dropna()\n",
    "\n",
    "# Remove NaN or Inf values using NumPy\n",
    "mask = np.isfinite(X).all(axis=1) & np.isfinite(y)  # Ensure all elements are finite\n",
    "X_clean = X[mask]\n",
    "y_clean = y[mask]\n",
    "\n",
    "\n",
    "# Fit the GAM model\n",
    "gam = LinearGAM(s(0))  # s(0) indicates a smoothing term for the first (and only) feature\n",
    "gam.fit(X_clean, y_clean)\n",
    "\n",
    "# Print the summary of the model\n",
    "print(gam.summary())\n",
    "\n",
    "# Plot the results\n",
    "plt.figure(figsize=(8, 6))\n",
    "plt.plot(X_clean, y_clean, 'o', label='Observed data', alpha=0.5)  # Plot data points\n",
    "\n",
    "# Reshape X for the prediction line\n",
    "XX = np.linspace(X_clean.min(), X_clean.max(), 1000).reshape(-1, 1)  # Ensure the correct shape\n",
    "plt.plot(XX, gam.predict(XX), label='Fitted curve', color='red')\n",
    "\n",
    "plt.title('GAM Fit for MeanTHI_adj vs MYDeviation')\n",
    "plt.xlabel('MeanTHI_adj')\n",
    "plt.ylabel('MYDeviation')\n",
    "plt.legend()\n",
    "plt.show()\n"
   ]
  },
  {
   "cell_type": "markdown",
   "metadata": {},
   "source": [
    "## Expanded models"
   ]
  },
  {
   "cell_type": "code",
   "execution_count": null,
   "metadata": {},
   "outputs": [],
   "source": [
    "# Verify that columns exist\n",
    "# assert 'MeanTHI_adj' in milk_data.columns, \"'MeanTHI_adj' column missing\"\n",
    "# assert 'MYDeviation' in milk_data.columns, \"'MYDeviation' column missing\"\n",
    "\n",
    "# Clean the data to remove NaN values\n",
    "# milk_data = milk_data[milk_data[\"MeanTHI_adj\"].notna()]\n",
    "# milk_data = milk_data[milk_data[\"MYDeviation\"].notna()]\n",
    "\n",
    "# Remove NaN or Inf values\n",
    "X = milk_data[['MeanTHI_adj', 'DaysInMilk']].values  # Independent variable (MeanTHI_adj)\n",
    "y = milk_data['MYDeviation'].values    # Dependent variable (MYDeviation)\n",
    "\n",
    "# Remove NaN or Inf values\n",
    "# y_clean = y.replace([np.inf, -np.inf], np.nan).dropna()\n",
    "# X_clean = X.replace([np.inf, -np.inf], np.nan).dropna()\n",
    "\n",
    "# Remove NaN or Inf values using NumPy\n",
    "mask = np.isfinite(X).all(axis=1) & np.isfinite(y)  # Ensure all elements are finite\n",
    "X_clean = X[mask]\n",
    "y_clean = y[mask]\n",
    "\n",
    "# Fit the GAM model\n",
    "gam = LinearGAM(s(0) + s(1))  # s(0) indicates a smoothing term for the first (and only) feature\n",
    "gam.fit(X_clean, y_clean)\n",
    "\n",
    "# Print the summary of the model\n",
    "print(gam.summary())\n",
    "\n",
    "# Plot MeanTHI_adj vs DaysInMilk\n",
    "plt.figure(figsize=(8, 6))\n",
    "plt.plot(X_clean[:, 0], X_clean[:, 1], 'o', label='Observed data', alpha=0.5)  # Plot data points for MeanTHI_adj vs DaysInMilk\n",
    "\n",
    "# Reshape X for the prediction line (predicting based on both features)\n",
    "XX = np.linspace(X_clean[:, 0].min(), X_clean[:, 0].max(), 1000).reshape(-1, 1)  # MeanTHI_adj axis\n",
    "YY = np.linspace(X_clean[:, 1].min(), X_clean[:, 1].max(), 1000).reshape(-1, 1)  # DaysInMilk axis\n",
    "\n",
    "# Combine the two features for prediction and plot the fitted curve\n",
    "# For this, we can predict the output across both axes\n",
    "predicted = gam.predict(np.column_stack([XX, YY]))\n",
    "plt.plot(XX, predicted, label='Fitted curve', color='red')\n",
    "\n",
    "plt.title('GAM Fit for MeanTHI_adj vs DaysInMilk')\n",
    "plt.xlabel('MeanTHI_adj')\n",
    "plt.ylabel('DaysInMilk')\n",
    "plt.legend()\n",
    "plt.show()"
   ]
  },
  {
   "cell_type": "code",
   "execution_count": null,
   "metadata": {},
   "outputs": [],
   "source": [
    "# Check distribution of DaysInMilk to ensure have data\n",
    "plt.hist(milk_data['DaysInMilk'], bins=20, color='skyblue', edgecolor='black')\n",
    "plt.title('Histogram of Milk Yield Difference')\n",
    "plt.xlabel('Milk Yield Difference')\n",
    "plt.ylabel('Frequency')\n",
    "plt.show()"
   ]
  },
  {
   "cell_type": "markdown",
   "metadata": {},
   "source": [
    "Adding more parameters"
   ]
  },
  {
   "cell_type": "code",
   "execution_count": null,
   "metadata": {},
   "outputs": [],
   "source": [
    "# Verify that columns exist\n",
    "assert 'MeanTHI_adj' in milk_data.columns, \"'MeanTHI_adj' column missing\"\n",
    "assert 'MYDeviation' in milk_data.columns, \"'MYDeviation' column missing\"\n",
    "assert 'DaysInMilk' in milk_data.columns, \"'DaysInMilk' column missing\"\n",
    "assert 'Parity' in milk_data.columns, \"'Parity' column missing\"  # Verify 'Parity' is in the dataset\n",
    "\n",
    "# Clean the data to remove NaN values for the necessary columns\n",
    "milk_data = milk_data[milk_data[['MeanTHI_adj', 'DaysInMilk', 'MYDeviation', 'Parity']].notna().all(axis=1)]\n",
    "\n",
    "# Prepare the data\n",
    "X = milk_data[['MeanTHI_adj', 'DaysInMilk', 'Parity']].values  # Include Parity as a predictor\n",
    "y = milk_data['MYDeviation'].values    # Dependent variable (MYDeviation)\n",
    "\n",
    "# Remove NaN or Inf values using NumPy\n",
    "mask = np.isfinite(X).all(axis=1) & np.isfinite(y)  # Ensure all elements are finite\n",
    "X_clean = X[mask]\n",
    "y_clean = y[mask]\n",
    "\n",
    "# Fit the GAM model with smoothing terms for 'MeanTHI_adj' and 'DaysInMilk', and 'Parity' as a categorical variable\n",
    "gam = LinearGAM(s(0) + s(1) + f(2))  # f(2) indicates Parity as a categorical variable (column index 2)\n",
    "gam.fit(X_clean, y_clean)\n",
    "\n",
    "# Print the summary of the model\n",
    "print(gam.summary())\n",
    "\n",
    "# Plot the observed data points\n",
    "plt.figure(figsize=(10, 6))\n",
    "scatter = plt.scatter(X_clean[:, 0], y_clean, c=y_clean, cmap='viridis', alpha=0.6) # note, should be able to remove cmpa alt to get \"normal\" plot\n",
    "plt.colorbar(scatter, label='MYDeviation')\n",
    "\n",
    "# Create a range of values for MeanTHI_adj (THI), keeping DaysInMilk constant\n",
    "mean_thi_range = np.linspace(X_clean[:, 0].min(), X_clean[:, 0].max(), 100)  # MeanTHI_adj (THI)\n",
    "days_in_milk_constant = np.mean(X_clean[:, 1])  # Keep DaysInMilk constant at its mean value\n",
    "\n",
    "# Create prediction lines for each Parity level\n",
    "for parity in [1, 2, 3]:\n",
    "    X_grid = np.column_stack([mean_thi_range, np.full_like(mean_thi_range, days_in_milk_constant), np.full_like(mean_thi_range, parity)])\n",
    "    y_pred = gam.predict(X_grid)\n",
    "    plt.plot(mean_thi_range, y_pred, label=f'Parity {parity}')\n",
    "\n",
    "# Add labels and title\n",
    "plt.title('Effect of Parity on MYDeviation with MeanTHI_adj as X-axis')\n",
    "plt.xlabel('MeanTHI_adj (THI)')\n",
    "plt.ylabel('MYDeviation')\n",
    "plt.legend(title=\"Parity\")\n",
    "plt.show()\n"
   ]
  },
  {
   "cell_type": "markdown",
   "metadata": {},
   "source": [
    "Predict for specific DIMs"
   ]
  },
  {
   "cell_type": "code",
   "execution_count": null,
   "metadata": {},
   "outputs": [],
   "source": [
    "# Verify that columns exist\n",
    "assert 'MeanTHI_adj' in milk_data.columns, \"'MeanTHI_adj' column missing\"\n",
    "assert 'MYDeviation' in milk_data.columns, \"'MYDeviation' column missing\"\n",
    "assert 'DaysInMilk' in milk_data.columns, \"'DaysInMilk' column missing\"\n",
    "assert 'Parity' in milk_data.columns, \"'Parity' column missing\"  # Verify 'Parity' is in the dataset\n",
    "\n",
    "# Clean the data to remove NaN values for the necessary columns\n",
    "milk_data = milk_data[milk_data[['MeanTHI_adj', 'DaysInMilk', 'MYDeviation', 'Parity']].notna().all(axis=1)]\n",
    "\n",
    "# Prepare the data\n",
    "X = milk_data[['MeanTHI_adj', 'DaysInMilk', 'Parity']].values  # Include Parity as a predictor\n",
    "y = milk_data['MYDeviation'].values    # Dependent variable (MYDeviation)\n",
    "\n",
    "# Remove NaN or Inf values using NumPy\n",
    "mask = np.isfinite(X).all(axis=1) & np.isfinite(y)  # Ensure all elements are finite\n",
    "X_clean = X[mask]\n",
    "y_clean = y[mask]\n",
    "\n",
    "# Fit the GAM model with smoothing terms for 'MeanTHI_adj' and 'DaysInMilk', and 'Parity' as a categorical variable\n",
    "gam = LinearGAM(s(0) + s(1) + f(2))  # f(2) indicates Parity as a categorical variable (column index 2)\n",
    "gam.fit(X_clean, y_clean)\n",
    "\n",
    "# Print the summary of the model\n",
    "print(gam.summary())\n",
    "\n",
    "# Predictions at specific DIM (DaysInMilk) values: 30, 150, and 220\n",
    "dim_values = [30, 150, 220]  # List of DIM values for predictions\n",
    "\n",
    "# Create a range of values for MeanTHI_adj (THI)\n",
    "mean_thi_range = np.linspace(X_clean[:, 0].min(), X_clean[:, 0].max(), 100)  # MeanTHI_adj (THI)\n",
    "\n",
    "# Plot setup\n",
    "plt.figure(figsize=(10, 6))\n",
    "\n",
    "# Loop through DIM values and Parity levels to generate predictions\n",
    "for dim in dim_values:\n",
    "    for parity in [1, 2, 3]:  # Assuming Parity levels 1, 2, and 3\n",
    "        # Create a grid of MeanTHI_adj, specific DIM, and Parity\n",
    "        X_grid = np.column_stack([\n",
    "            mean_thi_range,               # MeanTHI_adj range\n",
    "            np.full_like(mean_thi_range, dim),  # Set DIM to current value\n",
    "            np.full_like(mean_thi_range, parity)  # Set Parity to current level\n",
    "        ])\n",
    "        # Predict MYDeviation for the grid\n",
    "        y_pred = gam.predict(X_grid)\n",
    "        \n",
    "        # Plot predictions\n",
    "        plt.plot(mean_thi_range, y_pred, \n",
    "                 label=f'DIM {dim}, Parity {parity}')\n",
    "\n",
    "# Add labels and title\n",
    "plt.title('Predicted MYDeviation at Specific DIM Values')\n",
    "plt.xlabel('MeanTHI_adj (THI)')\n",
    "plt.ylabel('MYDeviation')\n",
    "plt.legend(title=\"DIM and Parity\")\n",
    "plt.tight_layout()\n",
    "plt.show()"
   ]
  }
 ],
 "metadata": {
  "kernelspec": {
   "display_name": "Python 3",
   "language": "python",
   "name": "python3"
  },
  "language_info": {
   "codemirror_mode": {
    "name": "ipython",
    "version": 3
   },
   "file_extension": ".py",
   "mimetype": "text/x-python",
   "name": "python",
   "nbconvert_exporter": "python",
   "pygments_lexer": "ipython3",
   "version": "3.12.3"
  }
 },
 "nbformat": 4,
 "nbformat_minor": 2
}
