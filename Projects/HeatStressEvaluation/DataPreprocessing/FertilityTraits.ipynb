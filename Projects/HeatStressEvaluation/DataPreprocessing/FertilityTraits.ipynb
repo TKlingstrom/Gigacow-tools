{
 "cells": [
  {
   "cell_type": "markdown",
   "metadata": {},
   "source": [
    "SCRIPT TO GENERATE FERTILITY TRAITS\n",
    "- NINS: Number of inseminations\n",
    "- CFI: Interval from calving to first service\n",
    "- CLI: Interval from calving to last service\n",
    "- FLI: Interval from first to last service\n",
    "- CI: Calving interval\n",
    "- GL: Gestation length\n",
    "- CR: Conception rate"
   ]
  },
  {
   "cell_type": "code",
   "execution_count": null,
   "metadata": {},
   "outputs": [],
   "source": [
    "import pandas as pd\n",
    "import numpy as np"
   ]
  },
  {
   "cell_type": "code",
   "execution_count": null,
   "metadata": {},
   "outputs": [],
   "source": [
    "#\n",
    "#\n",
    "# FERTILITY TRAITS PREPARATIONS\n",
    "df_ins = pd.read_csv(\"updateDF.csv\", low_memory=False)\n",
    "col_keep = [\"SE_Number\", \"LactationNumber\", \"CalvingDate\"]\n",
    "df_ins2a = df_ins[col_keep]\n",
    "df_ins2a = df_ins2a.drop_duplicates(subset=[\"SE_Number\", \"LactationNumber\", \"CalvingDate\"])\n",
    "\n",
    "# Make next_calving\n",
    "df_ins2b = df_ins2a.drop_duplicates(subset=[\"SE_Number\", \"LactationNumber\", \"CalvingDate\"])\n",
    "df_ins2b = df_ins2b.copy()\n",
    "df_ins2b[\"next_calving\"] = df_ins2b.groupby([\"SE_Number\"])[\"CalvingDate\"].shift(-1)\n",
    "df_ins2c = df_ins2a.merge(df_ins2b, on=[\"SE_Number\", \"LactationNumber\", \"CalvingDate\"],\n",
    "                          how=\"left\")\n",
    "\"\"\"SE-169e580a-2831\n",
    "SE_Number = [\"SE-064c0cec-1189\"]\n",
    "df_ins2c = df_ins2c[df_ins2c[\"SE_Number\"].isin(SE_Number)]\n",
    "\"\"\"\n",
    "df_ins2c.to_csv(\"fertility1.csv\", index=False)\n",
    "\n",
    "# Add to original dataframe\n",
    "df_ins2d = df_ins.merge(df_ins2c, on=[\"SE_Number\", \"LactationNumber\", \"CalvingDate\"], how=\"left\")\n",
    "\"\"\"\n",
    "SE_Number = [\"SE-064c0cec-1189\"]\n",
    "df_ins2d = df_ins2d[df_ins2d[\"SE_Number\"].isin(SE_Number)]\n",
    "\"\"\"\n",
    "df_ins2d.to_csv(\"fertility2.csv\", index=False)"
   ]
  },
  {
   "cell_type": "code",
   "execution_count": null,
   "metadata": {},
   "outputs": [],
   "source": [
    "# NINS - NUMBER OF INSEMINATIONS\n",
    "ins_count = df_ins2d.drop_duplicates(subset=[\"SE_Number\", \"LactationNumber\", \"InseminationDate\"])\n",
    "ins_count = (ins_count.groupby([\"SE_Number\", 'LactationNumber']).size().reset_index(name='NINS'))\n",
    "df_ins2d = df_ins2d.merge(ins_count, on=[\"SE_Number\", \"LactationNumber\"], how=\"left\")\n",
    "df_ins2d.to_csv(\"fertility2.csv\", index=False)"
   ]
  },
  {
   "cell_type": "code",
   "execution_count": null,
   "metadata": {},
   "outputs": [],
   "source": [
    "# CFI - INTERVAL FROM CALVING TO FIRST SERVICE\n",
    "# CLI - INTERVAL FROM CALVING TO LAST SERVICE\n",
    "# FLI - INTERVAL FROM FIRST TO LAST SERVICE\n",
    "# Group by cow and lactation, and get the first and last inseminations\n",
    "first_observations = (df_ins2d.groupby([\"SE_Number\", \"LactationNumber\"]).first().reset_index())\n",
    "last_observations = (df_ins2d.groupby([\"SE_Number\", \"LactationNumber\"]).last().reset_index())\n",
    "\n",
    "print(last_observations.columns)\n",
    "print(len(last_observations.columns))\n",
    "\n",
    "col_keep = [\"SE_Number\", \"LactationNumber\", \"CalvingDate\", \"InseminationDate\"]\n",
    "first_observations = first_observations[col_keep]\n",
    "\n",
    "col_keep = [\"SE_Number\", \"LactationNumber\", \"CalvingDate\", \"InseminationDate\"]\n",
    "last_observations = last_observations[col_keep]\n",
    "\n",
    "# Rename the columns of the last observations df to distinguish them\n",
    "last_observations.rename(columns={\n",
    "    \"CalvingDate\": \"CalvingDate_last\",\n",
    "    \"InseminationDate\": \"InseminationDate_last\",\n",
    "}, inplace=True)\n",
    "\n",
    "\n",
    "# Concatenate first and last observations df side by side\n",
    "df_ins2e = pd.concat([first_observations, last_observations.iloc[:, 2:]], axis=1)\n",
    "\n",
    "# Convert columns to datetime objects\n",
    "df_ins2e[\"InseminationDate\"] = pd.to_datetime(df_ins2e[\"InseminationDate\"])\n",
    "df_ins2e[\"InseminationDate_last\"] = pd.to_datetime(df_ins2e[\"InseminationDate_last\"])\n",
    "df_ins2e[\"CalvingDate\"] = pd.to_datetime(df_ins2e[\"CalvingDate\"])\n",
    "df_ins2e[\"CalvingDate_last\"] = pd.to_datetime(df_ins2e[\"CalvingDate_last\"])\n",
    "\n",
    "# Calculate fertility traits\n",
    "df_ins2e[\"CFI\"] = (df_ins2e[\"InseminationDate\"] - df_ins2e[\"CalvingDate\"]).dt.days\n",
    "df_ins2e[\"CLI\"] = (df_ins2e[\"InseminationDate_last\"] - df_ins2e[\"CalvingDate_last\"]).dt.days\n",
    "df_ins2e[\"FLI\"] = (df_ins2e[\"InseminationDate_last\"] - df_ins2e[\"InseminationDate\"]).dt.days\n",
    "col_keep = [\"SE_Number\", \"LactationNumber\", \"CFI\", \"CLI\", \"FLI\", \"InseminationDate_last\"]\n",
    "df_ins2e = df_ins2e[col_keep]\n",
    "\n",
    "df_ins2f = df_ins2d.merge(df_ins2e, on=[\"SE_Number\", \"LactationNumber\"], how=\"left\")\n",
    "df_ins2f.to_csv(\"fertility3.csv\", index=False)"
   ]
  },
  {
   "cell_type": "code",
   "execution_count": null,
   "metadata": {},
   "outputs": [],
   "source": [
    "# CI - CALVING INTERVAL\n",
    "df_ins2g = df_ins2f.drop_duplicates(subset=[\"SE_Number\", \"LactationNumber\", \"CalvingDate\", \"next_calving\"])\n",
    "col_keep = [\"SE_Number\", \"LactationNumber\", \"CalvingDate\", \"next_calving\"]\n",
    "df_ins2g = df_ins2g[col_keep]\n",
    "df_ins2g[\"CalvingDate\"] = pd.to_datetime(df_ins2g[\"CalvingDate\"])\n",
    "df_ins2g[\"next_calving\"] = pd.to_datetime(df_ins2g[\"next_calving\"])\n",
    "df_ins2g[\"CI\"] = (df_ins2g[\"next_calving\"] - df_ins2g[\"CalvingDate\"]).dt.days\n",
    "df_ins2g.drop(columns=[\"CalvingDate\", \"next_calving\"], inplace=True)\n",
    "\n",
    "df_ins2h = df_ins2f.merge(df_ins2g, on=[\"SE_Number\", \"LactationNumber\"], how=\"left\")"
   ]
  },
  {
   "cell_type": "code",
   "execution_count": null,
   "metadata": {},
   "outputs": [],
   "source": [
    "# GL - GESTATION LENGTH\n",
    "# i.e. length from last insemination to next calving\n",
    "df_ins2h[\"InseminationDate_last\"] = pd.to_datetime(df_ins2h[\"InseminationDate_last\"])\n",
    "df_ins2h[\"next_calving\"] = pd.to_datetime(df_ins2h[\"next_calving\"])\n",
    "df_ins2h[\"GL\"] = (df_ins2h[\"next_calving\"] - df_ins2h[\"InseminationDate_last\"]).dt.days\n",
    "df_ins2h.to_csv(\"updateDF.csv\", index=False)"
   ]
  }
 ],
 "metadata": {
  "language_info": {
   "name": "python"
  }
 },
 "nbformat": 4,
 "nbformat_minor": 2
}
