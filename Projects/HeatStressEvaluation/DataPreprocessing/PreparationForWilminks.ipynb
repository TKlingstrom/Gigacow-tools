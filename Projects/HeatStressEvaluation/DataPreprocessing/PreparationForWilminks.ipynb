{
 "cells": [
  {
   "cell_type": "markdown",
   "metadata": {},
   "source": [
    "# PREPARATIONS NEEDED TO RUN JOAKIM'S CODE\n",
    "This script changes the dataframe to coincide with script requirements for running Wilminks scripts\n",
    "- assumes that \"BuildingDataset.ipynb\" followed by \"HS_MY_FilteringDataframe.ipynb\" have been run to generate \"MY_weather.csv\", \"MY_weather_filtered.csv\" and \"updateDF.csv\"\n",
    "- quick check of MeanTHI_adj at end of script to ensure have data"
   ]
  },
  {
   "cell_type": "code",
   "execution_count": null,
   "metadata": {},
   "outputs": [],
   "source": [
    "from datetime import timedelta\n",
    "import pandas as pd\n",
    "import numpy as np"
   ]
  },
  {
   "cell_type": "markdown",
   "metadata": {},
   "source": [
    "Make Year-Season"
   ]
  },
  {
   "cell_type": "code",
   "execution_count": null,
   "metadata": {},
   "outputs": [],
   "source": [
    "# df = pd.read_csv('../Data/MergedData/MY_weather.csv', low_memory=False)\n",
    "df = pd.read_csv('../Data/MergedData/MY_weather_filtered.csv', low_memory=False)\n",
    "print(df.shape)\n",
    "df['StartDate'] = pd.to_datetime(df['StartDate'])\n",
    "\n",
    "\n",
    "# Function to determine the season based on month\n",
    "def get_season(date):\n",
    "    month = date.month\n",
    "    if month in [12, 1, 2]:\n",
    "        return 1\n",
    "    elif month in [3, 4, 5]:\n",
    "        return 2\n",
    "    elif month in [6, 7, 8]:\n",
    "        return 3\n",
    "    elif month in [9, 10, 11]:\n",
    "        return 4\n",
    "\n",
    "\n",
    "# Apply the function to create a 'YearSeason' variable\n",
    "df['YearSeason'] = df['StartDate'].apply(lambda x: f\"{x.year}0{get_season(x)}\")\n",
    "\n",
    "count_THI = df['THI_adj'].count()\n",
    "print(count_THI)\n",
    "count_THI = df['MeanTHI_adj'].count()  # Use MeanTHI_adj!\n",
    "print(count_THI)\n",
    "\n",
    "df[\"THI_adj2\"] = df['THI_adj'].fillna(df['MeanTHI_adj'])\n",
    "df[\"Temperature2\"] = df['Temperature'].fillna(df['MeanTemperature'])\n",
    "\n",
    "# reorder df - for filtered\n",
    "col_keep = [\"FarmName_Pseudo\", 'SE_Number', 'AnimalNumber', 'Del_Cow_Id', 'Breed', 'CalvingDate', 'LactationNumber',\n",
    "            'DaysInMilk2', 'StartDate', 'StartTime', 'SessionNumber', 'TotalYield', 'YearSeason',\n",
    "            'Temperature2', 'THI_adj2',\n",
    "            'RelativeHumidity', 'HW', 'cum_HW', 'Temp15Threshold']\n",
    "df = df[col_keep]\n",
    "\n",
    "\n",
    "\n",
    "# reorder df - for unfiltered\n",
    "# col_keep = [\"FarmName_Pseudo\", 'SE_Number', 'AnimalNumber', 'Del_Cow_Id', 'Breed', 'CalvingDate', 'LactationNumber',\n",
    "#            'DaysInMilk', 'StartDate', 'StartTime', 'SessionNumber', 'TotalYield', 'YearSeason',\n",
    "#            'Temperature', 'RelativeHumidity', 'THI_adj', 'HW', 'cum_HW', 'Temp15Threshold']\n",
    "# df = df[col_keep]"
   ]
  },
  {
   "cell_type": "markdown",
   "metadata": {},
   "source": [
    "Add parentage"
   ]
  },
  {
   "cell_type": "code",
   "execution_count": null,
   "metadata": {},
   "outputs": [],
   "source": [
    "df2 = pd.read_csv(\"../Data/MergedData/updateDF.csv\", low_memory=False)\n",
    "col_keep = [\"SE_Number\", \"BirthDate\", \"Father_SE_Number\", \"Mother_SE_Number\", \"CullingDate\"]\n",
    "df2 = df2[col_keep]\n",
    "df2 = df2.drop_duplicates(subset=[\"SE_Number\"])\n",
    "\n",
    "df3 = pd.merge(df, df2, on=\"SE_Number\", how=\"left\")"
   ]
  },
  {
   "cell_type": "markdown",
   "metadata": {},
   "source": [
    "Make age"
   ]
  },
  {
   "cell_type": "code",
   "execution_count": null,
   "metadata": {},
   "outputs": [],
   "source": [
    "df3['BirthDate'] = pd.to_datetime(df3['BirthDate'])\n",
    "df3['StartDate'] = pd.to_datetime(df3['StartDate'])\n",
    "df3['Age'] = (df3['StartDate'] - df3['BirthDate']).dt.days\n",
    "\n",
    "# Filtered\n",
    "df3.rename(columns={\"CullingDate\": \"CullDecisionDate\", \"Father_SE_Number\": \"Father\", \"Mother_SE_Number\": \"Mother\", \"Breed\": \"BreedName\", \n",
    "                    \"DaysInMilk2\": \"DaysInMilk\"},  inplace=True)\n",
    "\n",
    "# Unfiltered\n",
    "# df3.rename(columns={\"CullingDate\": \"CullDecisionDate\", \"Father_SE_Number\": \"Father\", \"Mother_SE_Number\": \"Mother\", \"Breed\": \"BreedName\"},  inplace=True)"
   ]
  },
  {
   "cell_type": "markdown",
   "metadata": {},
   "source": [
    "Combine StartDate and StartTime"
   ]
  },
  {
   "cell_type": "code",
   "execution_count": null,
   "metadata": {},
   "outputs": [],
   "source": [
    "# Make combined DateTime column\n",
    "# Ensure StartDate is in datetime format\n",
    "df3['StartDate'] = pd.to_datetime(df3['StartDate'], errors='coerce')\n",
    "\n",
    "# Convert StartTime to a timedelta\n",
    "df3[\"StartTime2\"] = df3[\"StartTime\"]\n",
    "df3['StartTime2'] = pd.to_timedelta(df3['StartTime2'].astype(str))\n",
    "\n",
    "# Combine StartDate and StartTime\n",
    "df3['DateTime'] = df3['StartDate'] + df3['StartTime2']"
   ]
  },
  {
   "cell_type": "markdown",
   "metadata": {},
   "source": [
    "Reorder dataframe"
   ]
  },
  {
   "cell_type": "code",
   "execution_count": null,
   "metadata": {},
   "outputs": [],
   "source": [
    "new_order = [\"FarmName_Pseudo\", \"SE_Number\", \"AnimalNumber\", \"StartDate\", \"StartTime\", \"LactationNumber\", \"DaysInMilk\", \"YearSeason\",\n",
    "             \"TotalYield\", \"DateTime\", \"BreedName\", \"BirthDate\", \"Mother\", \"Father\", \"CullDecisionDate\", \"Temperature2\", \"RelativeHumidity\",\n",
    "             \"THI_adj2\", \"HW\", \"cum_HW\", \"Temp15Threshold\", \"Age\"]\n",
    "df3 = df3[new_order]\n",
    "\n",
    "# Filtered\n",
    "df3.to_csv(\"../Data/MergedData/CleanedYieldData.csv\", index=False)\n",
    "df3.to_csv(\"C:/Users/pagd0001/Desktop/Gigacow/Data/20241007/HeatStressEvaluationSummer24-1/Data/MergedData/CleanedYieldData.csv\", index=False)\n",
    "\n",
    "# Unfiltered\n",
    "# df3.to_csv(\"../Data/MergedData/YieldData.csv\", index=False)\n",
    "# df3.to_csv(\"C:/Users/pagd0001/Desktop/Gigacow/Data/20241007/HeatStressEvaluationSummer24-1/Data/MergedData/YieldData.csv\", index=False)"
   ]
  },
  {
   "cell_type": "markdown",
   "metadata": {},
   "source": [
    "Save"
   ]
  },
  {
   "cell_type": "code",
   "execution_count": null,
   "metadata": {},
   "outputs": [],
   "source": [
    "# data = pd.read_csv('../Data/MergedData/YieldData.csv', low_memory=False)\n",
    "df3 = pd.read_csv(\"../Data/MergedData/CleanedYieldData.csv\", low_memory=False)\n",
    "new_order = ['FarmName_Pseudo', 'SE_Number', 'AnimalNumber', 'StartDate', 'StartTime', 'DateTime', 'LactationNumber', 'DaysInMilk', 'YearSeason', \n",
    "             'TotalYield', 'DateTime', 'BreedName', 'Age', 'Mother', 'Father', 'CullDecisionDate', 'Temperature2', 'RelativeHumidity', 'THI_adj2',\n",
    "             'HW', 'cum_HW', 'Temp15Threshold']\n",
    "df3 = df3[new_order]\n",
    "# df3.to_csv(\"C:/Users/pagd0001/Desktop/Gigacow/Data/20241007/HeatStressEvaluationSummer24-1/Data/MergedData/YieldData.csv\", index=False)\n",
    "df3.to_csv(\"C:/Users/pagd0001/Desktop/Gigacow/Data/20241007/HeatStressEvaluationSummer24-1/Data/MergedData/CleanedYieldData.csv\", index=False)"
   ]
  },
  {
   "cell_type": "code",
   "execution_count": null,
   "metadata": {},
   "outputs": [],
   "source": [
    "# Unfiltered\n",
    "missing_count = df3[\"THI_adj\"].isna().sum()\n",
    "print(f\"Number of missing values in 'THI_adj': {missing_count}\")\n",
    "print(df3.shape)"
   ]
  },
  {
   "cell_type": "code",
   "execution_count": null,
   "metadata": {},
   "outputs": [],
   "source": [
    "# Filtered\n",
    "missing_count = df3[\"THI_adj2\"].isna().sum()\n",
    "print(f\"Number of missing values in 'THI_adj2': {missing_count}\")\n",
    "print(f\"No. milking events in filtered file ready for Wilmink's script {df3.shape}\")"
   ]
  },
  {
   "cell_type": "markdown",
   "metadata": {},
   "source": [
    "Threshold for heat stress"
   ]
  },
  {
   "cell_type": "code",
   "execution_count": null,
   "metadata": {},
   "outputs": [],
   "source": [
    "import pandas as pd\n",
    "import numpy as np\n",
    "\n",
    "import matplotlib.pyplot as plt\n",
    "from scipy.optimize import curve_fit\n",
    "import statsmodels.api as sm\n",
    "from sklearn.utils import resample"
   ]
  },
  {
   "cell_type": "code",
   "execution_count": null,
   "metadata": {},
   "outputs": [],
   "source": [
    "# Load data\n",
    "df = pd.read_csv(\"../Data/MergedData/CleanedYieldData.csv\", low_memory=False)"
   ]
  },
  {
   "cell_type": "code",
   "execution_count": null,
   "metadata": {},
   "outputs": [],
   "source": [
    "# Clean the data\n",
    "df = df[['THI_adj2', 'TotalYield']].dropna()  # Select relevant columns and drop missing values\n",
    "df = df.replace([np.inf, -np.inf], np.nan).dropna()  # Remove infinite values"
   ]
  },
  {
   "cell_type": "code",
   "execution_count": null,
   "metadata": {},
   "outputs": [],
   "source": [
    "# Look at distributions\n",
    "summary_stats = df['THI_adj2'].describe()\n",
    "percentiles = np.percentile(df['THI_adj2'].dropna(), [1, 5, 10, 90, 95, 99])\n",
    "\n",
    "print(\"Descriptive Statistics:\\n\", summary_stats)\n",
    "print(\"\\nPercentiles (1%, 5%, 10%, 90%, 95%, 99%):\", percentiles)"
   ]
  },
  {
   "cell_type": "code",
   "execution_count": null,
   "metadata": {},
   "outputs": [],
   "source": [
    "plt.hist(df['THI_adj2'], bins=50, color='blue', edgecolor='black')\n",
    "plt.xlabel('THI')\n",
    "plt.ylabel('Frequency')\n",
    "plt.show()"
   ]
  },
  {
   "cell_type": "markdown",
   "metadata": {},
   "source": [
    "Find Total Yield when THI is close to 0\n",
    "\n",
    "If THI = 0 is less than the breakpoint, the first part of the piecewise_linear function applies:\n",
    "TotalYield=intercept+slope1×THI\n",
    "\n",
    "At THI=0THI=0:\n",
    "TotalYield=intercept\n"
   ]
  },
  {
   "cell_type": "code",
   "execution_count": null,
   "metadata": {},
   "outputs": [],
   "source": [
    "plt.figure(figsize=(8, 6))\n",
    "plt.scatter(df['THI_adj2'], df['TotalYield'], alpha=0.7, edgecolor='k')\n",
    "\n",
    "# Customize the plot\n",
    "plt.title('THI vs. Total Milk Yield', fontsize=14)\n",
    "plt.xlabel('THI (Temperature-Humidity Index)', fontsize=12)\n",
    "plt.ylabel('Total Milk Yield (kg)', fontsize=12)\n",
    "plt.grid(True, linestyle='--', alpha=0.6)\n",
    "plt.show()"
   ]
  },
  {
   "cell_type": "code",
   "execution_count": null,
   "metadata": {},
   "outputs": [],
   "source": [
    "# Define the piecewise linear function\n",
    "def piecewise_linear(thi, intercept, slope1, slope2, breakpoint):\n",
    "    return np.where(thi < breakpoint,\n",
    "                    intercept + slope1 * thi,\n",
    "                    intercept + slope1 * breakpoint + slope2 * (thi - breakpoint))\n",
    "\n",
    "# Fit the model\n",
    "popt, _ = curve_fit(piecewise_linear, df['THI_adj2'], df['TotalYield'], p0=[0.5, 0, -0.01, 61])\n",
    "\n",
    "# Extract the optimal parameters from the fitted model\n",
    "intercept, slope1, slope2, breakpoint = popt\n",
    "\n",
    "# Calculate Total Yield when THI = 0\n",
    "thi_value = 0\n",
    "total_yield_at_thi_0 = piecewise_linear(thi_value, intercept, slope1, slope2, breakpoint)\n",
    "\n",
    "print(f\"Total Yield when THI = 0: {total_yield_at_thi_0}\")"
   ]
  },
  {
   "cell_type": "markdown",
   "metadata": {},
   "source": [
    "Estimate slopes"
   ]
  },
  {
   "cell_type": "code",
   "execution_count": null,
   "metadata": {},
   "outputs": [],
   "source": [
    "# Define the breakpoint\n",
    "breakpoint = 67\n",
    "\n",
    "# Calculate slope1 (THI < breakpoint)\n",
    "pre_break = df[df['THI_adj2'] < breakpoint]\n",
    "slope1 = (pre_break['TotalYield'].max() - pre_break['TotalYield'].min()) / \\\n",
    "         (pre_break['THI_adj2'].max() - pre_break['THI_adj2'].min())\n",
    "\n",
    "# Calculate slope2 (THI >= breakpoint)\n",
    "post_break = df[df['THI_adj2'] >= breakpoint]\n",
    "slope2 = (post_break['TotalYield'].max() - post_break['TotalYield'].min()) / \\\n",
    "         (post_break['THI_adj2'].max() - post_break['THI_adj2'].min())\n",
    "\n",
    "print(f\"Estimated slope1: {slope1}\")\n",
    "print(f\"Estimated slope2: {slope2}\")"
   ]
  },
  {
   "cell_type": "markdown",
   "metadata": {},
   "source": [
    "Confirm slope estimation"
   ]
  },
  {
   "cell_type": "code",
   "execution_count": null,
   "metadata": {},
   "outputs": [],
   "source": [
    "# Define the piecewise linear function\n",
    "def piecewise_linear(thi, intercept, slope1, slope2, breakpoint):\n",
    "    return np.where(thi < breakpoint,\n",
    "                    intercept + slope1 * thi,\n",
    "                    intercept + slope1 * breakpoint + slope2 * (thi - breakpoint))\n",
    "\n",
    "# Define initial parameters\n",
    "p0 = [12, 0.84, 2.73, 61]  # Example initial parameters: intercept, slope1, slope2, breakpoint\n",
    "\n",
    "# Fit the model\n",
    "popt, _ = curve_fit(piecewise_linear, df['THI_adj2'], df['TotalYield'], p0=p0)\n",
    "\n",
    "# Output optimized parameters\n",
    "print(\"Optimized Parameters:\")\n",
    "print(f\"Intercept: {popt[0]:.2f}\")\n",
    "print(f\"Slope1 (before breakpoint): {popt[1]:.2f}\")\n",
    "print(f\"Slope2 (after breakpoint): {popt[2]:.2f}\")\n",
    "print(f\"Breakpoint (THI threshold): {popt[3]:.2f}\")\n",
    "\n",
    "# Generate THI values for the plot\n",
    "thi_values = np.linspace(df['THI_adj2'].min(), df['THI_adj2'].max(), 100)\n",
    "\n",
    "# Compute predictions using initial and optimized parameters\n",
    "initial_curve = piecewise_linear(thi_values, *p0)\n",
    "optimized_curve = piecewise_linear(thi_values, *popt)\n",
    "\n",
    "# Plot observed data\n",
    "plt.scatter(df['THI_adj2'], df['TotalYield'], alpha=0.6, label='Observed Data', color='blue')\n",
    "\n",
    "# Plot initial parameter curve\n",
    "plt.plot(thi_values, initial_curve, color='orange', linestyle='--', label='Initial Parameters Curve')\n",
    "\n",
    "# Plot optimized parameter curve\n",
    "plt.plot(thi_values, optimized_curve, color='red', label='Optimized Parameters Curve')\n",
    "\n",
    "# Add labels and legend\n",
    "plt.title('THI vs. Total Milk Yield')\n",
    "plt.xlabel('THI (Temperature-Humidity Index)')\n",
    "plt.ylabel('Total Yield')\n",
    "plt.legend()\n",
    "plt.grid(True, linestyle='--', alpha=0.6)\n",
    "plt.show()"
   ]
  },
  {
   "cell_type": "markdown",
   "metadata": {},
   "source": [
    "Rerun with optimized slopes"
   ]
  },
  {
   "cell_type": "code",
   "execution_count": null,
   "metadata": {},
   "outputs": [],
   "source": [
    "# Define the piecewise linear function\n",
    "def piecewise_linear(thi, intercept, slope1, slope2, breakpoint):\n",
    "    return np.where(thi < breakpoint,\n",
    "                    intercept + slope1 * thi,\n",
    "                    intercept + slope1 * breakpoint + slope2 * (thi - breakpoint))\n",
    "\n",
    "# Define initial parameters\n",
    "p0 = [12, -0.00, 0.07, 61]  # Example initial parameters: intercept, slope1, slope2, breakpoint\n",
    "\n",
    "# Fit the model\n",
    "popt, _ = curve_fit(piecewise_linear, df['THI_adj2'], df['TotalYield'], p0=p0)\n",
    "\n",
    "# Generate THI values for the plot\n",
    "thi_values = np.linspace(df['THI_adj2'].min(), df['THI_adj2'].max(), 100)\n",
    "\n",
    "# Compute predictions using initial and optimized parameters\n",
    "initial_curve = piecewise_linear(thi_values, *p0)\n",
    "optimized_curve = piecewise_linear(thi_values, *popt)\n",
    "\n",
    "# Plot observed data\n",
    "plt.scatter(df['THI_adj2'], df['TotalYield'], alpha=0.6, label='Observed Data', color='blue')\n",
    "\n",
    "# Plot initial parameter curve\n",
    "plt.plot(thi_values, initial_curve, color='orange', linestyle='--', label='Initial Parameters Curve')\n",
    "\n",
    "# Plot optimized parameter curve\n",
    "plt.plot(thi_values, optimized_curve, color='red', label='Optimized Parameters Curve')\n",
    "\n",
    "# Add labels and legend\n",
    "plt.title('THI vs. Total Milk Yield')\n",
    "plt.xlabel('THI (Temperature-Humidity Index)')\n",
    "plt.ylabel('Total Yield')\n",
    "plt.legend()\n",
    "plt.grid(True, linestyle='--', alpha=0.6)\n",
    "plt.show()"
   ]
  },
  {
   "cell_type": "markdown",
   "metadata": {},
   "source": [
    "Find THI threshold to use"
   ]
  },
  {
   "cell_type": "code",
   "execution_count": null,
   "metadata": {},
   "outputs": [],
   "source": [
    "# Define a piecewise linear function\n",
    "def piecewise_linear(thi, intercept, slope1, slope2, breakpoint):\n",
    "    return np.where(thi < breakpoint,\n",
    "                    intercept + slope1 * thi,\n",
    "                    intercept + slope1 * breakpoint + slope2 * (thi - breakpoint))\n",
    "\n",
    "# Fit the model\n",
    "popt, _ = curve_fit(piecewise_linear, df['THI_adj2'], df['TotalYield'], p0=[12.72, -0.00, 0.07, 67.18])\n",
    "\n",
    "# Extract the estimated breakpoint (THI threshold)\n",
    "estimated_threshold = popt[3]\n",
    "print(f\"Estimated THI Threshold: {estimated_threshold}\")\n",
    "\n",
    "# Plot the fitted curve\n",
    "thi_values = np.linspace(df['THI_adj2'].min(), df['THI_adj2'].max(), 100)\n",
    "predicted_cr = piecewise_linear(thi_values, *popt)\n",
    "\n",
    "plt.scatter(df['THI_adj2'], df['TotalYield'], alpha=0.6, label='Observed Data')\n",
    "plt.plot(thi_values, predicted_cr, color='red', label='Fitted Curve')\n",
    "plt.axvline(x=estimated_threshold, color='green', linestyle='--', label='Estimated Threshold')\n",
    "plt.xlabel('THI')\n",
    "plt.ylabel('Total Yield')\n",
    "plt.title('Piecewise Regression: THI vs. MY')\n",
    "plt.legend()\n",
    "plt.show()"
   ]
  }
 ],
 "metadata": {
  "kernelspec": {
   "display_name": "Python 3",
   "language": "python",
   "name": "python3"
  },
  "language_info": {
   "codemirror_mode": {
    "name": "ipython",
    "version": 3
   },
   "file_extension": ".py",
   "mimetype": "text/x-python",
   "name": "python",
   "nbconvert_exporter": "python",
   "pygments_lexer": "ipython3",
   "version": "3.12.3"
  }
 },
 "nbformat": 4,
 "nbformat_minor": 2
}
