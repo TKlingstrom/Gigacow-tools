{
 "cells": [
  {
   "cell_type": "markdown",
   "metadata": {},
   "source": [
    "# PREPARATIONS NEEDED TO RUN JOAKIM'S CODE\n",
    "- assumes that \"HeatStressCleanWorkFlow.ipynb\" has been run to generate \"MY_weather.csv\", \"MY_weather_filtered.csv\" and \"updateDF.csv\"\n",
    "- also create \"../Data/MergedData/\" folder and place data here"
   ]
  },
  {
   "cell_type": "code",
   "execution_count": 20,
   "metadata": {},
   "outputs": [],
   "source": [
    "from datetime import timedelta\n",
    "import pandas as pd\n",
    "import numpy as np"
   ]
  },
  {
   "cell_type": "code",
   "execution_count": 21,
   "metadata": {},
   "outputs": [
    {
     "name": "stdout",
     "output_type": "stream",
     "text": [
      "(895106, 62)\n",
      "508296\n",
      "894857\n"
     ]
    }
   ],
   "source": [
    "#\n",
    "#\n",
    "# Make YS\n",
    "# df = pd.read_csv('../Data/MergedData/MY_weather.csv', low_memory=False)\n",
    "df = pd.read_csv('../Data/MergedData/MY_weather_filtered.csv', low_memory=False)\n",
    "print(df.shape)\n",
    "df['StartDate'] = pd.to_datetime(df['StartDate'])\n",
    "\n",
    "\n",
    "# Function to determine the season based on month\n",
    "def get_season(date):\n",
    "    month = date.month\n",
    "    if month in [12, 1, 2]:\n",
    "        return 1\n",
    "    elif month in [3, 4, 5]:\n",
    "        return 2\n",
    "    elif month in [6, 7, 8]:\n",
    "        return 3\n",
    "    elif month in [9, 10, 11]:\n",
    "        return 4\n",
    "\n",
    "\n",
    "# Apply the function to create a 'YearSeason' variable\n",
    "df['YearSeason'] = df['StartDate'].apply(lambda x: f\"{x.year}0{get_season(x)}\")\n",
    "\n",
    "count_THI = df['THI_adj'].count()\n",
    "print(count_THI)\n",
    "count_THI = df['MeanTHI_adj'].count()  # Use MeanTHI_adj!\n",
    "print(count_THI)\n",
    "\n",
    "df[\"THI_adj2\"] = df['THI_adj'].fillna(df['MeanTHI_adj'])\n",
    "df[\"Temperature2\"] = df['Temperature'].fillna(df['MeanTemperature'])\n",
    "\n",
    "# reorder df - for filtered\n",
    "col_keep = [\"FarmName_Pseudo\", 'SE_Number', 'AnimalNumber', 'Del_Cow_Id', 'Breed', 'CalvingDate', 'LactationNumber',\n",
    "            'DaysInMilk2', 'StartDate', 'StartTime', 'SessionNumber', 'TotalYield', 'YearSeason',\n",
    "            'Temperature2', 'THI_adj2',\n",
    "            'RelativeHumidity', 'HW', 'cum_HW', 'Temp15Threshold']\n",
    "df = df[col_keep]\n",
    "\n",
    "\n",
    "\n",
    "# reorder df - for unfiltered\n",
    "# col_keep = [\"FarmName_Pseudo\", 'SE_Number', 'AnimalNumber', 'Del_Cow_Id', 'Breed', 'CalvingDate', 'LactationNumber',\n",
    "#            'DaysInMilk', 'StartDate', 'StartTime', 'SessionNumber', 'TotalYield', 'YearSeason',\n",
    "#            'Temperature', 'RelativeHumidity', 'THI_adj', 'HW', 'cum_HW', 'Temp15Threshold']\n",
    "# df = df[col_keep]"
   ]
  },
  {
   "cell_type": "code",
   "execution_count": 22,
   "metadata": {},
   "outputs": [],
   "source": [
    "# ADD PARENTAGE\n",
    "df2 = pd.read_csv(\"../Data/MergedData/updateDF.csv\", low_memory=False)\n",
    "col_keep = [\"SE_Number\", \"BirthDate\", \"Father_SE_Number\", \"Mother_SE_Number\", \"CullingDate\"]\n",
    "df2 = df2[col_keep]\n",
    "df2 = df2.drop_duplicates(subset=[\"SE_Number\"])\n",
    "\n",
    "df3 = pd.merge(df, df2, on=\"SE_Number\", how=\"left\")"
   ]
  },
  {
   "cell_type": "code",
   "execution_count": 23,
   "metadata": {},
   "outputs": [],
   "source": [
    "# MAKE AGE\n",
    "df3['BirthDate'] = pd.to_datetime(df3['BirthDate'])\n",
    "df3['StartDate'] = pd.to_datetime(df3['StartDate'])\n",
    "df3['Age'] = (df3['StartDate'] - df3['BirthDate']).dt.days\n",
    "\n",
    "# Filtered\n",
    "df3.rename(columns={\"CullingDate\": \"CullDecisionDate\", \"Father_SE_Number\": \"Father\", \"Mother_SE_Number\": \"Mother\", \"Breed\": \"BreedName\", \n",
    "                    \"DaysInMilk2\": \"DaysInMilk\"},  inplace=True)\n",
    "\n",
    "# Unfiltered\n",
    "# df3.rename(columns={\"CullingDate\": \"CullDecisionDate\", \"Father_SE_Number\": \"Father\", \"Mother_SE_Number\": \"Mother\", \"Breed\": \"BreedName\"},  inplace=True)\n",
    "\n"
   ]
  },
  {
   "cell_type": "code",
   "execution_count": 24,
   "metadata": {},
   "outputs": [],
   "source": [
    "# Make combined DateTime column\n",
    "# Ensure StartDate is in datetime format\n",
    "df3['StartDate'] = pd.to_datetime(df3['StartDate'], errors='coerce')\n",
    "\n",
    "# Convert StartTime to a timedelta\n",
    "df3[\"StartTime2\"] = df3[\"StartTime\"]\n",
    "df3['StartTime2'] = pd.to_timedelta(df3['StartTime2'].astype(str))\n",
    "\n",
    "# Combine StartDate and StartTime\n",
    "df3['DateTime'] = df3['StartDate'] + df3['StartTime2']"
   ]
  },
  {
   "cell_type": "code",
   "execution_count": 25,
   "metadata": {},
   "outputs": [],
   "source": [
    "new_order = [\"FarmName_Pseudo\", \"SE_Number\", \"AnimalNumber\", \"StartDate\", \"StartTime\", \"LactationNumber\", \"DaysInMilk\", \"YearSeason\",\n",
    "             \"TotalYield\", \"DateTime\", \"BreedName\", \"BirthDate\", \"Mother\", \"Father\", \"CullDecisionDate\", \"Temperature2\", \"RelativeHumidity\",\n",
    "             \"THI_adj2\", \"HW\", \"cum_HW\", \"Temp15Threshold\", \"Age\"]\n",
    "df3 = df3[new_order]\n",
    "\n",
    "# Filtered\n",
    "df3.to_csv(\"../Data/MergedData/CleanedYieldData.csv\", index=False)\n",
    "df3.to_csv(\"C:/Users/pagd0001/Desktop/Gigacow/Data/20241007/HeatStressEvaluationSummer24-1/Data/MergedData/CleanedYieldData.csv\", index=False)\n",
    "\n",
    "# Unfiltered\n",
    "# df3.to_csv(\"../Data/MergedData/YieldData.csv\", index=False)\n",
    "# df3.to_csv(\"C:/Users/pagd0001/Desktop/Gigacow/Data/20241007/HeatStressEvaluationSummer24-1/Data/MergedData/YieldData.csv\", index=False)"
   ]
  },
  {
   "cell_type": "code",
   "execution_count": 13,
   "metadata": {},
   "outputs": [],
   "source": [
    "# data = pd.read_csv('../Data/MergedData/YieldData.csv', low_memory=False)\n",
    "df3 = pd.read_csv(\"../Data/MergedData/CleanedYieldData.csv\", low_memory=False)\n",
    "new_order = ['FarmName_Pseudo', 'SE_Number', 'AnimalNumber', 'StartDate', 'StartTime', 'DateTime', 'LactationNumber', 'DaysInMilk', 'YearSeason', \n",
    "             'TotalYield', 'DateTime', 'BreedName', 'Age', 'Mother', 'Father', 'CullDecisionDate', 'Temperature', 'RelativeHumidity', 'THI_adj',\n",
    "             'HW', 'cum_HW', 'Temp15Threshold']\n",
    "df3 = df3[new_order]\n",
    "# df3.to_csv(\"C:/Users/pagd0001/Desktop/Gigacow/Data/20241007/HeatStressEvaluationSummer24-1/Data/MergedData/YieldData.csv\", index=False)\n",
    "df3.to_csv(\"C:/Users/pagd0001/Desktop/Gigacow/Data/20241007/HeatStressEvaluationSummer24-1/Data/MergedData/CleanedYieldData.csv\", index=False)"
   ]
  },
  {
   "cell_type": "code",
   "execution_count": 6,
   "metadata": {},
   "outputs": [
    {
     "name": "stdout",
     "output_type": "stream",
     "text": [
      "Number of missing values in 'THI_adj': 896978\n",
      "(1669008, 22)\n"
     ]
    }
   ],
   "source": [
    "# Unfiltered\n",
    "missing_count = df3[\"THI_adj\"].isna().sum()\n",
    "print(f\"Number of missing values in 'THI_adj': {missing_count}\")\n",
    "print(df3.shape)"
   ]
  },
  {
   "cell_type": "code",
   "execution_count": 19,
   "metadata": {},
   "outputs": [
    {
     "name": "stdout",
     "output_type": "stream",
     "text": [
      "Number of missing values in 'THI_adj': 386810\n",
      "Number of missing values in 'MeanTHI_adj': 249\n",
      "(895106, 24)\n"
     ]
    }
   ],
   "source": [
    "# Filtered\n",
    "missing_count = df3[\"THI_adj\"].isna().sum()\n",
    "print(f\"Number of missing values in 'THI_adj': {missing_count}\")\n",
    "missing_count = df3[\"MeanTHI_adj\"].isna().sum()\n",
    "print(f\"Number of missing values in 'MeanTHI_adj': {missing_count}\")\n",
    "print(df3.shape)"
   ]
  }
 ],
 "metadata": {
  "kernelspec": {
   "display_name": "Python 3",
   "language": "python",
   "name": "python3"
  },
  "language_info": {
   "codemirror_mode": {
    "name": "ipython",
    "version": 3
   },
   "file_extension": ".py",
   "mimetype": "text/x-python",
   "name": "python",
   "nbconvert_exporter": "python",
   "pygments_lexer": "ipython3",
   "version": "3.12.3"
  }
 },
 "nbformat": 4,
 "nbformat_minor": 2
}
