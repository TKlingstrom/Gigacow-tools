{
 "cells": [
  {
   "cell_type": "markdown",
   "metadata": {},
   "source": [
    "# PREPARATIONS NEEDED TO RUN JOAKIMS CODE"
   ]
  },
  {
   "cell_type": "code",
   "execution_count": 1,
   "metadata": {},
   "outputs": [],
   "source": [
    "from datetime import timedelta\n",
    "import pandas as pd\n",
    "import numpy as np"
   ]
  },
  {
   "cell_type": "code",
   "execution_count": 2,
   "metadata": {},
   "outputs": [
    {
     "name": "stdout",
     "output_type": "stream",
     "text": [
      "(1868019, 51)\n"
     ]
    }
   ],
   "source": [
    "dtype_dict = {\n",
    "    'FarmName_Pseudo': 'str',\n",
    "    'SE_Number': 'str',\n",
    "    'AnimalNumber': 'Int64',\n",
    "    'Del_Cow_Id': 'Int64',\n",
    "    'StartDate': 'str',\n",
    "    'StartTime': 'str',\n",
    "    'CalvingDate': 'str',\n",
    "    'LactationNumber': 'Int64',\n",
    "    'DaysInMilk': 'Int64',\n",
    "    'YearSeason': 'str',\n",
    "    'TotalYield': 'float',\n",
    "    'Breed': 'str',\n",
    "    'Temperature': 'float',\n",
    "    'RelativeHumidity': 'float',\n",
    "    'THI_adj': 'float',\n",
    "    'HW': 'Int64',\n",
    "    'cum_HW': 'Int64',\n",
    "    'Temp15Threshold': 'Int64'\n",
    "}\n",
    "\n",
    "#\n",
    "#\n",
    "# Make YS\n",
    "df = pd.read_csv('../Data/MY_weather.csv', low_memory=False, dtype=dtype_dict)\n",
    "print(df.shape)\n",
    "df['StartDate'] = pd.to_datetime(df['StartDate'])\n",
    "\n",
    "\n",
    "# Function to determine the season based on month\n",
    "def get_season(date):\n",
    "    month = date.month\n",
    "    if month in [12, 1, 2]:\n",
    "        return 1\n",
    "    elif month in [3, 4, 5]:\n",
    "        return 2\n",
    "    elif month in [6, 7, 8]:\n",
    "        return 3\n",
    "    elif month in [9, 10, 11]:\n",
    "        return 4\n",
    "\n",
    "\n",
    "# Apply the function to create a 'YearSeason' variable\n",
    "df['YearSeason'] = df['StartDate'].apply(lambda x: f\"{x.year}0{get_season(x)}\")\n",
    "\n",
    "# Save the updated dataframe to CSV\n",
    "col_keep = [\"FarmName_Pseudo\", 'SE_Number', 'AnimalNumber', 'Del_Cow_Id', 'Breed', 'CalvingDate', 'LactationNumber',\n",
    "            'DaysInMilk', 'StartDate', 'StartTime', 'TotalYield', 'YearSeason',\n",
    "            'Temperature', 'RelativeHumidity', 'THI_adj', 'HW', 'cum_HW', 'Temp15Threshold']\n",
    "df = df[col_keep]\n"
   ]
  },
  {
   "cell_type": "code",
   "execution_count": 3,
   "metadata": {},
   "outputs": [],
   "source": [
    "# ADD PARENTAGE\n",
    "df2 = pd.read_csv(\"../Data/updateDF.csv\", low_memory=False)\n",
    "col_keep = [\"SE_Number\", \"BirthDate\", \"Father_SE_Number\", \"Mother_SE_Number\", \"CullingDate\"]\n",
    "df2 = df2[col_keep]\n",
    "df2 = df2.drop_duplicates(subset=[\"SE_Number\"])\n",
    "\n",
    "df3 = pd.merge(df, df2, on=\"SE_Number\", how=\"left\")"
   ]
  },
  {
   "cell_type": "code",
   "execution_count": 4,
   "metadata": {},
   "outputs": [],
   "source": [
    "# MAKE AGE\n",
    "df3['BirthDate'] = pd.to_datetime(df3['BirthDate'])\n",
    "df3['StartDate'] = pd.to_datetime(df3['StartDate'])\n",
    "df3['Age'] = (df3['StartDate'] - df3['BirthDate']).dt.days\n",
    "\n",
    "df3.rename(columns={\"CullingDate\": \"CullDecisionDate\", \"Father_SE_Number\": \"Father\", \"Mother_SE_Number\": \"Mother\", \"Breed\": \"BreedName\"}, \n",
    "           inplace=True)"
   ]
  },
  {
   "cell_type": "code",
   "execution_count": 6,
   "metadata": {},
   "outputs": [
    {
     "name": "stdout",
     "output_type": "stream",
     "text": [
      "Number of missing observations in 'THI_adj': 607201\n",
      "(1379231, 23)\n"
     ]
    }
   ],
   "source": [
    "# Keep only MY data from 2022-01-01 until 2024-08-18\n",
    "cutoff_date1 = '2022-01-01'\n",
    "cutoff_date2 = '2024-08-18'\n",
    "df3 = df3[df3['StartDate'] >= cutoff_date1]\n",
    "df3 = df3[df3['StartDate'] <= cutoff_date2]\n",
    "\n",
    "missing_count = df3['THI_adj'].isna().sum()\n",
    "print(f\"Number of missing observations in 'THI_adj': {missing_count}\")  # 607,201\n",
    "print(df3.shape)  # 1,379,231\n",
    "\n",
    "df3.to_csv(\"../Data/UpdateMY_weather.csv\", index=False)"
   ]
  }
 ],
 "metadata": {
  "kernelspec": {
   "display_name": "Python 3",
   "language": "python",
   "name": "python3"
  },
  "language_info": {
   "codemirror_mode": {
    "name": "ipython",
    "version": 3
   },
   "file_extension": ".py",
   "mimetype": "text/x-python",
   "name": "python",
   "nbconvert_exporter": "python",
   "pygments_lexer": "ipython3",
   "version": "3.12.3"
  }
 },
 "nbformat": 4,
 "nbformat_minor": 2
}
