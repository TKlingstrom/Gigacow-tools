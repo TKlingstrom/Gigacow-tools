{
 "cells": [
  {
   "cell_type": "markdown",
   "metadata": {},
   "source": [
    "Kontroll av rådata för besättning 5f7f33d6"
   ]
  },
  {
   "cell_type": "code",
   "execution_count": null,
   "metadata": {},
   "outputs": [],
   "source": [
    "import pandas as pd"
   ]
  },
  {
   "cell_type": "code",
   "execution_count": null,
   "metadata": {},
   "outputs": [],
   "source": [
    "#\n",
    "#\n",
    "# MILK YIELD DATA (HERE PARLOUR)\n",
    "df = pd.read_csv(\"Del_CowMilkYield_Common240823.csv\", delimiter=';', low_memory=False)\n",
    "print(f\"No. of milking events in raw data: {df.shape}\")  # 5,628,715\n",
    "col_keep = [\"FarmName_Pseudo\", \"SE_Number\", \"AnimalNumber\", \"Del_Cow_Id\", \"LactationNumber\", \"DaysInMilk\",\n",
    "            \"SessionNumber\", \"StartDate\", \"StartTime\", \"TotalYield\"]\n",
    "df = df[col_keep]\n",
    "\n",
    "herdID = \"5f7f33d6\"\n",
    "df = df[df['FarmName_Pseudo'] == herdID]\n",
    "print(f\"No. of milking events in raw data from 5f7f33d6: {df.shape}\")  # 491,896\n",
    "\n",
    "# Change TotalYield comma to dot\n",
    "df[\"TotalYield\"] = df[\"TotalYield\"].str.replace(',', '.')\n",
    "# Change to datetime\n",
    "df[\"StartDate\"] = pd.to_datetime(df[\"StartDate\"])\n",
    "\n",
    "# Remove pure duplicates\n",
    "df = df.drop_duplicates(subset=[\"SE_Number\", \"AnimalNumber\", \"Del_Cow_Id\", \"LactationNumber\",\n",
    "                                \"StartDate\", \"StartTime\", \"SessionNumber\", \"TotalYield\"])\n",
    "print(f\"No. of milking events after removing pure duplicates: {df.shape}\")  # 491,780\n",
    "\n",
    "# No. lactation and cows in data\n",
    "test = df.drop_duplicates(subset=[\"SE_Number\", \"AnimalNumber\", \"Del_Cow_Id\", \"LactationNumber\"])\n",
    "print(f\"No. of lactation after removed pure duplicates: {test.shape}\")  # 910\n",
    "test = test.drop_duplicates(subset=[\"SE_Number\", \"AnimalNumber\", \"Del_Cow_Id\"])\n",
    "print(f\"No. of cows after removed pure duplicates {test.shape}\")  # 382\n",
    "\n",
    "# Remove missing yield\n",
    "df = df[pd.notna(df[\"TotalYield\"])]\n",
    "print(f\"No. of milking records with recorded yield in milking file: {df.shape}\")  # 486,324\n",
    "\n",
    "# No. lactation and cows in data\n",
    "test = df.drop_duplicates(subset=[\"SE_Number\", \"AnimalNumber\", \"Del_Cow_Id\", \"LactationNumber\"])\n",
    "print(f\"No. of lactations after removed missing yield: {test.shape}\")  # 866\n",
    "test = df.drop_duplicates(subset=[\"SE_Number\", \"AnimalNumber\", \"Del_Cow_Id\"])\n",
    "print(f\"No. of cows after removed missing yield: {test.shape}\")  # 367\n",
    "\n",
    "# Remove duplicated sessions\n",
    "df = df.sort_values(by=['SE_Number', \"AnimalNumber\", \"Del_Cow_Id\", 'StartDate', 'SessionNumber'])\n",
    "df = df.drop_duplicates(subset=[\"SE_Number\", \"AnimalNumber\", \"Del_Cow_Id\", \"LactationNumber\",\n",
    "                                \"StartDate\", \"SessionNumber\", \"TotalYield\"])\n",
    "print(f\"No. of unique milking records in milking file: {df.shape}\")  # 485,429\n",
    "\n",
    "# No. lactation and cows in data\n",
    "test = df.drop_duplicates(subset=[\"SE_Number\", \"AnimalNumber\", \"Del_Cow_Id\", \"LactationNumber\"])\n",
    "print(f\"No. of lactations after removed duplicated sessions: {test.shape}\")  # 866\n",
    "test = df.drop_duplicates(subset=[\"SE_Number\", \"AnimalNumber\", \"Del_Cow_Id\"])\n",
    "print(f\"No. of cows after removed duplicated sessions: {test.shape}\")  # 367\n",
    "\n",
    "df.to_csv(\"5f7f33d6.csv\", index=False)"
   ]
  },
  {
   "cell_type": "code",
   "execution_count": null,
   "metadata": {},
   "outputs": [],
   "source": [
    "#\n",
    "#\n",
    "# CHECKING IF VMS HERD\n",
    "df2 = pd.read_csv(\"Del_Milk_Robot240918.csv\", delimiter=';', low_memory=False)\n",
    "herdID = \"5f7f33d6\"\n",
    "df2 = df2[df2['FarmName_Pseudo'] == herdID]\n",
    "print(f\"No. of milking events in VMS raw data from 5f7f33d6: {df2.shape}\")"
   ]
  },
  {
   "cell_type": "code",
   "execution_count": null,
   "metadata": {},
   "outputs": [],
   "source": [
    "#\n",
    "#\n",
    "# COW DATABASE - missing contract??\n",
    "df3 = pd.read_csv(\"dfKok.csv\", low_memory=False)\n",
    "herdID = \"5f7f33d6\"\n",
    "df3 = df3[df3['FarmName_Pseudo'] == herdID]\n",
    "\n",
    "print(f\"No. of pregnancy checks from 5f7f33d6: {df3.shape}\")  # 0\n",
    "test = df3.drop_duplicates(subset=[\"SE_Number\", \"AnimalNumber\", \"Del_Cow_Id\", \"LactationNumber\", \"InseminationDate\"])\n",
    "print(f\"No. of inseminations from 5f7f33d6: {test.shape}\")  # 0\n",
    "test = df3.drop_duplicates(subset=[\"SE_Number\", \"AnimalNumber\", \"Del_Cow_Id\", \"LactationNumber\"])\n",
    "print(f\"No. of lactations from 5f7f33d6: {test.shape}\")  # 0\n",
    "test = df3.drop_duplicates(subset=[\"SE_Number\", \"AnimalNumber\", \"Del_Cow_Id\"])\n",
    "print(f\"No. of cows from 5f7f33d6: {test.shape}\")  # 0"
   ]
  }
 ],
 "metadata": {
  "language_info": {
   "name": "python"
  }
 },
 "nbformat": 4,
 "nbformat_minor": 2
}
