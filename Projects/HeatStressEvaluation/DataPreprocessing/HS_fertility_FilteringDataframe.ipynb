{
 "cells": [
  {
   "cell_type": "markdown",
   "metadata": {},
   "source": [
    "# Filtering dataframe for fertility analysis\n",
    "\n",
    "Edits are performed on dataset \"fertilityDF_W.csv\" i.e. after \"BuildingDataframe.ipynb\" & \"FertilityTraits.ipynb\" have been run. The code generates a clean dataset for further analysis in \"FertilityAnalysis.ipynb\".\n",
    "\n",
    "The following filtering steps are according to NAV, apart from choice of breeds.\n",
    "- Add 305d MY from raw data and check missing MY records (a756bc39, 6d38bc90)\n",
    "- Keep only data from SH and NRDC\n",
    "- Keep only lactation 1-8 \n",
    "- Make parity 1, 2, >=3 \n",
    "- Records within 150 days from data extraction are excluded from the data set \n",
    "- Only the first 10 inseminations are accepted for CR \n",
    "- Age at first calving: 550d - 1100d \n",
    "- CI maximum 2 years for cows\n",
    "- CFS 20 - 230d\n",
    "- FLS max 365d\n",
    "\n",
    "In addition, putting thresholds on classical fertility traits according to NAV or µ+-2SD of respective trait\n",
    "- CFI: 20-230\n",
    "- CLI: 20-217\n",
    "- FLI: 0-365\n",
    "- CI: 301-730\n",
    "- GL: 260-302\n",
    "\n",
    "Allow for minimum 5 records in HYS groups (of insemination date) to help convergence in analysis\n",
    "\n",
    "Add threshold for 305d MY (7,395 - 16,255kg)\n",
    "\n",
    "Basic descriptive analysis at end of script\n",
    "\n",
    "This script generates a clean dataset containing the following columns:\n",
    "- SE_Number\n",
    "- Breed \n",
    "    * NRDC: SRB, DR, SAB\n",
    "    * SH\n",
    "- LactationNumber\n",
    "- Parity (1,2,>=3)\n",
    "- InseminationDate\n",
    "- HYS of insemination\n",
    "- HeatStress (whether the cow experienced HS 7d prior to, during and 7d after insemination)\n",
    "- Milk_Kg (305d)\n",
    "- CFI (Interval between calving and first insemination)\n",
    "- CLI (Interval between calving and last insemination)\n",
    "- FLI (Interval between first and last insemination)\n",
    "- NINS (Total number of inseminations during service period)\n",
    "- CR0 (Conception rate)\n",
    "- CI (Calving interval)\n",
    "- GL (Gestation length)\n"
   ]
  },
  {
   "cell_type": "code",
   "execution_count": null,
   "metadata": {},
   "outputs": [],
   "source": [
    "from datetime import timedelta\n",
    "import pandas as pd\n",
    "import numpy as np\n",
    "import seaborn as sns\n",
    "import matplotlib.pyplot as plt\n",
    "import glob\n",
    "\n",
    "from fpdf import FPDF\n",
    "\n",
    "import statsmodels.api as sm\n",
    "import statsmodels.formula.api as smf\n",
    "from itertools import product"
   ]
  },
  {
   "cell_type": "code",
   "execution_count": null,
   "metadata": {},
   "outputs": [],
   "source": [
    "# LOAD DATA\n",
    "df3 = pd.read_csv(\"../Data/CowData/fertilityDF_W.csv\", low_memory=False)"
   ]
  },
  {
   "cell_type": "code",
   "execution_count": null,
   "metadata": {},
   "outputs": [],
   "source": [
    "# Crude data distribution\n",
    "print(f\"No. observations in fertilityDF_W.csv.csv: {df3.shape}\")\n",
    "test = df3.drop_duplicates(subset=[\"SE_Number\", \"LactationNumber\", \"InseminationDate\", \"PregnancyCheckDate\"])\n",
    "print(f\"Double check no. pregnancy checks in fertilityDF_W.csv: {test.shape}\")\n",
    "print(f'No. ins without pregnancy checks: {df3.shape[0] - test.shape[0]}')\n",
    "\n",
    "test = df3.drop_duplicates(subset=[\"SE_Number\", \"LactationNumber\", \"InseminationDate\"])\n",
    "print(f\"No. inseminations in fertilityDF_W.csv: {test.shape}\")\n",
    "test = df3.drop_duplicates(subset=[\"SE_Number\", \"LactationNumber\"])\n",
    "print(f\"No. lactations in fertilityDF_W.csv: {test.shape}\")\n",
    "test = df3.drop_duplicates(subset=[\"SE_Number\"])\n",
    "print(f\"No. cows in fertilityDF_W.csv: {test.shape}\")"
   ]
  },
  {
   "cell_type": "markdown",
   "metadata": {},
   "source": [
    "Keep only herds with (MY_W) data"
   ]
  },
  {
   "cell_type": "code",
   "execution_count": null,
   "metadata": {},
   "outputs": [],
   "source": [
    "# Count number of inseminations in herds\n",
    "ins_count = df3.groupby(\"FarmName_Pseudo\")[\"InseminationDate\"].count()\n",
    "print(ins_count)"
   ]
  },
  {
   "cell_type": "code",
   "execution_count": null,
   "metadata": {},
   "outputs": [],
   "source": [
    "# Count presence of HeatStress in the herds with issues with MY data\n",
    "herds_to_keep = ['a756bc39', '6d38bc90']\n",
    "df4 = df3[df3[\"FarmName_Pseudo\"].isin(herds_to_keep)]\n",
    "\n",
    "non_nan_count = df4['HeatStress'].notna().sum()\n",
    "print(f\"Number of non-NaN values: {non_nan_count}\")\n",
    "\n",
    "is_nan_count = df4['HeatStress'].isna().sum()\n",
    "print(f\"Number of NaN values: {is_nan_count}\")\n"
   ]
  },
  {
   "cell_type": "code",
   "execution_count": null,
   "metadata": {},
   "outputs": [],
   "source": [
    "# Check if herds with issues with MY recording in DelPro have raw data from cow database\n",
    "MY = pd.read_csv(\"C:/Users/pagd0001/Desktop/Gigacow/Data/20241009/Gigacow-tools/Projects/HeatStressEvaluation/Data/CowData/Kok_LactationReturn240820.csv\", low_memory=False, delimiter=\";\")\n",
    "col_keep = [\"BirthID\", \"CalvingNumber\", \"Milk_Kg\"]\n",
    "MY = MY[col_keep]\n",
    "MY.rename(columns={\"BirthID\": \"SE_Number\", \"CalvingNumber\": \"LactationNumber\"}, inplace=True)\n",
    "MY = MY.drop_duplicates(subset=[\"SE_Number\", \"LactationNumber\", \"Milk_Kg\"])"
   ]
  },
  {
   "cell_type": "code",
   "execution_count": null,
   "metadata": {},
   "outputs": [],
   "source": [
    "MY"
   ]
  },
  {
   "cell_type": "code",
   "execution_count": null,
   "metadata": {},
   "outputs": [],
   "source": [
    "# Add 305d MY records to fertilityDF_W.csv\n",
    "df3 = pd.merge(df3, MY, on=[\"SE_Number\", \"LactationNumber\"], how=\"left\")\n",
    "df3.to_csv(\"../Data/CowData/fertilityDF_W_MY.csv\", index=False)\n",
    "df3"
   ]
  },
  {
   "cell_type": "code",
   "execution_count": null,
   "metadata": {},
   "outputs": [],
   "source": [
    "# Count presence of 305d MY records in the herds with issues with MY data in DelPro\n",
    "herds_to_keep = ['a756bc39', '6d38bc90']\n",
    "df4 = df3[df3[\"FarmName_Pseudo\"].isin(herds_to_keep)]\n",
    "\n",
    "non_nan_count = df4['Milk_Kg'].notna().sum()\n",
    "print(f\"Number of non-NaN values: {non_nan_count}\")\n",
    "\n",
    "is_nan_count = df4['Milk_Kg'].isna().sum()\n",
    "print(f\"Number of NaN values: {is_nan_count}\")"
   ]
  },
  {
   "cell_type": "code",
   "execution_count": null,
   "metadata": {},
   "outputs": [],
   "source": [
    "\"\"\" =========================================================================>>> These herds have data reported to the cow database and can be included!\n",
    "# Remove herds with missing MY records (a756bc39, 6d38bc90)\n",
    "# Herds to remove\n",
    "herds_to_remove = ['a756bc39', '6d38bc90']\n",
    "df3 = df3[~df3['FarmName_Pseudo'].isin(herds_to_remove)]\n",
    "\"\"\""
   ]
  },
  {
   "cell_type": "code",
   "execution_count": null,
   "metadata": {},
   "outputs": [],
   "source": [
    "print(f\"No. observations in fertilityDF_W_MY.csv.csv: {df3.shape}\")\n",
    "test = df3.drop_duplicates(subset=[\"SE_Number\", \"LactationNumber\", \"InseminationDate\", \"PregnancyCheckDate\"])\n",
    "print(f\"Double check no. pregnancy checks in fertilityDF_W_MY.csv: {test.shape}\")\n",
    "print(f'No. ins without pregnancy checks: {df3.shape[0] - test.shape[0]}')\n",
    "\n",
    "test = df3.drop_duplicates(subset=[\"SE_Number\", \"LactationNumber\", \"InseminationDate\"])\n",
    "print(f\"No. inseminations in fertilityDF_W_MY.csv: {test.shape}\")\n",
    "test = df3.drop_duplicates(subset=[\"SE_Number\", \"LactationNumber\"])\n",
    "print(f\"No. lactations in fertilityDF_W_MY.csv: {test.shape}\")\n",
    "test = df3.drop_duplicates(subset=[\"SE_Number\"])\n",
    "print(f\"No. cows in fertilityDF_W_MY.csv: {test.shape}\")"
   ]
  },
  {
   "cell_type": "markdown",
   "metadata": {},
   "source": [
    "Data from SH and NRDC"
   ]
  },
  {
   "cell_type": "code",
   "execution_count": null,
   "metadata": {},
   "outputs": [],
   "source": [
    "# Keep only data from SH and NRDC\n",
    "breeds_to_keep = [\"NRDC\", \"SLB\"]\n",
    "df3 = df3[df3[\"Breed\"].isin(breeds_to_keep)]"
   ]
  },
  {
   "cell_type": "code",
   "execution_count": null,
   "metadata": {},
   "outputs": [],
   "source": [
    "print(f\"No. observations in file: {df3.shape}\")\n",
    "test = df3.drop_duplicates(subset=[\"SE_Number\", \"LactationNumber\", \"InseminationDate\", \"PregnancyCheckDate\"])\n",
    "print(f\"Double check no. pregnancy checks in file: {test.shape}\")\n",
    "print(f'No. ins without pregnancy checks: {df3.shape[0] - test.shape[0]}')\n",
    "\n",
    "test = df3.drop_duplicates(subset=[\"SE_Number\", \"LactationNumber\", \"InseminationDate\"])\n",
    "print(f\"No. inseminations in file: {test.shape}\")\n",
    "test = df3.drop_duplicates(subset=[\"SE_Number\", \"LactationNumber\"])\n",
    "print(f\"No. lactations in file: {test.shape}\")\n",
    "test = df3.drop_duplicates(subset=[\"SE_Number\"])\n",
    "print(f\"No. cows in file: {test.shape}\")"
   ]
  },
  {
   "cell_type": "markdown",
   "metadata": {},
   "source": [
    "Allow for maximum lactation 1-8"
   ]
  },
  {
   "cell_type": "code",
   "execution_count": null,
   "metadata": {},
   "outputs": [],
   "source": [
    "# Distribution of lactations\n",
    "check = df3.drop_duplicates(subset=[\"SE_Number\", \"LactationNumber\"])\n",
    "value_counts = check['LactationNumber'].value_counts()\n",
    "print(value_counts)"
   ]
  },
  {
   "cell_type": "code",
   "execution_count": null,
   "metadata": {},
   "outputs": [],
   "source": [
    "# Keep only lactation 1-8\n",
    "df3 = df3[df3[\"LactationNumber\"] <= 8]\n",
    "\n",
    "# No. lactations and cows in data\n",
    "print(f\"No. observations in file: {df3.shape}\")\n",
    "test = df3.drop_duplicates(subset=[\"SE_Number\", \"LactationNumber\", \"InseminationDate\", \"PregnancyCheckDate\"])\n",
    "print(f\"Double check no. pregnancy checks in file: {test.shape}\")\n",
    "print(f'No. ins without pregnancy checks: {df3.shape[0] - test.shape[0]}')\n",
    "\n",
    "test = df3.drop_duplicates(subset=[\"SE_Number\", \"LactationNumber\", \"InseminationDate\"])\n",
    "print(f\"No. inseminations in file: {test.shape}\")\n",
    "test = df3.drop_duplicates(subset=[\"SE_Number\", \"LactationNumber\"])\n",
    "print(f\"No. lactations in file: {test.shape}\")\n",
    "test = df3.drop_duplicates(subset=[\"SE_Number\"])\n",
    "print(f\"No. cows in file: {test.shape}\")"
   ]
  },
  {
   "cell_type": "code",
   "execution_count": null,
   "metadata": {},
   "outputs": [],
   "source": [
    "# Make Parity 1-3\n",
    "df3[\"Parity\"] = df3[\"LactationNumber\"]\n",
    "df3.loc[(df3['LactationNumber'] >= 3) & (df3['LactationNumber'] <= 8), 'Parity'] = 3"
   ]
  },
  {
   "cell_type": "markdown",
   "metadata": {},
   "source": [
    "Records within 150 days from data extraction are excluded from the data set (i.e. open records)"
   ]
  },
  {
   "cell_type": "code",
   "execution_count": null,
   "metadata": {},
   "outputs": [],
   "source": [
    "# Find open records\n",
    "df3[\"extraction_limit\"] = pd.to_datetime(df3[\"extraction_limit\"])\n",
    "df3[\"InseminationDate\"] = pd.to_datetime(df3[\"InseminationDate\"])\n",
    "\n",
    "df3[\"open_rec\"] = (df3[\"extraction_limit\"] - df3[\"InseminationDate\"]).dt.days\n",
    "\n",
    "# Plot histogram\n",
    "plt.hist(df3['open_rec'], bins=50, color='blue', edgecolor='black')\n",
    "plt.xlabel('date')\n",
    "plt.ylabel('Frequency')\n",
    "plt.show()"
   ]
  },
  {
   "cell_type": "code",
   "execution_count": null,
   "metadata": {},
   "outputs": [],
   "source": [
    "non_nan_count = df3['open_rec'].notna().sum()\n",
    "print(f\"Number of non-NaN values: {non_nan_count}\")\n",
    "\n",
    "is_nan_count = df3['open_rec'].isna().sum()\n",
    "print(f\"Number of NaN values: {is_nan_count}\")"
   ]
  },
  {
   "cell_type": "code",
   "execution_count": null,
   "metadata": {},
   "outputs": [],
   "source": [
    "df3 = df3[(df3[\"open_rec\"] > 150)]"
   ]
  },
  {
   "cell_type": "code",
   "execution_count": null,
   "metadata": {},
   "outputs": [],
   "source": [
    "print(f\"No. observations in file: {df3.shape}\")\n",
    "test = df3.drop_duplicates(subset=[\"SE_Number\", \"LactationNumber\", \"InseminationDate\", \"PregnancyCheckDate\"])\n",
    "print(f\"Double check no. pregnancy checks in file: {test.shape}\")\n",
    "print(f'No. ins without pregnancy checks: {df3.shape[0] - test.shape[0]}')\n",
    "\n",
    "test = df3.drop_duplicates(subset=[\"SE_Number\", \"LactationNumber\", \"InseminationDate\"])\n",
    "print(f\"No. inseminations in file: {test.shape}\")\n",
    "test = df3.drop_duplicates(subset=[\"SE_Number\", \"LactationNumber\"])\n",
    "print(f\"No. lactations in file: {test.shape}\")\n",
    "test = df3.drop_duplicates(subset=[\"SE_Number\"])\n",
    "print(f\"No. cows in file: {test.shape}\")"
   ]
  },
  {
   "cell_type": "markdown",
   "metadata": {},
   "source": [
    "Only keep first 10 ins"
   ]
  },
  {
   "cell_type": "code",
   "execution_count": null,
   "metadata": {},
   "outputs": [],
   "source": [
    "# Only the first 10 inseminations are accepted\n",
    "# Distribution of NINS\n",
    "value_counts = df3[\"NINS\"].value_counts()\n",
    "print(value_counts)"
   ]
  },
  {
   "cell_type": "code",
   "execution_count": null,
   "metadata": {},
   "outputs": [],
   "source": [
    "# Count ins\n",
    "df4 = df3.drop_duplicates(subset=[\"SE_Number\", \"LactationNumber\", \"InseminationDate\"])\n",
    "df4"
   ]
  },
  {
   "cell_type": "code",
   "execution_count": null,
   "metadata": {},
   "outputs": [],
   "source": [
    "df3[\"InseminationDate\"] = pd.to_datetime(df3[\"InseminationDate\"])\n",
    "\n",
    "df4 = df4.copy()\n",
    "df4['InseminationDate'] = pd.to_datetime(df4['InseminationDate'])\n",
    "\n",
    "df4['InsCount'] = df4.groupby(['SE_Number', 'LactationNumber']).cumcount() + 1\n",
    "col_keep = [\"SE_Number\", \"LactationNumber\", \"InseminationDate\", \"InsCount\"]\n",
    "df4 = df4[col_keep]\n",
    "\n",
    "df5 = pd.merge(df3, df4, on=[\"SE_Number\", \"LactationNumber\", \"InseminationDate\"], how=\"left\")\n",
    "df5"
   ]
  },
  {
   "cell_type": "code",
   "execution_count": null,
   "metadata": {},
   "outputs": [],
   "source": [
    "# Distribution of NINS \n",
    "value_counts = df5[\"InsCount\"].value_counts()\n",
    "print(value_counts)\n",
    "\n",
    "df5.to_csv(\"test.csv\", index=False)"
   ]
  },
  {
   "cell_type": "code",
   "execution_count": null,
   "metadata": {},
   "outputs": [],
   "source": [
    "# The first 10 ins are accepted\n",
    "# Sort by cow, lactation, and insemination_date\n",
    "df5 = df5.sort_values(by=[\"SE_Number\", \"LactationNumber\", \"InseminationDate\"])\n",
    "\n",
    "# Identify the last insemination record within each group (cow, lactation) where InsCount == 11\n",
    "last_ins11 = (\n",
    "    df5[df5[\"InsCount\"] == 11]\n",
    "    .groupby([\"SE_Number\", \"LactationNumber\"])[\"InseminationDate\"]\n",
    "    .idxmax()\n",
    ")\n",
    "\n",
    "# Remove these rows from the DataFrame\n",
    "df5 = df5.drop(last_ins11)\n",
    "\n",
    "value_counts = df5[\"InsCount\"].value_counts()\n",
    "print(value_counts)"
   ]
  },
  {
   "cell_type": "markdown",
   "metadata": {},
   "source": [
    "Age at first calving: 550d - 1100d "
   ]
  },
  {
   "cell_type": "code",
   "execution_count": null,
   "metadata": {},
   "outputs": [],
   "source": [
    "# Load raw data to get full calving history from cow database\n",
    "dfkok = pd.read_csv(\"C:/Users/pagd0001/Desktop/Gigacow/Data/20241009/Gigacow-tools/Projects/HeatStressEvaluation/Data/CowData/Kok_Calving240820.csv\", delimiter=\";\", low_memory=False)\n",
    "col_keep = [\"BirthID\", \"CalvingDate\", \"CalvingNumber\"]\n",
    "dfkok = dfkok[col_keep]\n",
    "dfkok = dfkok.rename(columns={\"BirthID\": \"SE_Number\", \"CalvingNumber\": \"LactationNumber\"})\n",
    "dfkok = dfkok.drop_duplicates(subset=[\"SE_Number\", \"LactationNumber\"])\n",
    "dfkok"
   ]
  },
  {
   "cell_type": "code",
   "execution_count": null,
   "metadata": {},
   "outputs": [],
   "source": [
    "# Load raw data to get BirthDate\n",
    "bd = pd.read_csv(\"C:/Users/pagd0001/Desktop/Gigacow/Data/20241009/Gigacow-tools/Projects/HeatStressEvaluation/Data/CowData/Kok_Lineage240821.csv\", delimiter=\";\", low_memory=False)\n",
    "col_keep = [\"BirthID\", \"BirthDate\"]\n",
    "bd = bd[col_keep]\n",
    "bd = bd.rename(columns={\"BirthID\": \"SE_Number\"})\n",
    "bd = bd.drop_duplicates(subset=[\"SE_Number\"])\n",
    "bd\n"
   ]
  },
  {
   "cell_type": "code",
   "execution_count": null,
   "metadata": {},
   "outputs": [],
   "source": [
    "# Combine\n",
    "dfkok = pd.merge(dfkok, bd, on=[\"SE_Number\"], how=\"left\")"
   ]
  },
  {
   "cell_type": "code",
   "execution_count": null,
   "metadata": {},
   "outputs": [],
   "source": [
    "# Calculate age at first calving\n",
    "dfkok = dfkok[dfkok[\"LactationNumber\"] == 1]\n",
    "dfkok = dfkok.copy()\n",
    "dfkok[\"BirthDate\"] = pd.to_datetime(dfkok[\"BirthDate\"])\n",
    "dfkok[\"CalvingDate\"] = pd.to_datetime(dfkok[\"CalvingDate\"])\n",
    "dfkok[\"AgeFirstCalving\"] = (dfkok[\"CalvingDate\"] - dfkok[\"BirthDate\"]).dt.days\n",
    "\n",
    "col_keep = [\"SE_Number\", \"AgeFirstCalving\"]\n",
    "dfkok = dfkok[col_keep]\n",
    "dfkok"
   ]
  },
  {
   "cell_type": "code",
   "execution_count": null,
   "metadata": {},
   "outputs": [],
   "source": [
    "# Plot\n",
    "plt.hist(dfkok['AgeFirstCalving'], bins=50, color='blue', edgecolor='black')\n",
    "plt.xlabel('Age')\n",
    "plt.ylabel('Frequency')\n",
    "plt.show()"
   ]
  },
  {
   "cell_type": "code",
   "execution_count": null,
   "metadata": {},
   "outputs": [],
   "source": [
    "# Merge back onto current dataset\n",
    "df6 = pd.merge(df5, dfkok, on=[\"SE_Number\"], how=\"left\")\n",
    "df6"
   ]
  },
  {
   "cell_type": "code",
   "execution_count": null,
   "metadata": {},
   "outputs": [],
   "source": [
    "non_nan_count = df6['AgeFirstCalving'].notna().sum()\n",
    "print(f\"Number of non-NaN values: {non_nan_count}\")\n",
    "\n",
    "is_nan_count = df6['AgeFirstCalving'].isna().sum()\n",
    "print(f\"Number of NaN values: {is_nan_count}\")"
   ]
  },
  {
   "cell_type": "code",
   "execution_count": null,
   "metadata": {},
   "outputs": [],
   "source": [
    "# Filter age at first calving keeping only inseminations from cows with an age between 550 and 1100days old\n",
    "df6 = df6[df6['AgeFirstCalving'].between(550, 1100)]"
   ]
  },
  {
   "cell_type": "code",
   "execution_count": null,
   "metadata": {},
   "outputs": [],
   "source": [
    "# Plot\n",
    "plt.hist(df6['AgeFirstCalving'], bins=50, color='blue', edgecolor='black')\n",
    "plt.xlabel('Age')\n",
    "plt.ylabel('Frequency')\n",
    "plt.show()"
   ]
  },
  {
   "cell_type": "code",
   "execution_count": null,
   "metadata": {},
   "outputs": [],
   "source": [
    "print(f\"No. observations in file: {df6.shape}\")\n",
    "\n",
    "test = df6.drop_duplicates(subset=[\"SE_Number\", \"LactationNumber\", \"InseminationDate\"])\n",
    "print(f\"No. inseminations in file: {test.shape}\")\n",
    "test = df6.drop_duplicates(subset=[\"SE_Number\", \"LactationNumber\"])\n",
    "print(f\"No. lactations in file: {test.shape}\")\n",
    "test = df6.drop_duplicates(subset=[\"SE_Number\"])\n",
    "print(f\"No. cows in file: {test.shape}\")"
   ]
  },
  {
   "cell_type": "markdown",
   "metadata": {},
   "source": [
    "Thresholds for classical fertility traits in editing full material (insemination wise)\n",
    "- CI maximum 2 years for cows\n",
    "- CFS 20 - 230d\n",
    "- FLS max 365d"
   ]
  },
  {
   "cell_type": "code",
   "execution_count": null,
   "metadata": {},
   "outputs": [],
   "source": [
    "# Look at distribution of CI, CFI and FLI\n",
    "df_fert = df6.drop_duplicates(subset=[\"SE_Number\", \"LactationNumber\"])\n",
    "\n",
    "plt.hist(df_fert['CI'], bins=50, color='blue', edgecolor='black')\n",
    "plt.xlabel('Age')\n",
    "plt.ylabel('Frequency')\n",
    "plt.show()\n",
    "\n",
    "plt.hist(df_fert['CFI'], bins=50, color='blue', edgecolor='black')\n",
    "plt.xlabel('CFI')\n",
    "plt.ylabel('Frequency')\n",
    "plt.show()\n",
    "\n",
    "plt.hist(df_fert['FLI'], bins=50, color='blue', edgecolor='black')\n",
    "plt.xlabel('FLI')\n",
    "plt.ylabel('Frequency')\n",
    "plt.show()"
   ]
  },
  {
   "cell_type": "code",
   "execution_count": null,
   "metadata": {},
   "outputs": [],
   "source": [
    "# Thresholds\n",
    "# Filter for CI values less than or equal to 730 or NaN\n",
    "df6 = df6[(df6[\"CI\"] <= 730) | (df6[\"CI\"].isna())]\n",
    "\n",
    "# Filter for CFI values between 20 and 230 (inclusive) or NaN\n",
    "df6 = df6[(df6[\"CFI\"].between(20, 230, inclusive=\"both\")) | (df6[\"CFI\"].isna())]\n",
    "\n",
    "# Filter for FLI values less than or equal to 365 or NaN\n",
    "df6 = df6[(df6[\"FLI\"] <= 365) | (df6[\"FLI\"].isna())]\n",
    "\n",
    "df6.to_csv(\"../data/CowData/fertilityDF_W_MY_filtered.csv\", index=False)"
   ]
  },
  {
   "cell_type": "code",
   "execution_count": null,
   "metadata": {},
   "outputs": [],
   "source": [
    "print(f\"No. observations in fertilityDF_W_MY_filtered.csv.csv: {df6.shape}\")\n",
    "\n",
    "test = df6.drop_duplicates(subset=[\"SE_Number\", \"LactationNumber\", \"InseminationDate\"])\n",
    "print(f\"No. inseminations in filtered data: {test.shape}\")\n",
    "test = df6.drop_duplicates(subset=[\"SE_Number\", \"LactationNumber\"])\n",
    "print(f\"No. lactations in filtered data: {test.shape}\")\n",
    "test = df6.drop_duplicates(subset=[\"SE_Number\"])\n",
    "print(f\"No. cows in filtered data: {test.shape}\")"
   ]
  },
  {
   "cell_type": "markdown",
   "metadata": {},
   "source": [
    "Minimum and maximum threshold on specific classical fertility traits\n",
    "- i.e. if not within range, put to missing"
   ]
  },
  {
   "cell_type": "code",
   "execution_count": null,
   "metadata": {},
   "outputs": [],
   "source": [
    "# Load unfiltered data to check distribution\n",
    "fert_df = pd.read_csv(\"../Data/CowData/fertilityDF_W_MY.csv\", low_memory=False)\n",
    "fert_df = fert_df.drop_duplicates(subset=[\"SE_Number\", \"LactationNumber\"])"
   ]
  },
  {
   "cell_type": "code",
   "execution_count": null,
   "metadata": {},
   "outputs": [],
   "source": [
    "# Look at distributions\n",
    "summary_stats = fert_df['GL'].describe()\n",
    "percentiles = np.percentile(fert_df['GL'].dropna(), [1, 5, 10, 90, 95, 99])\n",
    "\n",
    "print(\"Descriptive Statistics:\\n\", summary_stats)\n",
    "print(\"\\nPercentiles (1%, 5%, 10%, 90%, 95%, 99%):\", percentiles)"
   ]
  },
  {
   "cell_type": "code",
   "execution_count": null,
   "metadata": {},
   "outputs": [],
   "source": [
    "plt.hist(fert_df['CI'], bins=50, color='blue', edgecolor='black')\n",
    "plt.xlabel('CI')\n",
    "plt.ylabel('Frequency')\n",
    "plt.show()"
   ]
  },
  {
   "cell_type": "code",
   "execution_count": null,
   "metadata": {},
   "outputs": [],
   "source": [
    "# Put thresholds on traits: Define the valid range and set outside this range to missing\n",
    "df6 = pd.read_csv(\"../Data/CowData/fertilityDF_W_MY_filtered.csv\", low_memory=False)\n",
    "\n",
    "# CFI: 79 +- 35 => 20-230d according to NAV (min 32, max 404) Percentiles (1%, 5%, 10%, 90%, 95%, 99%): [ 37.  43.  48. 121. 146. 208.]\n",
    "CFI_min = 20\n",
    "CFI_max = 230\n",
    "\n",
    "df6.loc[(df6[\"CFI\"] < CFI_min) | (df6[\"CFI\"] > CFI_max), \"CFI\"] = np.nan\n",
    "\n",
    "# CLI: 107 +- 55 => 20-217 if CFI min 20 and FLI 0 then CLI also 20d, 217 = 107+(55*2)\n",
    "#   (min 22, max 531) Percentiles (1%, 5%, 10%, 90%, 95%, 99%): [ 39.    48.    53.   181.   213.   293.46]\n",
    "CLI_min = 20\n",
    "CLI_max = 217\n",
    "\n",
    "df6.loc[(df6[\"CLI\"] < CLI_min) | (df6[\"CLI\"] > CLI_max), \"CLI\"] = np.nan\n",
    "\n",
    "# FLI: 28 +- 45 => 0-365d according to NAV (min 0, max 471) Percentiles (1%, 5%, 10%, 90%, 95%, 99%): [  0.     0.     0.    87.   115.   194.46]\n",
    "FLI_min = 0\n",
    "FLI_max = 365\n",
    "\n",
    "df6.loc[(df6[\"FLI\"] < FLI_min) | (df6[\"FLI\"] > FLI_max), \"FLI\"] = np.nan\n",
    "\n",
    "# CI: 373 +- 72 => 301-730d 301d according to 373-72, 730d according to NAV\n",
    "#   (min 1, max 822) Percentiles (1%, 5%, 10%, 90%, 95%, 99%): [  2.59 322.   329.   442.   472.   545.64] \n",
    "CI_min = 301\n",
    "CI_max = 730\n",
    "\n",
    "df6.loc[(df6[\"CI\"] < CI_min) | (df6[\"CI\"] > CI_max), \"CI\"] = np.nan\n",
    "\n",
    "# GL: 260 - 302 according to NAV. Percentiles (1%, 5%, 10%, 90%, 95%, 99%): [-79.28 269.   273.   287.   288.   295.  ]\n",
    "GL_min = 260\n",
    "GL_max = 302\n",
    "\n",
    "df6.loc[(df6[\"GL\"] < GL_min) | (df6[\"GL\"] > GL_max), \"GL\"] = np.nan"
   ]
  },
  {
   "cell_type": "code",
   "execution_count": null,
   "metadata": {},
   "outputs": [],
   "source": [
    "# Double check distributions after handling outliers\n",
    "summary_stats = df6['CFI'].describe()\n",
    "percentiles = np.percentile(df6['CFI'].dropna(), [1, 5, 10, 90, 95, 99])\n",
    "\n",
    "print(\"Descriptive Statistics:\\n\", summary_stats)\n",
    "print(\"\\nPercentiles (1%, 5%, 10%, 90%, 95%, 99%):\", percentiles)"
   ]
  },
  {
   "cell_type": "markdown",
   "metadata": {},
   "source": [
    "Allow for minimum 5 records in HYS groups (of insemination date)"
   ]
  },
  {
   "cell_type": "code",
   "execution_count": null,
   "metadata": {},
   "outputs": [],
   "source": [
    "# Make HYS of insemination\n",
    "df6['InseminationDate'] = pd.to_datetime(df6['InseminationDate'])\n",
    "\n",
    "\n",
    "# Function to determine the season based on month\n",
    "def get_season(date):\n",
    "    month = date.month\n",
    "    if month in [12, 1, 2]:\n",
    "        return 1\n",
    "    elif month in [3, 4, 5]:\n",
    "        return 2\n",
    "    elif month in [6, 7, 8]:\n",
    "        return 3\n",
    "    elif month in [9, 10, 11]:\n",
    "        return 4\n",
    "\n",
    "\n",
    "# Apply the function to create a 'YearSeason' variable\n",
    "df6['YearSeason'] = df6['InseminationDate'].apply(lambda x: f\"{x.year}0{get_season(x)}\")\n",
    "\n",
    "# Make HYS\n",
    "df6[\"HYS\"] = df6[\"FarmName_Pseudo\"] + df6[\"YearSeason\"]\n",
    "df6 "
   ]
  },
  {
   "cell_type": "code",
   "execution_count": null,
   "metadata": {},
   "outputs": [],
   "source": [
    "# Check distribution of HYS\n",
    "print(df6[\"HYS\"].value_counts())"
   ]
  },
  {
   "cell_type": "code",
   "execution_count": null,
   "metadata": {},
   "outputs": [],
   "source": [
    "# HYS requiring minimum 5 events, otherwise remove\n",
    "# Count occurrences of each HYS group and filter to keep only 5 or above\n",
    "hys_counts = df6[\"HYS\"].value_counts()\n",
    "valid_hys = hys_counts[hys_counts >= 5].index\n",
    "df6 = df6[df6[\"HYS\"].isin(valid_hys)]\n",
    "\n",
    "print(df6[\"HYS\"].value_counts())"
   ]
  },
  {
   "cell_type": "markdown",
   "metadata": {},
   "source": [
    "Add threshold for 305d MY"
   ]
  },
  {
   "cell_type": "code",
   "execution_count": null,
   "metadata": {},
   "outputs": [],
   "source": [
    "# Occurrence of MY data\n",
    "non_nan_count = df6['Milk_Kg'].notna().sum()\n",
    "print(f\"Number of non-NaN values: {non_nan_count}\")\n",
    "\n",
    "is_nan_count = df6['Milk_Kg'].isna().sum()\n",
    "print(f\"Number of NaN values: {is_nan_count}\")"
   ]
  },
  {
   "cell_type": "code",
   "execution_count": null,
   "metadata": {},
   "outputs": [],
   "source": [
    "# Plot MY\n",
    "plt.hist(df6['Milk_Kg'], bins=50, color='blue', edgecolor='black')\n",
    "plt.xlabel('MY')\n",
    "plt.ylabel('Frequency')\n",
    "plt.show()\n",
    "\n",
    "# Look at distribution\n",
    "summary_stats = df6['Milk_Kg'].describe()\n",
    "percentiles = np.percentile(df6['Milk_Kg'].dropna(), [1, 5, 10, 90, 95, 99])\n",
    "\n",
    "print(\"Descriptive Statistics:\\n\", summary_stats)\n",
    "print(\"\\nPercentiles (1%, 5%, 10%, 90%, 95%, 99%):\", percentiles)"
   ]
  },
  {
   "cell_type": "code",
   "execution_count": null,
   "metadata": {},
   "outputs": [],
   "source": [
    "# µ: 11,825. SD: 2215 => Thresholds: 7,395 - 16,255\n",
    "MY_min = 7395\n",
    "MY_max = 16255\n",
    "\n",
    "df6.loc[(df6[\"Milk_Kg\"] < MY_min) | (df6[\"Milk_Kg\"] > MY_max), \"Milk_Kg\"] = np.nan"
   ]
  },
  {
   "cell_type": "code",
   "execution_count": null,
   "metadata": {},
   "outputs": [],
   "source": [
    "plt.hist(df6['Milk_Kg'], bins=50, color='blue', edgecolor='black')\n",
    "plt.xlabel('MY')\n",
    "plt.ylabel('Frequency')\n",
    "plt.show()"
   ]
  },
  {
   "cell_type": "markdown",
   "metadata": {},
   "source": [
    "Save filtered dataset"
   ]
  },
  {
   "cell_type": "code",
   "execution_count": null,
   "metadata": {},
   "outputs": [],
   "source": [
    "# Save filtered data\n",
    "df6.to_csv(\"../Data/fertilityDF_W_MY_filtered.csv\", index=False)"
   ]
  },
  {
   "cell_type": "code",
   "execution_count": null,
   "metadata": {},
   "outputs": [],
   "source": [
    "# Clean dataset\n",
    "col_keep = [\"SE_Number\", \"Breed\", \"LactationNumber\", \"Parity\", \"InseminationDate\", \"HYS\", \"HeatStress\", \"Milk_Kg\", \"CFI\", \"CLI\", \"FLI\", \"NINS\", \"CR0\", \"CI\", \"GL\"]\n",
    "df7 = df6[col_keep]\n",
    "df7.to_csv(\"../Data/fertility_filtered.csv\", index=False)"
   ]
  },
  {
   "cell_type": "markdown",
   "metadata": {},
   "source": [
    "# Descriptive statistics - filtered data"
   ]
  },
  {
   "cell_type": "code",
   "execution_count": null,
   "metadata": {},
   "outputs": [],
   "source": [
    "# MILKING RECORDS\n",
    "df_lact = pd.read_csv(\"../Data/fertilityDF_W_MY_filtered.csv\", low_memory=False)\n",
    "\n",
    "count_my_rec = df_lact.groupby([\"Parity\"])[\"InseminationDate\"].count().reset_index()\n",
    "print(f\"No. of insemination records divided over parities: \\n\", count_my_rec.to_string(index=False))\n",
    "\n",
    "count_my_rec = df_lact.groupby([\"Parity\", \"Breed\"])[\"InseminationDate\"].count().reset_index()\n",
    "print(f\"No. of insemination records divided over parities and breeds: \\n\", count_my_rec.to_string(index=False))\n",
    "\n",
    "# By parity\n",
    "for_my_rec5 = df_lact.drop_duplicates(subset=[\"SE_Number\", \"LactationNumber\"])\n",
    "print(f\"No. of parities in file: {for_my_rec5.shape}\")\n",
    "\n",
    "count_my_rec = for_my_rec5.groupby([\"Breed\"])[\"SE_Number\"].count().reset_index()\n",
    "print(f\"No. of lactations from NRDC and SH: \\n\", count_my_rec.to_string(index=False))  \n",
    "\n",
    "count_my_rec = for_my_rec5.groupby([\"Parity\", \"Breed\"])[\"SE_Number\"].count().reset_index()\n",
    "print(f\"No. of cows within breed and parity: \\n\", count_my_rec.to_string(index=False))\n",
    "\n",
    "# By cows\n",
    "for_my_rec4 = df_lact.drop_duplicates(subset=[\"SE_Number\"])\n",
    "print(f\"No. of cows in file: {for_my_rec4.shape}\") \n",
    "\n",
    "for_my_rec5 = for_my_rec4.drop_duplicates(subset=[\"SE_Number\"])\n",
    "count_my_rec = for_my_rec5.groupby([\"Breed\"])[\"SE_Number\"].count().reset_index()\n",
    "print(f\"No. of cows from NRDC, SH: \\n\", count_my_rec.to_string(index=False))\n",
    "\n",
    "# Herd info\n",
    "df_lact = pd.read_csv(\"../Data/fertilityDF_W_MY_filtered.csv\", low_memory=False)\n",
    "df_lact = df_lact.drop_duplicates(subset=[\"FarmName_Pseudo\"])\n",
    "col_keep = [\"FarmName_Pseudo\"]\n",
    "df_lact = df_lact[col_keep]\n",
    "print(df_lact.shape)\n",
    "print(f\"Herds in filtered data: \\n\", df_lact.to_string(index=False))"
   ]
  }
 ],
 "metadata": {
  "kernelspec": {
   "display_name": "Python 3",
   "language": "python",
   "name": "python3"
  },
  "language_info": {
   "codemirror_mode": {
    "name": "ipython",
    "version": 3
   },
   "file_extension": ".py",
   "mimetype": "text/x-python",
   "name": "python",
   "nbconvert_exporter": "python",
   "pygments_lexer": "ipython3",
   "version": "3.12.3"
  }
 },
 "nbformat": 4,
 "nbformat_minor": 2
}
