{
 "cells": [
  {
   "cell_type": "markdown",
   "metadata": {},
   "source": [
    "# Filtering dataframe for fertility analysis\n",
    "\n",
    "Edits are performed on dataset \"fertilityDF_W61.csv\" and \"fertilityDF_W68.csv\" i.e. after \"BuildingDataframe.ipynb\" & \"FertilityTraits.ipynb\" have been run. The code generates a clean dataset for further analysis in:\n",
    "- \"../Gigacow-tools/Projects/HeatStressEvaluation/DataPreprocessing/PrepCRThresholdAnalysis.ipynb\": for THI threshold estimation using piecewise regression \n",
    "- \"../Gigacow-tools/HeatStressEvaluation/Modeling/FertilityAnalysis.ipynb\": for analysis of classical fertility traits\n",
    "\n",
    "Filtering steps performed:\n",
    "- Add 305d MY from raw data and check missing MY records (a756bc39, 6d38bc90)\n",
    "- Keep only data from SH and NRDC\n",
    "\n",
    "The following filtering steps are according to NAV (2024):\n",
    "- Keep only lactation 1-8 \n",
    "- Make parity 1, 2, >=3 \n",
    "- Records within 150 days from data extraction are excluded from the data set \n",
    "- Only the first 10 inseminations are accepted for CR \n",
    "- Age at first calving: 550d - 1100d \n",
    "    - Note: risk losing cows due to missing contract from cow database\n",
    "- CI maximum 2 years for cows\n",
    "- CFS 20 - 230d\n",
    "- FLS max 365d\n",
    "\n",
    "In addition, putting thresholds on classical fertility traits according to NAV or µ+-2SD of respective trait\n",
    "- CFI: 20-230\n",
    "- CLI: 20-217\n",
    "- FLI: 0-365\n",
    "- CI: 301-730\n",
    "- GL: 260-302\n",
    "\n",
    "Allow for minimum 5 records in HYS groups (of insemination date) to help convergence in analysis\n",
    "\n",
    "Allow for minimum 5 cows of the same breed in contemporary groups (HYS of ins)\n",
    "\n",
    "Add threshold for 305d MY (7,395 - 16,255kg)\n",
    "\n",
    "Basic descriptive analysis at end of script\n",
    "\n",
    "This script generates a full dataframe (\"fertilityDF_W_MY_filtered.csv\") and a clean dataset called \"fertility_filtered.csv\" containing the following columns:\n",
    "- SE_Number (ID identification)\n",
    "- Breed \n",
    "    * NRDC: SRB, DR, SAB\n",
    "    * SH\n",
    "- LactationNumber (number of calvings)\n",
    "- Parity (lactation 1,2,>=3)\n",
    "- InseminationDate (Date of insemination)\n",
    "- HYS of insemination\n",
    "- HeatStress (whether the cow experienced HS 7d prior to, during and 7d after insemination)\n",
    "- Milk_Kg (305d)\n",
    "- CFI (Interval between calving and first insemination)\n",
    "- CLI (Interval between calving and last insemination)\n",
    "- FLI (Interval between first and last insemination)\n",
    "- NINS (Total number of inseminations during service period)\n",
    "- CR0 (Conception rate)\n",
    "- CI (Calving interval)\n",
    "- GL (Gestation length)"
   ]
  },
  {
   "cell_type": "code",
   "execution_count": 1,
   "metadata": {},
   "outputs": [],
   "source": [
    "from datetime import timedelta\n",
    "import pandas as pd\n",
    "import numpy as np\n",
    "import seaborn as sns\n",
    "import matplotlib.pyplot as plt\n",
    "import glob\n",
    "\n",
    "from fpdf import FPDF\n",
    "\n",
    "import statsmodels.api as sm\n",
    "import statsmodels.formula.api as smf\n",
    "from itertools import product"
   ]
  },
  {
   "cell_type": "code",
   "execution_count": null,
   "metadata": {},
   "outputs": [],
   "source": [
    "# LOAD DATA\n",
    "# df3 = pd.read_csv(\"../Data/MergedData/fertilityDF_W61.csv\", low_memory=False)\n",
    "df3 = pd.read_csv(\"../Data/MergedData/fertilityDF_W68.csv\", low_memory=False)\n",
    "df3"
   ]
  },
  {
   "cell_type": "code",
   "execution_count": null,
   "metadata": {},
   "outputs": [],
   "source": [
    "# Crude data distribution\n",
    "print(f\"No. observations in fertilityDF_W68.csv.csv: {df3.shape}\")\n",
    "test = df3.drop_duplicates(subset=[\"SE_Number\", \"LactationNumber\", \"InseminationDate\", \"PregnancyCheckDate\"])\n",
    "print(f\"Double check no. pregnancy checks in fertilityDF_W.csv: {test.shape}\")\n",
    "print(f'No. ins without pregnancy checks: {df3.shape[0] - test.shape[0]}')\n",
    "\n",
    "test = df3.drop_duplicates(subset=[\"SE_Number\", \"LactationNumber\", \"InseminationDate\"])\n",
    "print(f\"No. inseminations in fertilityDF_W.csv: {test.shape}\")\n",
    "test = df3.drop_duplicates(subset=[\"SE_Number\", \"LactationNumber\"])\n",
    "print(f\"No. lactations in fertilityDF_W.csv: {test.shape}\")\n",
    "test = df3.drop_duplicates(subset=[\"SE_Number\"])\n",
    "print(f\"No. cows in fertilityDF_W.csv: {test.shape}\")"
   ]
  },
  {
   "cell_type": "markdown",
   "metadata": {},
   "source": [
    "## Keep only herds with (MY_W) data"
   ]
  },
  {
   "cell_type": "code",
   "execution_count": null,
   "metadata": {},
   "outputs": [],
   "source": [
    "# Count number of inseminations in herds\n",
    "ins_count = df3.groupby(\"FarmName_Pseudo\")[\"InseminationDate\"].nunique()\n",
    "print(ins_count)"
   ]
  },
  {
   "cell_type": "code",
   "execution_count": null,
   "metadata": {},
   "outputs": [],
   "source": [
    "# Count presence of HeatStress in the herds with issues with MY data\n",
    "herds_to_keep = ['a756bc39', '6d38bc90']\n",
    "df4 = df3[df3[\"FarmName_Pseudo\"].isin(herds_to_keep)]\n",
    "\n",
    "non_nan_count = df4['HS'].notna().sum()\n",
    "print(f\"Number of non-NaN values: {non_nan_count}\")\n",
    "\n",
    "is_nan_count = df4['HS'].isna().sum()\n",
    "print(f\"Number of NaN values: {is_nan_count}\")"
   ]
  },
  {
   "cell_type": "code",
   "execution_count": null,
   "metadata": {},
   "outputs": [],
   "source": [
    "# Check if herds with issues with MY recording in DelPro have raw data from cow database\n",
    "MY = pd.read_csv(\"C:/Users/pagd0001/Desktop/Gigacow/Data/20241009/Gigacow-tools/Projects/HeatStressEvaluation/Data/CowData/Kok_LactationReturn240820.csv\", low_memory=False, delimiter=\";\")\n",
    "col_keep = [\"BirthID\", \"CalvingNumber\", \"Milk_Kg\"]\n",
    "MY = MY[col_keep]\n",
    "MY.rename(columns={\"BirthID\": \"SE_Number\", \"CalvingNumber\": \"LactationNumber\"}, inplace=True)\n",
    "MY = MY.drop_duplicates(subset=[\"SE_Number\", \"LactationNumber\", \"Milk_Kg\"])\n",
    "MY"
   ]
  },
  {
   "cell_type": "code",
   "execution_count": null,
   "metadata": {},
   "outputs": [],
   "source": [
    "df3"
   ]
  },
  {
   "cell_type": "code",
   "execution_count": null,
   "metadata": {},
   "outputs": [],
   "source": [
    "# Add 305d MY records to fertilityDF_W.csv\n",
    "df3 = pd.merge(df3, MY, on=[\"SE_Number\", \"LactationNumber\"], how=\"left\")\n",
    "\n",
    "# df3.to_csv(\"../Data/MergedData/fertilityDF_W61.csv\", index=False)\n",
    "df3.to_csv(\"../Data/MergedData/fertilityDF_W68.csv\", index=False)\n",
    "df3"
   ]
  },
  {
   "cell_type": "code",
   "execution_count": null,
   "metadata": {},
   "outputs": [],
   "source": [
    "# Count presence of 305d MY records in the herds with issues with MY data in DelPro\n",
    "herds_to_keep = ['a756bc39', '6d38bc90']\n",
    "df4 = df3[df3[\"FarmName_Pseudo\"].isin(herds_to_keep)]\n",
    "\n",
    "non_nan_count = df4['Milk_Kg'].notna().sum()\n",
    "print(f\"Number of non-NaN values: {non_nan_count}\")\n",
    "\n",
    "is_nan_count = df4['Milk_Kg'].isna().sum()\n",
    "print(f\"Number of NaN values: {is_nan_count}\")"
   ]
  },
  {
   "cell_type": "code",
   "execution_count": null,
   "metadata": {},
   "outputs": [],
   "source": [
    "\"\"\" =========================================================================>>> These herds have data reported to the cow database and can be included!\n",
    "# Remove herds with missing MY records (a756bc39, 6d38bc90)\n",
    "# Herds to remove\n",
    "herds_to_remove = ['a756bc39', '6d38bc90']\n",
    "df3 = df3[~df3['FarmName_Pseudo'].isin(herds_to_remove)]\n",
    "\"\"\""
   ]
  },
  {
   "cell_type": "code",
   "execution_count": null,
   "metadata": {},
   "outputs": [],
   "source": [
    "print(f\"No. observations in fertilityDF_W68.csv.csv: {df3.shape}\")\n",
    "test = df3.drop_duplicates(subset=[\"SE_Number\", \"LactationNumber\", \"InseminationDate\", \"PregnancyCheckDate\"])\n",
    "print(f\"Double check no. pregnancy checks in fertilityDF_W.csv: {test.shape}\")\n",
    "print(f'No. ins without pregnancy checks: {df3.shape[0] - test.shape[0]}')\n",
    "\n",
    "test = df3.drop_duplicates(subset=[\"SE_Number\", \"LactationNumber\", \"InseminationDate\"])\n",
    "print(f\"No. inseminations in fertilityDF_W.csv: {test.shape}\")\n",
    "test = df3.drop_duplicates(subset=[\"SE_Number\", \"LactationNumber\"])\n",
    "print(f\"No. lactations in fertilityDF_W.csv: {test.shape}\")\n",
    "test = df3.drop_duplicates(subset=[\"SE_Number\"])\n",
    "print(f\"No. cows in fertilityDF_W.csv: {test.shape}\")"
   ]
  },
  {
   "cell_type": "markdown",
   "metadata": {},
   "source": [
    "## Data from SH and NRDC"
   ]
  },
  {
   "cell_type": "code",
   "execution_count": 21,
   "metadata": {},
   "outputs": [],
   "source": [
    "# Load data\n",
    "# df3 = pd.read_csv(\"../Data/MergedData/fertilityDF_W61.csv\", low_memory=False)\n",
    "df3 = pd.read_csv(\"../Data/MergedData/fertilityDF_W68.csv\", low_memory=False)"
   ]
  },
  {
   "cell_type": "code",
   "execution_count": 22,
   "metadata": {},
   "outputs": [],
   "source": [
    "# Keep only data from SH and NRDC\n",
    "breeds_to_keep = [\"NRDC\", \"SLB\"]\n",
    "df3 = df3[df3[\"Breed\"].isin(breeds_to_keep)]"
   ]
  },
  {
   "cell_type": "code",
   "execution_count": null,
   "metadata": {},
   "outputs": [],
   "source": [
    "print(f\"No. observations in file: {df3.shape}\")\n",
    "test = df3.drop_duplicates(subset=[\"SE_Number\", \"LactationNumber\", \"InseminationDate\", \"PregnancyCheckDate\"])\n",
    "print(f\"Double check no. pregnancy checks in file: {test.shape}\")\n",
    "print(f'No. ins without pregnancy checks: {df3.shape[0] - test.shape[0]}')\n",
    "\n",
    "test = df3.drop_duplicates(subset=[\"SE_Number\", \"LactationNumber\", \"InseminationDate\"])\n",
    "print(f\"No. inseminations in file: {test.shape}\")\n",
    "test = df3.drop_duplicates(subset=[\"SE_Number\", \"LactationNumber\"])\n",
    "print(f\"No. lactations in file: {test.shape}\")\n",
    "test = df3.drop_duplicates(subset=[\"SE_Number\"])\n",
    "print(f\"No. cows in file: {test.shape}\")"
   ]
  },
  {
   "cell_type": "markdown",
   "metadata": {},
   "source": [
    "## Allow for maximum lactation 1-8"
   ]
  },
  {
   "cell_type": "code",
   "execution_count": null,
   "metadata": {},
   "outputs": [],
   "source": [
    "# Distribution of lactations\n",
    "check = df3.drop_duplicates(subset=[\"SE_Number\", \"LactationNumber\"])\n",
    "value_counts = check['LactationNumber'].value_counts()\n",
    "print(value_counts)"
   ]
  },
  {
   "cell_type": "code",
   "execution_count": null,
   "metadata": {},
   "outputs": [],
   "source": [
    "# Keep only lactation 1-8\n",
    "df3 = df3[df3[\"LactationNumber\"] <= 8]\n",
    "\n",
    "# No. lactations and cows in data\n",
    "print(f\"No. observations in file: {df3.shape}\")\n",
    "test = df3.drop_duplicates(subset=[\"SE_Number\", \"LactationNumber\", \"InseminationDate\", \"PregnancyCheckDate\"])\n",
    "print(f\"Double check no. pregnancy checks in file: {test.shape}\")\n",
    "print(f'No. ins without pregnancy checks: {df3.shape[0] - test.shape[0]}')\n",
    "\n",
    "test = df3.drop_duplicates(subset=[\"SE_Number\", \"LactationNumber\", \"InseminationDate\"])\n",
    "print(f\"No. inseminations in file: {test.shape}\")\n",
    "test = df3.drop_duplicates(subset=[\"SE_Number\", \"LactationNumber\"])\n",
    "print(f\"No. lactations in file: {test.shape}\")\n",
    "test = df3.drop_duplicates(subset=[\"SE_Number\"])\n",
    "print(f\"No. cows in file: {test.shape}\")"
   ]
  },
  {
   "cell_type": "code",
   "execution_count": 26,
   "metadata": {},
   "outputs": [],
   "source": [
    "# Make Parity 1-3\n",
    "df3[\"Parity\"] = df3[\"LactationNumber\"]\n",
    "df3.loc[(df3['LactationNumber'] >= 3) & (df3['LactationNumber'] <= 8), 'Parity'] = 3"
   ]
  },
  {
   "cell_type": "markdown",
   "metadata": {},
   "source": [
    "## Records within 150 days from data extraction are excluded from the data set (i.e. open records)"
   ]
  },
  {
   "cell_type": "code",
   "execution_count": null,
   "metadata": {},
   "outputs": [],
   "source": [
    "# Find open records\n",
    "df3[\"extraction_limit\"] = pd.to_datetime(df3[\"extraction_limit\"])\n",
    "df3[\"InseminationDate\"] = pd.to_datetime(df3[\"InseminationDate\"])\n",
    "\n",
    "df3[\"open_rec\"] = (df3[\"extraction_limit\"] - df3[\"InseminationDate\"]).dt.days\n",
    "\n",
    "# Plot histogram\n",
    "plt.hist(df3['open_rec'], bins=50, color='blue', edgecolor='black')\n",
    "plt.xlabel('date')\n",
    "plt.ylabel('Frequency')\n",
    "plt.show()"
   ]
  },
  {
   "cell_type": "code",
   "execution_count": null,
   "metadata": {},
   "outputs": [],
   "source": [
    "non_nan_count = df3['open_rec'].notna().sum()\n",
    "print(f\"Number of non-NaN values: {non_nan_count}\")\n",
    "\n",
    "is_nan_count = df3['open_rec'].isna().sum()\n",
    "print(f\"Number of NaN values: {is_nan_count}\")"
   ]
  },
  {
   "cell_type": "code",
   "execution_count": 29,
   "metadata": {},
   "outputs": [],
   "source": [
    "df3 = df3[(df3[\"open_rec\"] > 150)]"
   ]
  },
  {
   "cell_type": "code",
   "execution_count": null,
   "metadata": {},
   "outputs": [],
   "source": [
    "print(f\"No. observations in file: {df3.shape}\")\n",
    "test = df3.drop_duplicates(subset=[\"SE_Number\", \"LactationNumber\", \"InseminationDate\", \"PregnancyCheckDate\"])\n",
    "print(f\"Double check no. pregnancy checks in file: {test.shape}\")\n",
    "print(f'No. ins without pregnancy checks: {df3.shape[0] - test.shape[0]}')\n",
    "\n",
    "test = df3.drop_duplicates(subset=[\"SE_Number\", \"LactationNumber\", \"InseminationDate\"])\n",
    "print(f\"No. inseminations in file: {test.shape}\")\n",
    "test = df3.drop_duplicates(subset=[\"SE_Number\", \"LactationNumber\"])\n",
    "print(f\"No. lactations in file: {test.shape}\")\n",
    "test = df3.drop_duplicates(subset=[\"SE_Number\"])\n",
    "print(f\"No. cows in file: {test.shape}\")"
   ]
  },
  {
   "cell_type": "markdown",
   "metadata": {},
   "source": [
    "## Only keep first 10 ins"
   ]
  },
  {
   "cell_type": "code",
   "execution_count": null,
   "metadata": {},
   "outputs": [],
   "source": [
    "# Only the first 10 inseminations are accepted\n",
    "# Distribution of NINS\n",
    "value_counts = df3[\"NINS\"].value_counts()\n",
    "print(value_counts)"
   ]
  },
  {
   "cell_type": "code",
   "execution_count": null,
   "metadata": {},
   "outputs": [],
   "source": [
    "# Count ins\n",
    "df4 = df3.drop_duplicates(subset=[\"SE_Number\", \"LactationNumber\", \"InseminationDate\"])\n",
    "df4"
   ]
  },
  {
   "cell_type": "code",
   "execution_count": null,
   "metadata": {},
   "outputs": [],
   "source": [
    "df3[\"InseminationDate\"] = pd.to_datetime(df3[\"InseminationDate\"])\n",
    "\n",
    "df4 = df4.copy()\n",
    "df4['InseminationDate'] = pd.to_datetime(df4['InseminationDate'])\n",
    "\n",
    "df4['InsCount'] = df4.groupby(['SE_Number', 'LactationNumber']).cumcount() + 1\n",
    "col_keep = [\"SE_Number\", \"LactationNumber\", \"InseminationDate\", \"InsCount\"]\n",
    "df4 = df4[col_keep]\n",
    "\n",
    "df5 = pd.merge(df3, df4, on=[\"SE_Number\", \"LactationNumber\", \"InseminationDate\"], how=\"left\")\n",
    "df5"
   ]
  },
  {
   "cell_type": "code",
   "execution_count": null,
   "metadata": {},
   "outputs": [],
   "source": [
    "# Distribution of NINS \n",
    "value_counts = df5[\"InsCount\"].value_counts()\n",
    "print(value_counts)\n",
    "\n",
    "df5.to_csv(\"test.csv\", index=False)"
   ]
  },
  {
   "cell_type": "code",
   "execution_count": null,
   "metadata": {},
   "outputs": [],
   "source": [
    "# The first 10 ins are accepted\n",
    "df5 = df5[df5['InsCount'] != 11]\n",
    "\n",
    "value_counts = df5[\"InsCount\"].value_counts()\n",
    "print(value_counts)"
   ]
  },
  {
   "cell_type": "markdown",
   "metadata": {},
   "source": [
    "## Age at first calving: 550d - 1100d \n",
    "- Note: risk losing cows due to missing contracts for cow database!"
   ]
  },
  {
   "cell_type": "markdown",
   "metadata": {},
   "source": [
    "First merge calving data from cow database and delpro management system"
   ]
  },
  {
   "cell_type": "code",
   "execution_count": null,
   "metadata": {},
   "outputs": [],
   "source": [
    "# Load raw data to get full calving history from cow database\n",
    "dfkok = pd.read_csv(\"../Data/CowData/Kok_Calving240820.csv\", delimiter=\";\", low_memory=False)\n",
    "col_keep = [\"BirthID\", \"CalvingDate\", \"CalvingNumber\"]\n",
    "dfkok = dfkok[col_keep]\n",
    "dfkok = dfkok.rename(columns={\"BirthID\": \"SE_Number\", \"CalvingNumber\": \"LactationNumberKok\", \"CalvingDate\": \"CalvingDateKok\"})\n",
    "dfkok = dfkok.drop_duplicates(subset=[\"SE_Number\", \"LactationNumberKok\"])\n",
    "dfkok"
   ]
  },
  {
   "cell_type": "code",
   "execution_count": null,
   "metadata": {},
   "outputs": [],
   "source": [
    "# Also load calving dates from DelPro to keep as much data as possible from herds with missing cow database contracts\n",
    "dfDelPro = pd.read_csv(\"../Data/CowData/dfDelPro.csv\", low_memory=False)\n",
    "col_keep = [\"SE_Number\", \"LactationNumberDelPro\", \"CalvingDateDelPro\"]\n",
    "dfDelPro = dfDelPro[col_keep]\n",
    "dfDelPro = dfDelPro.drop_duplicates(subset=[\"SE_Number\", \"LactationNumberDelPro\"])\n",
    "dfDelPro"
   ]
  },
  {
   "cell_type": "code",
   "execution_count": null,
   "metadata": {},
   "outputs": [],
   "source": [
    "dfkok['CalvingDateKok'] = pd.to_datetime(dfkok['CalvingDateKok'])\n",
    "dfDelPro['CalvingDateDelPro'] = pd.to_datetime(dfDelPro['CalvingDateDelPro'])\n",
    "\n",
    "# Merge\n",
    "merged_df = pd.merge(\n",
    "    dfkok,\n",
    "    dfDelPro,\n",
    "    how='outer',\n",
    "    left_on=['SE_Number', 'CalvingDateKok', 'LactationNumberKok'],\n",
    "    right_on=['SE_Number', 'CalvingDateDelPro', 'LactationNumberDelPro']\n",
    ")\n",
    "merged_df"
   ]
  },
  {
   "cell_type": "code",
   "execution_count": null,
   "metadata": {},
   "outputs": [],
   "source": [
    "# fillna to create combined lactation number and calving dates\n",
    "merged_df[\"LactationNumber\"] = merged_df[\"LactationNumberKok\"].fillna(merged_df[\"LactationNumberDelPro\"])\n",
    "merged_df[\"CalvingDate\"] = merged_df[\"CalvingDateKok\"].fillna(merged_df[\"CalvingDateDelPro\"])\n",
    "merged_df = merged_df.drop(columns=[\"CalvingDateKok\", \"CalvingDateDelPro\", \"LactationNumberKok\", \"LactationNumberDelPro\"])\n",
    "merged_df"
   ]
  },
  {
   "cell_type": "markdown",
   "metadata": {},
   "source": [
    "Now load birth date data"
   ]
  },
  {
   "cell_type": "code",
   "execution_count": null,
   "metadata": {},
   "outputs": [],
   "source": [
    "# Load raw data to get BirthDate\n",
    "bd = pd.read_csv(\"../Data/CowData/Kok_Lineage240821.csv\", delimiter=\";\", low_memory=False)\n",
    "col_keep = [\"BirthID\", \"BirthDate\"]\n",
    "bd = bd[col_keep]\n",
    "bd = bd.rename(columns={\"BirthID\": \"SE_Number\", \"BirthDate\": \"BirthDateKok\" })\n",
    "bd = bd.drop_duplicates(subset=[\"SE_Number\"])\n",
    "bd"
   ]
  },
  {
   "cell_type": "code",
   "execution_count": 70,
   "metadata": {},
   "outputs": [],
   "source": [
    "# Also load from DelPro to keep as many cows as possible from herds without cow database contract\n",
    "bd_DP = pd.read_csv(\"../Data/CowData/Del_Cow240823.csv\", delimiter=\";\", low_memory=False)\n",
    "col_keep = [\"SE_Number\", \"BirthDate\"]\n",
    "bd_DP = bd_DP[col_keep]\n",
    "bd_DP.rename(columns={\"BirthDate\": \"BirthDateDelPro\"}, inplace=True)\n",
    "bd_DP = bd_DP.drop_duplicates(subset=[\"SE_Number\"])"
   ]
  },
  {
   "cell_type": "code",
   "execution_count": null,
   "metadata": {},
   "outputs": [],
   "source": [
    "# Combine birth date data\n",
    "bd['BirthDateKok'] = pd.to_datetime(bd['BirthDateKok'])\n",
    "bd_DP['BirthDateDelPro'] = pd.to_datetime(bd_DP['BirthDateDelPro'])\n",
    "\n",
    "# Merge\n",
    "merged_df2 = pd.merge(\n",
    "    bd,\n",
    "    bd_DP,\n",
    "    how='outer',\n",
    "    left_on=['SE_Number'],\n",
    "    right_on=['SE_Number']\n",
    ")\n",
    "merged_df2"
   ]
  },
  {
   "cell_type": "code",
   "execution_count": null,
   "metadata": {},
   "outputs": [],
   "source": [
    "# Use fillna to create a common BirthDate\n",
    "merged_df2[\"BirthDate\"] = merged_df2[\"BirthDateKok\"].fillna(merged_df2[\"BirthDateDelPro\"])\n",
    "merged_df2 = merged_df2.drop(columns=[\"BirthDateKok\", \"BirthDateDelPro\"])\n",
    "merged_df2"
   ]
  },
  {
   "cell_type": "markdown",
   "metadata": {},
   "source": [
    "Combine birth and calving data"
   ]
  },
  {
   "cell_type": "code",
   "execution_count": null,
   "metadata": {},
   "outputs": [],
   "source": [
    "# Merge\n",
    "merged_df = pd.merge(\n",
    "    merged_df2,\n",
    "    merged_df,\n",
    "    how='outer',\n",
    "    left_on=['SE_Number'],\n",
    "    right_on=['SE_Number']\n",
    ")\n",
    "\n",
    "merged_df = merged_df[merged_df[\"SE_Number\"].notna()]\n",
    "merged_df"
   ]
  },
  {
   "cell_type": "code",
   "execution_count": null,
   "metadata": {},
   "outputs": [],
   "source": [
    "# Remove \"Unknown\" cow\n",
    "merged_df = merged_df.loc[merged_df['SE_Number'] != 'Unknown']\n",
    "merged_df"
   ]
  },
  {
   "cell_type": "code",
   "execution_count": null,
   "metadata": {},
   "outputs": [],
   "source": [
    "# Check missing values\n",
    "# Here a lot of missing values from calving data is expected due to missing contract from certain herds\n",
    "missing_BD = merged_df['BirthDate'].isna().sum()\n",
    "print(f\"No. missing birth dates: {missing_BD}\")\n",
    "\n",
    "missing_CD = merged_df['CalvingDate'].isna().sum()\n",
    "print(f\"No. missing calving dates: {missing_CD}\")"
   ]
  },
  {
   "cell_type": "markdown",
   "metadata": {},
   "source": [
    "Calculate age at first calving"
   ]
  },
  {
   "cell_type": "code",
   "execution_count": null,
   "metadata": {},
   "outputs": [],
   "source": [
    "# Keep only data from first lactation\n",
    "merged_df = merged_df[merged_df[\"LactationNumber\"] == 1]\n",
    "merged_df = merged_df.copy()\n",
    "\n",
    "# Change date format\n",
    "merged_df[\"BirthDate\"] = pd.to_datetime(merged_df[\"BirthDate\"])\n",
    "merged_df[\"CalvingDate\"] = pd.to_datetime(merged_df[\"CalvingDate\"])\n",
    "\n",
    "# Make AFC\n",
    "merged_df[\"AgeFirstCalving\"] = (merged_df[\"CalvingDate\"] - merged_df[\"BirthDate\"]).dt.days\n",
    "\n",
    "# Keep only these two columns\n",
    "col_keep = [\"SE_Number\", \"AgeFirstCalving\"]\n",
    "merged_df = merged_df[col_keep]\n",
    "merged_df"
   ]
  },
  {
   "cell_type": "code",
   "execution_count": null,
   "metadata": {},
   "outputs": [],
   "source": [
    "missing_AFC = merged_df['AgeFirstCalving'].isna().sum()\n",
    "print(f\"No. missing values AgeFirstCalving: {missing_AFC}\")"
   ]
  },
  {
   "cell_type": "code",
   "execution_count": null,
   "metadata": {},
   "outputs": [],
   "source": [
    "# Plot\n",
    "plt.hist(merged_df['AgeFirstCalving'], bins=50, color='blue', edgecolor='black')\n",
    "plt.xlabel('Age')\n",
    "plt.ylabel('Frequency')\n",
    "plt.show()"
   ]
  },
  {
   "cell_type": "code",
   "execution_count": null,
   "metadata": {},
   "outputs": [],
   "source": [
    "# Merge back onto current dataset\n",
    "df6 = pd.merge(df5, merged_df, on=[\"SE_Number\"], how=\"left\")\n",
    "df6"
   ]
  },
  {
   "cell_type": "code",
   "execution_count": null,
   "metadata": {},
   "outputs": [],
   "source": [
    "non_nan_count = df6['AgeFirstCalving'].notna().sum()\n",
    "print(f\"Number of non-NaN values: {non_nan_count}\")\n",
    "\n",
    "is_nan_count = df6['AgeFirstCalving'].isna().sum()\n",
    "print(f\"Number of NaN values: {is_nan_count}\")"
   ]
  },
  {
   "cell_type": "code",
   "execution_count": 81,
   "metadata": {},
   "outputs": [],
   "source": [
    "# Filter age at first calving keeping only inseminations from cows with an age between 550 and 1100days old\n",
    "df6 = df6[df6['AgeFirstCalving'].between(550, 1100)]"
   ]
  },
  {
   "cell_type": "code",
   "execution_count": null,
   "metadata": {},
   "outputs": [],
   "source": [
    "# Plot\n",
    "plt.hist(df6['AgeFirstCalving'], bins=50, color='blue', edgecolor='black')\n",
    "plt.xlabel('Age')\n",
    "plt.ylabel('Frequency')\n",
    "plt.show()"
   ]
  },
  {
   "cell_type": "code",
   "execution_count": null,
   "metadata": {},
   "outputs": [],
   "source": [
    "print(f\"No. observations in file: {df6.shape}\")\n",
    "\n",
    "test = df6.drop_duplicates(subset=[\"SE_Number\", \"LactationNumber\", \"InseminationDate\"])\n",
    "print(f\"No. inseminations in file: {test.shape}\")\n",
    "test = df6.drop_duplicates(subset=[\"SE_Number\", \"LactationNumber\"])\n",
    "print(f\"No. lactations in file: {test.shape}\")\n",
    "test = df6.drop_duplicates(subset=[\"SE_Number\"])\n",
    "print(f\"No. cows in file: {test.shape}\")"
   ]
  },
  {
   "cell_type": "markdown",
   "metadata": {},
   "source": [
    "## Thresholds for classical fertility traits in editing full material (insemination wise)\n",
    "- CI maximum 2 years for cows\n",
    "- CFS 20 - 230d\n",
    "- FLS max 365d"
   ]
  },
  {
   "cell_type": "code",
   "execution_count": null,
   "metadata": {},
   "outputs": [],
   "source": [
    "# Look at distribution of CI, CFI and FLI\n",
    "df_fert = df6.drop_duplicates(subset=[\"SE_Number\", \"LactationNumber\"])\n",
    "\n",
    "plt.hist(df_fert['CFI'], bins=50, color='blue', edgecolor='black')\n",
    "plt.xlabel('CFI')\n",
    "plt.ylabel('Frequency')\n",
    "plt.show()\n",
    "\n",
    "plt.hist(df_fert['CLI'], bins=50, color='blue', edgecolor='black')\n",
    "plt.xlabel('CLI')\n",
    "plt.ylabel('Frequency')\n",
    "plt.show()\n",
    "\n",
    "plt.hist(df_fert['FLI'], bins=50, color='blue', edgecolor='black')\n",
    "plt.xlabel('FLI')\n",
    "plt.ylabel('Frequency')\n",
    "plt.show()"
   ]
  },
  {
   "cell_type": "code",
   "execution_count": 85,
   "metadata": {},
   "outputs": [],
   "source": [
    "# Thresholds\n",
    "# Filter for CI values less than or equal to 730 or NaN\n",
    "df6 = df6[(df6[\"CI\"] <= 730) | (df6[\"CI\"].isna())]\n",
    "\n",
    "# Filter for CFI values between 20 and 230 (inclusive) or NaN\n",
    "df6 = df6[(df6[\"CFI\"].between(20, 230, inclusive=\"both\")) | (df6[\"CFI\"].isna())]\n",
    "\n",
    "# Filter for FLI values less than or equal to 365 or NaN\n",
    "df6 = df6[(df6[\"FLI\"] <= 365) | (df6[\"FLI\"].isna())]\n",
    "\n",
    "# df6.to_csv(\"../Data/MergedData/fertilityDF_W_MY61_filtered.csv\", index=False)\n",
    "df6.to_csv(\"../Data/MergedData/fertilityDF_W_MY68_filtered.csv\", index=False)"
   ]
  },
  {
   "cell_type": "code",
   "execution_count": null,
   "metadata": {},
   "outputs": [],
   "source": [
    "print(f\"No. observations in fertilityDF_W_MY68_filtered.csv.csv: {df6.shape}\")\n",
    "\n",
    "test = df6.drop_duplicates(subset=[\"SE_Number\", \"LactationNumber\", \"InseminationDate\"])\n",
    "print(f\"No. inseminations in filtered data: {test.shape}\")\n",
    "test = df6.drop_duplicates(subset=[\"SE_Number\", \"LactationNumber\"])\n",
    "print(f\"No. lactations in filtered data: {test.shape}\")\n",
    "test = df6.drop_duplicates(subset=[\"SE_Number\"])\n",
    "print(f\"No. cows in filtered data: {test.shape}\")"
   ]
  },
  {
   "cell_type": "markdown",
   "metadata": {},
   "source": [
    "## Minimum and maximum threshold on specific classical fertility traits\n",
    "- i.e. if not within range, put to missing"
   ]
  },
  {
   "cell_type": "code",
   "execution_count": 87,
   "metadata": {},
   "outputs": [],
   "source": [
    "# Load unfiltered data to check distribution\n",
    "# fert_df = pd.read_csv(\"../Data/MergedData/fertilityDF_W61.csv\", low_memory=False)\n",
    "fert_df = pd.read_csv(\"../Data/MergedData/fertilityDF_W68.csv\", low_memory=False)\n",
    "\n",
    "fert_df = fert_df.drop_duplicates(subset=[\"SE_Number\", \"LactationNumber\"])"
   ]
  },
  {
   "cell_type": "code",
   "execution_count": null,
   "metadata": {},
   "outputs": [],
   "source": [
    "# Look at distributions\n",
    "summary_stats = fert_df['CI'].describe()\n",
    "percentiles = np.percentile(fert_df['CI'].dropna(), [1, 5, 10, 90, 95, 99])\n",
    "\n",
    "print(\"Descriptive Statistics:\\n\", summary_stats)\n",
    "print(\"\\nPercentiles (1%, 5%, 10%, 90%, 95%, 99%):\", percentiles)"
   ]
  },
  {
   "cell_type": "code",
   "execution_count": null,
   "metadata": {},
   "outputs": [],
   "source": [
    "plt.hist(fert_df['CFI'], bins=50, color='blue', edgecolor='black')\n",
    "plt.xlabel('CFI')\n",
    "plt.ylabel('Frequency')\n",
    "plt.show()"
   ]
  },
  {
   "cell_type": "code",
   "execution_count": 92,
   "metadata": {},
   "outputs": [],
   "source": [
    "# Put thresholds on traits: Define the valid range and set outside this range to missing\n",
    "# df6 = pd.read_csv(\"../Data/MergedData/fertilityDF_W_MY61_filtered.csv\", low_memory=False)\n",
    "df6 = pd.read_csv(\"../Data/MergedData/fertilityDF_W_MY68_filtered.csv\", low_memory=False)\n",
    "\n",
    "# CFI: => 20-230d according to NAV\n",
    "CFI_min = 20\n",
    "CFI_max = 230\n",
    "\n",
    "df6.loc[(df6[\"CFI\"] < CFI_min) | (df6[\"CFI\"] > CFI_max), \"CFI\"] = np.nan\n",
    "\n",
    "# CLI: if CFI min 20 and FLI 0 then CLI also 20d. 104 +- 53 \n",
    "CLI_min = 20\n",
    "CLI_max = 210\n",
    "\n",
    "df6.loc[(df6[\"CLI\"] < CLI_min) | (df6[\"CLI\"] > CLI_max), \"CLI\"] = np.nan\n",
    "\n",
    "# FLI: 0-365d according to NAV\n",
    "FLI_min = 0\n",
    "FLI_max = 365\n",
    "\n",
    "df6.loc[(df6[\"FLI\"] < FLI_min) | (df6[\"FLI\"] > FLI_max), \"FLI\"] = np.nan\n",
    "\n",
    "# CI: 306-730d, 730d according to NAV. 372 +- 66\n",
    "CI_min = 306\n",
    "CI_max = 730\n",
    "\n",
    "df6.loc[(df6[\"CI\"] < CI_min) | (df6[\"CI\"] > CI_max), \"CI\"] = np.nan\n",
    "\n",
    "# GL: 260 - 302 according to NAV. \n",
    "GL_min = 260\n",
    "GL_max = 302\n",
    "\n",
    "df6.loc[(df6[\"GL\"] < GL_min) | (df6[\"GL\"] > GL_max), \"GL\"] = np.nan"
   ]
  },
  {
   "cell_type": "code",
   "execution_count": null,
   "metadata": {},
   "outputs": [],
   "source": [
    "# Double check distributions after handling outliers\n",
    "summary_stats = df6['CFI'].describe()\n",
    "percentiles = np.percentile(df6['CFI'].dropna(), [1, 5, 10, 90, 95, 99])\n",
    "\n",
    "print(\"Descriptive Statistics:\\n\", summary_stats)\n",
    "print(\"\\nPercentiles (1%, 5%, 10%, 90%, 95%, 99%):\", percentiles)"
   ]
  },
  {
   "cell_type": "markdown",
   "metadata": {},
   "source": [
    "## Allow for minimum 5 records in HYS groups (of insemination date)"
   ]
  },
  {
   "cell_type": "code",
   "execution_count": null,
   "metadata": {},
   "outputs": [],
   "source": [
    "# Make HYS of insemination\n",
    "df6['InseminationDate'] = pd.to_datetime(df6['InseminationDate'])\n",
    "\n",
    "\n",
    "# Function to determine the season based on month\n",
    "def get_season(date):\n",
    "    month = date.month\n",
    "    if month in [12, 1, 2]:\n",
    "        return 1\n",
    "    elif month in [3, 4, 5]:\n",
    "        return 2\n",
    "    elif month in [6, 7, 8]:\n",
    "        return 3\n",
    "    elif month in [9, 10, 11]:\n",
    "        return 4\n",
    "\n",
    "\n",
    "# Apply the function to create a 'YearSeason' variable\n",
    "df6['YearSeason'] = df6['InseminationDate'].apply(lambda x: f\"{x.year}0{get_season(x)}\")\n",
    "\n",
    "# Make HYS\n",
    "df6[\"HYS\"] = df6[\"FarmName_Pseudo\"] + df6[\"YearSeason\"]\n",
    "df6 "
   ]
  },
  {
   "cell_type": "code",
   "execution_count": null,
   "metadata": {},
   "outputs": [],
   "source": [
    "# Check distribution of HYS\n",
    "print(df6[\"HYS\"].value_counts())"
   ]
  },
  {
   "cell_type": "code",
   "execution_count": null,
   "metadata": {},
   "outputs": [],
   "source": [
    "# HYS requiring minimum 5 events, otherwise remove\n",
    "# Count occurrences of each HYS group and filter to keep only 5 or above\n",
    "hys_counts = df6[\"HYS\"].value_counts()\n",
    "valid_hys = hys_counts[hys_counts >= 5].index\n",
    "df6 = df6[df6[\"HYS\"].isin(valid_hys)]\n",
    "\n",
    "print(df6[\"HYS\"].value_counts())"
   ]
  },
  {
   "cell_type": "markdown",
   "metadata": {},
   "source": [
    "## Require minimum 5 cows within the same breed and in the same contemporary group HYS"
   ]
  },
  {
   "cell_type": "code",
   "execution_count": 97,
   "metadata": {},
   "outputs": [],
   "source": [
    "# Group by HerdYearSeason and Breed, and filter for groups with at least 5 cows\n",
    "df6 = (\n",
    "    df6.groupby(['HYS', 'Breed'])\n",
    "    .filter(lambda x: len(x) >= 5)  # Keep groups with at least 5 cows\n",
    ")"
   ]
  },
  {
   "cell_type": "markdown",
   "metadata": {},
   "source": [
    "## Add threshold for 305d MY\n",
    "- unfortunately missing a lot of data due to missing contracts"
   ]
  },
  {
   "cell_type": "code",
   "execution_count": null,
   "metadata": {},
   "outputs": [],
   "source": [
    "# Occurrence of MY data\n",
    "non_nan_count = df6['Milk_Kg'].notna().sum()\n",
    "print(f\"Number of non-NaN values: {non_nan_count}\")\n",
    "\n",
    "is_nan_count = df6['Milk_Kg'].isna().sum()\n",
    "print(f\"Number of NaN values: {is_nan_count}\")"
   ]
  },
  {
   "cell_type": "code",
   "execution_count": null,
   "metadata": {},
   "outputs": [],
   "source": [
    "# Plot MY\n",
    "plt.hist(df6['Milk_Kg'], bins=50, color='blue', edgecolor='black')\n",
    "plt.xlabel('MY')\n",
    "plt.ylabel('Frequency')\n",
    "plt.show()\n",
    "\n",
    "# Look at distribution\n",
    "summary_stats = df6['Milk_Kg'].describe()\n",
    "percentiles = np.percentile(df6['Milk_Kg'].dropna(), [1, 5, 10, 90, 95, 99])\n",
    "\n",
    "print(\"Descriptive Statistics:\\n\", summary_stats)\n",
    "print(\"\\nPercentiles (1%, 5%, 10%, 90%, 95%, 99%):\", percentiles)"
   ]
  },
  {
   "cell_type": "code",
   "execution_count": 100,
   "metadata": {},
   "outputs": [],
   "source": [
    "# µ: 11,753. SD: 2197 => Thresholds: 7,359 - 16,147\n",
    "MY_min = 7359\n",
    "MY_max = 16147\n",
    "\n",
    "df6.loc[(df6[\"Milk_Kg\"] < MY_min) | (df6[\"Milk_Kg\"] > MY_max), \"Milk_Kg\"] = np.nan"
   ]
  },
  {
   "cell_type": "code",
   "execution_count": null,
   "metadata": {},
   "outputs": [],
   "source": [
    "plt.hist(df6['Milk_Kg'], bins=50, color='blue', edgecolor='black')\n",
    "plt.xlabel('MY')\n",
    "plt.ylabel('Frequency')\n",
    "plt.show()"
   ]
  },
  {
   "cell_type": "code",
   "execution_count": 102,
   "metadata": {},
   "outputs": [],
   "source": [
    "# Remove missing StartDates which were added form merge above\n",
    "df6 = df6[df6[\"StartDate\"].notna()]\n",
    "print(df6.shape)\n",
    "\n",
    "# Save full filtered data - note with THI in 7d window around inseminations\n",
    "# df6.to_csv(\"../Data/MergedData/fertilityDF_W_MY61_filtered.csv\", index=False)\n",
    "df6.to_csv(\"../Data/MergedData/fertilityDF_W_MY68_filtered.csv\", index=False)"
   ]
  },
  {
   "cell_type": "markdown",
   "metadata": {},
   "source": [
    "## Save filtered dataset"
   ]
  },
  {
   "cell_type": "code",
   "execution_count": 107,
   "metadata": {},
   "outputs": [],
   "source": [
    "# Clean dataset (probably added from merged in age at calving variables)\n",
    "Ins_start = \"2022-01-01\"\n",
    "Ins_stop = \"2024-08-18\"\n",
    "\n",
    "df7 = df6[(df6['InseminationDate'] >= Ins_start) & (df6['InseminationDate'] <= Ins_stop)]\n",
    "\n",
    "col_keep = [\"FarmName_Pseudo\", \"SE_Number\", \"Breed\", \"LactationNumber\", \"Parity\", \"InseminationDate\", \"HYS\", \"HS\", \"THI_3D_Above_68\", \"HS_sum\",\n",
    "            \"Milk_Kg\", \"CFI\", \"CLI\", \"FLI\", \"NINS\", \"CR0\", \"CI\", \"GL\"]\n",
    "df7 = df7[col_keep]\n",
    "df7 = df7.drop_duplicates(subset=[\"SE_Number\", \"LactationNumber\", \"InseminationDate\"])\n",
    "# df7.to_csv(\"../Data/MergedData/fertility_filtered61.csv\", index=False)\n",
    "df7.to_csv(\"../Data/MergedData/fertility_filtered68.csv\", index=False)"
   ]
  },
  {
   "cell_type": "code",
   "execution_count": null,
   "metadata": {},
   "outputs": [],
   "source": [
    "df7"
   ]
  },
  {
   "cell_type": "markdown",
   "metadata": {},
   "source": [
    "## Check how much data we have that will be used in further analysis"
   ]
  },
  {
   "cell_type": "code",
   "execution_count": null,
   "metadata": {},
   "outputs": [],
   "source": [
    "# Iterate through all columns\n",
    "for column in df7.columns:\n",
    "    # Count non-NaN values\n",
    "    non_nan_count = df7[column].notna().sum()\n",
    "    # Count NaN values\n",
    "    is_nan_count = df7[column].isna().sum()\n",
    "    # Print results\n",
    "    print(f\"Column: {column}\")\n",
    "    print(f\"No. of non-NaN values: {non_nan_count}\")\n",
    "    print(f\"No. of NaN values: {is_nan_count}\")\n",
    "    print()"
   ]
  },
  {
   "cell_type": "markdown",
   "metadata": {},
   "source": [
    "## Remove missing milk yield\n",
    "i.e. this removes herds where we are lacking cow database contracts"
   ]
  },
  {
   "cell_type": "code",
   "execution_count": null,
   "metadata": {},
   "outputs": [],
   "source": [
    "df8 = df7[df7[\"Milk_Kg\"].notna()]\n",
    "print(df8.shape)\n",
    "\n",
    "df_lact = df8.drop_duplicates(subset=[\"FarmName_Pseudo\"])\n",
    "col_keep = [\"FarmName_Pseudo\"]\n",
    "df_lact = df_lact[col_keep]\n",
    "print(df_lact.shape)\n",
    "print(f\"Herds in filtered data: \\n\", df_lact.to_string(index=False))"
   ]
  },
  {
   "cell_type": "markdown",
   "metadata": {},
   "source": [
    "## Add DIM at insemination for modelling"
   ]
  },
  {
   "cell_type": "code",
   "execution_count": null,
   "metadata": {},
   "outputs": [],
   "source": [
    "df = pd.read_csv(\"../Data/MergedData/fertilityDF_W_MY68_filtered.csv\", low_memory=False)\n",
    "\n",
    "df[\"InseminationDate\"] = pd.to_datetime(df[\"InseminationDate\"])\n",
    "df[\"CalvingDate\"] = pd.to_datetime(df[\"CalvingDate\"])\n",
    "df[\"DIMatINS\"] = (df[\"InseminationDate\"] - df[\"CalvingDate\"]).dt.days + 1\n",
    "df"
   ]
  },
  {
   "cell_type": "code",
   "execution_count": null,
   "metadata": {},
   "outputs": [],
   "source": [
    "# Save only one obs per ins, and drop unnecessary columns\n",
    "col_keep = [\"SE_Number\", \"LactationNumber\", \"InseminationDate\", \"DIMatINS\"]\n",
    "df = df[col_keep]\n",
    "df = df.drop_duplicates(subset=[\"SE_Number\", \"LactationNumber\", \"InseminationDate\"])\n",
    "\n",
    "# Merge DIMatINS onto working df\n",
    "df8 = pd.merge(df8, df, on=[\"SE_Number\", \"LactationNumber\", \"InseminationDate\"], how=\"left\")\n",
    "df8"
   ]
  },
  {
   "cell_type": "code",
   "execution_count": 122,
   "metadata": {},
   "outputs": [],
   "source": [
    "# Save df\n",
    "df8.to_csv(\"../Data/MergedData/fertility_filtered68.csv\", index=False)"
   ]
  },
  {
   "cell_type": "markdown",
   "metadata": {},
   "source": [
    "# Descriptive statistics - filtered data"
   ]
  },
  {
   "cell_type": "code",
   "execution_count": null,
   "metadata": {},
   "outputs": [],
   "source": [
    "# Filtered df\n",
    "df_lact = pd.read_csv(\"../Data/MergedData/fertility_filtered68.csv\", low_memory=False)\n",
    "\n",
    "count_my_rec = df_lact.groupby([\"Parity\"])[\"InseminationDate\"].count().reset_index()\n",
    "print(f\"No. of insemination records divided over parities: \\n\", count_my_rec.to_string(index=False))\n",
    "\n",
    "count_my_rec = df_lact.groupby([\"Parity\", \"Breed\"])[\"InseminationDate\"].count().reset_index()\n",
    "print(f\"No. of insemination records divided over parities and breeds: \\n\", count_my_rec.to_string(index=False))\n",
    "\n",
    "# By parity\n",
    "for_my_rec5 = df_lact.drop_duplicates(subset=[\"SE_Number\", \"LactationNumber\"])\n",
    "print(f\"No. of parities in file: {for_my_rec5.shape}\")\n",
    "\n",
    "count_my_rec = for_my_rec5.groupby([\"Breed\"])[\"SE_Number\"].count().reset_index()\n",
    "print(f\"No. of lactations from NRDC and SH: \\n\", count_my_rec.to_string(index=False))  \n",
    "\n",
    "count_my_rec = for_my_rec5.groupby([\"Parity\", \"Breed\"])[\"SE_Number\"].count().reset_index()\n",
    "print(f\"No. of cows within breed and parity: \\n\", count_my_rec.to_string(index=False))\n",
    "\n",
    "# By cows\n",
    "for_my_rec4 = df_lact.drop_duplicates(subset=[\"SE_Number\"])\n",
    "print(f\"No. of cows in file: {for_my_rec4.shape}\") \n",
    "\n",
    "for_my_rec5 = for_my_rec4.drop_duplicates(subset=[\"SE_Number\"])\n",
    "count_my_rec = for_my_rec5.groupby([\"Breed\"])[\"SE_Number\"].count().reset_index()\n",
    "print(f\"No. of cows from NRDC, SH: \\n\", count_my_rec.to_string(index=False))\n",
    "\n",
    "# Herd info\n",
    "df_lact = pd.read_csv(\"../Data/MergedData/fertility_filtered68.csv\", low_memory=False)\n",
    "df_lact = df_lact.drop_duplicates(subset=[\"FarmName_Pseudo\"])\n",
    "col_keep = [\"FarmName_Pseudo\"]\n",
    "df_lact = df_lact[col_keep]\n",
    "print(df_lact.shape)\n",
    "print(f\"Herds in filtered data: \\n\", df_lact.to_string(index=False))"
   ]
  }
 ],
 "metadata": {
  "kernelspec": {
   "display_name": "Python 3",
   "language": "python",
   "name": "python3"
  },
  "language_info": {
   "codemirror_mode": {
    "name": "ipython",
    "version": 3
   },
   "file_extension": ".py",
   "mimetype": "text/x-python",
   "name": "python",
   "nbconvert_exporter": "python",
   "pygments_lexer": "ipython3",
   "version": "3.12.3"
  }
 },
 "nbformat": 4,
 "nbformat_minor": 2
}
