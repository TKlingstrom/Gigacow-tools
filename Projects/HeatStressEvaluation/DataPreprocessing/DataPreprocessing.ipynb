{
 "cells": [
  {
   "cell_type": "code",
   "execution_count": 1,
   "metadata": {},
   "outputs": [],
   "source": [
    "from Preprocesses import MilkDataProcessor\n",
    "%load_ext autoreload\n",
    "%autoreload 2"
   ]
  },
  {
   "cell_type": "code",
   "execution_count": 3,
   "metadata": {},
   "outputs": [
    {
     "name": "stdout",
     "output_type": "stream",
     "text": [
      "Hello axele. Let's start\n",
      "\n",
      "Filtering GIGACOW based on dates..."
     ]
    },
    {
     "name": "stderr",
     "output_type": "stream",
     "text": [
      "Filtering Robot.csv based on dates: 100%|██████████| 5/5 [01:36<00:00, 19.27s/it]             \n"
     ]
    },
    {
     "name": "stdout",
     "output_type": "stream",
     "text": [
      "Filtering GIGACOW based on dates...Done!\n",
      "\n",
      "Adding Global Irradiance and THI_adj..."
     ]
    },
    {
     "name": "stderr",
     "output_type": "stream",
     "text": [
      "Adding Global Irradiance and THI_adj to f454e660: 100%|██████████| 2/2 [00:06<00:00,  3.10s/it]"
     ]
    },
    {
     "name": "stdout",
     "output_type": "stream",
     "text": [
      "Adding Global Irradiance and THI_adj... Done!\n",
      "\n",
      "Loading Milk Data..."
     ]
    },
    {
     "name": "stderr",
     "output_type": "stream",
     "text": [
      "\n"
     ]
    },
    {
     "name": "stdout",
     "output_type": "stream",
     "text": [
      "Loading Milk Data... Done!\n",
      "\n",
      "Adding Weather Data..."
     ]
    },
    {
     "name": "stderr",
     "output_type": "stream",
     "text": [
      "Merging weather and milk data: 100%|██████████| 2/2 [00:10<00:00,  5.42s/farm]\n"
     ]
    },
    {
     "name": "stdout",
     "output_type": "stream",
     "text": [
      "Adding Weather Data... Done!\n",
      "\n",
      "Preprocessing Done!\n"
     ]
    }
   ],
   "source": [
    "processor = MilkDataProcessor()\n",
    "start_date = '2022-01-01 00:00:00'\n",
    "end_date = '2023-11-13 23:00:00'\n",
    "processor.preprocess(start_date=start_date, end_date=end_date, farms = ['f454e660', 'a624fb9a'])\n"
   ]
  },
  {
   "cell_type": "code",
   "execution_count": null,
   "metadata": {},
   "outputs": [],
   "source": []
  }
 ],
 "metadata": {
  "kernelspec": {
   "display_name": "Doris",
   "language": "python",
   "name": "python3"
  },
  "language_info": {
   "codemirror_mode": {
    "name": "ipython",
    "version": 3
   },
   "file_extension": ".py",
   "mimetype": "text/x-python",
   "name": "python",
   "nbconvert_exporter": "python",
   "pygments_lexer": "ipython3",
   "version": "3.10.13"
  }
 },
 "nbformat": 4,
 "nbformat_minor": 2
}
