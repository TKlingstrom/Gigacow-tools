{
 "cells": [
  {
   "cell_type": "markdown",
   "metadata": {},
   "source": [
    "# Cheking data from herds"
   ]
  },
  {
   "cell_type": "code",
   "execution_count": 19,
   "metadata": {},
   "outputs": [],
   "source": [
    "from datetime import timedelta\n",
    "import pandas as pd\n",
    "import numpy as np\n",
    "import seaborn as sns"
   ]
  },
  {
   "cell_type": "markdown",
   "metadata": {},
   "source": [
    "Presence in basic files used to create updateDF.csv"
   ]
  },
  {
   "cell_type": "code",
   "execution_count": null,
   "metadata": {},
   "outputs": [],
   "source": [
    "# Function to load, filter, and process data\n",
    "def process_file(file_path, farm_name, date_column):\n",
    "    try:\n",
    "        # Load the data\n",
    "        df = pd.read_csv(file_path, low_memory=False)\n",
    "        \n",
    "        # Filter by farm\n",
    "        df = df[df[\"FarmName_Pseudo\"].isin(farm_name)]\n",
    "        \n",
    "        # Ensure date column is a datetime object\n",
    "        if date_column in df.columns:\n",
    "            df[date_column] = pd.to_datetime(df[date_column], errors='coerce')\n",
    "            # Drop rows with missing dates\n",
    "            df = df.dropna(subset=[date_column])\n",
    "        \n",
    "        print(f\"{file_path}: {df.shape}\")\n",
    "        if date_column in df.columns:\n",
    "            min_value = df[date_column].min()\n",
    "            max_value = df[date_column].max()\n",
    "            print(f\"Minimum {date_column}: {min_value}\")\n",
    "            print(f\"Maximum {date_column}: {max_value}\")\n",
    "        \n",
    "        return df\n",
    "    except Exception as e:\n",
    "        print(f\"Error processing file {file_path}: {e}\")\n",
    "        return None\n",
    "\n",
    "# Define farm and file paths\n",
    "farm_name = [\"5f7f33d6\"] # [\"169e580a\"] \n",
    "\n",
    "# Process each file\n",
    "calving = process_file(\"../Data/CowData/calving.csv\", farm_name, \"CalvingDate\")\n",
    "dry_off = process_file(\"../Data/CowData/dry_off.csv\", farm_name, \"DryOffDate\")\n",
    "culling = process_file(\"../Data/CowData/culling.csv\", farm_name, \"CullingDate\")\n",
    "breed = process_file(\"../Data/CowData/breed.csv\", farm_name, None)  # No date column exists\n",
    "insemination = process_file(\"../Data/CowData/insemination.csv\", farm_name, \"InseminationDate\")\n",
    "preg_check = process_file(\"../Data/CowData/pregnancy_checks.csv\", farm_name, \"PregnancyCheckDate\")\n"
   ]
  },
  {
   "cell_type": "markdown",
   "metadata": {},
   "source": [
    "Raw MY data for herd from DelPro"
   ]
  },
  {
   "cell_type": "code",
   "execution_count": null,
   "metadata": {},
   "outputs": [],
   "source": [
    "dfmy = pd.read_csv(\"../Data/CowData/Del_CowMilkYield_Common240823.csv\", delimiter=';', low_memory=False)\n",
    "print(f\"No. of milking events in raw data: {dfmy.shape}\")  # 5,628,715 x 15\n",
    "print(dfmy.shape)\n",
    "\n",
    "# Remove pure duplicates\n",
    "dfmy = dfmy.drop_duplicates(subset=[\"SE_Number\", \"LactationNumber\", \"StartDate\", \"StartTime\", \"SessionNumber\", \"TotalYield\"])\n",
    "print(f\"No. of milking events in raw data: {dfmy.shape}\")  # 5,624,788\n",
    "\n",
    "FarmName_Pseudo = [\"5f7f33d6\"] # [\"169e580a\"] # \n",
    "lactation_yield = dfmy[dfmy[\"FarmName_Pseudo\"].isin(FarmName_Pseudo)]\n",
    "lactation_yield = lactation_yield.sort_values(by=['SE_Number', 'StartDate', 'SessionNumber'])\n",
    "print(f\"No. of unique milking records in 5f7f33d6 raw data milking file: {lactation_yield.shape}\") "
   ]
  },
  {
   "cell_type": "code",
   "execution_count": 22,
   "metadata": {},
   "outputs": [],
   "source": [
    "col_keep = [\"FarmName_Pseudo\", \"SE_Number\", \"AnimalNumber\", \"StartDate\", \"StartTime\", \"LactationNumber\", \n",
    "            \"DaysInMilk\", \"SessionNumber\", \"TotalYield\"]\n",
    "lactation_yield = lactation_yield[col_keep]"
   ]
  },
  {
   "cell_type": "markdown",
   "metadata": {},
   "source": [
    "Milk yield data from DelPro matched to cows in study"
   ]
  },
  {
   "cell_type": "code",
   "execution_count": null,
   "metadata": {},
   "outputs": [],
   "source": [
    "my = pd.read_csv(\"../Data/CowData/MY.csv\", low_memory=False)\n",
    "farm = [\"5f7f33d6\"]\n",
    "my = my[my[\"FarmName_Pseudo\"].isin(farm)]\n",
    "\n",
    "print(my.shape)"
   ]
  },
  {
   "cell_type": "markdown",
   "metadata": {},
   "source": [
    "Cow database"
   ]
  },
  {
   "cell_type": "code",
   "execution_count": null,
   "metadata": {},
   "outputs": [],
   "source": [
    "my = pd.read_csv(\"../Data/CowData/dfKok.csv\", low_memory=False)\n",
    "farm = [\"5f7f33d6\"]\n",
    "my = my[my[\"FarmName_Pseudo\"].isin(farm)]\n",
    "print(my.shape)"
   ]
  },
  {
   "cell_type": "markdown",
   "metadata": {},
   "source": [
    "Filtered dataframes\n",
    "- i.e. data matched within each lactation, within study period 22-01-01 to 2024-08-18 and according to specifications in \"HS_MY_FilteringDataframe.ipynb\""
   ]
  },
  {
   "cell_type": "code",
   "execution_count": null,
   "metadata": {},
   "outputs": [],
   "source": [
    "# Filtered dataframe\n",
    "updateDF = pd.read_csv(\"../Data/MergedData/MY_weather_filtered.csv\", low_memory=False)\n",
    "\n",
    "farm = [\"5f7f33d6\"]\n",
    "updateDF = updateDF[updateDF[\"FarmName_Pseudo\"].isin(farm)]\n",
    "\n",
    "print(f\"No. milk yield records in filtered MY and THI file: {updateDF.shape}\")\n",
    "test = updateDF.drop_duplicates(subset=[\"SE_Number\", \"LactationNumber\"])\n",
    "print(f\"No. lactations in filtered MY and THI file: {test.shape}\")\n",
    "test = updateDF.drop_duplicates(subset=[\"SE_Number\"])\n",
    "print(f\"No. lactations in filtered MY and THI file: {test.shape}\")"
   ]
  },
  {
   "cell_type": "code",
   "execution_count": null,
   "metadata": {},
   "outputs": [],
   "source": [
    "# Finished dataframe with base data from all cows\n",
    "updateDF = pd.read_csv(\"../Data/CowData/updateDF.csv\", low_memory=False)\n",
    "farm = [\"5f7f33d6\"]\n",
    "updateDF = updateDF[updateDF[\"FarmName_Pseudo\"].isin(farm)]\n",
    "\n",
    "print(f\"No. records in updateDF: {updateDF.shape}\")\n",
    "test = updateDF.drop_duplicates(subset=[\"SE_Number\", \"LactationNumber\", \"InseminationDate\"])\n",
    "print(f\"No. inseminations in updateDF: {test.shape}\")\n",
    "test = updateDF.drop_duplicates(subset=[\"SE_Number\", \"LactationNumber\"])\n",
    "print(f\"No. lactations in updateDF: {test.shape}\")\n",
    "test = updateDF.drop_duplicates(subset=[\"SE_Number\"])\n",
    "print(f\"No. cows in updateDF: {test.shape}\")"
   ]
  },
  {
   "cell_type": "markdown",
   "metadata": {},
   "source": [
    "Raw weather data for study period"
   ]
  },
  {
   "cell_type": "code",
   "execution_count": null,
   "metadata": {},
   "outputs": [],
   "source": [
    "dfw = pd.read_csv(\"C:/Users/pagd0001/Desktop/Gigacow/Data/20241009/Gigacow-tools/Projects/HeatStressEvaluation/Data/WeatherData/weather3.csv\")\n",
    "\n",
    "FarmName_Pseudo = [\"5f7f33d6\"]\n",
    "dfw = dfw[dfw[\"FarmName_Pseudo\"].isin(FarmName_Pseudo)]\n",
    "col_keep = [\"FarmName_Pseudo\", \"Tid\", \"StartDate\", \"Temperatur\", \"THI_adj\"]\n",
    "dfw = dfw [col_keep]\n",
    "dfw"
   ]
  },
  {
   "cell_type": "code",
   "execution_count": null,
   "metadata": {},
   "outputs": [],
   "source": [
    "dfw = dfw.groupby([\"FarmName_Pseudo\", 'StartDate']).agg({\n",
    "    'Temperatur': 'mean',\n",
    "    \"THI_adj\": \"mean\"\n",
    "}).reset_index()\n",
    "\n",
    "dfw"
   ]
  },
  {
   "cell_type": "code",
   "execution_count": null,
   "metadata": {},
   "outputs": [],
   "source": [
    "# Load data\n",
    "df = pd.read_csv(\"your_data.csv\", low_memory=False)\n",
    "\n",
    "# Checking missing data\n",
    "# Iterate through all columns\n",
    "for column in df.columns:\n",
    "    # Count non-NaN values\n",
    "    non_nan_count = df[column].notna().sum()\n",
    "    # Count NaN values\n",
    "    is_nan_count = df[column].isna().sum()\n",
    "    # Print results\n",
    "    print(f\"Column: {column}\")\n",
    "    print(f\"No. of non-NaN values: {non_nan_count}\")\n",
    "    print(f\"No. of NaN values: {is_nan_count}\")\n",
    "    print()"
   ]
  }
 ],
 "metadata": {
  "kernelspec": {
   "display_name": "Python 3",
   "language": "python",
   "name": "python3"
  },
  "language_info": {
   "codemirror_mode": {
    "name": "ipython",
    "version": 3
   },
   "file_extension": ".py",
   "mimetype": "text/x-python",
   "name": "python",
   "nbconvert_exporter": "python",
   "pygments_lexer": "ipython3",
   "version": "3.12.3"
  }
 },
 "nbformat": 4,
 "nbformat_minor": 2
}
