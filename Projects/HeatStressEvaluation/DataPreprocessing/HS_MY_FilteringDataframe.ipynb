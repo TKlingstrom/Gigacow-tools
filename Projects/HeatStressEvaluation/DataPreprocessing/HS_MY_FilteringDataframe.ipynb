{
 "cells": [
  {
   "cell_type": "markdown",
   "metadata": {},
   "source": [
    "# FILTERING MY_weather.csv for HS-MY manuscript\n",
    "Edits are performed on dataset \"MY_weather.csv\" and \"updateDF.csv\" i.e. after \"BuildingDataframe.ipynb\" has been run.\n",
    "- keep only NRDC, SH, SJB and dairy crosses\n",
    "- have to start milking by 1-40DIM and maintain milking until 100-400DIM\n",
    "- keep only 1-8 lactation (make parity 1, 2, +3)\n",
    "- set MY between 2.5-60kg to handle outliers, kick-offs and incomplete milkings\n",
    "- remove colostrum, assume first 4 days\n",
    "\n",
    "Generates filtered dataset \"MY_weather_filtered.csv\" with full structure"
   ]
  },
  {
   "cell_type": "code",
   "execution_count": null,
   "metadata": {},
   "outputs": [],
   "source": [
    "from datetime import timedelta\n",
    "import pandas as pd\n",
    "import numpy as np\n",
    "import seaborn as sns\n",
    "import matplotlib.pyplot as plt\n",
    "import glob"
   ]
  },
  {
   "cell_type": "code",
   "execution_count": null,
   "metadata": {},
   "outputs": [],
   "source": [
    "# FILTER MILK YIELD DATA\n",
    "df3 = pd.read_csv(\"../Data/MergedData/MY_weather.csv\", low_memory=False)\n",
    "print(f\"No. milking events in MY_weather.csv: {df3.shape}\")"
   ]
  },
  {
   "cell_type": "code",
   "execution_count": null,
   "metadata": {},
   "outputs": [],
   "source": [
    "# No. MY records per herd\n",
    "count_my_rec = df3.groupby([\"FarmName_Pseudo\"])[\"StartDate\"].count().reset_index()\n",
    "print(f\"No. milking events per herd: \\n\", count_my_rec.to_string(index=False))"
   ]
  },
  {
   "cell_type": "markdown",
   "metadata": {},
   "source": [
    "Start by removing herds with missing MY"
   ]
  },
  {
   "cell_type": "code",
   "execution_count": null,
   "metadata": {},
   "outputs": [],
   "source": [
    "Herds = [\"6d38bc90\", \"a756bc39\"]\n",
    "df3 = df3[~df3[\"FarmName_Pseudo\"].isin(Herds)]\n",
    "\n",
    "print(f\"No. milking events in the 9 herds: {df3.shape}\")\n",
    "\n",
    "# No. MY records per herd\n",
    "count_my_rec = df3.groupby([\"FarmName_Pseudo\"])[\"StartDate\"].count().reset_index()\n",
    "print(f\"No. milking events per herd: \\n\", count_my_rec.to_string(index=False))"
   ]
  },
  {
   "cell_type": "markdown",
   "metadata": {},
   "source": [
    "Check breed distribution and filter on breed"
   ]
  },
  {
   "cell_type": "code",
   "execution_count": null,
   "metadata": {},
   "outputs": [],
   "source": [
    "value_counts = df3['Breed'].value_counts()\n",
    "print(value_counts)\n",
    "\n",
    "# Pie chart over distribution of Breed in crude data\n",
    "value_counts = df3['Breed'].value_counts()\n",
    "plt.figure(figsize=(10, 10))\n",
    "plt.pie(value_counts, labels=value_counts.index, autopct='%1.1f%%', startangle=140, pctdistance=0.5)\n",
    "plt.axis('equal')\n",
    "plt.title('Distribution of Milking Events Across Breeds in MY_weather.csv')\n",
    "plt.show()\n",
    "\n",
    "# Keep only SRB, SH, dairy crosses and SJB\n",
    "df3 = df3[(df3[\"Breed\"] == \"NRDC\") |\n",
    "          (df3[\"Breed\"] == \"SLB\") |\n",
    "          (df3[\"Breed\"] == \"DairyCross\") |\n",
    "          (df3[\"Breed\"] == \"SJB\")]\n",
    "\n",
    "# Pie chart over distribution of Breed in filtered data\n",
    "value_counts = df3['Breed'].value_counts()\n",
    "plt.figure(figsize=(10, 10))\n",
    "plt.pie(value_counts, labels=value_counts.index, autopct='%1.1f%%', startangle=140, pctdistance=0.5)\n",
    "plt.axis('equal')\n",
    "plt.title('Distribution of Milking Events Across Breeds in MY_weather.csv')\n",
    "plt.show()\n",
    "\n",
    "# No. milking events, lactations and cows in data\n",
    "print(f\"No. milking events in SRB, SH, dairy Crosses and SJB cows: {df3.shape}\")\n",
    "test = df3.drop_duplicates(subset=[\"SE_Number\", \"LactationNumber\"])\n",
    "print(f\"No. of lactations from SRB, SH, SJB and dairy crosses: {test.shape}\")\n",
    "test = test.drop_duplicates(subset=[\"SE_Number\"])\n",
    "print(f\"No. of cows from SRB, SH, SJB and dairy crosses: {test.shape}\")"
   ]
  },
  {
   "cell_type": "code",
   "execution_count": null,
   "metadata": {},
   "outputs": [],
   "source": [
    "# No. MY records per herd\n",
    "count_my_rec = df3.groupby([\"FarmName_Pseudo\"])[\"StartDate\"].count().reset_index()\n",
    "print(f\"No. milking events per herd: \\n\", count_my_rec.to_string(index=False))"
   ]
  },
  {
   "cell_type": "code",
   "execution_count": null,
   "metadata": {},
   "outputs": [],
   "source": [
    "# No. MY records per herd\n",
    "count_my_rec = df3.groupby([\"FarmName_Pseudo\"])[\"TotalYield\"].count().reset_index()\n",
    "print(f\"No. milking yield occurrences per herd: \\n\", count_my_rec.to_string(index=False))"
   ]
  },
  {
   "cell_type": "markdown",
   "metadata": {},
   "source": [
    "Transfer data for full df"
   ]
  },
  {
   "cell_type": "code",
   "execution_count": null,
   "metadata": {},
   "outputs": [],
   "source": [
    "# Transfer basic data about lactation to every observation, including those missing MY data\n",
    "print(\"Original shape of df3:\", df3.shape)\n",
    "\n",
    "# Select columns to keep and remove duplicates from df\n",
    "df = df3[df3['DaysInMilk'].notna()]\n",
    "col_keep = [\"SE_Number\", \"CalvingDate\", \"LactationNumber\", \"upper_limit\"]\n",
    "df = df[col_keep].drop_duplicates(subset=[\"SE_Number\", \"LactationNumber\"])\n",
    "# df.to_csv(\"../Data/MY3.csv\", index=False)\n",
    "\n",
    "# Set 'ID' as the index in both DataFrames\n",
    "df.set_index(['SE_Number', \"LactationNumber\"], inplace=True)\n",
    "df3.set_index(['SE_Number', \"LactationNumber\"], inplace=True)\n",
    "\n",
    "# Use .update() to overwrite values\n",
    "df3.update(df)\n",
    "\n",
    "# Reset index\n",
    "df3.reset_index(inplace=True)\n",
    "\n",
    "# Calculate DaysInMilk2 and save\n",
    "df3[\"StartDate\"] = pd.to_datetime(df3[\"StartDate\"])\n",
    "df3[\"CalvingDate\"] = pd.to_datetime(df3[\"CalvingDate\"])\n",
    "df3[\"DaysInMilk2\"] = (df3[\"StartDate\"] - df3[\"CalvingDate\"]).dt.days + 1\n",
    "new_column_order = [\"FarmName_Pseudo\", \"SE_Number\", \"AnimalNumber\", \"Del_Cow_Id\", \"Breed\", \"LactationNumber\", \"CalvingDate\", \"upper_limit\", \"DaysInMilk2\",\n",
    "                    \"StartDate\", \"StartTime\", \"SessionNumber\", \"TotalYield\", \n",
    "                    \"TotalYieldLF\", \"TotalYieldRF\", \"TotalYieldLR\", \"TotalYieldRR\",\n",
    "                    \"AverageFlowLF\", \"AverageFlowLR\", \"AverageFlowRF\", \"AverageFlowRR\",\n",
    "                    \"PeakFlowLF\", \"PeakFlowLR\", \"PeakFlowRF\", \"PeakFlowRR\",\n",
    "                    \"BloodLF\", \"BloodLR\", \"BloodRF\", \"BloodRR\",\n",
    "                    \"ConductivityLF\", \"ConductivityLR\", \"ConductivityRF\", \"ConductivityRR\",\n",
    "                    \"Occ\",\n",
    "                    \"Temperature\", \"RelativeHumidity\", \"WindSpeed\", \"WindDirection\", \"Crosswind\", \"Precipitation\",\n",
    "                    \"Snow\", \"PrecipitationType\", \"Cloudiness\", \"Visibility\", \"AirPressure\", \"GlobalIrradiance\",\n",
    "                    \"THI_adj\", \"HW\", \"cum_HW\", \"Temp15Threshold\",\n",
    "                    \"MeanTemperature\", \"MeanRelativeHumidity\", \"MeanWindSpeed\", \"MeanPrecipitation\", \"MeanGlobalIrradiance\",\n",
    "                    \"MeanTHI_adj\", \"MeanHW\", \"Meancum_HW\", \"MeanTemp15Threshold\"]\n",
    "df3 = df3[new_column_order]\n",
    "# df3.to_csv(\"../Data/MY4.csv\", index=False)\n",
    "print(\"New shape of df3:\", df3.shape)"
   ]
  },
  {
   "cell_type": "code",
   "execution_count": null,
   "metadata": {},
   "outputs": [],
   "source": [
    "df3"
   ]
  },
  {
   "cell_type": "code",
   "execution_count": null,
   "metadata": {},
   "outputs": [],
   "source": [
    "# No. MY records per herd\n",
    "count_my_rec = df3.groupby([\"FarmName_Pseudo\"])[\"StartDate\"].count().reset_index()\n",
    "print(f\"No. milking events per herd: \\n\", count_my_rec.to_string(index=False))"
   ]
  },
  {
   "cell_type": "markdown",
   "metadata": {},
   "source": [
    "First and last DIM where have milk yield"
   ]
  },
  {
   "cell_type": "code",
   "execution_count": null,
   "metadata": {},
   "outputs": [],
   "source": [
    "df4 = df3[df3['TotalYield'].notna()]\n",
    "first_last_df = df4.groupby(['SE_Number', 'LactationNumber'])['DaysInMilk2'].agg(['first', 'last']).reset_index()\n",
    "\n",
    "plt.figure()\n",
    "plt.hist(first_last_df[\"first\"], color='blue')\n",
    "plt.title(f\"First DIM in Lactation\")\n",
    "plt.xlabel('First DIM')\n",
    "plt.ylabel('Frequency')\n",
    "plt.grid(True)\n",
    "plt.show()\n",
    "\n",
    "plt.figure()\n",
    "plt.hist(first_last_df[\"last\"], color='blue')\n",
    "plt.title(f\"Last DIM in Lactation\")\n",
    "plt.xlabel('Last DIM')\n",
    "plt.ylabel('Frequency')\n",
    "plt.grid(True)\n",
    "plt.show()\n",
    "\n",
    "df3 = df3.merge(first_last_df, on=[\"SE_Number\", \"LactationNumber\"], how=\"left\")\n",
    "# df3.to_csv(\"../Data/MY3.csv\", index=False)\n",
    "\n",
    "average_production = (df3.groupby(['FarmName_Pseudo'])['first'].agg(['mean', 'std']).reset_index())\n",
    "average_production['mean'] = average_production['mean'].round(0)\n",
    "average_production['std'] = average_production['std'].round(0)\n",
    "average_production.rename(columns={'mean': 'MeanFirstDIM', 'std': 'SDFirstDIM'}, inplace=True)\n",
    "print(f\"Mean and SD First DIM: \\n\", average_production.to_string(index=False))\n",
    "\n",
    "average_production = (df3.groupby(['FarmName_Pseudo'])['last'].agg(['mean', 'std']).reset_index())\n",
    "average_production['mean'] = average_production['mean'].round(0)\n",
    "average_production['std'] = average_production['std'].round(0)\n",
    "average_production.rename(columns={'mean': 'MeanLastDIM', 'std': 'SDLastDIM'}, inplace=True)\n",
    "print(f\"Mean and SD Last DIM: \\n\", average_production.to_string(index=False))"
   ]
  },
  {
   "cell_type": "markdown",
   "metadata": {},
   "source": [
    "Demands 1-40DIM start and 100-400DIM stop"
   ]
  },
  {
   "cell_type": "code",
   "execution_count": null,
   "metadata": {},
   "outputs": [],
   "source": [
    "# Filter to demand started milking by 1-40 DIM and maintain milking until 100-400 DIM\n",
    "def filter_first_last(group):\n",
    "    first_value = group['first'].iloc[0]\n",
    "    last_value = group['last'].iloc[-1]\n",
    "    return (1 <= first_value <= 40) and (100 <= last_value <= 400)\n",
    "\n",
    "\n",
    "filtered_df = df3.groupby([\"SE_Number\", \"LactationNumber\"]).filter(filter_first_last)\n",
    "\n",
    "# No. milking events, lactations and cows in data\n",
    "print(f\"No. milking events in SRB, SH, SJB and dairy crosses cows within 1-40 DIM and 100-400 DIM: {filtered_df.shape}\")\n",
    "test = filtered_df.drop_duplicates(subset=[\"SE_Number\", \"LactationNumber\"])\n",
    "print(f\"No. of lactations from SRB, SH, SJB and dairy crosses within 1-40DIM and 100-400DIM: {test.shape}\")\n",
    "test = filtered_df.drop_duplicates(subset=[\"SE_Number\"])\n",
    "print(f\"No. of cows from SRB, SH, SJB and dairy crosses within 1-40DIM and 100-400DIM: {test.shape}\")\n",
    "# filtered_df.to_csv(\"../Data/MY3.csv\", index=False)"
   ]
  },
  {
   "cell_type": "markdown",
   "metadata": {},
   "source": [
    "Distribution of milk yield data over various lactations"
   ]
  },
  {
   "cell_type": "code",
   "execution_count": null,
   "metadata": {},
   "outputs": [],
   "source": [
    "value_counts = filtered_df['LactationNumber'].value_counts()\n",
    "print(value_counts)\n",
    "\n",
    "# Keep only lactation 1-8\n",
    "df_lact = filtered_df[filtered_df[\"LactationNumber\"] <= 8]\n",
    "print(f\"No. milking events in SRB, SH, SJB and dairy crosses cows within 1-40 DIM and 100-400 DIM in lactation 1-8: \"\n",
    "      f\"{df_lact.shape}\")  \n",
    "\n",
    "# No. lactations and cows in data\n",
    "test = df_lact.drop_duplicates(subset=[\"SE_Number\", \"LactationNumber\"])\n",
    "print(f\"No. of lactations from SRB, SH, SJB and dairy crosses within 1-40DIM and 100-400DIM in lactation 1-8: {test.shape}\")\n",
    "test = df_lact.drop_duplicates(subset=[\"SE_Number\"])\n",
    "print(f\"No. of cows from SRB, SH, SJB and dairy crosses within 1-40DIM and 100-400DIM in lactation 1-8: {test.shape}\")\n",
    "\n",
    "# Make Parity 1-3\n",
    "df_lact = df_lact.copy()\n",
    "df_lact[\"Parity\"] = df_lact[\"LactationNumber\"]\n",
    "df_lact.loc[(df_lact['LactationNumber'] >= 3) & (df_lact['LactationNumber'] <= 8), 'Parity'] = 3\n",
    "# df_lact.to_csv(\"../Data/MY3.csv\", index=False)"
   ]
  },
  {
   "cell_type": "code",
   "execution_count": null,
   "metadata": {},
   "outputs": [],
   "source": [
    "# No. MY records per herd\n",
    "count_my_rec = df_lact.groupby([\"FarmName_Pseudo\"])[\"StartDate\"].count().reset_index()\n",
    "print(f\"No. milking events per herd: \\n\", count_my_rec.to_string(index=False))"
   ]
  },
  {
   "cell_type": "markdown",
   "metadata": {},
   "source": [
    "Check distribution of total yield column"
   ]
  },
  {
   "cell_type": "code",
   "execution_count": null,
   "metadata": {},
   "outputs": [],
   "source": [
    "# Basic statistics\n",
    "summary_stats = df_lact['TotalYield'].describe()\n",
    "\n",
    "# Check for non-empty column before calculating percentiles\n",
    "if not df_lact['TotalYield'].dropna().empty:\n",
    "    percentiles = np.percentile(df_lact['TotalYield'].dropna(), [1, 5, 10, 90, 95, 99])\n",
    "else:\n",
    "    percentiles = None\n",
    "\n",
    "print(\"Descriptive Statistics:\\n\", summary_stats)\n",
    "if percentiles is not None:\n",
    "    print(\"\\nPercentiles (1%, 5%, 10%, 90%, 95%, 99%):\", percentiles)\n",
    "else:\n",
    "    print(\"\\nPercentiles cannot be calculated due to empty or missing data.\")\n",
    "\n",
    "# Remove duplicates (if required)\n",
    "count_my_rec = df_lact.drop_duplicates(subset=[\"SE_Number\", \"LactationNumber\"])\n",
    "\n",
    "# Box plot: Ensure no missing values in key columns\n",
    "sns.boxplot(x='FarmName_Pseudo', y='TotalYield', data=df_lact.dropna(subset=['FarmName_Pseudo', 'TotalYield']))\n",
    "plt.title('Box Plot of Total Yield per Milking Event Grouped by Herd')\n",
    "plt.xlabel('Herd')\n",
    "plt.ylabel('Total Yield per Milking Event')\n",
    "plt.xticks(rotation=45)\n",
    "plt.tight_layout()  # Adjust spacing\n",
    "plt.show()"
   ]
  },
  {
   "cell_type": "markdown",
   "metadata": {},
   "source": [
    "Total yield 2.5kg - 60kg"
   ]
  },
  {
   "cell_type": "code",
   "execution_count": null,
   "metadata": {},
   "outputs": [],
   "source": [
    "# =================================================================================>>> OBS THIS STEP REMOVES MISSING RECORDS FOR TOTAL YIELD, ie dry period\n",
    "# df_lact = pd.read_csv(\"../Data/MY3.csv\", low_memory=False)\n",
    "\n",
    "# Count instances with TotalYield greater than 60 L\n",
    "count_invalid_total_yield = df_lact[df_lact['TotalYield'] > 60].shape[0]\n",
    "print(f\"Number of instances with TotalYield greater than 60: {count_invalid_total_yield}\")\n",
    "df_lact2 = df_lact[df_lact['TotalYield'] < 60]\n",
    "\n",
    "count_invalid_total_yield = df_lact2[df_lact2['TotalYield'] < 2.5].shape[0]\n",
    "print(f\"Number of instances with TotalYield less than 2.5 kg: {count_invalid_total_yield}\")\n",
    "df_lact2 = df_lact2[df_lact2['TotalYield'] > 2.5]\n",
    "# df_lact2.to_csv(\"../Data/MY4.csv\", index=False)\n",
    "\n",
    "df3a = df_lact2.drop_duplicates(subset=['SE_Number', \"LactationNumber\", \"StartDate\", \"StartTime\", \"SessionNumber\"])\n",
    "print(f\"No. of milking events in MY file: {df3a.shape}\")\n",
    "df3a = df_lact2.drop_duplicates(subset=['SE_Number', \"LactationNumber\", \"StartDate\"])\n",
    "print(f\"No. of milking days in MY file: {df3a.shape}\")\n",
    "df3a = df_lact2.drop_duplicates(subset=['SE_Number', \"LactationNumber\"])\n",
    "print(f\"No. of lactations in MY file: {df3a.shape}\")\n",
    "df3a = df_lact2.drop_duplicates(subset=['SE_Number'])\n",
    "print(f\"No. of cows in MY file: {df3a.shape}\")"
   ]
  },
  {
   "cell_type": "code",
   "execution_count": null,
   "metadata": {},
   "outputs": [],
   "source": [
    "# No. MY records per herd\n",
    "count_my_rec = df_lact2.groupby([\"FarmName_Pseudo\"])[\"StartDate\"].count().reset_index()\n",
    "print(f\"No. milking events per herd: \\n\", count_my_rec.to_string(index=False))"
   ]
  },
  {
   "cell_type": "markdown",
   "metadata": {},
   "source": [
    "Remove colostrum"
   ]
  },
  {
   "cell_type": "code",
   "execution_count": null,
   "metadata": {},
   "outputs": [],
   "source": [
    "count_colostrum_days = df_lact2[df_lact2['DaysInMilk2'] <= 4].shape[0]\n",
    "print(f\"Number of milking events <= 4DIM: {count_colostrum_days}\")\n",
    "print(df_lact2.shape)\n",
    "df_lact2 = df_lact2[df_lact2['DaysInMilk2'] > 4]\n",
    "print(df_lact2.shape)"
   ]
  },
  {
   "cell_type": "code",
   "execution_count": null,
   "metadata": {},
   "outputs": [],
   "source": [
    "# No. MY records per herd\n",
    "count_my_rec = df_lact2.groupby([\"FarmName_Pseudo\"])[\"StartDate\"].count().reset_index()\n",
    "print(f\"No. milking events per herd: \\n\", count_my_rec.to_string(index=False))"
   ]
  },
  {
   "cell_type": "markdown",
   "metadata": {},
   "source": [
    "Basic desk statistics"
   ]
  },
  {
   "cell_type": "code",
   "execution_count": null,
   "metadata": {},
   "outputs": [],
   "source": [
    "# Basic statistics\n",
    "summary_stats = df_lact2['TotalYield'].describe()\n",
    "\n",
    "# Check for non-empty column before calculating percentiles\n",
    "if not df_lact2['TotalYield'].dropna().empty:\n",
    "    percentiles = np.percentile(df_lact2['TotalYield'].dropna(), [1, 5, 10, 90, 95, 99])\n",
    "else:\n",
    "    percentiles = None\n",
    "\n",
    "print(\"Descriptive Statistics:\\n\", summary_stats)\n",
    "if percentiles is not None:\n",
    "    print(\"\\nPercentiles (1%, 5%, 10%, 90%, 95%, 99%):\", percentiles)\n",
    "else:\n",
    "    print(\"\\nPercentiles cannot be calculated due to empty or missing data.\")\n",
    "\n",
    "# Box plot: Ensure no missing values in key columns\n",
    "sns.boxplot(x='FarmName_Pseudo', y='TotalYield', data=df_lact2.dropna(subset=['FarmName_Pseudo', 'TotalYield']))\n",
    "plt.title('Box Plot of Total Yield per Milking Event Grouped by Herd')\n",
    "plt.xlabel('Herd')\n",
    "plt.ylabel('Total Yield per Milking Event')\n",
    "plt.xticks(rotation=45)\n",
    "plt.tight_layout()  # Adjust spacing\n",
    "plt.show()"
   ]
  },
  {
   "cell_type": "markdown",
   "metadata": {},
   "source": [
    "Save"
   ]
  },
  {
   "cell_type": "code",
   "execution_count": null,
   "metadata": {},
   "outputs": [],
   "source": [
    "df_lact2.to_csv(\"../Data/MergedData/MY_weather_filtered.csv\", index=False)"
   ]
  },
  {
   "cell_type": "markdown",
   "metadata": {},
   "source": [
    "# Desk stat for Table 1"
   ]
  },
  {
   "cell_type": "code",
   "execution_count": null,
   "metadata": {},
   "outputs": [],
   "source": [
    "import pandas as pd\n",
    "import numpy as np"
   ]
  },
  {
   "cell_type": "code",
   "execution_count": null,
   "metadata": {},
   "outputs": [],
   "source": [
    "df_lact = pd.read_csv(\"../Data/MergedData/MY_weather_filtered.csv\", low_memory=False)\n",
    "print(f\"No. milking events in filtered dataset: {df_lact.shape}\")\n",
    "\n",
    "# No. MY records per herd\n",
    "count_my_rec = df_lact.groupby([\"FarmName_Pseudo\"])[\"StartDate\"].count().reset_index()\n",
    "print(f\"No. milking events per herd: \\n\", count_my_rec.to_string(index=False))"
   ]
  },
  {
   "cell_type": "code",
   "execution_count": null,
   "metadata": {},
   "outputs": [],
   "source": [
    "# MILKING RECORDS\n",
    "count_my_rec = df_lact.groupby([\"Parity\"])[\"StartDate\"].count().reset_index()\n",
    "print(f\"No. of milking records divided over parities: \\n\", count_my_rec.to_string(index=False))\n",
    "\n",
    "count_my_rec = df_lact.groupby([\"Parity\", \"Breed\"])[\"StartDate\"].count().reset_index()\n",
    "print(f\"No. of milking records divided over parities and breeds: \\n\", count_my_rec.to_string(index=False))\n",
    "\n",
    "# By parity\n",
    "for_my_rec5 = df_lact.drop_duplicates(subset=[\"SE_Number\", \"LactationNumber\"])\n",
    "print(f\"No. of parities in file: {for_my_rec5.shape}\")\n",
    "\n",
    "count_my_rec = for_my_rec5.groupby([\"Breed\"])[\"SE_Number\"].count().reset_index()\n",
    "print(f\"No. of lactations from NRDC and SH: \\n\", count_my_rec.to_string(index=False))  \n",
    "\n",
    "count_my_rec = for_my_rec5.groupby([\"Parity\", \"Breed\"])[\"SE_Number\"].count().reset_index()\n",
    "print(f\"No. of cows within breed and parity: \\n\", count_my_rec.to_string(index=False))\n",
    "\n",
    "# By cows\n",
    "for_my_rec4 = df_lact.drop_duplicates(subset=[\"SE_Number\"])\n",
    "print(f\"No. of cows in file: {for_my_rec4.shape}\") \n",
    "\n",
    "for_my_rec5 = for_my_rec4.drop_duplicates(subset=[\"SE_Number\"])\n",
    "count_my_rec = for_my_rec5.groupby([\"Breed\"])[\"SE_Number\"].count().reset_index()\n",
    "print(f\"No. of cows from NRDC, SH: \\n\", count_my_rec.to_string(index=False))"
   ]
  }
 ],
 "metadata": {
  "kernelspec": {
   "display_name": "Python 3",
   "language": "python",
   "name": "python3"
  },
  "language_info": {
   "codemirror_mode": {
    "name": "ipython",
    "version": 3
   },
   "file_extension": ".py",
   "mimetype": "text/x-python",
   "name": "python",
   "nbconvert_exporter": "python",
   "pygments_lexer": "ipython3",
   "version": "3.12.3"
  }
 },
 "nbformat": 4,
 "nbformat_minor": 2
}
