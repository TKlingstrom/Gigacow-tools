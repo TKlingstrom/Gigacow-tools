{
 "cells": [
  {
   "cell_type": "code",
   "execution_count": 1,
   "metadata": {},
   "outputs": [
    {
     "name": "stdout",
     "output_type": "stream",
     "text": [
      "Collecting tsfresh\n",
      "  Downloading tsfresh-0.20.2-py2.py3-none-any.whl (95 kB)\n",
      "\u001b[2K     \u001b[90m━━━━━━━━━━━━━━━━━━━━━━━━━━━━━━━━━━━━━━━━\u001b[0m \u001b[32m95.8/95.8 kB\u001b[0m \u001b[31m3.4 MB/s\u001b[0m eta \u001b[36m0:00:00\u001b[0m\n",
      "\u001b[?25hRequirement already satisfied: requests>=2.9.1 in /opt/conda/lib/python3.10/site-packages (from tsfresh) (2.28.1)\n",
      "Requirement already satisfied: pandas>=0.25.0 in /opt/conda/lib/python3.10/site-packages (from tsfresh) (1.5.1)\n",
      "Requirement already satisfied: statsmodels>=0.13 in /opt/conda/lib/python3.10/site-packages (from tsfresh) (0.13.5)\n",
      "Requirement already satisfied: numpy>=1.15.1 in /opt/conda/lib/python3.10/site-packages (from tsfresh) (1.23.4)\n",
      "Requirement already satisfied: patsy>=0.4.1 in /opt/conda/lib/python3.10/site-packages (from tsfresh) (0.5.3)\n",
      "Requirement already satisfied: tqdm>=4.10.0 in /opt/conda/lib/python3.10/site-packages (from tsfresh) (4.64.1)\n",
      "Collecting stumpy>=1.7.2\n",
      "  Downloading stumpy-1.12.0-py3-none-any.whl (169 kB)\n",
      "\u001b[2K     \u001b[90m━━━━━━━━━━━━━━━━━━━━━━━━━━━━━━━━━━━━━━━\u001b[0m \u001b[32m169.1/169.1 kB\u001b[0m \u001b[31m9.2 MB/s\u001b[0m eta \u001b[36m0:00:00\u001b[0m\n",
      "\u001b[?25hRequirement already satisfied: scikit-learn>=0.22.0 in /opt/conda/lib/python3.10/site-packages (from tsfresh) (1.1.3)\n",
      "Requirement already satisfied: scipy>=1.2.0 in /opt/conda/lib/python3.10/site-packages (from tsfresh) (1.9.3)\n",
      "Requirement already satisfied: cloudpickle in /opt/conda/lib/python3.10/site-packages (from tsfresh) (2.2.0)\n",
      "Requirement already satisfied: python-dateutil>=2.8.1 in /opt/conda/lib/python3.10/site-packages (from pandas>=0.25.0->tsfresh) (2.8.2)\n",
      "Requirement already satisfied: pytz>=2020.1 in /opt/conda/lib/python3.10/site-packages (from pandas>=0.25.0->tsfresh) (2022.6)\n",
      "Requirement already satisfied: six in /opt/conda/lib/python3.10/site-packages (from patsy>=0.4.1->tsfresh) (1.16.0)\n",
      "Requirement already satisfied: certifi>=2017.4.17 in /opt/conda/lib/python3.10/site-packages (from requests>=2.9.1->tsfresh) (2022.9.24)\n",
      "Requirement already satisfied: idna<4,>=2.5 in /opt/conda/lib/python3.10/site-packages (from requests>=2.9.1->tsfresh) (3.4)\n",
      "Requirement already satisfied: urllib3<1.27,>=1.21.1 in /opt/conda/lib/python3.10/site-packages (from requests>=2.9.1->tsfresh) (1.26.11)\n",
      "Requirement already satisfied: charset-normalizer<3,>=2 in /opt/conda/lib/python3.10/site-packages (from requests>=2.9.1->tsfresh) (2.1.1)\n",
      "Requirement already satisfied: threadpoolctl>=2.0.0 in /opt/conda/lib/python3.10/site-packages (from scikit-learn>=0.22.0->tsfresh) (3.1.0)\n",
      "Requirement already satisfied: joblib>=1.0.0 in /opt/conda/lib/python3.10/site-packages (from scikit-learn>=0.22.0->tsfresh) (1.2.0)\n",
      "Requirement already satisfied: packaging>=21.3 in /opt/conda/lib/python3.10/site-packages (from statsmodels>=0.13->tsfresh) (21.3)\n",
      "Requirement already satisfied: numba>=0.55.2 in /opt/conda/lib/python3.10/site-packages (from stumpy>=1.7.2->tsfresh) (0.56.3)\n",
      "Requirement already satisfied: setuptools in /opt/conda/lib/python3.10/site-packages (from numba>=0.55.2->stumpy>=1.7.2->tsfresh) (65.5.1)\n",
      "Requirement already satisfied: llvmlite<0.40,>=0.39.0dev0 in /opt/conda/lib/python3.10/site-packages (from numba>=0.55.2->stumpy>=1.7.2->tsfresh) (0.39.1)\n",
      "Requirement already satisfied: pyparsing!=3.0.5,>=2.0.2 in /opt/conda/lib/python3.10/site-packages (from packaging>=21.3->statsmodels>=0.13->tsfresh) (3.0.9)\n",
      "Installing collected packages: stumpy, tsfresh\n",
      "Successfully installed stumpy-1.12.0 tsfresh-0.20.2\n"
     ]
    }
   ],
   "source": [
    "!pip install tsfresh"
   ]
  },
  {
   "cell_type": "code",
   "execution_count": 2,
   "metadata": {},
   "outputs": [],
   "source": [
    "# This notebook is used to generate the data file \"work/Data/processed/Cow_Prob_dataset_L1.csv\" \n",
    "# for Exp_1 and Exp_2 based on Lactation period 1. The actual analyses are in \n",
    "\n",
    "# work/HoldingPenTime/GP_Model/Cow_Detection_L1_Exp_1 .ipynb\n",
    "\n",
    "# work/HoldingPenTime/GP_Model/Early_Cow_Detection_TS_length_early_150_days_Exp_2.ipynb\n",
    "# work/HoldingPenTime/GP_Model/Early_Cow_Detection_TS_length_last_150_days_Exp_2.ipynb\n"
   ]
  },
  {
   "cell_type": "code",
   "execution_count": 1,
   "metadata": {},
   "outputs": [
    {
     "name": "stdout",
     "output_type": "stream",
     "text": [
      "5613    17247\n",
      "4504    16330\n",
      "5046    15623\n",
      "5147    15440\n",
      "3147    15303\n",
      "478     14751\n",
      "6380    14514\n",
      "1181    14434\n",
      "4478    14434\n",
      "1985    14419\n",
      "Name: Gigacow_Cow_Id, dtype: int64\n"
     ]
    }
   ],
   "source": [
    "'''\n",
    "#Gigacow-tools# - data collection for fast/slow learner.\n",
    "This scripts used for single cow data collection work.\n",
    "Data Tables: gigacow_filter.csv, lactation_filter.csv, traffic_raw_filter.csv\n",
    "'''\n",
    "\n",
    "import pandas as pd\n",
    "import numpy as np\n",
    "import matplotlib.pyplot as plt\n",
    "from pathlib import Path\n",
    "pd.options.mode.chained_assignment = None\n",
    "from tsfresh import extract_features\n",
    "from tsfresh import select_features\n",
    "from tsfresh.utilities.dataframe_functions import impute\n",
    "from tsfresh.feature_selection.relevance import calculate_relevance_table\n",
    "from tsfresh.feature_extraction import ComprehensiveFCParameters, MinimalFCParameters\n",
    "from sklearn.preprocessing import StandardScaler, OneHotEncoder\n",
    "\n",
    "#access data from local directory\n",
    "dataDir = Path.cwd().parent.parent/'Data/processed'\n",
    "gigacow_cols = ['Gigacow_Cow_Id', 'FarmName_Pseudo', 'BreedName', 'BirthDate']\n",
    "lactation_cols = ['Gigacow_Cow_Id', 'FarmName_Pseudo', 'LactationInfoDate', 'LactationNumber', 'DaysInMilk']\n",
    "gigacow = pd.read_csv(dataDir/'gigacow_filter.csv', encoding='utf-8', usecols=gigacow_cols)\n",
    "lactation = pd.read_csv(dataDir/'lactation_filter.csv', encoding='utf-8', usecols=lactation_cols)\n",
    "traffic = pd.read_csv(dataDir/'traffic_raw_filter.csv', encoding='utf-8', index_col=False)\n",
    "#check out cows with most milking events\n",
    "print(traffic.Gigacow_Cow_Id.value_counts().nlargest(10))"
   ]
  },
  {
   "cell_type": "code",
   "execution_count": 4,
   "metadata": {},
   "outputs": [
    {
     "name": "stdout",
     "output_type": "stream",
     "text": [
      "147 [2560, 3075, 2568, 2569, 4109, 3603, 1555, 6164, 5147, 3613, 3104, 1057, 544, 550, 5160, 2090, 4142, 48, 3638, 5691, 2112, 3657, 74, 3149, 6222, 1103, 4176, 2135, 1113, 6235, 603, 4704, 6241, 4195, 5225, 4714, 622, 5235, 5239, 3705, 4730, 3707, 645, 3206, 5767, 2694, 3718, 5262, 2702, 151, 6300, 4765, 1181, 5279, 3744, 4769, 2724, 1705, 6316, 3762, 5301, 182, 2742, 4280, 4792, 708, 4295, 5322, 2251, 1738, 1744, 5846, 4311, 1755, 1244, 5852, 2278, 2792, 6380, 3822, 5873, 2805, 5372, 1277, 769, 1796, 4871, 2844, 289, 6434, 4899, 6439, 4910, 1842, 1331, 6452, 2868, 3890, 1336, 6463, 2374, 6472, 4939, 2386, 855, 5465, 1905, 3446, 2423, 3447, 1910, 4990, 6018, 2956, 6039, 2460, 926, 3487, 5534, 2466, 2979, 4524, 4525, 4012, 943, 5555, 5046, 951, 1464, 4537, 1985, 961, 6086, 2510, 978, 5076, 2517, 985, 478, 5088, 5092, 3045, 2031, 5616, 6127, 2039, 2047]\n"
     ]
    }
   ],
   "source": [
    "# Select cows with sufficient data points on single lactation periods\n",
    "# Try to collect cow's data that contain milking events on lactation periods 1\n",
    "# fetch all milking traffic events for merging\n",
    "traffic_milking = traffic.TrafficResult.str.contains('kg', regex=False)\n",
    "all_list = traffic_milking.index[traffic_milking.values == True].tolist()\n",
    "milking_total = traffic[traffic.index.isin(all_list)]\n",
    "milking_total.TrafficEventDateTime = pd.to_datetime(milking_total.TrafficEventDateTime)\n",
    "milking_total['milking_date'] = milking_total.TrafficEventDateTime.dt.date\n",
    "\n",
    "# convert data type\n",
    "milking_total.milking_date = pd.to_datetime(milking_total.milking_date)\n",
    "lactation.LactationInfoDate = pd.to_datetime(lactation.LactationInfoDate)\n",
    "# merge all milking events with lactation table for filtering\n",
    "milking_total = milking_total.merge(lactation, how='left', left_on=['FarmName_Pseudo', 'Gigacow_Cow_Id', 'milking_date'], right_on=['FarmName_Pseudo', 'Gigacow_Cow_Id', 'LactationInfoDate'])\n",
    "def lac_collect(NumLac, milking_total):\n",
    "    \"\"\"Generate cow list for multiple lactation periods.\n",
    "\n",
    "    Args:\n",
    "        NumLac: The number of lactaion period\n",
    "        milking_total: A dataframe contains all the milkings events\n",
    "\n",
    "    Returns:\n",
    "        A list contain all the cows events with sufficient data points within the lactation periods.\n",
    "    \"\"\"\n",
    "    cow_list = list()\n",
    "    for num in range(1, NumLac+1):\n",
    "        # select records that contains lactation period #num\n",
    "        milking_select1 = milking_total.loc[milking_total['LactationNumber'] == num]\n",
    "        milking_select1.drop_duplicates(subset=['Gigacow_Cow_Id', 'milking_date', 'LactationNumber', 'DaysInMilk'], inplace=True)\n",
    "        # drop the anomaly data point\n",
    "        milking_select1 = milking_select1.loc[milking_select1.DaysInMilk < 400]\n",
    "        # select sufficient data points on lactation\n",
    "        selected1 = milking_select1.Gigacow_Cow_Id.value_counts(ascending=True)\n",
    "        selected1 = selected1.loc[(selected1.values > 150) & (selected1.values < 365)]\n",
    "        selected_cow_list = selected1.index.to_list()\n",
    "        if num == 1:\n",
    "            cow_list = selected_cow_list\n",
    "        cow_list = list(set(cow_list) & set(selected_cow_list))\n",
    "        print(len(cow_list), cow_list)\n",
    "    return cow_list\n",
    "\n",
    "cow_list = lac_collect(1, milking_total)"
   ]
  },
  {
   "cell_type": "code",
   "execution_count": 5,
   "metadata": {},
   "outputs": [],
   "source": [
    "def countCowAge(birthDate, milkingDate):\n",
    "    '''\n",
    "    func: Calculate cows age based on birthDate and milkingDate\n",
    "    args: \n",
    "        birthDate: cow's birth datetime\n",
    "        milkingDate: milking events datetime\n",
    "    return: cow age in human years(float)\n",
    "    '''\n",
    "    birthDate = pd.to_datetime(birthDate)\n",
    "    milkingDate = pd.to_datetime(milkingDate)\n",
    "    days = np.float32(np.datetime64(milkingDate, 'D') - np.datetime64(birthDate, 'D'))\n",
    "    age = np.around(days/365, 2)\n",
    "    return age\n",
    "\n",
    "# select single cow from the traffic table\n",
    "\n",
    "def data_collector(traffic, gigacow, lactation, cow_id, lacNumList):\n",
    "    '''\n",
    "    func: collect features from for a single cow\n",
    "    args: \n",
    "        traffic: traffic data table\n",
    "        gigacow: gigacow data table\n",
    "        lactation: lactation data table\n",
    "        cow_id: gigacow_id of the cow\n",
    "        lacNumList: a list lactation period number\n",
    "    return: A dataframe contains all features for a single cow on specfic lactation period\n",
    "    '''\n",
    "\n",
    "    traffic_single_cow = traffic.loc[traffic['Gigacow_Cow_Id'] == cow_id]\n",
    "    traffic_single_cow.sort_values(by='TrafficEventDateTime', inplace=True)\n",
    "    traffic_single_cow.index = range(len(traffic_single_cow))\n",
    "\n",
    "    '''\n",
    "        Extract Milking Event and its most recent traffic event to calculate T2-T1\n",
    "        T1: Entry time into the Mjolkfalla\n",
    "        T2: Entry time into the milking robot\n",
    "        T2-T1: calculate time difference between T2&T1 (i.e., Time spend in Mjolkfalla/holding area)\n",
    "    '''\n",
    "    # locate mikling event by searching 'kg' keyword in traffic result\n",
    "    # the most recent traffic event to milking event should be pre_milking event\n",
    "    # need to filter out records with gate failure\n",
    "    track_milking = traffic_single_cow.TrafficResult.str.contains('kg', regex=False)\n",
    "    milking_index_list = track_milking.index[track_milking.values == True].tolist()\n",
    "    pre_milking_index_list = [x-1 for x in milking_index_list]\n",
    "    milking_traffic = traffic_single_cow[traffic_single_cow.index.isin(milking_index_list)]\n",
    "    pre_milking_traffic = traffic_single_cow[traffic_single_cow.index.isin(pre_milking_index_list)]\n",
    "\n",
    "    # drop rows that the gate failed to detect cows but have milking result\n",
    "    # previous area in milking_traffic table should only be Mjolkfalla\n",
    "    # previous area in pre_milking_traffic table should not be Mjolkfalla\n",
    "    failed_list_1_milk = milking_traffic.index[milking_traffic['PreviousArea'] == 'Koridor till Sorteringsgrind 2'].tolist()\n",
    "    failed_list_1_pre = [x-1 for x in failed_list_1_milk]\n",
    "    failed_list_2_pre = pre_milking_traffic.index[pre_milking_traffic['PreviousArea'] == 'Mjolkfalla'].tolist()\n",
    "    failed_list_2_milk = [x+1 for x in failed_list_2_pre]\n",
    "    # traffic result in pre_milking_traffic table should contain Mjolkfalla\n",
    "    track_pre_milking = pre_milking_traffic.TrafficResult.str.contains('Mjolkfalla', regex=False)\n",
    "    failed_list_3_pre = track_pre_milking.index[track_pre_milking.values == False].tolist()\n",
    "    failed_list_3_milk = [x+1 for x in failed_list_3_pre]\n",
    "\n",
    "    # remove failed records based on index list\n",
    "    milking_traffic_failed = failed_list_1_milk + failed_list_2_milk + failed_list_3_milk\n",
    "    pre_milking_traffic_failed = failed_list_1_pre + failed_list_2_pre + failed_list_3_pre\n",
    "    milking_traffic.drop(axis=0, index=milking_traffic_failed, inplace=True)\n",
    "    pre_milking_traffic.drop(axis=0, index=pre_milking_traffic_failed, inplace=True)\n",
    "    # concatenate two tables to track the traffic directly\n",
    "    all_milking_traffic = pd.concat([milking_traffic, pre_milking_traffic])\n",
    "    all_milking_traffic.sort_values(by=['TrafficEventDateTime'], inplace=True)\n",
    "    #rename table columns for merging\n",
    "    milking_traffic.rename(columns={\"TrafficEventDateTime\": \"MilkingEventDateTime\", \"TrafficResult\": \"MilkProduction\", \"TimeInArea_totalSeconds\": \"RoundedSecondsTimeInArea\"}, inplace=True)\n",
    "    pre_milking_traffic.rename(columns={\"TrafficEventDateTime\": \"Pre_MilkingEventDateTime\", \"TimeInArea_totalSeconds\": \"RoundedSecondsTimeInArea\"}, inplace=True)\n",
    "    # unify the index of two tables\n",
    "    milking_traffic.index = range(len(milking_traffic))\n",
    "    pre_milking_traffic.index = range(len(pre_milking_traffic))\n",
    "    # inert \"pre_traffic_milking\" to milking traffic table\n",
    "    milking_traffic.insert(5, 'Pre_MilkingEventDateTime', pre_milking_traffic['Pre_MilkingEventDateTime'])\n",
    "    # calculate T2-T1\n",
    "    milking_traffic.MilkingEventDateTime = pd.to_datetime(milking_traffic.MilkingEventDateTime)\n",
    "    milking_traffic.Pre_MilkingEventDateTime = pd.to_datetime(milking_traffic.Pre_MilkingEventDateTime)\n",
    "    milking_traffic['timeDelta_Seconds'] = (milking_traffic['MilkingEventDateTime'] - milking_traffic['Pre_MilkingEventDateTime']).dt.total_seconds()\n",
    "\n",
    "    # extract traffic result(milk production)\n",
    "    milking_traffic['MilkProduction'].replace(r\"[^0-9.,]+\",\" \", inplace=True, regex=True)\n",
    "    milking_traffic['MilkProduction'].replace(r\"\\s*\",\"\", inplace=True, regex=True)\n",
    "    milking_traffic['MilkProduction'].replace(r\"[,]+\",\".\", inplace=True, regex=True)\n",
    "    milking_traffic['MilkProduction'] = milking_traffic['MilkProduction'].astype('float64')\n",
    "\n",
    "    # merge all the other features into milking_traffic table\n",
    "    milking_traffic['MilkingDate'] = milking_traffic.MilkingEventDateTime.dt.date\n",
    "    milking_traffic.MilkingDate = pd.to_datetime(milking_traffic.MilkingDate)\n",
    "    lactation.LactationInfoDate = pd.to_datetime(lactation.LactationInfoDate)\n",
    "    single_cow_merge = milking_traffic.merge(lactation, how='left', left_on=['FarmName_Pseudo', 'Gigacow_Cow_Id', 'MilkingDate'], right_on=['FarmName_Pseudo', 'Gigacow_Cow_Id', 'LactationInfoDate'])\n",
    "    single_cow_merge = single_cow_merge.merge(gigacow, how='left', left_on=['FarmName_Pseudo', 'Gigacow_Cow_Id'], right_on=['FarmName_Pseudo', 'Gigacow_Cow_Id'])\n",
    "\n",
    "    # drop failed data points based on RoundedSecondsTimeInArea & timeDelta_Seconds\n",
    "    single_cow_merge.drop(single_cow_merge.loc[abs(single_cow_merge.timeDelta_Seconds - single_cow_merge.RoundedSecondsTimeInArea) > 300].index, inplace=True)\n",
    "    single_cow_merge['TrafficDeviceName'].replace(r\"[A-Za-z]+\\s*\",\"vms\", inplace=True, regex=True)\n",
    "    # calculate age of cows\n",
    "    single_cow_merge['Age'] = single_cow_merge.apply(lambda x: countCowAge(x['BirthDate'], x['MilkingEventDateTime']), axis=1)\n",
    "    single_cow_merge.drop(['BirthDate'], axis=1, inplace=True)\n",
    "    single_cow_merge.dropna(inplace=True)\n",
    "\n",
    "    # integrate multiple milking events for a single DIM\n",
    "    single_cow_merge = single_cow_merge[single_cow_merge.LactationNumber.isin(lacNumList)]\n",
    "    single_cow_merge.index = range(1,len(single_cow_merge)+1) \n",
    "    single_cow_merge.drop(['MilkingEventDateTime', 'Pre_MilkingEventDateTime', 'Traffic_Id', 'MilkingInterval_totalSeconds', 'RoundedSecondsTimeInArea', 'PreviousArea', 'GroupName', 'LactationInfoDate', 'TrafficDeviceName'], axis=1, inplace=True)\n",
    "\n",
    "    # uncomment following part to get combined milking events for each DIM\n",
    "    # comb_cows = single_cow_merge.groupby(by=['FarmName_Pseudo', 'Gigacow_Cow_Id', 'MilkingDate', 'LactationNumber', 'DaysInMilk', 'BreedName', 'Age'], sort=False, as_index=False).sum(['MilkProduction', 'timeDelta_Seconds'])\n",
    "    # single_cow_merge_size = single_cow_merge.groupby(by=['FarmName_Pseudo', 'Gigacow_Cow_Id', 'MilkingDate', 'LactationNumber', 'DaysInMilk', 'BreedName', 'Age'], sort=False, as_index=False).size()\n",
    "    # comb_cows = pd.concat([comb_cows, single_cow_merge_size['size']], axis=1, ignore_index=False)\n",
    "    # comb_cows.rename(columns={\"MilkProduction\": \"Total_MilkProduction\", \"timeDelta_Seconds\": \"Total_timeDelta_Seconds\", \"size\": \"milking_times\"}, inplace=True)\n",
    "    # comb_cows.index = range(1, len(comb_cows)+1)\n",
    "    # return comb_cows\n",
    "\n",
    "    single_cow_merge.rename(columns={\"MilkProduction\": \"Total_MilkProduction\", \"timeDelta_Seconds\": \"Total_timeDelta_Seconds\", \"size\": \"milking_times\"}, inplace=True)\n",
    "    single_cow_merge.index = range(1, len(single_cow_merge)+1)\n",
    "    return single_cow_merge\n"
   ]
  },
  {
   "cell_type": "code",
   "execution_count": 6,
   "metadata": {},
   "outputs": [],
   "source": [
    "\"\"\"\n",
    "labeling cow with problematic/normal(1/0)\n",
    "\"\"\"\n",
    "threshold_ratio = 0.05\n",
    "Path(dataDir/'Problematic_targetCows').mkdir(parents=True, exist_ok=True)\n",
    "def labeling_problematic(threshold_ratio, cow_total): \n",
    "    '''\n",
    "    func: labeling problematic cows\n",
    "    args: \n",
    "        threshold_ratio: threshold ratio for the abnormal event milking events\n",
    "        cow_total: A dataframe contains all data points for a single cow\n",
    "    return: problematic cows dataset with label\n",
    "    '''\n",
    "    global learner\n",
    "    total_events = len(cow_total)\n",
    "    abnoramal_cows = cow_total.loc[cow_total.Total_timeDelta_Seconds > 7200]\n",
    "    abnoramal_ratio = len(abnoramal_cows)/total_events\n",
    "    print(abnoramal_ratio)\n",
    "    if abnoramal_ratio > threshold_ratio:\n",
    "        problematic = 1 # problematic cow\n",
    "    else:\n",
    "        problematic = 0 # normal cow\n",
    "    cow_total['problematic'] = problematic\n",
    "    return cow_total"
   ]
  },
  {
   "cell_type": "code",
   "execution_count": 7,
   "metadata": {},
   "outputs": [
    {
     "name": "stdout",
     "output_type": "stream",
     "text": [
      "filtered:  142 [2560, 3075, 2568, 2569, 4109, 3603, 1555, 6164, 5147, 3613, 3104, 1057, 544, 550, 5160, 2090, 4142, 48, 3638, 5691, 2112, 3657, 74, 3149, 6222, 1103, 4176, 2135, 1113, 6235, 603, 4704, 6241, 4195, 5225, 4714, 5235, 5239, 3705, 4730, 3707, 645, 3206, 5767, 2694, 3718, 5262, 2702, 151, 6300, 4765, 1181, 5279, 3744, 4769, 2724, 1705, 6316, 5301, 2742, 4280, 4792, 708, 4295, 5322, 2251, 1738, 1744, 5846, 4311, 1755, 1244, 5852, 2278, 2792, 6380, 3822, 5873, 2805, 5372, 1277, 769, 1796, 4871, 2844, 289, 6434, 4899, 6439, 4910, 1842, 1331, 6452, 2868, 3890, 1336, 6463, 2374, 6472, 4939, 2386, 855, 5465, 1905, 3446, 2423, 3447, 1910, 4990, 6018, 2956, 6039, 2460, 926, 5534, 2466, 2979, 4524, 4525, 4012, 943, 5555, 5046, 951, 1464, 1985, 961, 6086, 2510, 978, 5076, 2517, 985, 478, 5088, 5092, 3045, 2031, 5616, 6127, 2039, 2047]\n"
     ]
    }
   ],
   "source": [
    "# filter out cows' record start at the middle of the lactation\n",
    "filter_list = []\n",
    "for id in cow_list:\n",
    "    single_cow = data_collector(traffic, gigacow, lactation, id, [1])\n",
    "    if single_cow.DaysInMilk.min() < 60:\n",
    "        filter_list.append(id)\n",
    "\n",
    "print(\"filtered: \", len(filter_list), filter_list)"
   ]
  },
  {
   "cell_type": "code",
   "execution_count": 8,
   "metadata": {},
   "outputs": [
    {
     "name": "stdout",
     "output_type": "stream",
     "text": [
      "cow_id: 2560\n",
      "0.003472222222222222\n",
      "cow_id: 3075\n",
      "0.0680379746835443\n",
      "cow_id: 2568\n",
      "0.14465408805031446\n",
      "cow_id: 2569\n",
      "0.0\n",
      "cow_id: 4109\n",
      "0.24615384615384617\n",
      "cow_id: 3603\n",
      "0.032362459546925564\n",
      "cow_id: 1555\n",
      "0.0017452006980802793\n",
      "cow_id: 6164\n",
      "0.17270788912579957\n",
      "cow_id: 5147\n",
      "0.0\n",
      "cow_id: 3613\n",
      "0.0\n",
      "cow_id: 3104\n",
      "0.01238390092879257\n",
      "cow_id: 1057\n",
      "0.01703800786369594\n",
      "cow_id: 544\n",
      "0.21496815286624205\n",
      "cow_id: 550\n",
      "0.05955678670360111\n",
      "cow_id: 5160\n",
      "0.004722550177095631\n",
      "cow_id: 2090\n",
      "0.003260869565217391\n",
      "cow_id: 4142\n",
      "0.09314586994727592\n",
      "cow_id: 48\n",
      "0.018907563025210083\n",
      "cow_id: 3638\n",
      "0.0027397260273972603\n",
      "cow_id: 5691\n",
      "0.4318181818181818\n",
      "cow_id: 2112\n",
      "0.013793103448275862\n",
      "cow_id: 3657\n",
      "0.09400544959128065\n",
      "cow_id: 74\n",
      "0.0026490066225165563\n",
      "cow_id: 3149\n",
      "0.017467248908296942\n",
      "cow_id: 6222\n",
      "0.039540816326530615\n",
      "cow_id: 1103\n",
      "0.0020408163265306124\n",
      "cow_id: 4176\n",
      "0.032577903682719546\n",
      "cow_id: 2135\n",
      "0.06801736613603473\n",
      "cow_id: 1113\n",
      "0.0074005550416281225\n",
      "cow_id: 6235\n",
      "0.27607361963190186\n",
      "cow_id: 603\n",
      "0.009497964721845319\n",
      "cow_id: 4704\n",
      "0.03292181069958848\n",
      "cow_id: 6241\n",
      "0.014245014245014245\n",
      "cow_id: 4195\n",
      "0.00922266139657444\n",
      "cow_id: 5225\n",
      "0.002044989775051125\n",
      "cow_id: 4714\n",
      "0.03800475059382423\n",
      "cow_id: 5235\n",
      "0.017857142857142856\n",
      "cow_id: 5239\n",
      "0.02361111111111111\n",
      "cow_id: 3705\n",
      "0.004415011037527594\n",
      "cow_id: 4730\n",
      "0.28350515463917525\n",
      "cow_id: 3707\n",
      "0.007556675062972292\n",
      "cow_id: 645\n",
      "0.07954545454545454\n",
      "cow_id: 3206\n",
      "0.019363762102351315\n",
      "cow_id: 5767\n",
      "0.01813110181311018\n",
      "cow_id: 2694\n",
      "0.11235955056179775\n",
      "cow_id: 3718\n",
      "0.0021668472372697724\n",
      "cow_id: 5262\n",
      "0.07302231237322515\n",
      "cow_id: 2702\n",
      "0.0\n",
      "cow_id: 151\n",
      "0.00398406374501992\n",
      "cow_id: 6300\n",
      "0.0625\n",
      "cow_id: 4765\n",
      "0.022696929238985315\n",
      "cow_id: 1181\n",
      "0.02621359223300971\n",
      "cow_id: 5279\n",
      "0.06569343065693431\n",
      "cow_id: 3744\n",
      "0.12152777777777778\n",
      "cow_id: 4769\n",
      "0.14285714285714285\n",
      "cow_id: 2724\n",
      "0.1088560885608856\n",
      "cow_id: 1705\n",
      "0.12112676056338029\n",
      "cow_id: 6316\n",
      "0.12165450121654502\n",
      "cow_id: 5301\n",
      "0.14165261382799327\n",
      "cow_id: 2742\n",
      "0.014084507042253521\n",
      "cow_id: 4280\n",
      "0.014634146341463415\n",
      "cow_id: 4792\n",
      "0.13333333333333333\n",
      "cow_id: 708\n",
      "0.0012953367875647669\n",
      "cow_id: 4295\n",
      "0.1278825995807128\n",
      "cow_id: 5322\n",
      "0.0047169811320754715\n",
      "cow_id: 2251\n",
      "0.02402745995423341\n",
      "cow_id: 1738\n",
      "0.0161892901618929\n",
      "cow_id: 1744\n",
      "0.15217391304347827\n",
      "cow_id: 5846\n",
      "0.01303780964797914\n",
      "cow_id: 4311\n",
      "0.24774774774774774\n",
      "cow_id: 1755\n",
      "0.011918951132300357\n",
      "cow_id: 1244\n",
      "0.01748971193415638\n",
      "cow_id: 5852\n",
      "0.004012036108324975\n",
      "cow_id: 2278\n",
      "0.004914004914004914\n",
      "cow_id: 2792\n",
      "0.013062409288824383\n",
      "cow_id: 6380\n",
      "0.005649717514124294\n",
      "cow_id: 3822\n",
      "0.2356115107913669\n",
      "cow_id: 5873\n",
      "0.10590631364562118\n",
      "cow_id: 2805\n",
      "0.02269861286254729\n",
      "cow_id: 5372\n",
      "0.2591973244147157\n",
      "cow_id: 1277\n",
      "0.22359396433470508\n",
      "cow_id: 769\n",
      "0.022354694485842028\n",
      "cow_id: 1796\n",
      "0.028528528528528527\n",
      "cow_id: 4871\n",
      "0.013126491646778043\n",
      "cow_id: 2844\n",
      "0.04136947218259629\n",
      "cow_id: 289\n",
      "0.08870967741935484\n",
      "cow_id: 6434\n",
      "0.08744710860366714\n",
      "cow_id: 4899\n",
      "0.002331002331002331\n",
      "cow_id: 6439\n",
      "0.011146496815286623\n",
      "cow_id: 4910\n",
      "0.02681992337164751\n",
      "cow_id: 1842\n",
      "0.13333333333333333\n",
      "cow_id: 1331\n",
      "0.0022396416573348264\n",
      "cow_id: 6452\n",
      "0.024518388791593695\n",
      "cow_id: 2868\n",
      "0.009695290858725761\n",
      "cow_id: 3890\n",
      "0.008323424494649227\n",
      "cow_id: 1336\n",
      "0.01478494623655914\n",
      "cow_id: 6463\n",
      "0.008450704225352112\n",
      "cow_id: 2374\n",
      "0.0\n",
      "cow_id: 6472\n",
      "0.0037105751391465678\n",
      "cow_id: 4939\n",
      "0.003929273084479371\n",
      "cow_id: 2386\n",
      "0.013485477178423237\n",
      "cow_id: 855\n",
      "0.046153846153846156\n",
      "cow_id: 5465\n",
      "0.00410958904109589\n",
      "cow_id: 1905\n",
      "0.006880733944954129\n",
      "cow_id: 3446\n",
      "0.01844532279314888\n",
      "cow_id: 2423\n",
      "0.01445466491458607\n",
      "cow_id: 3447\n",
      "0.004484304932735426\n",
      "cow_id: 1910\n",
      "0.0273972602739726\n",
      "cow_id: 4990\n",
      "0.002331002331002331\n",
      "cow_id: 6018\n",
      "0.05771643663739021\n",
      "cow_id: 2956\n",
      "0.012064343163538873\n",
      "cow_id: 6039\n",
      "0.24283305227655985\n",
      "cow_id: 2460\n",
      "0.08737864077669903\n",
      "cow_id: 926\n",
      "0.007905138339920948\n",
      "cow_id: 5534\n",
      "0.18282988871224165\n",
      "cow_id: 2466\n",
      "0.17274939172749393\n",
      "cow_id: 2979\n",
      "0.06302521008403361\n",
      "cow_id: 4524\n",
      "0.008746355685131196\n",
      "cow_id: 4525\n",
      "0.0299625468164794\n",
      "cow_id: 4012\n",
      "0.003205128205128205\n",
      "cow_id: 943\n",
      "0.0035714285714285713\n",
      "cow_id: 5555\n",
      "0.005115089514066497\n",
      "cow_id: 5046\n",
      "0.004120879120879121\n",
      "cow_id: 951\n",
      "0.01092896174863388\n",
      "cow_id: 1464\n",
      "0.08722741433021806\n",
      "cow_id: 1985\n",
      "0.006243496357960458\n",
      "cow_id: 961\n",
      "0.10674157303370786\n",
      "cow_id: 6086\n",
      "0.015238095238095238\n",
      "cow_id: 2510\n",
      "0.001076426264800861\n",
      "cow_id: 978\n",
      "0.11379310344827587\n",
      "cow_id: 5076\n",
      "0.049281314168377825\n",
      "cow_id: 2517\n",
      "0.13445378151260504\n",
      "cow_id: 985\n",
      "0.0029354207436399216\n",
      "cow_id: 478\n",
      "0.012091898428053204\n",
      "cow_id: 5088\n",
      "0.009248554913294798\n",
      "cow_id: 5092\n",
      "0.0\n",
      "cow_id: 3045\n",
      "0.25770308123249297\n",
      "cow_id: 2031\n",
      "0.006756756756756757\n",
      "cow_id: 5616\n",
      "0.03417721518987342\n",
      "cow_id: 6127\n",
      "0.010146561443066516\n",
      "cow_id: 2039\n",
      "0.014184397163120567\n",
      "cow_id: 2047\n",
      "0.005330490405117271\n"
     ]
    },
    {
     "data": {
      "text/plain": [
       "<Figure size 640x480 with 0 Axes>"
      ]
     },
     "metadata": {},
     "output_type": "display_data"
    },
    {
     "data": {
      "text/plain": [
       "<Figure size 640x480 with 0 Axes>"
      ]
     },
     "metadata": {},
     "output_type": "display_data"
    },
    {
     "data": {
      "text/plain": [
       "<Figure size 640x480 with 0 Axes>"
      ]
     },
     "metadata": {},
     "output_type": "display_data"
    },
    {
     "data": {
      "text/plain": [
       "<Figure size 640x480 with 0 Axes>"
      ]
     },
     "metadata": {},
     "output_type": "display_data"
    },
    {
     "data": {
      "text/plain": [
       "<Figure size 640x480 with 0 Axes>"
      ]
     },
     "metadata": {},
     "output_type": "display_data"
    },
    {
     "data": {
      "text/plain": [
       "<Figure size 640x480 with 0 Axes>"
      ]
     },
     "metadata": {},
     "output_type": "display_data"
    },
    {
     "data": {
      "text/plain": [
       "<Figure size 640x480 with 0 Axes>"
      ]
     },
     "metadata": {},
     "output_type": "display_data"
    },
    {
     "data": {
      "text/plain": [
       "<Figure size 640x480 with 0 Axes>"
      ]
     },
     "metadata": {},
     "output_type": "display_data"
    },
    {
     "data": {
      "text/plain": [
       "<Figure size 640x480 with 0 Axes>"
      ]
     },
     "metadata": {},
     "output_type": "display_data"
    },
    {
     "data": {
      "text/plain": [
       "<Figure size 640x480 with 0 Axes>"
      ]
     },
     "metadata": {},
     "output_type": "display_data"
    },
    {
     "data": {
      "text/plain": [
       "<Figure size 640x480 with 0 Axes>"
      ]
     },
     "metadata": {},
     "output_type": "display_data"
    },
    {
     "data": {
      "text/plain": [
       "<Figure size 640x480 with 0 Axes>"
      ]
     },
     "metadata": {},
     "output_type": "display_data"
    },
    {
     "data": {
      "text/plain": [
       "<Figure size 640x480 with 0 Axes>"
      ]
     },
     "metadata": {},
     "output_type": "display_data"
    },
    {
     "data": {
      "text/plain": [
       "<Figure size 640x480 with 0 Axes>"
      ]
     },
     "metadata": {},
     "output_type": "display_data"
    },
    {
     "data": {
      "text/plain": [
       "<Figure size 640x480 with 0 Axes>"
      ]
     },
     "metadata": {},
     "output_type": "display_data"
    },
    {
     "data": {
      "text/plain": [
       "<Figure size 640x480 with 0 Axes>"
      ]
     },
     "metadata": {},
     "output_type": "display_data"
    },
    {
     "data": {
      "text/plain": [
       "<Figure size 640x480 with 0 Axes>"
      ]
     },
     "metadata": {},
     "output_type": "display_data"
    },
    {
     "data": {
      "text/plain": [
       "<Figure size 640x480 with 0 Axes>"
      ]
     },
     "metadata": {},
     "output_type": "display_data"
    },
    {
     "data": {
      "text/plain": [
       "<Figure size 640x480 with 0 Axes>"
      ]
     },
     "metadata": {},
     "output_type": "display_data"
    },
    {
     "data": {
      "text/plain": [
       "<Figure size 640x480 with 0 Axes>"
      ]
     },
     "metadata": {},
     "output_type": "display_data"
    },
    {
     "data": {
      "text/plain": [
       "<Figure size 640x480 with 0 Axes>"
      ]
     },
     "metadata": {},
     "output_type": "display_data"
    },
    {
     "data": {
      "text/plain": [
       "<Figure size 640x480 with 0 Axes>"
      ]
     },
     "metadata": {},
     "output_type": "display_data"
    },
    {
     "data": {
      "text/plain": [
       "<Figure size 640x480 with 0 Axes>"
      ]
     },
     "metadata": {},
     "output_type": "display_data"
    },
    {
     "data": {
      "text/plain": [
       "<Figure size 640x480 with 0 Axes>"
      ]
     },
     "metadata": {},
     "output_type": "display_data"
    },
    {
     "data": {
      "text/plain": [
       "<Figure size 640x480 with 0 Axes>"
      ]
     },
     "metadata": {},
     "output_type": "display_data"
    },
    {
     "data": {
      "text/plain": [
       "<Figure size 640x480 with 0 Axes>"
      ]
     },
     "metadata": {},
     "output_type": "display_data"
    },
    {
     "data": {
      "text/plain": [
       "<Figure size 640x480 with 0 Axes>"
      ]
     },
     "metadata": {},
     "output_type": "display_data"
    },
    {
     "data": {
      "text/plain": [
       "<Figure size 640x480 with 0 Axes>"
      ]
     },
     "metadata": {},
     "output_type": "display_data"
    },
    {
     "data": {
      "text/plain": [
       "<Figure size 640x480 with 0 Axes>"
      ]
     },
     "metadata": {},
     "output_type": "display_data"
    },
    {
     "data": {
      "text/plain": [
       "<Figure size 640x480 with 0 Axes>"
      ]
     },
     "metadata": {},
     "output_type": "display_data"
    },
    {
     "data": {
      "text/plain": [
       "<Figure size 640x480 with 0 Axes>"
      ]
     },
     "metadata": {},
     "output_type": "display_data"
    },
    {
     "data": {
      "text/plain": [
       "<Figure size 640x480 with 0 Axes>"
      ]
     },
     "metadata": {},
     "output_type": "display_data"
    },
    {
     "data": {
      "text/plain": [
       "<Figure size 640x480 with 0 Axes>"
      ]
     },
     "metadata": {},
     "output_type": "display_data"
    },
    {
     "data": {
      "text/plain": [
       "<Figure size 640x480 with 0 Axes>"
      ]
     },
     "metadata": {},
     "output_type": "display_data"
    },
    {
     "data": {
      "text/plain": [
       "<Figure size 640x480 with 0 Axes>"
      ]
     },
     "metadata": {},
     "output_type": "display_data"
    },
    {
     "data": {
      "text/plain": [
       "<Figure size 640x480 with 0 Axes>"
      ]
     },
     "metadata": {},
     "output_type": "display_data"
    },
    {
     "data": {
      "text/plain": [
       "<Figure size 640x480 with 0 Axes>"
      ]
     },
     "metadata": {},
     "output_type": "display_data"
    },
    {
     "data": {
      "text/plain": [
       "<Figure size 640x480 with 0 Axes>"
      ]
     },
     "metadata": {},
     "output_type": "display_data"
    },
    {
     "data": {
      "text/plain": [
       "<Figure size 640x480 with 0 Axes>"
      ]
     },
     "metadata": {},
     "output_type": "display_data"
    },
    {
     "data": {
      "text/plain": [
       "<Figure size 640x480 with 0 Axes>"
      ]
     },
     "metadata": {},
     "output_type": "display_data"
    },
    {
     "data": {
      "text/plain": [
       "<Figure size 640x480 with 0 Axes>"
      ]
     },
     "metadata": {},
     "output_type": "display_data"
    },
    {
     "data": {
      "text/plain": [
       "<Figure size 640x480 with 0 Axes>"
      ]
     },
     "metadata": {},
     "output_type": "display_data"
    },
    {
     "data": {
      "text/plain": [
       "<Figure size 640x480 with 0 Axes>"
      ]
     },
     "metadata": {},
     "output_type": "display_data"
    },
    {
     "data": {
      "text/plain": [
       "<Figure size 640x480 with 0 Axes>"
      ]
     },
     "metadata": {},
     "output_type": "display_data"
    },
    {
     "data": {
      "text/plain": [
       "<Figure size 640x480 with 0 Axes>"
      ]
     },
     "metadata": {},
     "output_type": "display_data"
    },
    {
     "data": {
      "text/plain": [
       "<Figure size 640x480 with 0 Axes>"
      ]
     },
     "metadata": {},
     "output_type": "display_data"
    },
    {
     "data": {
      "text/plain": [
       "<Figure size 640x480 with 0 Axes>"
      ]
     },
     "metadata": {},
     "output_type": "display_data"
    },
    {
     "data": {
      "text/plain": [
       "<Figure size 640x480 with 0 Axes>"
      ]
     },
     "metadata": {},
     "output_type": "display_data"
    },
    {
     "data": {
      "text/plain": [
       "<Figure size 640x480 with 0 Axes>"
      ]
     },
     "metadata": {},
     "output_type": "display_data"
    },
    {
     "data": {
      "text/plain": [
       "<Figure size 640x480 with 0 Axes>"
      ]
     },
     "metadata": {},
     "output_type": "display_data"
    },
    {
     "data": {
      "text/plain": [
       "<Figure size 640x480 with 0 Axes>"
      ]
     },
     "metadata": {},
     "output_type": "display_data"
    },
    {
     "data": {
      "text/plain": [
       "<Figure size 640x480 with 0 Axes>"
      ]
     },
     "metadata": {},
     "output_type": "display_data"
    },
    {
     "data": {
      "text/plain": [
       "<Figure size 640x480 with 0 Axes>"
      ]
     },
     "metadata": {},
     "output_type": "display_data"
    },
    {
     "data": {
      "text/plain": [
       "<Figure size 640x480 with 0 Axes>"
      ]
     },
     "metadata": {},
     "output_type": "display_data"
    },
    {
     "data": {
      "text/plain": [
       "<Figure size 640x480 with 0 Axes>"
      ]
     },
     "metadata": {},
     "output_type": "display_data"
    },
    {
     "data": {
      "text/plain": [
       "<Figure size 640x480 with 0 Axes>"
      ]
     },
     "metadata": {},
     "output_type": "display_data"
    },
    {
     "data": {
      "text/plain": [
       "<Figure size 640x480 with 0 Axes>"
      ]
     },
     "metadata": {},
     "output_type": "display_data"
    },
    {
     "data": {
      "text/plain": [
       "<Figure size 640x480 with 0 Axes>"
      ]
     },
     "metadata": {},
     "output_type": "display_data"
    },
    {
     "data": {
      "text/plain": [
       "<Figure size 640x480 with 0 Axes>"
      ]
     },
     "metadata": {},
     "output_type": "display_data"
    },
    {
     "data": {
      "text/plain": [
       "<Figure size 640x480 with 0 Axes>"
      ]
     },
     "metadata": {},
     "output_type": "display_data"
    },
    {
     "data": {
      "text/plain": [
       "<Figure size 640x480 with 0 Axes>"
      ]
     },
     "metadata": {},
     "output_type": "display_data"
    },
    {
     "data": {
      "text/plain": [
       "<Figure size 640x480 with 0 Axes>"
      ]
     },
     "metadata": {},
     "output_type": "display_data"
    },
    {
     "data": {
      "text/plain": [
       "<Figure size 640x480 with 0 Axes>"
      ]
     },
     "metadata": {},
     "output_type": "display_data"
    },
    {
     "data": {
      "text/plain": [
       "<Figure size 640x480 with 0 Axes>"
      ]
     },
     "metadata": {},
     "output_type": "display_data"
    },
    {
     "data": {
      "text/plain": [
       "<Figure size 640x480 with 0 Axes>"
      ]
     },
     "metadata": {},
     "output_type": "display_data"
    },
    {
     "data": {
      "text/plain": [
       "<Figure size 640x480 with 0 Axes>"
      ]
     },
     "metadata": {},
     "output_type": "display_data"
    },
    {
     "data": {
      "text/plain": [
       "<Figure size 640x480 with 0 Axes>"
      ]
     },
     "metadata": {},
     "output_type": "display_data"
    },
    {
     "data": {
      "text/plain": [
       "<Figure size 640x480 with 0 Axes>"
      ]
     },
     "metadata": {},
     "output_type": "display_data"
    },
    {
     "data": {
      "text/plain": [
       "<Figure size 640x480 with 0 Axes>"
      ]
     },
     "metadata": {},
     "output_type": "display_data"
    },
    {
     "data": {
      "text/plain": [
       "<Figure size 640x480 with 0 Axes>"
      ]
     },
     "metadata": {},
     "output_type": "display_data"
    },
    {
     "data": {
      "text/plain": [
       "<Figure size 640x480 with 0 Axes>"
      ]
     },
     "metadata": {},
     "output_type": "display_data"
    },
    {
     "data": {
      "text/plain": [
       "<Figure size 640x480 with 0 Axes>"
      ]
     },
     "metadata": {},
     "output_type": "display_data"
    },
    {
     "data": {
      "text/plain": [
       "<Figure size 640x480 with 0 Axes>"
      ]
     },
     "metadata": {},
     "output_type": "display_data"
    },
    {
     "data": {
      "text/plain": [
       "<Figure size 640x480 with 0 Axes>"
      ]
     },
     "metadata": {},
     "output_type": "display_data"
    },
    {
     "data": {
      "text/plain": [
       "<Figure size 640x480 with 0 Axes>"
      ]
     },
     "metadata": {},
     "output_type": "display_data"
    },
    {
     "data": {
      "text/plain": [
       "<Figure size 640x480 with 0 Axes>"
      ]
     },
     "metadata": {},
     "output_type": "display_data"
    },
    {
     "data": {
      "text/plain": [
       "<Figure size 640x480 with 0 Axes>"
      ]
     },
     "metadata": {},
     "output_type": "display_data"
    },
    {
     "data": {
      "text/plain": [
       "<Figure size 640x480 with 0 Axes>"
      ]
     },
     "metadata": {},
     "output_type": "display_data"
    },
    {
     "data": {
      "text/plain": [
       "<Figure size 640x480 with 0 Axes>"
      ]
     },
     "metadata": {},
     "output_type": "display_data"
    },
    {
     "data": {
      "text/plain": [
       "<Figure size 640x480 with 0 Axes>"
      ]
     },
     "metadata": {},
     "output_type": "display_data"
    },
    {
     "data": {
      "text/plain": [
       "<Figure size 640x480 with 0 Axes>"
      ]
     },
     "metadata": {},
     "output_type": "display_data"
    },
    {
     "data": {
      "text/plain": [
       "<Figure size 640x480 with 0 Axes>"
      ]
     },
     "metadata": {},
     "output_type": "display_data"
    },
    {
     "data": {
      "text/plain": [
       "<Figure size 640x480 with 0 Axes>"
      ]
     },
     "metadata": {},
     "output_type": "display_data"
    },
    {
     "data": {
      "text/plain": [
       "<Figure size 640x480 with 0 Axes>"
      ]
     },
     "metadata": {},
     "output_type": "display_data"
    },
    {
     "data": {
      "text/plain": [
       "<Figure size 640x480 with 0 Axes>"
      ]
     },
     "metadata": {},
     "output_type": "display_data"
    },
    {
     "data": {
      "text/plain": [
       "<Figure size 640x480 with 0 Axes>"
      ]
     },
     "metadata": {},
     "output_type": "display_data"
    },
    {
     "data": {
      "text/plain": [
       "<Figure size 640x480 with 0 Axes>"
      ]
     },
     "metadata": {},
     "output_type": "display_data"
    },
    {
     "data": {
      "text/plain": [
       "<Figure size 640x480 with 0 Axes>"
      ]
     },
     "metadata": {},
     "output_type": "display_data"
    },
    {
     "data": {
      "text/plain": [
       "<Figure size 640x480 with 0 Axes>"
      ]
     },
     "metadata": {},
     "output_type": "display_data"
    },
    {
     "data": {
      "text/plain": [
       "<Figure size 640x480 with 0 Axes>"
      ]
     },
     "metadata": {},
     "output_type": "display_data"
    },
    {
     "data": {
      "text/plain": [
       "<Figure size 640x480 with 0 Axes>"
      ]
     },
     "metadata": {},
     "output_type": "display_data"
    },
    {
     "data": {
      "text/plain": [
       "<Figure size 640x480 with 0 Axes>"
      ]
     },
     "metadata": {},
     "output_type": "display_data"
    },
    {
     "data": {
      "text/plain": [
       "<Figure size 640x480 with 0 Axes>"
      ]
     },
     "metadata": {},
     "output_type": "display_data"
    },
    {
     "data": {
      "text/plain": [
       "<Figure size 640x480 with 0 Axes>"
      ]
     },
     "metadata": {},
     "output_type": "display_data"
    },
    {
     "data": {
      "text/plain": [
       "<Figure size 640x480 with 0 Axes>"
      ]
     },
     "metadata": {},
     "output_type": "display_data"
    },
    {
     "data": {
      "text/plain": [
       "<Figure size 640x480 with 0 Axes>"
      ]
     },
     "metadata": {},
     "output_type": "display_data"
    },
    {
     "data": {
      "text/plain": [
       "<Figure size 640x480 with 0 Axes>"
      ]
     },
     "metadata": {},
     "output_type": "display_data"
    },
    {
     "data": {
      "text/plain": [
       "<Figure size 640x480 with 0 Axes>"
      ]
     },
     "metadata": {},
     "output_type": "display_data"
    },
    {
     "data": {
      "text/plain": [
       "<Figure size 640x480 with 0 Axes>"
      ]
     },
     "metadata": {},
     "output_type": "display_data"
    },
    {
     "data": {
      "text/plain": [
       "<Figure size 640x480 with 0 Axes>"
      ]
     },
     "metadata": {},
     "output_type": "display_data"
    },
    {
     "data": {
      "text/plain": [
       "<Figure size 640x480 with 0 Axes>"
      ]
     },
     "metadata": {},
     "output_type": "display_data"
    },
    {
     "data": {
      "text/plain": [
       "<Figure size 640x480 with 0 Axes>"
      ]
     },
     "metadata": {},
     "output_type": "display_data"
    },
    {
     "data": {
      "text/plain": [
       "<Figure size 640x480 with 0 Axes>"
      ]
     },
     "metadata": {},
     "output_type": "display_data"
    },
    {
     "data": {
      "text/plain": [
       "<Figure size 640x480 with 0 Axes>"
      ]
     },
     "metadata": {},
     "output_type": "display_data"
    },
    {
     "data": {
      "text/plain": [
       "<Figure size 640x480 with 0 Axes>"
      ]
     },
     "metadata": {},
     "output_type": "display_data"
    },
    {
     "data": {
      "text/plain": [
       "<Figure size 640x480 with 0 Axes>"
      ]
     },
     "metadata": {},
     "output_type": "display_data"
    },
    {
     "data": {
      "text/plain": [
       "<Figure size 640x480 with 0 Axes>"
      ]
     },
     "metadata": {},
     "output_type": "display_data"
    },
    {
     "data": {
      "text/plain": [
       "<Figure size 640x480 with 0 Axes>"
      ]
     },
     "metadata": {},
     "output_type": "display_data"
    },
    {
     "data": {
      "text/plain": [
       "<Figure size 640x480 with 0 Axes>"
      ]
     },
     "metadata": {},
     "output_type": "display_data"
    },
    {
     "data": {
      "text/plain": [
       "<Figure size 640x480 with 0 Axes>"
      ]
     },
     "metadata": {},
     "output_type": "display_data"
    },
    {
     "data": {
      "text/plain": [
       "<Figure size 640x480 with 0 Axes>"
      ]
     },
     "metadata": {},
     "output_type": "display_data"
    },
    {
     "data": {
      "text/plain": [
       "<Figure size 640x480 with 0 Axes>"
      ]
     },
     "metadata": {},
     "output_type": "display_data"
    },
    {
     "data": {
      "text/plain": [
       "<Figure size 640x480 with 0 Axes>"
      ]
     },
     "metadata": {},
     "output_type": "display_data"
    },
    {
     "data": {
      "text/plain": [
       "<Figure size 640x480 with 0 Axes>"
      ]
     },
     "metadata": {},
     "output_type": "display_data"
    },
    {
     "data": {
      "text/plain": [
       "<Figure size 640x480 with 0 Axes>"
      ]
     },
     "metadata": {},
     "output_type": "display_data"
    },
    {
     "data": {
      "text/plain": [
       "<Figure size 640x480 with 0 Axes>"
      ]
     },
     "metadata": {},
     "output_type": "display_data"
    },
    {
     "data": {
      "text/plain": [
       "<Figure size 640x480 with 0 Axes>"
      ]
     },
     "metadata": {},
     "output_type": "display_data"
    },
    {
     "data": {
      "text/plain": [
       "<Figure size 640x480 with 0 Axes>"
      ]
     },
     "metadata": {},
     "output_type": "display_data"
    },
    {
     "data": {
      "text/plain": [
       "<Figure size 640x480 with 0 Axes>"
      ]
     },
     "metadata": {},
     "output_type": "display_data"
    },
    {
     "data": {
      "text/plain": [
       "<Figure size 640x480 with 0 Axes>"
      ]
     },
     "metadata": {},
     "output_type": "display_data"
    },
    {
     "data": {
      "text/plain": [
       "<Figure size 640x480 with 0 Axes>"
      ]
     },
     "metadata": {},
     "output_type": "display_data"
    },
    {
     "data": {
      "text/plain": [
       "<Figure size 640x480 with 0 Axes>"
      ]
     },
     "metadata": {},
     "output_type": "display_data"
    },
    {
     "data": {
      "text/plain": [
       "<Figure size 640x480 with 0 Axes>"
      ]
     },
     "metadata": {},
     "output_type": "display_data"
    },
    {
     "data": {
      "text/plain": [
       "<Figure size 640x480 with 0 Axes>"
      ]
     },
     "metadata": {},
     "output_type": "display_data"
    },
    {
     "data": {
      "text/plain": [
       "<Figure size 640x480 with 0 Axes>"
      ]
     },
     "metadata": {},
     "output_type": "display_data"
    },
    {
     "data": {
      "text/plain": [
       "<Figure size 640x480 with 0 Axes>"
      ]
     },
     "metadata": {},
     "output_type": "display_data"
    },
    {
     "data": {
      "text/plain": [
       "<Figure size 640x480 with 0 Axes>"
      ]
     },
     "metadata": {},
     "output_type": "display_data"
    },
    {
     "data": {
      "text/plain": [
       "<Figure size 640x480 with 0 Axes>"
      ]
     },
     "metadata": {},
     "output_type": "display_data"
    },
    {
     "data": {
      "text/plain": [
       "<Figure size 640x480 with 0 Axes>"
      ]
     },
     "metadata": {},
     "output_type": "display_data"
    },
    {
     "data": {
      "text/plain": [
       "<Figure size 640x480 with 0 Axes>"
      ]
     },
     "metadata": {},
     "output_type": "display_data"
    },
    {
     "data": {
      "text/plain": [
       "<Figure size 640x480 with 0 Axes>"
      ]
     },
     "metadata": {},
     "output_type": "display_data"
    },
    {
     "data": {
      "text/plain": [
       "<Figure size 640x480 with 0 Axes>"
      ]
     },
     "metadata": {},
     "output_type": "display_data"
    },
    {
     "data": {
      "text/plain": [
       "<Figure size 640x480 with 0 Axes>"
      ]
     },
     "metadata": {},
     "output_type": "display_data"
    },
    {
     "data": {
      "text/plain": [
       "<Figure size 640x480 with 0 Axes>"
      ]
     },
     "metadata": {},
     "output_type": "display_data"
    },
    {
     "data": {
      "text/plain": [
       "<Figure size 640x480 with 0 Axes>"
      ]
     },
     "metadata": {},
     "output_type": "display_data"
    },
    {
     "data": {
      "text/plain": [
       "<Figure size 640x480 with 0 Axes>"
      ]
     },
     "metadata": {},
     "output_type": "display_data"
    },
    {
     "data": {
      "text/plain": [
       "<Figure size 640x480 with 0 Axes>"
      ]
     },
     "metadata": {},
     "output_type": "display_data"
    },
    {
     "data": {
      "text/plain": [
       "<Figure size 640x480 with 0 Axes>"
      ]
     },
     "metadata": {},
     "output_type": "display_data"
    },
    {
     "data": {
      "text/plain": [
       "<Figure size 640x480 with 0 Axes>"
      ]
     },
     "metadata": {},
     "output_type": "display_data"
    },
    {
     "data": {
      "text/plain": [
       "<Figure size 640x480 with 0 Axes>"
      ]
     },
     "metadata": {},
     "output_type": "display_data"
    },
    {
     "data": {
      "text/plain": [
       "<Figure size 640x480 with 0 Axes>"
      ]
     },
     "metadata": {},
     "output_type": "display_data"
    },
    {
     "data": {
      "text/plain": [
       "<Figure size 640x480 with 0 Axes>"
      ]
     },
     "metadata": {},
     "output_type": "display_data"
    }
   ],
   "source": [
    "#Uses the labeling_problematic function to label problematic cows and print distribution of time into a PDF\n",
    "from matplotlib.backends.backend_pdf import PdfPages\n",
    "import warnings\n",
    "pd.set_option('mode.chained_assignment', None)\n",
    "\n",
    "\"\"\" plot the relations between timeDelta and Lactation/DIM(DaysInMilk)\n",
    "        @@@ Total_timeDelta @@@\n",
    "    \"\"\" \n",
    "with warnings.catch_warnings():\n",
    "    warnings.simplefilter(\"ignore\")\n",
    "    with PdfPages(dataDir/'100cows_timecost_scatters_lac1_with_label_scale30000.pdf') as pdf:\n",
    "        for id in filter_list:\n",
    "            print(\"cow_id:\", id)\n",
    "            single_cow_merge = data_collector(traffic, gigacow, lactation, id, [1])\n",
    "            single_cow_merge = labeling_problematic(0.05, single_cow_merge)\n",
    "            prob = single_cow_merge.problematic.unique()[0]\n",
    "            fig1 = plt.figure()\n",
    "            # fig2 = plt.figure()\n",
    "            if prob == 1:\n",
    "                title = \"Problematic_Cow_cow_id_\"+ str(id)\n",
    "            else:\n",
    "                title = \"Normal_Cow_cow_id_\"+ str(id)\n",
    "            fig1 = single_cow_merge.loc[single_cow_merge.LactationNumber == 1].plot(x=\"DaysInMilk\", y=\"Total_timeDelta_Seconds\", kind='scatter', title=title+\"_Lac1\", xlim=[1, 360], ylim=[0, 30000], s=2, c='b')\n",
    "            # fig2 = single_cow_merge.loc[single_cow_merge.LactationNumber == 2].plot(x=\"DaysInMilk\", y=\"Total_timeDelta_Seconds\", kind='scatter', title=title+\"_Lac2\", xlim=[1, 360], ylim=[0, 10000], s=2, c='b')\n",
    "            pdf.savefig(fig1.get_figure())\n",
    "            # pdf.savefig(fig2.get_figure())\n",
    "            plt.close()"
   ]
  },
  {
   "cell_type": "code",
   "execution_count": 9,
   "metadata": {},
   "outputs": [
    {
     "name": "stdout",
     "output_type": "stream",
     "text": [
      "0.003472222222222222\n",
      "0.0680379746835443\n",
      "This cow is problematic\n",
      "0.14465408805031446\n",
      "This cow is problematic\n",
      "0.0\n",
      "0.24615384615384617\n",
      "This cow is problematic\n",
      "0.032362459546925564\n",
      "0.0017452006980802793\n",
      "0.17270788912579957\n",
      "This cow is problematic\n",
      "0.0\n",
      "0.0\n",
      "0.01238390092879257\n",
      "0.01703800786369594\n",
      "0.21496815286624205\n",
      "This cow is problematic\n",
      "0.05955678670360111\n",
      "This cow is problematic\n",
      "0.004722550177095631\n",
      "0.003260869565217391\n",
      "0.09314586994727592\n",
      "This cow is problematic\n",
      "0.018907563025210083\n",
      "0.0027397260273972603\n",
      "0.4318181818181818\n",
      "This cow is problematic\n",
      "0.013793103448275862\n",
      "0.09400544959128065\n",
      "This cow is problematic\n",
      "0.0026490066225165563\n",
      "0.017467248908296942\n",
      "0.039540816326530615\n",
      "0.0020408163265306124\n",
      "0.032577903682719546\n",
      "0.06801736613603473\n",
      "This cow is problematic\n",
      "0.0074005550416281225\n",
      "0.27607361963190186\n",
      "This cow is problematic\n",
      "0.009497964721845319\n",
      "0.03292181069958848\n",
      "0.014245014245014245\n",
      "0.00922266139657444\n",
      "0.002044989775051125\n",
      "0.03800475059382423\n",
      "0.017857142857142856\n",
      "0.02361111111111111\n",
      "0.004415011037527594\n",
      "0.28350515463917525\n",
      "This cow is problematic\n",
      "0.007556675062972292\n",
      "0.07954545454545454\n",
      "This cow is problematic\n",
      "0.019363762102351315\n",
      "0.01813110181311018\n",
      "0.11235955056179775\n",
      "This cow is problematic\n",
      "0.0021668472372697724\n",
      "0.07302231237322515\n",
      "This cow is problematic\n",
      "0.0\n",
      "0.00398406374501992\n",
      "0.0625\n",
      "This cow is problematic\n",
      "0.022696929238985315\n",
      "0.02621359223300971\n",
      "0.06569343065693431\n",
      "This cow is problematic\n",
      "0.12152777777777778\n",
      "This cow is problematic\n",
      "0.14285714285714285\n",
      "This cow is problematic\n",
      "0.1088560885608856\n",
      "This cow is problematic\n",
      "0.12112676056338029\n",
      "This cow is problematic\n",
      "0.12165450121654502\n",
      "This cow is problematic\n",
      "0.14165261382799327\n",
      "This cow is problematic\n",
      "0.014084507042253521\n",
      "0.014634146341463415\n",
      "0.13333333333333333\n",
      "This cow is problematic\n",
      "0.0012953367875647669\n",
      "0.1278825995807128\n",
      "This cow is problematic\n",
      "0.0047169811320754715\n",
      "0.02402745995423341\n",
      "0.0161892901618929\n",
      "0.15217391304347827\n",
      "This cow is problematic\n",
      "0.01303780964797914\n",
      "0.24774774774774774\n",
      "This cow is problematic\n",
      "0.011918951132300357\n",
      "0.01748971193415638\n",
      "0.004012036108324975\n",
      "0.004914004914004914\n",
      "0.013062409288824383\n",
      "0.005649717514124294\n",
      "0.2356115107913669\n",
      "This cow is problematic\n",
      "0.10590631364562118\n",
      "This cow is problematic\n",
      "0.02269861286254729\n",
      "0.2591973244147157\n",
      "This cow is problematic\n",
      "0.22359396433470508\n",
      "This cow is problematic\n",
      "0.022354694485842028\n",
      "0.028528528528528527\n",
      "0.013126491646778043\n",
      "0.04136947218259629\n",
      "0.08870967741935484\n",
      "This cow is problematic\n",
      "0.08744710860366714\n",
      "This cow is problematic\n",
      "0.002331002331002331\n",
      "0.011146496815286623\n",
      "0.02681992337164751\n",
      "0.13333333333333333\n",
      "This cow is problematic\n",
      "0.0022396416573348264\n",
      "0.024518388791593695\n",
      "0.009695290858725761\n",
      "0.008323424494649227\n",
      "0.01478494623655914\n",
      "0.008450704225352112\n",
      "0.0\n",
      "0.0037105751391465678\n",
      "0.003929273084479371\n",
      "0.013485477178423237\n",
      "0.046153846153846156\n",
      "0.00410958904109589\n",
      "0.006880733944954129\n",
      "0.01844532279314888\n",
      "0.01445466491458607\n",
      "0.004484304932735426\n",
      "0.0273972602739726\n",
      "0.002331002331002331\n",
      "0.05771643663739021\n",
      "This cow is problematic\n",
      "0.012064343163538873\n",
      "0.24283305227655985\n",
      "This cow is problematic\n",
      "0.08737864077669903\n",
      "This cow is problematic\n",
      "0.007905138339920948\n",
      "0.18282988871224165\n",
      "This cow is problematic\n",
      "0.17274939172749393\n",
      "This cow is problematic\n",
      "0.06302521008403361\n",
      "This cow is problematic\n",
      "0.008746355685131196\n",
      "0.0299625468164794\n",
      "0.003205128205128205\n",
      "0.0035714285714285713\n",
      "0.005115089514066497\n",
      "0.004120879120879121\n",
      "0.01092896174863388\n",
      "0.08722741433021806\n",
      "This cow is problematic\n",
      "0.006243496357960458\n",
      "0.10674157303370786\n",
      "This cow is problematic\n",
      "0.015238095238095238\n",
      "0.001076426264800861\n",
      "0.11379310344827587\n",
      "This cow is problematic\n",
      "0.049281314168377825\n",
      "0.13445378151260504\n",
      "This cow is problematic\n",
      "0.0029354207436399216\n",
      "0.012091898428053204\n",
      "0.009248554913294798\n",
      "0.0\n",
      "0.25770308123249297\n",
      "This cow is problematic\n",
      "0.006756756756756757\n",
      "0.03417721518987342\n",
      "0.010146561443066516\n",
      "0.014184397163120567\n",
      "0.005330490405117271\n",
      "num of cows:  147\n",
      "Mean of total time cost:  1910.2427881622716\n"
     ]
    }
   ],
   "source": [
    "pd.options.mode.chained_assignment = None\n",
    "\n",
    "mean_totalTimeCost = 0\n",
    "Path(dataDir/'Problematic_targetCows').mkdir(parents=True, exist_ok=True)\n",
    "lactationNum = [1]\n",
    "\n",
    "# save a list of cow data for abnormal cows detection problem\n",
    "for i, cow_id in enumerate(filter_list):\n",
    "    single_cow_merge = data_collector(traffic, gigacow, lactation, cow_id, lactationNum)\n",
    "    mean_totalTimeCost += single_cow_merge.Total_timeDelta_Seconds.mean()\n",
    "    single_cow_merge = labeling_problematic(threshold_ratio, single_cow_merge)\n",
    "    problematic = single_cow_merge.problematic.unique()[0]\n",
    "    if problematic == 1:\n",
    "        print(\"This cow is problematic\")\n",
    "    single_cow_merge[\"id\"] = i+1\n",
    "    single_cow_merge.dropna(inplace=True)\n",
    "    fileName = 'Problematic_targetCows/cow_' + str(i) + '.csv'\n",
    "    single_cow_merge.to_csv(dataDir/fileName)\n",
    "print(\"num of cows: \", len(cow_list))\n",
    "print(\"Mean of total time cost: \", mean_totalTimeCost/len(cow_list))"
   ]
  },
  {
   "cell_type": "code",
   "execution_count": 12,
   "metadata": {},
   "outputs": [
    {
     "data": {
      "text/html": [
       "<div>\n",
       "<style scoped>\n",
       "    .dataframe tbody tr th:only-of-type {\n",
       "        vertical-align: middle;\n",
       "    }\n",
       "\n",
       "    .dataframe tbody tr th {\n",
       "        vertical-align: top;\n",
       "    }\n",
       "\n",
       "    .dataframe thead th {\n",
       "        text-align: right;\n",
       "    }\n",
       "</style>\n",
       "<table border=\"1\" class=\"dataframe\">\n",
       "  <thead>\n",
       "    <tr style=\"text-align: right;\">\n",
       "      <th></th>\n",
       "      <th>FarmName_Pseudo</th>\n",
       "      <th>Gigacow_Cow_Id</th>\n",
       "      <th>Total_MilkProduction</th>\n",
       "      <th>Total_timeDelta_Seconds</th>\n",
       "      <th>MilkingDate</th>\n",
       "      <th>LactationNumber</th>\n",
       "      <th>DaysInMilk</th>\n",
       "      <th>BreedName</th>\n",
       "      <th>Age</th>\n",
       "      <th>problematic</th>\n",
       "      <th>id</th>\n",
       "    </tr>\n",
       "  </thead>\n",
       "  <tbody>\n",
       "    <tr>\n",
       "      <th>0</th>\n",
       "      <td>a624fb9a</td>\n",
       "      <td>2560</td>\n",
       "      <td>9.38</td>\n",
       "      <td>3176.0</td>\n",
       "      <td>2022-02-14</td>\n",
       "      <td>1.0</td>\n",
       "      <td>2.0</td>\n",
       "      <td>1</td>\n",
       "      <td>2.15</td>\n",
       "      <td>0</td>\n",
       "      <td>1</td>\n",
       "    </tr>\n",
       "    <tr>\n",
       "      <th>1</th>\n",
       "      <td>a624fb9a</td>\n",
       "      <td>2560</td>\n",
       "      <td>8.46</td>\n",
       "      <td>352.0</td>\n",
       "      <td>2022-02-14</td>\n",
       "      <td>1.0</td>\n",
       "      <td>2.0</td>\n",
       "      <td>1</td>\n",
       "      <td>2.15</td>\n",
       "      <td>0</td>\n",
       "      <td>1</td>\n",
       "    </tr>\n",
       "    <tr>\n",
       "      <th>2</th>\n",
       "      <td>a624fb9a</td>\n",
       "      <td>2560</td>\n",
       "      <td>6.68</td>\n",
       "      <td>997.0</td>\n",
       "      <td>2022-02-15</td>\n",
       "      <td>1.0</td>\n",
       "      <td>3.0</td>\n",
       "      <td>1</td>\n",
       "      <td>2.15</td>\n",
       "      <td>0</td>\n",
       "      <td>1</td>\n",
       "    </tr>\n",
       "    <tr>\n",
       "      <th>3</th>\n",
       "      <td>a624fb9a</td>\n",
       "      <td>2560</td>\n",
       "      <td>7.34</td>\n",
       "      <td>9274.0</td>\n",
       "      <td>2022-02-15</td>\n",
       "      <td>1.0</td>\n",
       "      <td>3.0</td>\n",
       "      <td>1</td>\n",
       "      <td>2.15</td>\n",
       "      <td>0</td>\n",
       "      <td>1</td>\n",
       "    </tr>\n",
       "    <tr>\n",
       "      <th>4</th>\n",
       "      <td>a624fb9a</td>\n",
       "      <td>2560</td>\n",
       "      <td>8.15</td>\n",
       "      <td>407.0</td>\n",
       "      <td>2022-02-16</td>\n",
       "      <td>1.0</td>\n",
       "      <td>4.0</td>\n",
       "      <td>1</td>\n",
       "      <td>2.15</td>\n",
       "      <td>0</td>\n",
       "      <td>1</td>\n",
       "    </tr>\n",
       "    <tr>\n",
       "      <th>...</th>\n",
       "      <td>...</td>\n",
       "      <td>...</td>\n",
       "      <td>...</td>\n",
       "      <td>...</td>\n",
       "      <td>...</td>\n",
       "      <td>...</td>\n",
       "      <td>...</td>\n",
       "      <td>...</td>\n",
       "      <td>...</td>\n",
       "      <td>...</td>\n",
       "      <td>...</td>\n",
       "    </tr>\n",
       "    <tr>\n",
       "      <th>95849</th>\n",
       "      <td>a624fb9a</td>\n",
       "      <td>2047</td>\n",
       "      <td>7.96</td>\n",
       "      <td>59.0</td>\n",
       "      <td>2022-11-12</td>\n",
       "      <td>1.0</td>\n",
       "      <td>322.0</td>\n",
       "      <td>1</td>\n",
       "      <td>3.02</td>\n",
       "      <td>0</td>\n",
       "      <td>142</td>\n",
       "    </tr>\n",
       "    <tr>\n",
       "      <th>95850</th>\n",
       "      <td>a624fb9a</td>\n",
       "      <td>2047</td>\n",
       "      <td>5.53</td>\n",
       "      <td>148.0</td>\n",
       "      <td>2022-11-13</td>\n",
       "      <td>1.0</td>\n",
       "      <td>323.0</td>\n",
       "      <td>1</td>\n",
       "      <td>3.03</td>\n",
       "      <td>0</td>\n",
       "      <td>142</td>\n",
       "    </tr>\n",
       "    <tr>\n",
       "      <th>95851</th>\n",
       "      <td>a624fb9a</td>\n",
       "      <td>2047</td>\n",
       "      <td>3.24</td>\n",
       "      <td>287.0</td>\n",
       "      <td>2022-11-13</td>\n",
       "      <td>1.0</td>\n",
       "      <td>323.0</td>\n",
       "      <td>1</td>\n",
       "      <td>3.03</td>\n",
       "      <td>0</td>\n",
       "      <td>142</td>\n",
       "    </tr>\n",
       "    <tr>\n",
       "      <th>95852</th>\n",
       "      <td>a624fb9a</td>\n",
       "      <td>2047</td>\n",
       "      <td>9.23</td>\n",
       "      <td>240.0</td>\n",
       "      <td>2022-11-13</td>\n",
       "      <td>1.0</td>\n",
       "      <td>323.0</td>\n",
       "      <td>1</td>\n",
       "      <td>3.03</td>\n",
       "      <td>0</td>\n",
       "      <td>142</td>\n",
       "    </tr>\n",
       "    <tr>\n",
       "      <th>95853</th>\n",
       "      <td>a624fb9a</td>\n",
       "      <td>2047</td>\n",
       "      <td>7.42</td>\n",
       "      <td>10.0</td>\n",
       "      <td>2022-11-14</td>\n",
       "      <td>1.0</td>\n",
       "      <td>324.0</td>\n",
       "      <td>1</td>\n",
       "      <td>3.03</td>\n",
       "      <td>0</td>\n",
       "      <td>142</td>\n",
       "    </tr>\n",
       "  </tbody>\n",
       "</table>\n",
       "<p>95854 rows × 11 columns</p>\n",
       "</div>"
      ],
      "text/plain": [
       "      FarmName_Pseudo  Gigacow_Cow_Id  Total_MilkProduction  \\\n",
       "0            a624fb9a            2560                  9.38   \n",
       "1            a624fb9a            2560                  8.46   \n",
       "2            a624fb9a            2560                  6.68   \n",
       "3            a624fb9a            2560                  7.34   \n",
       "4            a624fb9a            2560                  8.15   \n",
       "...               ...             ...                   ...   \n",
       "95849        a624fb9a            2047                  7.96   \n",
       "95850        a624fb9a            2047                  5.53   \n",
       "95851        a624fb9a            2047                  3.24   \n",
       "95852        a624fb9a            2047                  9.23   \n",
       "95853        a624fb9a            2047                  7.42   \n",
       "\n",
       "       Total_timeDelta_Seconds MilkingDate  LactationNumber  DaysInMilk  \\\n",
       "0                       3176.0  2022-02-14              1.0         2.0   \n",
       "1                        352.0  2022-02-14              1.0         2.0   \n",
       "2                        997.0  2022-02-15              1.0         3.0   \n",
       "3                       9274.0  2022-02-15              1.0         3.0   \n",
       "4                        407.0  2022-02-16              1.0         4.0   \n",
       "...                        ...         ...              ...         ...   \n",
       "95849                     59.0  2022-11-12              1.0       322.0   \n",
       "95850                    148.0  2022-11-13              1.0       323.0   \n",
       "95851                    287.0  2022-11-13              1.0       323.0   \n",
       "95852                    240.0  2022-11-13              1.0       323.0   \n",
       "95853                     10.0  2022-11-14              1.0       324.0   \n",
       "\n",
       "       BreedName   Age  problematic   id  \n",
       "0              1  2.15            0    1  \n",
       "1              1  2.15            0    1  \n",
       "2              1  2.15            0    1  \n",
       "3              1  2.15            0    1  \n",
       "4              1  2.15            0    1  \n",
       "...          ...   ...          ...  ...  \n",
       "95849          1  3.02            0  142  \n",
       "95850          1  3.03            0  142  \n",
       "95851          1  3.03            0  142  \n",
       "95852          1  3.03            0  142  \n",
       "95853          1  3.03            0  142  \n",
       "\n",
       "[95854 rows x 11 columns]"
      ]
     },
     "execution_count": 12,
     "metadata": {},
     "output_type": "execute_result"
    }
   ],
   "source": [
    "\"\"\" Data Preparation L1 \"\"\"\n",
    "cow_total = None\n",
    "usecols = ['id', 'FarmName_Pseudo', 'Gigacow_Cow_Id', 'Total_MilkProduction', 'Total_timeDelta_Seconds', 'LactationNumber', 'DaysInMilk', 'BreedName', 'Age', 'MilkingDate', 'problematic']\n",
    "dataDir = Path.cwd().parent.parent/'Data/processed/Problematic_targetCows/'\n",
    "\n",
    "# integrate all the cows data into one dataset\n",
    "filelist = list(Path(dataDir).glob('cow_*.csv'))\n",
    "for i, _ in enumerate(filelist):\n",
    "    fileName = 'cow_' + str(i) + '.csv'\n",
    "    single_cow = pd.read_csv(dataDir/fileName, encoding='utf-8', usecols=usecols)\n",
    "    single_cow.sort_values(by=['MilkingDate'], inplace=True)\n",
    "    if i == 0:\n",
    "        cow_total = single_cow\n",
    "    else:\n",
    "        cow_total = pd.concat([cow_total, single_cow], axis=0, ignore_index=True)\n",
    "cow_total.to_csv(dataDir.parent/\"Cow_Prob_dataset_L1.csv\", index=False)\n",
    "cow_total"
   ]
  },
  {
   "cell_type": "code",
   "execution_count": null,
   "metadata": {},
   "outputs": [],
   "source": []
  }
 ],
 "metadata": {
  "kernelspec": {
   "display_name": "Python 3 (ipykernel)",
   "language": "python",
   "name": "python3"
  },
  "language_info": {
   "codemirror_mode": {
    "name": "ipython",
    "version": 3
   },
   "file_extension": ".py",
   "mimetype": "text/x-python",
   "name": "python",
   "nbconvert_exporter": "python",
   "pygments_lexer": "ipython3",
   "version": "3.11.6"
  },
  "vscode": {
   "interpreter": {
    "hash": "7857ada9c2c05e5ee75d334d60fb77cca110ad03375c3b02029444557fa6212d"
   }
  }
 },
 "nbformat": 4,
 "nbformat_minor": 4
}
