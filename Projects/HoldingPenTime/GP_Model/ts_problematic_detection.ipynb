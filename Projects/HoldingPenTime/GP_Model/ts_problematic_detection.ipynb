{
 "cells": [
  {
   "cell_type": "code",
   "execution_count": 1,
   "metadata": {},
   "outputs": [
    {
     "name": "stdout",
     "output_type": "stream",
     "text": [
      "Gigacow_Cow_Id\n",
      "5613    17247\n",
      "4504    16330\n",
      "5046    15623\n",
      "5147    15440\n",
      "3147    15303\n",
      "478     14751\n",
      "6380    14514\n",
      "1181    14434\n",
      "4478    14434\n",
      "1985    14419\n",
      "Name: count, dtype: int64\n"
     ]
    }
   ],
   "source": [
    "'''\n",
    "#Gigacow-tools# - data collection for fast/slow learner.\n",
    "This scripts used for single cow data collection work.\n",
    "Data Tables: gigacow_filter.csv, lactation_filter.csv, traffic_raw_filter.csv\n",
    "'''\n",
    "\n",
    "import pandas as pd\n",
    "import numpy as np\n",
    "import matplotlib.pyplot as plt\n",
    "from pathlib import Path\n",
    "pd.options.mode.chained_assignment = None\n",
    "from tsfresh import extract_features\n",
    "from tsfresh import select_features\n",
    "from tsfresh.utilities.dataframe_functions import impute\n",
    "from tsfresh.feature_selection.relevance import calculate_relevance_table\n",
    "from tsfresh.feature_extraction import ComprehensiveFCParameters, MinimalFCParameters\n",
    "from sklearn.preprocessing import StandardScaler, OneHotEncoder\n",
    "\n",
    "#access data from local directory\n",
    "dataDir = Path.cwd().parent.parent/'Data/processed'\n",
    "gigacow_cols = ['Gigacow_Cow_Id', 'FarmName_Pseudo', 'BreedName', 'BirthDate']\n",
    "lactation_cols = ['Gigacow_Cow_Id', 'FarmName_Pseudo', 'LactationInfoDate', 'LactationNumber', 'DaysInMilk']\n",
    "gigacow = pd.read_csv(dataDir/'gigacow_filter.csv', encoding='utf-8', usecols=gigacow_cols)\n",
    "lactation = pd.read_csv(dataDir/'lactation_filter.csv', encoding='utf-8', usecols=lactation_cols)\n",
    "traffic = pd.read_csv(dataDir/'traffic_raw_filter.csv', encoding='utf-8', index_col=False)\n",
    "#check out cows with most milking events\n",
    "print(traffic.Gigacow_Cow_Id.value_counts().nlargest(10))"
   ]
  },
  {
   "cell_type": "code",
   "execution_count": 2,
   "metadata": {},
   "outputs": [
    {
     "name": "stdout",
     "output_type": "stream",
     "text": [
      "147 [2560, 3075, 2568, 2569, 4109, 3603, 1555, 6164, 5147, 3613, 3104, 1057, 544, 550, 5160, 2090, 4142, 48, 3638, 5691, 2112, 3657, 74, 3149, 6222, 1103, 4176, 2135, 1113, 6235, 603, 4704, 6241, 4195, 5225, 4714, 622, 5235, 5239, 3705, 4730, 3707, 645, 3206, 5767, 2694, 3718, 5262, 2702, 151, 6300, 4765, 1181, 5279, 3744, 4769, 2724, 1705, 6316, 3762, 5301, 182, 2742, 4280, 4792, 708, 4295, 5322, 2251, 1738, 1744, 5846, 4311, 1755, 1244, 5852, 2278, 2792, 6380, 3822, 5873, 2805, 5372, 1277, 769, 1796, 4871, 2844, 289, 6434, 4899, 6439, 4910, 1842, 1331, 6452, 2868, 3890, 1336, 6463, 2374, 6472, 4939, 2386, 855, 5465, 1905, 3446, 2423, 3447, 1910, 4990, 6018, 2956, 6039, 2460, 926, 3487, 5534, 2466, 2979, 4524, 4525, 4012, 943, 5555, 5046, 951, 1464, 4537, 1985, 961, 6086, 2510, 978, 5076, 2517, 985, 478, 5088, 5092, 3045, 2031, 5616, 6127, 2039, 2047]\n"
     ]
    }
   ],
   "source": [
    "# Select cows with sufficient data points on single lactation periods\n",
    "# Try to collect cow's data that contain milking events on lactation periods 1\n",
    "# fetch all milking traffic events for merging\n",
    "traffic_milking = traffic.TrafficResult.str.contains('kg', regex=False)\n",
    "all_list = traffic_milking.index[traffic_milking.values == True].tolist()\n",
    "milking_total = traffic[traffic.index.isin(all_list)]\n",
    "milking_total.TrafficEventDateTime = pd.to_datetime(milking_total.TrafficEventDateTime)\n",
    "milking_total['milking_date'] = milking_total.TrafficEventDateTime.dt.date\n",
    "\n",
    "# convert data type\n",
    "milking_total.milking_date = pd.to_datetime(milking_total.milking_date)\n",
    "lactation.LactationInfoDate = pd.to_datetime(lactation.LactationInfoDate)\n",
    "# merge all milking events with lactation table for filtering\n",
    "milking_total = milking_total.merge(lactation, how='left', left_on=['FarmName_Pseudo', 'Gigacow_Cow_Id', 'milking_date'], right_on=['FarmName_Pseudo', 'Gigacow_Cow_Id', 'LactationInfoDate'])\n",
    "def lac_collect(NumLac, milking_total):\n",
    "    \"\"\"Generate cow list for multiple lactation periods.\n",
    "\n",
    "    Args:\n",
    "        NumLac: The number of lactaion period\n",
    "        milking_total: A dataframe contains all the milkings events\n",
    "\n",
    "    Returns:\n",
    "        A list contain all the cows events with sufficient data points within the lactation periods.\n",
    "    \"\"\"\n",
    "    cow_list = list()\n",
    "    for num in range(1, NumLac+1):\n",
    "        # select records that contains lactation period #num\n",
    "        milking_select1 = milking_total.loc[milking_total['LactationNumber'] == num]\n",
    "        milking_select1.drop_duplicates(subset=['Gigacow_Cow_Id', 'milking_date', 'LactationNumber', 'DaysInMilk'], inplace=True)\n",
    "        # drop the anomaly data point\n",
    "        milking_select1 = milking_select1.loc[milking_select1.DaysInMilk < 400]\n",
    "        # select sufficient data points on lactation\n",
    "        selected1 = milking_select1.Gigacow_Cow_Id.value_counts(ascending=True)\n",
    "        selected1 = selected1.loc[(selected1.values > 150) & (selected1.values < 365)]\n",
    "        selected_cow_list = selected1.index.to_list()\n",
    "        if num == 1:\n",
    "            cow_list = selected_cow_list\n",
    "        cow_list = list(set(cow_list) & set(selected_cow_list))\n",
    "        print(len(cow_list), cow_list)\n",
    "    return cow_list\n",
    "\n",
    "cow_list = lac_collect(1, milking_total)"
   ]
  },
  {
   "cell_type": "code",
   "execution_count": 3,
   "metadata": {},
   "outputs": [],
   "source": [
    "def countCowAge(birthDate, milkingDate):\n",
    "    '''\n",
    "    func: Calculate cows age based on birthDate and milkingDate\n",
    "    args: \n",
    "        birthDate: cow's birth datetime\n",
    "        milkingDate: milking events datetime\n",
    "    return: cow age in human years(float)\n",
    "    '''\n",
    "    birthDate = pd.to_datetime(birthDate)\n",
    "    milkingDate = pd.to_datetime(milkingDate)\n",
    "    days = np.float32(np.datetime64(milkingDate, 'D') - np.datetime64(birthDate, 'D'))\n",
    "    age = np.around(days/365, 2)\n",
    "    return age\n",
    "\n",
    "# select single cow from the traffic table\n",
    "\n",
    "def data_collector(traffic, gigacow, lactation, cow_id, lacNumList):\n",
    "    '''\n",
    "    func: collect features from for a single cow\n",
    "    args: \n",
    "        traffic: traffic data table\n",
    "        gigacow: gigacow data table\n",
    "        lactation: lactation data table\n",
    "        cow_id: gigacow_id of the cow\n",
    "        lacNumList: a list lactation period number\n",
    "    return: A dataframe contains all features for a single cow on specfic lactation period\n",
    "    '''\n",
    "\n",
    "    traffic_single_cow = traffic.loc[traffic['Gigacow_Cow_Id'] == cow_id]\n",
    "    traffic_single_cow.sort_values(by='TrafficEventDateTime', inplace=True)\n",
    "    traffic_single_cow.index = range(len(traffic_single_cow))\n",
    "\n",
    "    '''\n",
    "        Extract Milking Event and its most recent traffic event to calculate T2-T1\n",
    "        T1: Entry time into the Mjolkfalla\n",
    "        T2: Entry time into the milking robot\n",
    "        T2-T1: calculate time difference between T2&T1 (i.e., Time spend in Mjolkfalla/holding area)\n",
    "    '''\n",
    "    # locate mikling event by searching 'kg' keyword in traffic result\n",
    "    # the most recent traffic event to milking event should be pre_milking event\n",
    "    # need to filter out records with gate failure\n",
    "    track_milking = traffic_single_cow.TrafficResult.str.contains('kg', regex=False)\n",
    "    milking_index_list = track_milking.index[track_milking.values == True].tolist()\n",
    "    pre_milking_index_list = [x-1 for x in milking_index_list]\n",
    "    milking_traffic = traffic_single_cow[traffic_single_cow.index.isin(milking_index_list)]\n",
    "    pre_milking_traffic = traffic_single_cow[traffic_single_cow.index.isin(pre_milking_index_list)]\n",
    "\n",
    "    # drop rows that the gate failed to detect cows but have milking result\n",
    "    # previous area in milking_traffic table should only be Mjolkfalla\n",
    "    # previous area in pre_milking_traffic table should not be Mjolkfalla\n",
    "    failed_list_1_milk = milking_traffic.index[milking_traffic['PreviousArea'] == 'Koridor till Sorteringsgrind 2'].tolist()\n",
    "    failed_list_1_pre = [x-1 for x in failed_list_1_milk]\n",
    "    failed_list_2_pre = pre_milking_traffic.index[pre_milking_traffic['PreviousArea'] == 'Mjolkfalla'].tolist()\n",
    "    failed_list_2_milk = [x+1 for x in failed_list_2_pre]\n",
    "    # traffic result in pre_milking_traffic table should contain Mjolkfalla\n",
    "    track_pre_milking = pre_milking_traffic.TrafficResult.str.contains('Mjolkfalla', regex=False)\n",
    "    failed_list_3_pre = track_pre_milking.index[track_pre_milking.values == False].tolist()\n",
    "    failed_list_3_milk = [x+1 for x in failed_list_3_pre]\n",
    "\n",
    "    # remove failed records based on index list\n",
    "    milking_traffic_failed = failed_list_1_milk + failed_list_2_milk + failed_list_3_milk\n",
    "    pre_milking_traffic_failed = failed_list_1_pre + failed_list_2_pre + failed_list_3_pre\n",
    "    milking_traffic.drop(axis=0, index=milking_traffic_failed, inplace=True)\n",
    "    pre_milking_traffic.drop(axis=0, index=pre_milking_traffic_failed, inplace=True)\n",
    "    # concatenate two tables to track the traffic directly\n",
    "    all_milking_traffic = pd.concat([milking_traffic, pre_milking_traffic])\n",
    "    all_milking_traffic.sort_values(by=['TrafficEventDateTime'], inplace=True)\n",
    "    #rename table columns for merging\n",
    "    milking_traffic.rename(columns={\"TrafficEventDateTime\": \"MilkingEventDateTime\", \"TrafficResult\": \"MilkProduction\", \"TimeInArea_totalSeconds\": \"RoundedSecondsTimeInArea\"}, inplace=True)\n",
    "    pre_milking_traffic.rename(columns={\"TrafficEventDateTime\": \"Pre_MilkingEventDateTime\", \"TimeInArea_totalSeconds\": \"RoundedSecondsTimeInArea\"}, inplace=True)\n",
    "    # unify the index of two tables\n",
    "    milking_traffic.index = range(len(milking_traffic))\n",
    "    pre_milking_traffic.index = range(len(pre_milking_traffic))\n",
    "    # inert \"pre_traffic_milking\" to milking traffic table\n",
    "    milking_traffic.insert(5, 'Pre_MilkingEventDateTime', pre_milking_traffic['Pre_MilkingEventDateTime'])\n",
    "    # calculate T2-T1\n",
    "    milking_traffic.MilkingEventDateTime = pd.to_datetime(milking_traffic.MilkingEventDateTime)\n",
    "    milking_traffic.Pre_MilkingEventDateTime = pd.to_datetime(milking_traffic.Pre_MilkingEventDateTime)\n",
    "    milking_traffic['timeDelta_Seconds'] = (milking_traffic['MilkingEventDateTime'] - milking_traffic['Pre_MilkingEventDateTime']).dt.total_seconds()\n",
    "\n",
    "    # extract traffic result(milk production)\n",
    "    milking_traffic['MilkProduction'].replace(r\"[^0-9.,]+\",\" \", inplace=True, regex=True)\n",
    "    milking_traffic['MilkProduction'].replace(r\"\\s*\",\"\", inplace=True, regex=True)\n",
    "    milking_traffic['MilkProduction'].replace(r\"[,]+\",\".\", inplace=True, regex=True)\n",
    "    milking_traffic['MilkProduction'] = milking_traffic['MilkProduction'].astype('float64')\n",
    "\n",
    "    # merge all the other features into milking_traffic table\n",
    "    milking_traffic['MilkingDate'] = milking_traffic.MilkingEventDateTime.dt.date\n",
    "    milking_traffic.MilkingDate = pd.to_datetime(milking_traffic.MilkingDate)\n",
    "    lactation.LactationInfoDate = pd.to_datetime(lactation.LactationInfoDate)\n",
    "    single_cow_merge = milking_traffic.merge(lactation, how='left', left_on=['FarmName_Pseudo', 'Gigacow_Cow_Id', 'MilkingDate'], right_on=['FarmName_Pseudo', 'Gigacow_Cow_Id', 'LactationInfoDate'])\n",
    "    single_cow_merge = single_cow_merge.merge(gigacow, how='left', left_on=['FarmName_Pseudo', 'Gigacow_Cow_Id'], right_on=['FarmName_Pseudo', 'Gigacow_Cow_Id'])\n",
    "\n",
    "    # drop failed data points based on RoundedSecondsTimeInArea & timeDelta_Seconds\n",
    "    single_cow_merge.drop(single_cow_merge.loc[abs(single_cow_merge.timeDelta_Seconds - single_cow_merge.RoundedSecondsTimeInArea) > 300].index, inplace=True)\n",
    "    single_cow_merge['TrafficDeviceName'].replace(r\"[A-Za-z]+\\s*\",\"vms\", inplace=True, regex=True)\n",
    "    # calculate age of cows\n",
    "    single_cow_merge['Age'] = single_cow_merge.apply(lambda x: countCowAge(x['BirthDate'], x['MilkingEventDateTime']), axis=1)\n",
    "    single_cow_merge.drop(['BirthDate'], axis=1, inplace=True)\n",
    "    single_cow_merge.dropna(inplace=True)\n",
    "\n",
    "    # integrate multiple milking events for a single DIM\n",
    "    single_cow_merge = single_cow_merge[single_cow_merge.LactationNumber.isin(lacNumList)]\n",
    "    single_cow_merge.index = range(1,len(single_cow_merge)+1) \n",
    "    single_cow_merge.drop(['MilkingEventDateTime', 'Pre_MilkingEventDateTime', 'Traffic_Id', 'MilkingInterval_totalSeconds', 'RoundedSecondsTimeInArea', 'PreviousArea', 'GroupName', 'LactationInfoDate', 'TrafficDeviceName'], axis=1, inplace=True)\n",
    "\n",
    "    # uncomment following part to get combined milking events for each DIM\n",
    "    # comb_cows = single_cow_merge.groupby(by=['FarmName_Pseudo', 'Gigacow_Cow_Id', 'MilkingDate', 'LactationNumber', 'DaysInMilk', 'BreedName', 'Age'], sort=False, as_index=False).sum(['MilkProduction', 'timeDelta_Seconds'])\n",
    "    # single_cow_merge_size = single_cow_merge.groupby(by=['FarmName_Pseudo', 'Gigacow_Cow_Id', 'MilkingDate', 'LactationNumber', 'DaysInMilk', 'BreedName', 'Age'], sort=False, as_index=False).size()\n",
    "    # comb_cows = pd.concat([comb_cows, single_cow_merge_size['size']], axis=1, ignore_index=False)\n",
    "    # comb_cows.rename(columns={\"MilkProduction\": \"Total_MilkProduction\", \"timeDelta_Seconds\": \"Total_timeDelta_Seconds\", \"size\": \"milking_times\"}, inplace=True)\n",
    "    # comb_cows.index = range(1, len(comb_cows)+1)\n",
    "    # return comb_cows\n",
    "\n",
    "    single_cow_merge.rename(columns={\"MilkProduction\": \"Total_MilkProduction\", \"timeDelta_Seconds\": \"Total_timeDelta_Seconds\", \"size\": \"milking_times\"}, inplace=True)\n",
    "    single_cow_merge.index = range(1, len(single_cow_merge)+1)\n",
    "    return single_cow_merge\n"
   ]
  },
  {
   "cell_type": "code",
   "execution_count": 4,
   "metadata": {},
   "outputs": [],
   "source": [
    "\"\"\"\n",
    "labeling cow with problematic/normal(1/0)\n",
    "\"\"\"\n",
    "threshold_ratio = 0.05\n",
    "Path(dataDir/'Problematic_targetCows').mkdir(parents=True, exist_ok=True)\n",
    "def labeling_problematic(threshold_ratio, cow_total): \n",
    "    '''\n",
    "    func: labeling problematic cows\n",
    "    args: \n",
    "        threshold_ratio: threshold ratio for the abnormal event milking events\n",
    "        cow_total: A dataframe contains all data points for a single cow\n",
    "    return: problematic cows dataset with label\n",
    "    '''\n",
    "    global learner\n",
    "    total_events = len(cow_total)\n",
    "    abnoramal_cows = cow_total.loc[cow_total.Total_timeDelta_Seconds > 7200]\n",
    "    abnoramal_ratio = len(abnoramal_cows)/total_events\n",
    "    print(abnoramal_ratio)\n",
    "    if abnoramal_ratio > threshold_ratio:\n",
    "        problematic = 1 # problematic cow\n",
    "    else:\n",
    "        problematic = 0 # normal cow\n",
    "    cow_total['problematic'] = problematic\n",
    "    return cow_total"
   ]
  },
  {
   "cell_type": "code",
   "execution_count": 5,
   "metadata": {},
   "outputs": [
    {
     "name": "stdout",
     "output_type": "stream",
     "text": [
      "filtered:  142 [2560, 3075, 2568, 2569, 4109, 3603, 1555, 6164, 5147, 3613, 3104, 1057, 544, 550, 5160, 2090, 4142, 48, 3638, 5691, 2112, 3657, 74, 3149, 6222, 1103, 4176, 2135, 1113, 6235, 603, 4704, 6241, 4195, 5225, 4714, 5235, 5239, 3705, 4730, 3707, 645, 3206, 5767, 2694, 3718, 5262, 2702, 151, 6300, 4765, 1181, 5279, 3744, 4769, 2724, 1705, 6316, 5301, 2742, 4280, 4792, 708, 4295, 5322, 2251, 1738, 1744, 5846, 4311, 1755, 1244, 5852, 2278, 2792, 6380, 3822, 5873, 2805, 5372, 1277, 769, 1796, 4871, 2844, 289, 6434, 4899, 6439, 4910, 1842, 1331, 6452, 2868, 3890, 1336, 6463, 2374, 6472, 4939, 2386, 855, 5465, 1905, 3446, 2423, 3447, 1910, 4990, 6018, 2956, 6039, 2460, 926, 5534, 2466, 2979, 4524, 4525, 4012, 943, 5555, 5046, 951, 1464, 1985, 961, 6086, 2510, 978, 5076, 2517, 985, 478, 5088, 5092, 3045, 2031, 5616, 6127, 2039, 2047]\n"
     ]
    }
   ],
   "source": [
    "# filter out cows' record start at the middle of the lactation\n",
    "filter_list = []\n",
    "for id in cow_list:\n",
    "    single_cow = data_collector(traffic, gigacow, lactation, id, [1])\n",
    "    if single_cow.DaysInMilk.min() < 60:\n",
    "        filter_list.append(id)\n",
    "\n",
    "print(\"filtered: \", len(filter_list), filter_list)"
   ]
  },
  {
   "cell_type": "code",
   "execution_count": 6,
   "metadata": {},
   "outputs": [
    {
     "name": "stdout",
     "output_type": "stream",
     "text": [
      "cow_id: 2560\n",
      "0.003472222222222222\n",
      "cow_id: 3075\n",
      "0.0680379746835443\n",
      "cow_id: 2568\n",
      "0.14465408805031446\n",
      "cow_id: 2569\n",
      "0.0\n",
      "cow_id: 4109\n",
      "0.24615384615384617\n",
      "cow_id: 3603\n",
      "0.032362459546925564\n",
      "cow_id: 1555\n",
      "0.0017452006980802793\n",
      "cow_id: 6164\n",
      "0.17270788912579957\n",
      "cow_id: 5147\n",
      "0.0\n",
      "cow_id: 3613\n",
      "0.0\n",
      "cow_id: 3104\n",
      "0.01238390092879257\n",
      "cow_id: 1057\n",
      "0.01703800786369594\n",
      "cow_id: 544\n",
      "0.21496815286624205\n",
      "cow_id: 550\n",
      "0.05955678670360111\n",
      "cow_id: 5160\n",
      "0.004722550177095631\n",
      "cow_id: 2090\n",
      "0.003260869565217391\n",
      "cow_id: 4142\n",
      "0.09314586994727592\n",
      "cow_id: 48\n",
      "0.018907563025210083\n",
      "cow_id: 3638\n",
      "0.0027397260273972603\n",
      "cow_id: 5691\n",
      "0.4318181818181818\n",
      "cow_id: 2112\n",
      "0.013793103448275862\n",
      "cow_id: 3657\n",
      "0.09400544959128065\n",
      "cow_id: 74\n",
      "0.0026490066225165563\n",
      "cow_id: 3149\n",
      "0.017467248908296942\n",
      "cow_id: 6222\n",
      "0.039540816326530615\n",
      "cow_id: 1103\n",
      "0.0020408163265306124\n",
      "cow_id: 4176\n",
      "0.032577903682719546\n",
      "cow_id: 2135\n",
      "0.06801736613603473\n",
      "cow_id: 1113\n",
      "0.0074005550416281225\n",
      "cow_id: 6235\n",
      "0.27607361963190186\n",
      "cow_id: 603\n",
      "0.009497964721845319\n",
      "cow_id: 4704\n",
      "0.03292181069958848\n",
      "cow_id: 6241\n",
      "0.014245014245014245\n",
      "cow_id: 4195\n",
      "0.00922266139657444\n",
      "cow_id: 5225\n",
      "0.002044989775051125\n",
      "cow_id: 4714\n",
      "0.03800475059382423\n",
      "cow_id: 5235\n",
      "0.017857142857142856\n",
      "cow_id: 5239\n",
      "0.02361111111111111\n",
      "cow_id: 3705\n",
      "0.004415011037527594\n",
      "cow_id: 4730\n",
      "0.28350515463917525\n",
      "cow_id: 3707\n",
      "0.007556675062972292\n",
      "cow_id: 645\n",
      "0.07954545454545454\n",
      "cow_id: 3206\n",
      "0.019363762102351315\n",
      "cow_id: 5767\n",
      "0.01813110181311018\n",
      "cow_id: 2694\n",
      "0.11235955056179775\n",
      "cow_id: 3718\n",
      "0.0021668472372697724\n",
      "cow_id: 5262\n",
      "0.07302231237322515\n",
      "cow_id: 2702\n",
      "0.0\n",
      "cow_id: 151\n",
      "0.00398406374501992\n",
      "cow_id: 6300\n",
      "0.0625\n",
      "cow_id: 4765\n",
      "0.022696929238985315\n",
      "cow_id: 1181\n",
      "0.02621359223300971\n",
      "cow_id: 5279\n",
      "0.06569343065693431\n",
      "cow_id: 3744\n",
      "0.12152777777777778\n",
      "cow_id: 4769\n",
      "0.14285714285714285\n",
      "cow_id: 2724\n",
      "0.1088560885608856\n",
      "cow_id: 1705\n",
      "0.12112676056338029\n",
      "cow_id: 6316\n",
      "0.12165450121654502\n",
      "cow_id: 5301\n",
      "0.14165261382799327\n",
      "cow_id: 2742\n",
      "0.014084507042253521\n",
      "cow_id: 4280\n",
      "0.014634146341463415\n",
      "cow_id: 4792\n",
      "0.13333333333333333\n",
      "cow_id: 708\n",
      "0.0012953367875647669\n",
      "cow_id: 4295\n",
      "0.1278825995807128\n",
      "cow_id: 5322\n",
      "0.0047169811320754715\n",
      "cow_id: 2251\n",
      "0.02402745995423341\n",
      "cow_id: 1738\n",
      "0.0161892901618929\n",
      "cow_id: 1744\n",
      "0.15217391304347827\n",
      "cow_id: 5846\n",
      "0.01303780964797914\n",
      "cow_id: 4311\n",
      "0.24774774774774774\n",
      "cow_id: 1755\n",
      "0.011918951132300357\n",
      "cow_id: 1244\n",
      "0.01748971193415638\n",
      "cow_id: 5852\n",
      "0.004012036108324975\n",
      "cow_id: 2278\n",
      "0.004914004914004914\n",
      "cow_id: 2792\n",
      "0.013062409288824383\n",
      "cow_id: 6380\n",
      "0.005649717514124294\n",
      "cow_id: 3822\n",
      "0.2356115107913669\n",
      "cow_id: 5873\n",
      "0.10590631364562118\n",
      "cow_id: 2805\n",
      "0.02269861286254729\n",
      "cow_id: 5372\n",
      "0.2591973244147157\n",
      "cow_id: 1277\n",
      "0.22359396433470508\n",
      "cow_id: 769\n",
      "0.022354694485842028\n",
      "cow_id: 1796\n",
      "0.028528528528528527\n",
      "cow_id: 4871\n",
      "0.013126491646778043\n",
      "cow_id: 2844\n",
      "0.04136947218259629\n",
      "cow_id: 289\n",
      "0.08870967741935484\n",
      "cow_id: 6434\n",
      "0.08744710860366714\n",
      "cow_id: 4899\n",
      "0.002331002331002331\n",
      "cow_id: 6439\n",
      "0.011146496815286623\n",
      "cow_id: 4910\n",
      "0.02681992337164751\n",
      "cow_id: 1842\n",
      "0.13333333333333333\n",
      "cow_id: 1331\n",
      "0.0022396416573348264\n",
      "cow_id: 6452\n",
      "0.024518388791593695\n",
      "cow_id: 2868\n",
      "0.009695290858725761\n",
      "cow_id: 3890\n",
      "0.008323424494649227\n",
      "cow_id: 1336\n",
      "0.01478494623655914\n",
      "cow_id: 6463\n",
      "0.008450704225352112\n",
      "cow_id: 2374\n",
      "0.0\n",
      "cow_id: 6472\n",
      "0.0037105751391465678\n",
      "cow_id: 4939\n",
      "0.003929273084479371\n",
      "cow_id: 2386\n",
      "0.013485477178423237\n",
      "cow_id: 855\n",
      "0.046153846153846156\n",
      "cow_id: 5465\n",
      "0.00410958904109589\n",
      "cow_id: 1905\n",
      "0.006880733944954129\n",
      "cow_id: 3446\n",
      "0.01844532279314888\n",
      "cow_id: 2423\n",
      "0.01445466491458607\n",
      "cow_id: 3447\n",
      "0.004484304932735426\n",
      "cow_id: 1910\n",
      "0.0273972602739726\n",
      "cow_id: 4990\n",
      "0.002331002331002331\n",
      "cow_id: 6018\n",
      "0.05771643663739021\n",
      "cow_id: 2956\n",
      "0.012064343163538873\n",
      "cow_id: 6039\n",
      "0.24283305227655985\n",
      "cow_id: 2460\n",
      "0.08737864077669903\n",
      "cow_id: 926\n",
      "0.007905138339920948\n",
      "cow_id: 5534\n",
      "0.18282988871224165\n",
      "cow_id: 2466\n",
      "0.17274939172749393\n",
      "cow_id: 2979\n",
      "0.06302521008403361\n",
      "cow_id: 4524\n",
      "0.008746355685131196\n",
      "cow_id: 4525\n",
      "0.0299625468164794\n",
      "cow_id: 4012\n",
      "0.003205128205128205\n",
      "cow_id: 943\n",
      "0.0035714285714285713\n",
      "cow_id: 5555\n",
      "0.005115089514066497\n",
      "cow_id: 5046\n",
      "0.004120879120879121\n",
      "cow_id: 951\n",
      "0.01092896174863388\n",
      "cow_id: 1464\n",
      "0.08722741433021806\n",
      "cow_id: 1985\n",
      "0.006243496357960458\n",
      "cow_id: 961\n",
      "0.10674157303370786\n",
      "cow_id: 6086\n",
      "0.015238095238095238\n",
      "cow_id: 2510\n",
      "0.001076426264800861\n",
      "cow_id: 978\n",
      "0.11379310344827587\n",
      "cow_id: 5076\n",
      "0.049281314168377825\n",
      "cow_id: 2517\n",
      "0.13445378151260504\n",
      "cow_id: 985\n",
      "0.0029354207436399216\n",
      "cow_id: 478\n",
      "0.012091898428053204\n",
      "cow_id: 5088\n",
      "0.009248554913294798\n",
      "cow_id: 5092\n",
      "0.0\n",
      "cow_id: 3045\n",
      "0.25770308123249297\n",
      "cow_id: 2031\n",
      "0.006756756756756757\n",
      "cow_id: 5616\n",
      "0.03417721518987342\n",
      "cow_id: 6127\n",
      "0.010146561443066516\n",
      "cow_id: 2039\n",
      "0.014184397163120567\n",
      "cow_id: 2047\n",
      "0.005330490405117271\n"
     ]
    },
    {
     "data": {
      "text/plain": [
       "<Figure size 640x480 with 0 Axes>"
      ]
     },
     "metadata": {},
     "output_type": "display_data"
    },
    {
     "data": {
      "text/plain": [
       "<Figure size 640x480 with 0 Axes>"
      ]
     },
     "metadata": {},
     "output_type": "display_data"
    },
    {
     "data": {
      "text/plain": [
       "<Figure size 640x480 with 0 Axes>"
      ]
     },
     "metadata": {},
     "output_type": "display_data"
    },
    {
     "data": {
      "text/plain": [
       "<Figure size 640x480 with 0 Axes>"
      ]
     },
     "metadata": {},
     "output_type": "display_data"
    },
    {
     "data": {
      "text/plain": [
       "<Figure size 640x480 with 0 Axes>"
      ]
     },
     "metadata": {},
     "output_type": "display_data"
    },
    {
     "data": {
      "text/plain": [
       "<Figure size 640x480 with 0 Axes>"
      ]
     },
     "metadata": {},
     "output_type": "display_data"
    },
    {
     "data": {
      "text/plain": [
       "<Figure size 640x480 with 0 Axes>"
      ]
     },
     "metadata": {},
     "output_type": "display_data"
    },
    {
     "data": {
      "text/plain": [
       "<Figure size 640x480 with 0 Axes>"
      ]
     },
     "metadata": {},
     "output_type": "display_data"
    },
    {
     "data": {
      "text/plain": [
       "<Figure size 640x480 with 0 Axes>"
      ]
     },
     "metadata": {},
     "output_type": "display_data"
    },
    {
     "data": {
      "text/plain": [
       "<Figure size 640x480 with 0 Axes>"
      ]
     },
     "metadata": {},
     "output_type": "display_data"
    },
    {
     "data": {
      "text/plain": [
       "<Figure size 640x480 with 0 Axes>"
      ]
     },
     "metadata": {},
     "output_type": "display_data"
    },
    {
     "data": {
      "text/plain": [
       "<Figure size 640x480 with 0 Axes>"
      ]
     },
     "metadata": {},
     "output_type": "display_data"
    },
    {
     "data": {
      "text/plain": [
       "<Figure size 640x480 with 0 Axes>"
      ]
     },
     "metadata": {},
     "output_type": "display_data"
    },
    {
     "data": {
      "text/plain": [
       "<Figure size 640x480 with 0 Axes>"
      ]
     },
     "metadata": {},
     "output_type": "display_data"
    },
    {
     "data": {
      "text/plain": [
       "<Figure size 640x480 with 0 Axes>"
      ]
     },
     "metadata": {},
     "output_type": "display_data"
    },
    {
     "data": {
      "text/plain": [
       "<Figure size 640x480 with 0 Axes>"
      ]
     },
     "metadata": {},
     "output_type": "display_data"
    },
    {
     "data": {
      "text/plain": [
       "<Figure size 640x480 with 0 Axes>"
      ]
     },
     "metadata": {},
     "output_type": "display_data"
    },
    {
     "data": {
      "text/plain": [
       "<Figure size 640x480 with 0 Axes>"
      ]
     },
     "metadata": {},
     "output_type": "display_data"
    },
    {
     "data": {
      "text/plain": [
       "<Figure size 640x480 with 0 Axes>"
      ]
     },
     "metadata": {},
     "output_type": "display_data"
    },
    {
     "data": {
      "text/plain": [
       "<Figure size 640x480 with 0 Axes>"
      ]
     },
     "metadata": {},
     "output_type": "display_data"
    },
    {
     "data": {
      "text/plain": [
       "<Figure size 640x480 with 0 Axes>"
      ]
     },
     "metadata": {},
     "output_type": "display_data"
    },
    {
     "data": {
      "text/plain": [
       "<Figure size 640x480 with 0 Axes>"
      ]
     },
     "metadata": {},
     "output_type": "display_data"
    },
    {
     "data": {
      "text/plain": [
       "<Figure size 640x480 with 0 Axes>"
      ]
     },
     "metadata": {},
     "output_type": "display_data"
    },
    {
     "data": {
      "text/plain": [
       "<Figure size 640x480 with 0 Axes>"
      ]
     },
     "metadata": {},
     "output_type": "display_data"
    },
    {
     "data": {
      "text/plain": [
       "<Figure size 640x480 with 0 Axes>"
      ]
     },
     "metadata": {},
     "output_type": "display_data"
    },
    {
     "data": {
      "text/plain": [
       "<Figure size 640x480 with 0 Axes>"
      ]
     },
     "metadata": {},
     "output_type": "display_data"
    },
    {
     "data": {
      "text/plain": [
       "<Figure size 640x480 with 0 Axes>"
      ]
     },
     "metadata": {},
     "output_type": "display_data"
    },
    {
     "data": {
      "text/plain": [
       "<Figure size 640x480 with 0 Axes>"
      ]
     },
     "metadata": {},
     "output_type": "display_data"
    },
    {
     "data": {
      "text/plain": [
       "<Figure size 640x480 with 0 Axes>"
      ]
     },
     "metadata": {},
     "output_type": "display_data"
    },
    {
     "data": {
      "text/plain": [
       "<Figure size 640x480 with 0 Axes>"
      ]
     },
     "metadata": {},
     "output_type": "display_data"
    },
    {
     "data": {
      "text/plain": [
       "<Figure size 640x480 with 0 Axes>"
      ]
     },
     "metadata": {},
     "output_type": "display_data"
    },
    {
     "data": {
      "text/plain": [
       "<Figure size 640x480 with 0 Axes>"
      ]
     },
     "metadata": {},
     "output_type": "display_data"
    },
    {
     "data": {
      "text/plain": [
       "<Figure size 640x480 with 0 Axes>"
      ]
     },
     "metadata": {},
     "output_type": "display_data"
    },
    {
     "data": {
      "text/plain": [
       "<Figure size 640x480 with 0 Axes>"
      ]
     },
     "metadata": {},
     "output_type": "display_data"
    },
    {
     "data": {
      "text/plain": [
       "<Figure size 640x480 with 0 Axes>"
      ]
     },
     "metadata": {},
     "output_type": "display_data"
    },
    {
     "data": {
      "text/plain": [
       "<Figure size 640x480 with 0 Axes>"
      ]
     },
     "metadata": {},
     "output_type": "display_data"
    },
    {
     "data": {
      "text/plain": [
       "<Figure size 640x480 with 0 Axes>"
      ]
     },
     "metadata": {},
     "output_type": "display_data"
    },
    {
     "data": {
      "text/plain": [
       "<Figure size 640x480 with 0 Axes>"
      ]
     },
     "metadata": {},
     "output_type": "display_data"
    },
    {
     "data": {
      "text/plain": [
       "<Figure size 640x480 with 0 Axes>"
      ]
     },
     "metadata": {},
     "output_type": "display_data"
    },
    {
     "data": {
      "text/plain": [
       "<Figure size 640x480 with 0 Axes>"
      ]
     },
     "metadata": {},
     "output_type": "display_data"
    },
    {
     "data": {
      "text/plain": [
       "<Figure size 640x480 with 0 Axes>"
      ]
     },
     "metadata": {},
     "output_type": "display_data"
    },
    {
     "data": {
      "text/plain": [
       "<Figure size 640x480 with 0 Axes>"
      ]
     },
     "metadata": {},
     "output_type": "display_data"
    },
    {
     "data": {
      "text/plain": [
       "<Figure size 640x480 with 0 Axes>"
      ]
     },
     "metadata": {},
     "output_type": "display_data"
    },
    {
     "data": {
      "text/plain": [
       "<Figure size 640x480 with 0 Axes>"
      ]
     },
     "metadata": {},
     "output_type": "display_data"
    },
    {
     "data": {
      "text/plain": [
       "<Figure size 640x480 with 0 Axes>"
      ]
     },
     "metadata": {},
     "output_type": "display_data"
    },
    {
     "data": {
      "text/plain": [
       "<Figure size 640x480 with 0 Axes>"
      ]
     },
     "metadata": {},
     "output_type": "display_data"
    },
    {
     "data": {
      "text/plain": [
       "<Figure size 640x480 with 0 Axes>"
      ]
     },
     "metadata": {},
     "output_type": "display_data"
    },
    {
     "data": {
      "text/plain": [
       "<Figure size 640x480 with 0 Axes>"
      ]
     },
     "metadata": {},
     "output_type": "display_data"
    },
    {
     "data": {
      "text/plain": [
       "<Figure size 640x480 with 0 Axes>"
      ]
     },
     "metadata": {},
     "output_type": "display_data"
    },
    {
     "data": {
      "text/plain": [
       "<Figure size 640x480 with 0 Axes>"
      ]
     },
     "metadata": {},
     "output_type": "display_data"
    },
    {
     "data": {
      "text/plain": [
       "<Figure size 640x480 with 0 Axes>"
      ]
     },
     "metadata": {},
     "output_type": "display_data"
    },
    {
     "data": {
      "text/plain": [
       "<Figure size 640x480 with 0 Axes>"
      ]
     },
     "metadata": {},
     "output_type": "display_data"
    },
    {
     "data": {
      "text/plain": [
       "<Figure size 640x480 with 0 Axes>"
      ]
     },
     "metadata": {},
     "output_type": "display_data"
    },
    {
     "data": {
      "text/plain": [
       "<Figure size 640x480 with 0 Axes>"
      ]
     },
     "metadata": {},
     "output_type": "display_data"
    },
    {
     "data": {
      "text/plain": [
       "<Figure size 640x480 with 0 Axes>"
      ]
     },
     "metadata": {},
     "output_type": "display_data"
    },
    {
     "data": {
      "text/plain": [
       "<Figure size 640x480 with 0 Axes>"
      ]
     },
     "metadata": {},
     "output_type": "display_data"
    },
    {
     "data": {
      "text/plain": [
       "<Figure size 640x480 with 0 Axes>"
      ]
     },
     "metadata": {},
     "output_type": "display_data"
    },
    {
     "data": {
      "text/plain": [
       "<Figure size 640x480 with 0 Axes>"
      ]
     },
     "metadata": {},
     "output_type": "display_data"
    },
    {
     "data": {
      "text/plain": [
       "<Figure size 640x480 with 0 Axes>"
      ]
     },
     "metadata": {},
     "output_type": "display_data"
    },
    {
     "data": {
      "text/plain": [
       "<Figure size 640x480 with 0 Axes>"
      ]
     },
     "metadata": {},
     "output_type": "display_data"
    },
    {
     "data": {
      "text/plain": [
       "<Figure size 640x480 with 0 Axes>"
      ]
     },
     "metadata": {},
     "output_type": "display_data"
    },
    {
     "data": {
      "text/plain": [
       "<Figure size 640x480 with 0 Axes>"
      ]
     },
     "metadata": {},
     "output_type": "display_data"
    },
    {
     "data": {
      "text/plain": [
       "<Figure size 640x480 with 0 Axes>"
      ]
     },
     "metadata": {},
     "output_type": "display_data"
    },
    {
     "data": {
      "text/plain": [
       "<Figure size 640x480 with 0 Axes>"
      ]
     },
     "metadata": {},
     "output_type": "display_data"
    },
    {
     "data": {
      "text/plain": [
       "<Figure size 640x480 with 0 Axes>"
      ]
     },
     "metadata": {},
     "output_type": "display_data"
    },
    {
     "data": {
      "text/plain": [
       "<Figure size 640x480 with 0 Axes>"
      ]
     },
     "metadata": {},
     "output_type": "display_data"
    },
    {
     "data": {
      "text/plain": [
       "<Figure size 640x480 with 0 Axes>"
      ]
     },
     "metadata": {},
     "output_type": "display_data"
    },
    {
     "data": {
      "text/plain": [
       "<Figure size 640x480 with 0 Axes>"
      ]
     },
     "metadata": {},
     "output_type": "display_data"
    },
    {
     "data": {
      "text/plain": [
       "<Figure size 640x480 with 0 Axes>"
      ]
     },
     "metadata": {},
     "output_type": "display_data"
    },
    {
     "data": {
      "text/plain": [
       "<Figure size 640x480 with 0 Axes>"
      ]
     },
     "metadata": {},
     "output_type": "display_data"
    },
    {
     "data": {
      "text/plain": [
       "<Figure size 640x480 with 0 Axes>"
      ]
     },
     "metadata": {},
     "output_type": "display_data"
    },
    {
     "data": {
      "text/plain": [
       "<Figure size 640x480 with 0 Axes>"
      ]
     },
     "metadata": {},
     "output_type": "display_data"
    },
    {
     "data": {
      "text/plain": [
       "<Figure size 640x480 with 0 Axes>"
      ]
     },
     "metadata": {},
     "output_type": "display_data"
    },
    {
     "data": {
      "text/plain": [
       "<Figure size 640x480 with 0 Axes>"
      ]
     },
     "metadata": {},
     "output_type": "display_data"
    },
    {
     "data": {
      "text/plain": [
       "<Figure size 640x480 with 0 Axes>"
      ]
     },
     "metadata": {},
     "output_type": "display_data"
    },
    {
     "data": {
      "text/plain": [
       "<Figure size 640x480 with 0 Axes>"
      ]
     },
     "metadata": {},
     "output_type": "display_data"
    },
    {
     "data": {
      "text/plain": [
       "<Figure size 640x480 with 0 Axes>"
      ]
     },
     "metadata": {},
     "output_type": "display_data"
    },
    {
     "data": {
      "text/plain": [
       "<Figure size 640x480 with 0 Axes>"
      ]
     },
     "metadata": {},
     "output_type": "display_data"
    },
    {
     "data": {
      "text/plain": [
       "<Figure size 640x480 with 0 Axes>"
      ]
     },
     "metadata": {},
     "output_type": "display_data"
    },
    {
     "data": {
      "text/plain": [
       "<Figure size 640x480 with 0 Axes>"
      ]
     },
     "metadata": {},
     "output_type": "display_data"
    },
    {
     "data": {
      "text/plain": [
       "<Figure size 640x480 with 0 Axes>"
      ]
     },
     "metadata": {},
     "output_type": "display_data"
    },
    {
     "data": {
      "text/plain": [
       "<Figure size 640x480 with 0 Axes>"
      ]
     },
     "metadata": {},
     "output_type": "display_data"
    },
    {
     "data": {
      "text/plain": [
       "<Figure size 640x480 with 0 Axes>"
      ]
     },
     "metadata": {},
     "output_type": "display_data"
    },
    {
     "data": {
      "text/plain": [
       "<Figure size 640x480 with 0 Axes>"
      ]
     },
     "metadata": {},
     "output_type": "display_data"
    },
    {
     "data": {
      "text/plain": [
       "<Figure size 640x480 with 0 Axes>"
      ]
     },
     "metadata": {},
     "output_type": "display_data"
    },
    {
     "data": {
      "text/plain": [
       "<Figure size 640x480 with 0 Axes>"
      ]
     },
     "metadata": {},
     "output_type": "display_data"
    },
    {
     "data": {
      "text/plain": [
       "<Figure size 640x480 with 0 Axes>"
      ]
     },
     "metadata": {},
     "output_type": "display_data"
    },
    {
     "data": {
      "text/plain": [
       "<Figure size 640x480 with 0 Axes>"
      ]
     },
     "metadata": {},
     "output_type": "display_data"
    },
    {
     "data": {
      "text/plain": [
       "<Figure size 640x480 with 0 Axes>"
      ]
     },
     "metadata": {},
     "output_type": "display_data"
    },
    {
     "data": {
      "text/plain": [
       "<Figure size 640x480 with 0 Axes>"
      ]
     },
     "metadata": {},
     "output_type": "display_data"
    },
    {
     "data": {
      "text/plain": [
       "<Figure size 640x480 with 0 Axes>"
      ]
     },
     "metadata": {},
     "output_type": "display_data"
    },
    {
     "data": {
      "text/plain": [
       "<Figure size 640x480 with 0 Axes>"
      ]
     },
     "metadata": {},
     "output_type": "display_data"
    },
    {
     "data": {
      "text/plain": [
       "<Figure size 640x480 with 0 Axes>"
      ]
     },
     "metadata": {},
     "output_type": "display_data"
    },
    {
     "data": {
      "text/plain": [
       "<Figure size 640x480 with 0 Axes>"
      ]
     },
     "metadata": {},
     "output_type": "display_data"
    },
    {
     "data": {
      "text/plain": [
       "<Figure size 640x480 with 0 Axes>"
      ]
     },
     "metadata": {},
     "output_type": "display_data"
    },
    {
     "data": {
      "text/plain": [
       "<Figure size 640x480 with 0 Axes>"
      ]
     },
     "metadata": {},
     "output_type": "display_data"
    },
    {
     "data": {
      "text/plain": [
       "<Figure size 640x480 with 0 Axes>"
      ]
     },
     "metadata": {},
     "output_type": "display_data"
    },
    {
     "data": {
      "text/plain": [
       "<Figure size 640x480 with 0 Axes>"
      ]
     },
     "metadata": {},
     "output_type": "display_data"
    },
    {
     "data": {
      "text/plain": [
       "<Figure size 640x480 with 0 Axes>"
      ]
     },
     "metadata": {},
     "output_type": "display_data"
    },
    {
     "data": {
      "text/plain": [
       "<Figure size 640x480 with 0 Axes>"
      ]
     },
     "metadata": {},
     "output_type": "display_data"
    },
    {
     "data": {
      "text/plain": [
       "<Figure size 640x480 with 0 Axes>"
      ]
     },
     "metadata": {},
     "output_type": "display_data"
    },
    {
     "data": {
      "text/plain": [
       "<Figure size 640x480 with 0 Axes>"
      ]
     },
     "metadata": {},
     "output_type": "display_data"
    },
    {
     "data": {
      "text/plain": [
       "<Figure size 640x480 with 0 Axes>"
      ]
     },
     "metadata": {},
     "output_type": "display_data"
    },
    {
     "data": {
      "text/plain": [
       "<Figure size 640x480 with 0 Axes>"
      ]
     },
     "metadata": {},
     "output_type": "display_data"
    },
    {
     "data": {
      "text/plain": [
       "<Figure size 640x480 with 0 Axes>"
      ]
     },
     "metadata": {},
     "output_type": "display_data"
    },
    {
     "data": {
      "text/plain": [
       "<Figure size 640x480 with 0 Axes>"
      ]
     },
     "metadata": {},
     "output_type": "display_data"
    },
    {
     "data": {
      "text/plain": [
       "<Figure size 640x480 with 0 Axes>"
      ]
     },
     "metadata": {},
     "output_type": "display_data"
    },
    {
     "data": {
      "text/plain": [
       "<Figure size 640x480 with 0 Axes>"
      ]
     },
     "metadata": {},
     "output_type": "display_data"
    },
    {
     "data": {
      "text/plain": [
       "<Figure size 640x480 with 0 Axes>"
      ]
     },
     "metadata": {},
     "output_type": "display_data"
    },
    {
     "data": {
      "text/plain": [
       "<Figure size 640x480 with 0 Axes>"
      ]
     },
     "metadata": {},
     "output_type": "display_data"
    },
    {
     "data": {
      "text/plain": [
       "<Figure size 640x480 with 0 Axes>"
      ]
     },
     "metadata": {},
     "output_type": "display_data"
    },
    {
     "data": {
      "text/plain": [
       "<Figure size 640x480 with 0 Axes>"
      ]
     },
     "metadata": {},
     "output_type": "display_data"
    },
    {
     "data": {
      "text/plain": [
       "<Figure size 640x480 with 0 Axes>"
      ]
     },
     "metadata": {},
     "output_type": "display_data"
    },
    {
     "data": {
      "text/plain": [
       "<Figure size 640x480 with 0 Axes>"
      ]
     },
     "metadata": {},
     "output_type": "display_data"
    },
    {
     "data": {
      "text/plain": [
       "<Figure size 640x480 with 0 Axes>"
      ]
     },
     "metadata": {},
     "output_type": "display_data"
    },
    {
     "data": {
      "text/plain": [
       "<Figure size 640x480 with 0 Axes>"
      ]
     },
     "metadata": {},
     "output_type": "display_data"
    },
    {
     "data": {
      "text/plain": [
       "<Figure size 640x480 with 0 Axes>"
      ]
     },
     "metadata": {},
     "output_type": "display_data"
    },
    {
     "data": {
      "text/plain": [
       "<Figure size 640x480 with 0 Axes>"
      ]
     },
     "metadata": {},
     "output_type": "display_data"
    },
    {
     "data": {
      "text/plain": [
       "<Figure size 640x480 with 0 Axes>"
      ]
     },
     "metadata": {},
     "output_type": "display_data"
    },
    {
     "data": {
      "text/plain": [
       "<Figure size 640x480 with 0 Axes>"
      ]
     },
     "metadata": {},
     "output_type": "display_data"
    },
    {
     "data": {
      "text/plain": [
       "<Figure size 640x480 with 0 Axes>"
      ]
     },
     "metadata": {},
     "output_type": "display_data"
    },
    {
     "data": {
      "text/plain": [
       "<Figure size 640x480 with 0 Axes>"
      ]
     },
     "metadata": {},
     "output_type": "display_data"
    },
    {
     "data": {
      "text/plain": [
       "<Figure size 640x480 with 0 Axes>"
      ]
     },
     "metadata": {},
     "output_type": "display_data"
    },
    {
     "data": {
      "text/plain": [
       "<Figure size 640x480 with 0 Axes>"
      ]
     },
     "metadata": {},
     "output_type": "display_data"
    },
    {
     "data": {
      "text/plain": [
       "<Figure size 640x480 with 0 Axes>"
      ]
     },
     "metadata": {},
     "output_type": "display_data"
    },
    {
     "data": {
      "text/plain": [
       "<Figure size 640x480 with 0 Axes>"
      ]
     },
     "metadata": {},
     "output_type": "display_data"
    },
    {
     "data": {
      "text/plain": [
       "<Figure size 640x480 with 0 Axes>"
      ]
     },
     "metadata": {},
     "output_type": "display_data"
    },
    {
     "data": {
      "text/plain": [
       "<Figure size 640x480 with 0 Axes>"
      ]
     },
     "metadata": {},
     "output_type": "display_data"
    },
    {
     "data": {
      "text/plain": [
       "<Figure size 640x480 with 0 Axes>"
      ]
     },
     "metadata": {},
     "output_type": "display_data"
    },
    {
     "data": {
      "text/plain": [
       "<Figure size 640x480 with 0 Axes>"
      ]
     },
     "metadata": {},
     "output_type": "display_data"
    },
    {
     "data": {
      "text/plain": [
       "<Figure size 640x480 with 0 Axes>"
      ]
     },
     "metadata": {},
     "output_type": "display_data"
    },
    {
     "data": {
      "text/plain": [
       "<Figure size 640x480 with 0 Axes>"
      ]
     },
     "metadata": {},
     "output_type": "display_data"
    },
    {
     "data": {
      "text/plain": [
       "<Figure size 640x480 with 0 Axes>"
      ]
     },
     "metadata": {},
     "output_type": "display_data"
    },
    {
     "data": {
      "text/plain": [
       "<Figure size 640x480 with 0 Axes>"
      ]
     },
     "metadata": {},
     "output_type": "display_data"
    },
    {
     "data": {
      "text/plain": [
       "<Figure size 640x480 with 0 Axes>"
      ]
     },
     "metadata": {},
     "output_type": "display_data"
    },
    {
     "data": {
      "text/plain": [
       "<Figure size 640x480 with 0 Axes>"
      ]
     },
     "metadata": {},
     "output_type": "display_data"
    },
    {
     "data": {
      "text/plain": [
       "<Figure size 640x480 with 0 Axes>"
      ]
     },
     "metadata": {},
     "output_type": "display_data"
    },
    {
     "data": {
      "text/plain": [
       "<Figure size 640x480 with 0 Axes>"
      ]
     },
     "metadata": {},
     "output_type": "display_data"
    },
    {
     "data": {
      "text/plain": [
       "<Figure size 640x480 with 0 Axes>"
      ]
     },
     "metadata": {},
     "output_type": "display_data"
    },
    {
     "data": {
      "text/plain": [
       "<Figure size 640x480 with 0 Axes>"
      ]
     },
     "metadata": {},
     "output_type": "display_data"
    },
    {
     "data": {
      "text/plain": [
       "<Figure size 640x480 with 0 Axes>"
      ]
     },
     "metadata": {},
     "output_type": "display_data"
    },
    {
     "data": {
      "text/plain": [
       "<Figure size 640x480 with 0 Axes>"
      ]
     },
     "metadata": {},
     "output_type": "display_data"
    }
   ],
   "source": [
    "#Uses the labeling_problematic function to label problematic cows and print distribution of time into a PDF\n",
    "from matplotlib.backends.backend_pdf import PdfPages\n",
    "import warnings\n",
    "pd.set_option('mode.chained_assignment', None)\n",
    "\n",
    "\"\"\" plot the relations between timeDelta and Lactation/DIM(DaysInMilk)\n",
    "        @@@ Total_timeDelta @@@\n",
    "    \"\"\" \n",
    "with warnings.catch_warnings():\n",
    "    warnings.simplefilter(\"ignore\")\n",
    "    with PdfPages(dataDir/'100cows_timecost_scatters_lac1_with_label_scale30000.pdf') as pdf:\n",
    "        for id in filter_list:\n",
    "            print(\"cow_id:\", id)\n",
    "            single_cow_merge = data_collector(traffic, gigacow, lactation, id, [1])\n",
    "            single_cow_merge = labeling_problematic(0.05, single_cow_merge)\n",
    "            prob = single_cow_merge.problematic.unique()[0]\n",
    "            fig1 = plt.figure()\n",
    "            # fig2 = plt.figure()\n",
    "            if prob == 1:\n",
    "                title = \"Problematic_Cow_cow_id_\"+ str(id)\n",
    "            else:\n",
    "                title = \"Normal_Cow_cow_id_\"+ str(id)\n",
    "            fig1 = single_cow_merge.loc[single_cow_merge.LactationNumber == 1].plot(x=\"DaysInMilk\", y=\"Total_timeDelta_Seconds\", kind='scatter', title=title+\"_Lac1\", xlim=[1, 360], ylim=[0, 30000], s=2, c='b')\n",
    "            # fig2 = single_cow_merge.loc[single_cow_merge.LactationNumber == 2].plot(x=\"DaysInMilk\", y=\"Total_timeDelta_Seconds\", kind='scatter', title=title+\"_Lac2\", xlim=[1, 360], ylim=[0, 10000], s=2, c='b')\n",
    "            pdf.savefig(fig1.get_figure())\n",
    "            # pdf.savefig(fig2.get_figure())\n",
    "            plt.close()"
   ]
  },
  {
   "cell_type": "code",
   "execution_count": 7,
   "metadata": {},
   "outputs": [
    {
     "name": "stdout",
     "output_type": "stream",
     "text": [
      "0.003472222222222222\n",
      "0.0680379746835443\n",
      "This cow is problematic\n",
      "0.14465408805031446\n",
      "This cow is problematic\n",
      "0.0\n",
      "0.24615384615384617\n",
      "This cow is problematic\n",
      "0.032362459546925564\n",
      "0.0017452006980802793\n",
      "0.17270788912579957\n",
      "This cow is problematic\n",
      "0.0\n",
      "0.0\n",
      "0.01238390092879257\n",
      "0.01703800786369594\n",
      "0.21496815286624205\n",
      "This cow is problematic\n",
      "0.05955678670360111\n",
      "This cow is problematic\n",
      "0.004722550177095631\n",
      "0.003260869565217391\n",
      "0.09314586994727592\n",
      "This cow is problematic\n",
      "0.018907563025210083\n",
      "0.0027397260273972603\n",
      "0.4318181818181818\n",
      "This cow is problematic\n",
      "0.013793103448275862\n",
      "0.09400544959128065\n",
      "This cow is problematic\n",
      "0.0026490066225165563\n",
      "0.017467248908296942\n",
      "0.039540816326530615\n",
      "0.0020408163265306124\n",
      "0.032577903682719546\n",
      "0.06801736613603473\n",
      "This cow is problematic\n",
      "0.0074005550416281225\n",
      "0.27607361963190186\n",
      "This cow is problematic\n",
      "0.009497964721845319\n",
      "0.03292181069958848\n",
      "0.014245014245014245\n",
      "0.00922266139657444\n",
      "0.002044989775051125\n",
      "0.03800475059382423\n",
      "0.017857142857142856\n",
      "0.02361111111111111\n",
      "0.004415011037527594\n",
      "0.28350515463917525\n",
      "This cow is problematic\n",
      "0.007556675062972292\n",
      "0.07954545454545454\n",
      "This cow is problematic\n",
      "0.019363762102351315\n",
      "0.01813110181311018\n",
      "0.11235955056179775\n",
      "This cow is problematic\n",
      "0.0021668472372697724\n",
      "0.07302231237322515\n",
      "This cow is problematic\n",
      "0.0\n",
      "0.00398406374501992\n",
      "0.0625\n",
      "This cow is problematic\n",
      "0.022696929238985315\n",
      "0.02621359223300971\n",
      "0.06569343065693431\n",
      "This cow is problematic\n",
      "0.12152777777777778\n",
      "This cow is problematic\n",
      "0.14285714285714285\n",
      "This cow is problematic\n",
      "0.1088560885608856\n",
      "This cow is problematic\n",
      "0.12112676056338029\n",
      "This cow is problematic\n",
      "0.12165450121654502\n",
      "This cow is problematic\n",
      "0.14165261382799327\n",
      "This cow is problematic\n",
      "0.014084507042253521\n",
      "0.014634146341463415\n",
      "0.13333333333333333\n",
      "This cow is problematic\n",
      "0.0012953367875647669\n",
      "0.1278825995807128\n",
      "This cow is problematic\n",
      "0.0047169811320754715\n",
      "0.02402745995423341\n",
      "0.0161892901618929\n",
      "0.15217391304347827\n",
      "This cow is problematic\n",
      "0.01303780964797914\n",
      "0.24774774774774774\n",
      "This cow is problematic\n",
      "0.011918951132300357\n",
      "0.01748971193415638\n",
      "0.004012036108324975\n",
      "0.004914004914004914\n",
      "0.013062409288824383\n",
      "0.005649717514124294\n",
      "0.2356115107913669\n",
      "This cow is problematic\n",
      "0.10590631364562118\n",
      "This cow is problematic\n",
      "0.02269861286254729\n",
      "0.2591973244147157\n",
      "This cow is problematic\n",
      "0.22359396433470508\n",
      "This cow is problematic\n",
      "0.022354694485842028\n",
      "0.028528528528528527\n",
      "0.013126491646778043\n",
      "0.04136947218259629\n",
      "0.08870967741935484\n",
      "This cow is problematic\n",
      "0.08744710860366714\n",
      "This cow is problematic\n",
      "0.002331002331002331\n",
      "0.011146496815286623\n",
      "0.02681992337164751\n",
      "0.13333333333333333\n",
      "This cow is problematic\n",
      "0.0022396416573348264\n",
      "0.024518388791593695\n",
      "0.009695290858725761\n",
      "0.008323424494649227\n",
      "0.01478494623655914\n",
      "0.008450704225352112\n",
      "0.0\n",
      "0.0037105751391465678\n",
      "0.003929273084479371\n",
      "0.013485477178423237\n",
      "0.046153846153846156\n",
      "0.00410958904109589\n",
      "0.006880733944954129\n",
      "0.01844532279314888\n",
      "0.01445466491458607\n",
      "0.004484304932735426\n",
      "0.0273972602739726\n",
      "0.002331002331002331\n",
      "0.05771643663739021\n",
      "This cow is problematic\n",
      "0.012064343163538873\n",
      "0.24283305227655985\n",
      "This cow is problematic\n",
      "0.08737864077669903\n",
      "This cow is problematic\n",
      "0.007905138339920948\n",
      "0.18282988871224165\n",
      "This cow is problematic\n",
      "0.17274939172749393\n",
      "This cow is problematic\n",
      "0.06302521008403361\n",
      "This cow is problematic\n",
      "0.008746355685131196\n",
      "0.0299625468164794\n",
      "0.003205128205128205\n",
      "0.0035714285714285713\n",
      "0.005115089514066497\n",
      "0.004120879120879121\n",
      "0.01092896174863388\n",
      "0.08722741433021806\n",
      "This cow is problematic\n",
      "0.006243496357960458\n",
      "0.10674157303370786\n",
      "This cow is problematic\n",
      "0.015238095238095238\n",
      "0.001076426264800861\n",
      "0.11379310344827587\n",
      "This cow is problematic\n",
      "0.049281314168377825\n",
      "0.13445378151260504\n",
      "This cow is problematic\n",
      "0.0029354207436399216\n",
      "0.012091898428053204\n",
      "0.009248554913294798\n",
      "0.0\n",
      "0.25770308123249297\n",
      "This cow is problematic\n",
      "0.006756756756756757\n",
      "0.03417721518987342\n",
      "0.010146561443066516\n",
      "0.014184397163120567\n",
      "0.005330490405117271\n",
      "num of cows:  147\n",
      "Mean of total time cost:  1910.2427881622716\n"
     ]
    }
   ],
   "source": [
    "pd.options.mode.chained_assignment = None\n",
    "\n",
    "mean_totalTimeCost = 0\n",
    "Path(dataDir/'Problematic_targetCows').mkdir(parents=True, exist_ok=True)\n",
    "lactationNum = [1]\n",
    "\n",
    "# save a list of cow data for abnormal cows detection problem\n",
    "for i, cow_id in enumerate(filter_list):\n",
    "    single_cow_merge = data_collector(traffic, gigacow, lactation, cow_id, lactationNum)\n",
    "    mean_totalTimeCost += single_cow_merge.Total_timeDelta_Seconds.mean()\n",
    "    single_cow_merge = labeling_problematic(threshold_ratio, single_cow_merge)\n",
    "    problematic = single_cow_merge.problematic.unique()[0]\n",
    "    if problematic == 1:\n",
    "        print(\"This cow is problematic\")\n",
    "    single_cow_merge[\"id\"] = i+1\n",
    "    single_cow_merge.dropna(inplace=True)\n",
    "    fileName = 'Problematic_targetCows/cow_' + str(i) + '.csv'\n",
    "    single_cow_merge.to_csv(dataDir/fileName)\n",
    "print(\"num of cows: \", len(cow_list))\n",
    "print(\"Mean of total time cost: \", mean_totalTimeCost/len(cow_list))"
   ]
  },
  {
   "cell_type": "code",
   "execution_count": 8,
   "metadata": {},
   "outputs": [
    {
     "data": {
      "text/html": [
       "<div>\n",
       "<style scoped>\n",
       "    .dataframe tbody tr th:only-of-type {\n",
       "        vertical-align: middle;\n",
       "    }\n",
       "\n",
       "    .dataframe tbody tr th {\n",
       "        vertical-align: top;\n",
       "    }\n",
       "\n",
       "    .dataframe thead th {\n",
       "        text-align: right;\n",
       "    }\n",
       "</style>\n",
       "<table border=\"1\" class=\"dataframe\">\n",
       "  <thead>\n",
       "    <tr style=\"text-align: right;\">\n",
       "      <th></th>\n",
       "      <th>FarmName_Pseudo</th>\n",
       "      <th>Gigacow_Cow_Id</th>\n",
       "      <th>Total_MilkProduction</th>\n",
       "      <th>Total_timeDelta_Seconds</th>\n",
       "      <th>MilkingDate</th>\n",
       "      <th>LactationNumber</th>\n",
       "      <th>DaysInMilk</th>\n",
       "      <th>BreedName</th>\n",
       "      <th>Age</th>\n",
       "      <th>problematic</th>\n",
       "      <th>id</th>\n",
       "    </tr>\n",
       "  </thead>\n",
       "  <tbody>\n",
       "    <tr>\n",
       "      <th>0</th>\n",
       "      <td>a624fb9a</td>\n",
       "      <td>2560</td>\n",
       "      <td>9.38</td>\n",
       "      <td>3176.0</td>\n",
       "      <td>2022-02-14</td>\n",
       "      <td>1.0</td>\n",
       "      <td>2.0</td>\n",
       "      <td>1</td>\n",
       "      <td>2.15</td>\n",
       "      <td>0</td>\n",
       "      <td>1</td>\n",
       "    </tr>\n",
       "    <tr>\n",
       "      <th>1</th>\n",
       "      <td>a624fb9a</td>\n",
       "      <td>2560</td>\n",
       "      <td>8.46</td>\n",
       "      <td>352.0</td>\n",
       "      <td>2022-02-14</td>\n",
       "      <td>1.0</td>\n",
       "      <td>2.0</td>\n",
       "      <td>1</td>\n",
       "      <td>2.15</td>\n",
       "      <td>0</td>\n",
       "      <td>1</td>\n",
       "    </tr>\n",
       "    <tr>\n",
       "      <th>2</th>\n",
       "      <td>a624fb9a</td>\n",
       "      <td>2560</td>\n",
       "      <td>6.68</td>\n",
       "      <td>997.0</td>\n",
       "      <td>2022-02-15</td>\n",
       "      <td>1.0</td>\n",
       "      <td>3.0</td>\n",
       "      <td>1</td>\n",
       "      <td>2.15</td>\n",
       "      <td>0</td>\n",
       "      <td>1</td>\n",
       "    </tr>\n",
       "    <tr>\n",
       "      <th>3</th>\n",
       "      <td>a624fb9a</td>\n",
       "      <td>2560</td>\n",
       "      <td>7.34</td>\n",
       "      <td>9274.0</td>\n",
       "      <td>2022-02-15</td>\n",
       "      <td>1.0</td>\n",
       "      <td>3.0</td>\n",
       "      <td>1</td>\n",
       "      <td>2.15</td>\n",
       "      <td>0</td>\n",
       "      <td>1</td>\n",
       "    </tr>\n",
       "    <tr>\n",
       "      <th>4</th>\n",
       "      <td>a624fb9a</td>\n",
       "      <td>2560</td>\n",
       "      <td>8.15</td>\n",
       "      <td>407.0</td>\n",
       "      <td>2022-02-16</td>\n",
       "      <td>1.0</td>\n",
       "      <td>4.0</td>\n",
       "      <td>1</td>\n",
       "      <td>2.15</td>\n",
       "      <td>0</td>\n",
       "      <td>1</td>\n",
       "    </tr>\n",
       "    <tr>\n",
       "      <th>...</th>\n",
       "      <td>...</td>\n",
       "      <td>...</td>\n",
       "      <td>...</td>\n",
       "      <td>...</td>\n",
       "      <td>...</td>\n",
       "      <td>...</td>\n",
       "      <td>...</td>\n",
       "      <td>...</td>\n",
       "      <td>...</td>\n",
       "      <td>...</td>\n",
       "      <td>...</td>\n",
       "    </tr>\n",
       "    <tr>\n",
       "      <th>95849</th>\n",
       "      <td>a624fb9a</td>\n",
       "      <td>2047</td>\n",
       "      <td>7.96</td>\n",
       "      <td>59.0</td>\n",
       "      <td>2022-11-12</td>\n",
       "      <td>1.0</td>\n",
       "      <td>322.0</td>\n",
       "      <td>1</td>\n",
       "      <td>3.02</td>\n",
       "      <td>0</td>\n",
       "      <td>142</td>\n",
       "    </tr>\n",
       "    <tr>\n",
       "      <th>95850</th>\n",
       "      <td>a624fb9a</td>\n",
       "      <td>2047</td>\n",
       "      <td>5.53</td>\n",
       "      <td>148.0</td>\n",
       "      <td>2022-11-13</td>\n",
       "      <td>1.0</td>\n",
       "      <td>323.0</td>\n",
       "      <td>1</td>\n",
       "      <td>3.03</td>\n",
       "      <td>0</td>\n",
       "      <td>142</td>\n",
       "    </tr>\n",
       "    <tr>\n",
       "      <th>95851</th>\n",
       "      <td>a624fb9a</td>\n",
       "      <td>2047</td>\n",
       "      <td>3.24</td>\n",
       "      <td>287.0</td>\n",
       "      <td>2022-11-13</td>\n",
       "      <td>1.0</td>\n",
       "      <td>323.0</td>\n",
       "      <td>1</td>\n",
       "      <td>3.03</td>\n",
       "      <td>0</td>\n",
       "      <td>142</td>\n",
       "    </tr>\n",
       "    <tr>\n",
       "      <th>95852</th>\n",
       "      <td>a624fb9a</td>\n",
       "      <td>2047</td>\n",
       "      <td>9.23</td>\n",
       "      <td>240.0</td>\n",
       "      <td>2022-11-13</td>\n",
       "      <td>1.0</td>\n",
       "      <td>323.0</td>\n",
       "      <td>1</td>\n",
       "      <td>3.03</td>\n",
       "      <td>0</td>\n",
       "      <td>142</td>\n",
       "    </tr>\n",
       "    <tr>\n",
       "      <th>95853</th>\n",
       "      <td>a624fb9a</td>\n",
       "      <td>2047</td>\n",
       "      <td>7.42</td>\n",
       "      <td>10.0</td>\n",
       "      <td>2022-11-14</td>\n",
       "      <td>1.0</td>\n",
       "      <td>324.0</td>\n",
       "      <td>1</td>\n",
       "      <td>3.03</td>\n",
       "      <td>0</td>\n",
       "      <td>142</td>\n",
       "    </tr>\n",
       "  </tbody>\n",
       "</table>\n",
       "<p>95854 rows × 11 columns</p>\n",
       "</div>"
      ],
      "text/plain": [
       "      FarmName_Pseudo  Gigacow_Cow_Id  Total_MilkProduction  \\\n",
       "0            a624fb9a            2560                  9.38   \n",
       "1            a624fb9a            2560                  8.46   \n",
       "2            a624fb9a            2560                  6.68   \n",
       "3            a624fb9a            2560                  7.34   \n",
       "4            a624fb9a            2560                  8.15   \n",
       "...               ...             ...                   ...   \n",
       "95849        a624fb9a            2047                  7.96   \n",
       "95850        a624fb9a            2047                  5.53   \n",
       "95851        a624fb9a            2047                  3.24   \n",
       "95852        a624fb9a            2047                  9.23   \n",
       "95853        a624fb9a            2047                  7.42   \n",
       "\n",
       "       Total_timeDelta_Seconds MilkingDate  LactationNumber  DaysInMilk  \\\n",
       "0                       3176.0  2022-02-14              1.0         2.0   \n",
       "1                        352.0  2022-02-14              1.0         2.0   \n",
       "2                        997.0  2022-02-15              1.0         3.0   \n",
       "3                       9274.0  2022-02-15              1.0         3.0   \n",
       "4                        407.0  2022-02-16              1.0         4.0   \n",
       "...                        ...         ...              ...         ...   \n",
       "95849                     59.0  2022-11-12              1.0       322.0   \n",
       "95850                    148.0  2022-11-13              1.0       323.0   \n",
       "95851                    287.0  2022-11-13              1.0       323.0   \n",
       "95852                    240.0  2022-11-13              1.0       323.0   \n",
       "95853                     10.0  2022-11-14              1.0       324.0   \n",
       "\n",
       "       BreedName   Age  problematic   id  \n",
       "0              1  2.15            0    1  \n",
       "1              1  2.15            0    1  \n",
       "2              1  2.15            0    1  \n",
       "3              1  2.15            0    1  \n",
       "4              1  2.15            0    1  \n",
       "...          ...   ...          ...  ...  \n",
       "95849          1  3.02            0  142  \n",
       "95850          1  3.03            0  142  \n",
       "95851          1  3.03            0  142  \n",
       "95852          1  3.03            0  142  \n",
       "95853          1  3.03            0  142  \n",
       "\n",
       "[95854 rows x 11 columns]"
      ]
     },
     "execution_count": 8,
     "metadata": {},
     "output_type": "execute_result"
    }
   ],
   "source": [
    "\"\"\" Data Preparation \"\"\"\n",
    "\n",
    "usecols = ['id', 'FarmName_Pseudo', 'Gigacow_Cow_Id', 'Total_MilkProduction', 'Total_timeDelta_Seconds', 'LactationNumber', 'DaysInMilk', 'BreedName', 'Age', 'MilkingDate', 'problematic']\n",
    "dataDir = Path.cwd().parent.parent/'Data/processed/Problematic_targetCows/'\n",
    "\n",
    "# integrate all the cows data into one dataset\n",
    "filelist = list(Path(dataDir).glob('cow_*.csv'))\n",
    "for i, _ in enumerate(filelist):\n",
    "    fileName = 'cow_' + str(i) + '.csv'\n",
    "    single_cow = pd.read_csv(dataDir/fileName, encoding='utf-8', usecols=usecols)\n",
    "    single_cow.sort_values(by=['MilkingDate'], inplace=True)\n",
    "    if i == 0:\n",
    "        cow_total = single_cow\n",
    "    else:\n",
    "        cow_total = pd.concat([cow_total, single_cow], axis=0, ignore_index=True)\n",
    "cow_total.to_csv(dataDir.parent/\"Cow_Prob_dataset_L1.csv\", index=False)\n",
    "cow_total"
   ]
  },
  {
   "cell_type": "code",
   "execution_count": 22,
   "metadata": {},
   "outputs": [
    {
     "name": "stdout",
     "output_type": "stream",
     "text": [
      "problematic\n",
      "0    97\n",
      "1    45\n",
      "Name: count, dtype: int64\n"
     ]
    }
   ],
   "source": [
    "#df_static_features = cow_total[['FarmName_Pseudo']]\n",
    "static_cols = ['FarmName_Pseudo', 'TrafficDeviceName', 'LactationNumber', 'BreedName']\n",
    "timeSeries_cols = ['Age', 'Total_MilkProduction', 'Total_timeDelta_Seconds', 'DaysInMilk']\n",
    "output_col = ['problematic']\n",
    "\n",
    "cow_label = cow_total[['id', 'problematic']].copy()\n",
    "cow_timeseries = cow_total[['id', 'MilkingDate']].copy()\n",
    "cow_timeseries.index = range(len(cow_timeseries))\n",
    "# fetch y for feature extraction\n",
    "y = cow_label.drop_duplicates(subset=['id'])\n",
    "y = y[\"problematic\"]\n",
    "y.index = range(1,len(y)+1) \n",
    "print(y.value_counts())"
   ]
  },
  {
   "cell_type": "code",
   "execution_count": 23,
   "metadata": {},
   "outputs": [
    {
     "data": {
      "text/html": [
       "<div>\n",
       "<style scoped>\n",
       "    .dataframe tbody tr th:only-of-type {\n",
       "        vertical-align: middle;\n",
       "    }\n",
       "\n",
       "    .dataframe tbody tr th {\n",
       "        vertical-align: top;\n",
       "    }\n",
       "\n",
       "    .dataframe thead th {\n",
       "        text-align: right;\n",
       "    }\n",
       "</style>\n",
       "<table border=\"1\" class=\"dataframe\">\n",
       "  <thead>\n",
       "    <tr style=\"text-align: right;\">\n",
       "      <th></th>\n",
       "      <th>id</th>\n",
       "      <th>MilkingDate</th>\n",
       "      <th>Age</th>\n",
       "      <th>Total_MilkProduction</th>\n",
       "      <th>Total_timeDelta_Seconds</th>\n",
       "      <th>DaysInMilk</th>\n",
       "    </tr>\n",
       "  </thead>\n",
       "  <tbody>\n",
       "    <tr>\n",
       "      <th>0</th>\n",
       "      <td>1</td>\n",
       "      <td>2022-02-14</td>\n",
       "      <td>2.15</td>\n",
       "      <td>9.38</td>\n",
       "      <td>3176.0</td>\n",
       "      <td>2.0</td>\n",
       "    </tr>\n",
       "    <tr>\n",
       "      <th>1</th>\n",
       "      <td>1</td>\n",
       "      <td>2022-02-14</td>\n",
       "      <td>2.15</td>\n",
       "      <td>8.46</td>\n",
       "      <td>352.0</td>\n",
       "      <td>2.0</td>\n",
       "    </tr>\n",
       "    <tr>\n",
       "      <th>2</th>\n",
       "      <td>1</td>\n",
       "      <td>2022-02-15</td>\n",
       "      <td>2.15</td>\n",
       "      <td>6.68</td>\n",
       "      <td>997.0</td>\n",
       "      <td>3.0</td>\n",
       "    </tr>\n",
       "    <tr>\n",
       "      <th>3</th>\n",
       "      <td>1</td>\n",
       "      <td>2022-02-15</td>\n",
       "      <td>2.15</td>\n",
       "      <td>7.34</td>\n",
       "      <td>9274.0</td>\n",
       "      <td>3.0</td>\n",
       "    </tr>\n",
       "    <tr>\n",
       "      <th>4</th>\n",
       "      <td>1</td>\n",
       "      <td>2022-02-16</td>\n",
       "      <td>2.15</td>\n",
       "      <td>8.15</td>\n",
       "      <td>407.0</td>\n",
       "      <td>4.0</td>\n",
       "    </tr>\n",
       "    <tr>\n",
       "      <th>...</th>\n",
       "      <td>...</td>\n",
       "      <td>...</td>\n",
       "      <td>...</td>\n",
       "      <td>...</td>\n",
       "      <td>...</td>\n",
       "      <td>...</td>\n",
       "    </tr>\n",
       "    <tr>\n",
       "      <th>95849</th>\n",
       "      <td>142</td>\n",
       "      <td>2022-11-12</td>\n",
       "      <td>3.02</td>\n",
       "      <td>7.96</td>\n",
       "      <td>59.0</td>\n",
       "      <td>322.0</td>\n",
       "    </tr>\n",
       "    <tr>\n",
       "      <th>95850</th>\n",
       "      <td>142</td>\n",
       "      <td>2022-11-13</td>\n",
       "      <td>3.03</td>\n",
       "      <td>5.53</td>\n",
       "      <td>148.0</td>\n",
       "      <td>323.0</td>\n",
       "    </tr>\n",
       "    <tr>\n",
       "      <th>95851</th>\n",
       "      <td>142</td>\n",
       "      <td>2022-11-13</td>\n",
       "      <td>3.03</td>\n",
       "      <td>3.24</td>\n",
       "      <td>287.0</td>\n",
       "      <td>323.0</td>\n",
       "    </tr>\n",
       "    <tr>\n",
       "      <th>95852</th>\n",
       "      <td>142</td>\n",
       "      <td>2022-11-13</td>\n",
       "      <td>3.03</td>\n",
       "      <td>9.23</td>\n",
       "      <td>240.0</td>\n",
       "      <td>323.0</td>\n",
       "    </tr>\n",
       "    <tr>\n",
       "      <th>95853</th>\n",
       "      <td>142</td>\n",
       "      <td>2022-11-14</td>\n",
       "      <td>3.03</td>\n",
       "      <td>7.42</td>\n",
       "      <td>10.0</td>\n",
       "      <td>324.0</td>\n",
       "    </tr>\n",
       "  </tbody>\n",
       "</table>\n",
       "<p>95854 rows × 6 columns</p>\n",
       "</div>"
      ],
      "text/plain": [
       "        id MilkingDate   Age  Total_MilkProduction  Total_timeDelta_Seconds  \\\n",
       "0        1  2022-02-14  2.15                  9.38                   3176.0   \n",
       "1        1  2022-02-14  2.15                  8.46                    352.0   \n",
       "2        1  2022-02-15  2.15                  6.68                    997.0   \n",
       "3        1  2022-02-15  2.15                  7.34                   9274.0   \n",
       "4        1  2022-02-16  2.15                  8.15                    407.0   \n",
       "...    ...         ...   ...                   ...                      ...   \n",
       "95849  142  2022-11-12  3.02                  7.96                     59.0   \n",
       "95850  142  2022-11-13  3.03                  5.53                    148.0   \n",
       "95851  142  2022-11-13  3.03                  3.24                    287.0   \n",
       "95852  142  2022-11-13  3.03                  9.23                    240.0   \n",
       "95853  142  2022-11-14  3.03                  7.42                     10.0   \n",
       "\n",
       "       DaysInMilk  \n",
       "0             2.0  \n",
       "1             2.0  \n",
       "2             3.0  \n",
       "3             3.0  \n",
       "4             4.0  \n",
       "...           ...  \n",
       "95849       322.0  \n",
       "95850       323.0  \n",
       "95851       323.0  \n",
       "95852       323.0  \n",
       "95853       324.0  \n",
       "\n",
       "[95854 rows x 6 columns]"
      ]
     },
     "execution_count": 23,
     "metadata": {},
     "output_type": "execute_result"
    }
   ],
   "source": [
    "# Prepare datasert for Tsfresh extraction\n",
    "ts_extracted_dataset = cow_total[['id']].copy()\n",
    "ts_extracted_dataset.drop_duplicates(subset=['id'], inplace=True)\n",
    "ts_extracted_dataset.index = range(1, len(ts_extracted_dataset)+1)\n",
    "ts_processed = pd.DataFrame(cow_total[timeSeries_cols].copy())\n",
    "ts_processed.index = range(0,len(ts_processed)) \n",
    "ts_processed = pd.concat([cow_timeseries, ts_processed], axis=1)\n",
    "ts_processed"
   ]
  },
  {
   "cell_type": "code",
   "execution_count": 24,
   "metadata": {},
   "outputs": [
    {
     "name": "stdout",
     "output_type": "stream",
     "text": [
      "        id MilkingDate   Age\n",
      "0        1  2022-02-14  2.15\n",
      "1        1  2022-02-14  2.15\n",
      "2        1  2022-02-15  2.15\n",
      "3        1  2022-02-15  2.15\n",
      "4        1  2022-02-16  2.15\n",
      "...    ...         ...   ...\n",
      "95849  142  2022-11-12  3.02\n",
      "95850  142  2022-11-13  3.03\n",
      "95851  142  2022-11-13  3.03\n",
      "95852  142  2022-11-13  3.03\n",
      "95853  142  2022-11-14  3.03\n",
      "\n",
      "[95854 rows x 3 columns]\n"
     ]
    },
    {
     "name": "stderr",
     "output_type": "stream",
     "text": [
      "Feature Extraction: 100%|██████████| 36/36 [00:02<00:00, 17.66it/s]\n"
     ]
    },
    {
     "name": "stdout",
     "output_type": "stream",
     "text": [
      "        id MilkingDate  Total_MilkProduction\n",
      "0        1  2022-02-14                  9.38\n",
      "1        1  2022-02-14                  8.46\n",
      "2        1  2022-02-15                  6.68\n",
      "3        1  2022-02-15                  7.34\n",
      "4        1  2022-02-16                  8.15\n",
      "...    ...         ...                   ...\n",
      "95849  142  2022-11-12                  7.96\n",
      "95850  142  2022-11-13                  5.53\n",
      "95851  142  2022-11-13                  3.24\n",
      "95852  142  2022-11-13                  9.23\n",
      "95853  142  2022-11-14                  7.42\n",
      "\n",
      "[95854 rows x 3 columns]\n"
     ]
    },
    {
     "name": "stderr",
     "output_type": "stream",
     "text": [
      "Feature Extraction: 100%|██████████| 36/36 [00:02<00:00, 17.65it/s]\n"
     ]
    },
    {
     "name": "stdout",
     "output_type": "stream",
     "text": [
      "        id MilkingDate  Total_timeDelta_Seconds\n",
      "0        1  2022-02-14                   3176.0\n",
      "1        1  2022-02-14                    352.0\n",
      "2        1  2022-02-15                    997.0\n",
      "3        1  2022-02-15                   9274.0\n",
      "4        1  2022-02-16                    407.0\n",
      "...    ...         ...                      ...\n",
      "95849  142  2022-11-12                     59.0\n",
      "95850  142  2022-11-13                    148.0\n",
      "95851  142  2022-11-13                    287.0\n",
      "95852  142  2022-11-13                    240.0\n",
      "95853  142  2022-11-14                     10.0\n",
      "\n",
      "[95854 rows x 3 columns]\n"
     ]
    },
    {
     "name": "stderr",
     "output_type": "stream",
     "text": [
      "Feature Extraction: 100%|██████████| 36/36 [00:02<00:00, 15.57it/s]\n"
     ]
    },
    {
     "name": "stdout",
     "output_type": "stream",
     "text": [
      "        id MilkingDate  DaysInMilk\n",
      "0        1  2022-02-14         2.0\n",
      "1        1  2022-02-14         2.0\n",
      "2        1  2022-02-15         3.0\n",
      "3        1  2022-02-15         3.0\n",
      "4        1  2022-02-16         4.0\n",
      "...    ...         ...         ...\n",
      "95849  142  2022-11-12       322.0\n",
      "95850  142  2022-11-13       323.0\n",
      "95851  142  2022-11-13       323.0\n",
      "95852  142  2022-11-13       323.0\n",
      "95853  142  2022-11-14       324.0\n",
      "\n",
      "[95854 rows x 3 columns]\n"
     ]
    },
    {
     "name": "stderr",
     "output_type": "stream",
     "text": [
      "Feature Extraction: 100%|██████████| 36/36 [00:02<00:00, 16.05it/s]\n"
     ]
    },
    {
     "name": "stdout",
     "output_type": "stream",
     "text": [
      "                                                                                 feature  \\\n",
      "feature                                                                                    \n",
      "DaysInMilk__sum_values                                            DaysInMilk__sum_values   \n",
      "Total_MilkProduction__maximum                              Total_MilkProduction__maximum   \n",
      "Total_MilkProduction__absolute_maximum            Total_MilkProduction__absolute_maximum   \n",
      "DaysInMilk__minimum                                                  DaysInMilk__minimum   \n",
      "Total_MilkProduction__minimum                              Total_MilkProduction__minimum   \n",
      "Total_MilkProduction__standard_deviation        Total_MilkProduction__standard_deviation   \n",
      "Total_MilkProduction__variance                            Total_MilkProduction__variance   \n",
      "Age__sum_values                                                          Age__sum_values   \n",
      "Total_MilkProduction__mean                                    Total_MilkProduction__mean   \n",
      "Total_MilkProduction__root_mean_square            Total_MilkProduction__root_mean_square   \n",
      "DaysInMilk__length                                                    DaysInMilk__length   \n",
      "Total_timeDelta_Seconds__length                          Total_timeDelta_Seconds__length   \n",
      "Age__length                                                                  Age__length   \n",
      "Total_MilkProduction__length                                Total_MilkProduction__length   \n",
      "Total_MilkProduction__median                                Total_MilkProduction__median   \n",
      "Total_timeDelta_Seconds__minimum                        Total_timeDelta_Seconds__minimum   \n",
      "Total_timeDelta_Seconds__sum_values                  Total_timeDelta_Seconds__sum_values   \n",
      "Total_timeDelta_Seconds__maximum                        Total_timeDelta_Seconds__maximum   \n",
      "Total_timeDelta_Seconds__absolute_maximum      Total_timeDelta_Seconds__absolute_maximum   \n",
      "Total_timeDelta_Seconds__median                          Total_timeDelta_Seconds__median   \n",
      "Total_timeDelta_Seconds__standard_deviation  Total_timeDelta_Seconds__standard_deviation   \n",
      "Total_timeDelta_Seconds__variance                      Total_timeDelta_Seconds__variance   \n",
      "Total_timeDelta_Seconds__mean                              Total_timeDelta_Seconds__mean   \n",
      "Total_timeDelta_Seconds__root_mean_square      Total_timeDelta_Seconds__root_mean_square   \n",
      "\n",
      "                                             type       p_value  relevant  \n",
      "feature                                                                    \n",
      "DaysInMilk__sum_values                       real  9.188901e-05      True  \n",
      "Total_MilkProduction__maximum                real  1.911152e-05      True  \n",
      "Total_MilkProduction__absolute_maximum       real  1.911152e-05      True  \n",
      "DaysInMilk__minimum                          real  6.826637e-07      True  \n",
      "Total_MilkProduction__minimum                real  6.104101e-07      True  \n",
      "Total_MilkProduction__standard_deviation     real  3.826898e-07      True  \n",
      "Total_MilkProduction__variance               real  3.826898e-07      True  \n",
      "Age__sum_values                              real  1.097717e-07      True  \n",
      "Total_MilkProduction__mean                   real  6.262165e-09      True  \n",
      "Total_MilkProduction__root_mean_square       real  5.788520e-09      True  \n",
      "DaysInMilk__length                           real  4.563898e-09      True  \n",
      "Total_timeDelta_Seconds__length              real  4.563898e-09      True  \n",
      "Age__length                                  real  4.563898e-09      True  \n",
      "Total_MilkProduction__length                 real  4.563898e-09      True  \n",
      "Total_MilkProduction__median                 real  2.645599e-09      True  \n",
      "Total_timeDelta_Seconds__minimum             real  1.310296e-12      True  \n",
      "Total_timeDelta_Seconds__sum_values          real  9.373442e-14      True  \n",
      "Total_timeDelta_Seconds__maximum             real  4.926319e-19      True  \n",
      "Total_timeDelta_Seconds__absolute_maximum    real  4.926319e-19      True  \n",
      "Total_timeDelta_Seconds__median              real  1.876997e-20      True  \n",
      "Total_timeDelta_Seconds__standard_deviation  real  1.676648e-21      True  \n",
      "Total_timeDelta_Seconds__variance            real  1.676648e-21      True  \n",
      "Total_timeDelta_Seconds__mean                real  1.415972e-21      True  \n",
      "Total_timeDelta_Seconds__root_mean_square    real  1.357336e-21      True  \n"
     ]
    }
   ],
   "source": [
    "settings_1 = MinimalFCParameters() \n",
    "#settings_2 = ComprehensiveFCParameters\n",
    "\n",
    "for i, col in enumerate(timeSeries_cols):\n",
    "    ts_processed = pd.DataFrame(cow_total[col].copy())\n",
    "    ts_processed.index = range(0,len(ts_processed)) \n",
    "    ts_processed = pd.concat([cow_timeseries, ts_processed], axis=1)\n",
    "    print(ts_processed)\n",
    "    # extract time series features\n",
    "    extracted_features = extract_features(ts_processed, column_id=\"id\", column_sort=\"MilkingDate\", default_fc_parameters=settings_1)\n",
    "    #extracted_features.dropna(axis=1, inplace=True)\n",
    "    impute(extracted_features)\n",
    "    \n",
    "    # select most relevant features based on relevance table\n",
    "    if i == 0:\n",
    "        temp = calculate_relevance_table(extracted_features, y)\n",
    "        relevance_table = temp\n",
    "    else:\n",
    "        temp = calculate_relevance_table(extracted_features, y)\n",
    "        relevance_table = pd.concat([relevance_table, temp], axis=0)\n",
    "    features_filtered = select_features(extracted_features, y)\n",
    "    ts_extracted_dataset = pd.concat([ts_extracted_dataset, features_filtered], axis=1)\n",
    "\n",
    "# Select relevant features from the relevance table\n",
    "relevance_table = relevance_table[relevance_table.relevant]\n",
    "relevance_table.sort_values(\"p_value\", ascending=False, inplace=True)\n",
    "relevant_features_list = list(relevance_table.feature[:])\n",
    "print(relevance_table)\n",
    "\n",
    "ts_extracted_dataset_filtered = ts_extracted_dataset[relevant_features_list].copy()\n",
    "ts_extracted_dataset_filtered = ts_extracted_dataset_filtered.loc[:,~ts_extracted_dataset_filtered.columns.duplicated()]\n",
    "ts_extracted_dataset = ts_extracted_dataset_filtered\n",
    "ts_extracted_dataset\n",
    "ts_extracted_dataset.to_csv(dataDir/\"problematic_cows_7200s_5percent_extracted_features.csv\", index=False)\n",
    "relevance_table.to_csv(dataDir/\"problematic_cows_7200s_5percent_relevance_table.csv\")"
   ]
  },
  {
   "cell_type": "code",
   "execution_count": 25,
   "metadata": {},
   "outputs": [
    {
     "name": "stderr",
     "output_type": "stream",
     "text": [
      "C:\\Users\\tokm0001\\AppData\\Local\\Packages\\PythonSoftwareFoundation.Python.3.11_qbz5n2kfra8p0\\LocalCache\\local-packages\\Python311\\site-packages\\sklearn\\preprocessing\\_encoders.py:975: FutureWarning: `sparse` was renamed to `sparse_output` in version 1.2 and will be removed in 1.4. `sparse_output` is ignored unless you leave `sparse` to its default value.\n",
      "  warnings.warn(\n"
     ]
    },
    {
     "data": {
      "text/html": [
       "<div>\n",
       "<style scoped>\n",
       "    .dataframe tbody tr th:only-of-type {\n",
       "        vertical-align: middle;\n",
       "    }\n",
       "\n",
       "    .dataframe tbody tr th {\n",
       "        vertical-align: top;\n",
       "    }\n",
       "\n",
       "    .dataframe thead th {\n",
       "        text-align: right;\n",
       "    }\n",
       "</style>\n",
       "<table border=\"1\" class=\"dataframe\">\n",
       "  <thead>\n",
       "    <tr style=\"text-align: right;\">\n",
       "      <th></th>\n",
       "      <th>id</th>\n",
       "      <th>DaysInMilk__sum_values</th>\n",
       "      <th>Total_MilkProduction__maximum</th>\n",
       "      <th>Total_MilkProduction__absolute_maximum</th>\n",
       "      <th>DaysInMilk__minimum</th>\n",
       "      <th>Total_MilkProduction__minimum</th>\n",
       "      <th>Total_MilkProduction__standard_deviation</th>\n",
       "      <th>Total_MilkProduction__variance</th>\n",
       "      <th>Age__sum_values</th>\n",
       "      <th>Total_MilkProduction__mean</th>\n",
       "      <th>...</th>\n",
       "      <th>Total_timeDelta_Seconds__median</th>\n",
       "      <th>Total_timeDelta_Seconds__standard_deviation</th>\n",
       "      <th>Total_timeDelta_Seconds__variance</th>\n",
       "      <th>Total_timeDelta_Seconds__mean</th>\n",
       "      <th>Total_timeDelta_Seconds__root_mean_square</th>\n",
       "      <th>BreedName_1</th>\n",
       "      <th>BreedName_2</th>\n",
       "      <th>BreedName_4</th>\n",
       "      <th>BreedName_99</th>\n",
       "      <th>problematic</th>\n",
       "    </tr>\n",
       "  </thead>\n",
       "  <tbody>\n",
       "    <tr>\n",
       "      <th>1</th>\n",
       "      <td>1</td>\n",
       "      <td>0.041416</td>\n",
       "      <td>-0.606249</td>\n",
       "      <td>-0.606249</td>\n",
       "      <td>-0.515465</td>\n",
       "      <td>-0.485766</td>\n",
       "      <td>-0.870912</td>\n",
       "      <td>-0.794164</td>\n",
       "      <td>0.682971</td>\n",
       "      <td>-0.743696</td>\n",
       "      <td>...</td>\n",
       "      <td>-0.713234</td>\n",
       "      <td>-0.800136</td>\n",
       "      <td>-0.517272</td>\n",
       "      <td>-0.773052</td>\n",
       "      <td>-0.797385</td>\n",
       "      <td>1.0</td>\n",
       "      <td>0.0</td>\n",
       "      <td>0.0</td>\n",
       "      <td>0.0</td>\n",
       "      <td>0</td>\n",
       "    </tr>\n",
       "    <tr>\n",
       "      <th>2</th>\n",
       "      <td>2</td>\n",
       "      <td>-0.127943</td>\n",
       "      <td>-0.830462</td>\n",
       "      <td>-0.830462</td>\n",
       "      <td>0.671497</td>\n",
       "      <td>-0.081988</td>\n",
       "      <td>-0.697685</td>\n",
       "      <td>-0.673874</td>\n",
       "      <td>-0.355900</td>\n",
       "      <td>-0.524190</td>\n",
       "      <td>...</td>\n",
       "      <td>-0.198049</td>\n",
       "      <td>1.177999</td>\n",
       "      <td>0.733017</td>\n",
       "      <td>0.232248</td>\n",
       "      <td>0.851429</td>\n",
       "      <td>0.0</td>\n",
       "      <td>1.0</td>\n",
       "      <td>0.0</td>\n",
       "      <td>0.0</td>\n",
       "      <td>1</td>\n",
       "    </tr>\n",
       "    <tr>\n",
       "      <th>3</th>\n",
       "      <td>3</td>\n",
       "      <td>-0.667363</td>\n",
       "      <td>0.433045</td>\n",
       "      <td>0.433045</td>\n",
       "      <td>-0.317638</td>\n",
       "      <td>-0.135825</td>\n",
       "      <td>1.468895</td>\n",
       "      <td>1.427846</td>\n",
       "      <td>-0.826430</td>\n",
       "      <td>0.562645</td>\n",
       "      <td>...</td>\n",
       "      <td>1.048832</td>\n",
       "      <td>2.102698</td>\n",
       "      <td>1.856869</td>\n",
       "      <td>1.397014</td>\n",
       "      <td>1.842398</td>\n",
       "      <td>0.0</td>\n",
       "      <td>0.0</td>\n",
       "      <td>0.0</td>\n",
       "      <td>1.0</td>\n",
       "      <td>1</td>\n",
       "    </tr>\n",
       "    <tr>\n",
       "      <th>4</th>\n",
       "      <td>4</td>\n",
       "      <td>0.259103</td>\n",
       "      <td>-0.550855</td>\n",
       "      <td>-0.550855</td>\n",
       "      <td>0.374757</td>\n",
       "      <td>-0.115636</td>\n",
       "      <td>-1.411532</td>\n",
       "      <td>-1.124109</td>\n",
       "      <td>0.258860</td>\n",
       "      <td>-0.287375</td>\n",
       "      <td>...</td>\n",
       "      <td>-0.814724</td>\n",
       "      <td>-1.162137</td>\n",
       "      <td>-0.575848</td>\n",
       "      <td>-1.031936</td>\n",
       "      <td>-1.121810</td>\n",
       "      <td>1.0</td>\n",
       "      <td>0.0</td>\n",
       "      <td>0.0</td>\n",
       "      <td>0.0</td>\n",
       "      <td>0</td>\n",
       "    </tr>\n",
       "    <tr>\n",
       "      <th>5</th>\n",
       "      <td>5</td>\n",
       "      <td>-0.624533</td>\n",
       "      <td>0.546471</td>\n",
       "      <td>0.546471</td>\n",
       "      <td>-0.119811</td>\n",
       "      <td>1.176455</td>\n",
       "      <td>-0.153387</td>\n",
       "      <td>-0.249899</td>\n",
       "      <td>-1.314833</td>\n",
       "      <td>0.457778</td>\n",
       "      <td>...</td>\n",
       "      <td>1.562084</td>\n",
       "      <td>2.195322</td>\n",
       "      <td>1.988376</td>\n",
       "      <td>2.140811</td>\n",
       "      <td>2.181163</td>\n",
       "      <td>0.0</td>\n",
       "      <td>0.0</td>\n",
       "      <td>1.0</td>\n",
       "      <td>0.0</td>\n",
       "      <td>1</td>\n",
       "    </tr>\n",
       "    <tr>\n",
       "      <th>...</th>\n",
       "      <td>...</td>\n",
       "      <td>...</td>\n",
       "      <td>...</td>\n",
       "      <td>...</td>\n",
       "      <td>...</td>\n",
       "      <td>...</td>\n",
       "      <td>...</td>\n",
       "      <td>...</td>\n",
       "      <td>...</td>\n",
       "      <td>...</td>\n",
       "      <td>...</td>\n",
       "      <td>...</td>\n",
       "      <td>...</td>\n",
       "      <td>...</td>\n",
       "      <td>...</td>\n",
       "      <td>...</td>\n",
       "      <td>...</td>\n",
       "      <td>...</td>\n",
       "      <td>...</td>\n",
       "      <td>...</td>\n",
       "      <td>...</td>\n",
       "    </tr>\n",
       "    <tr>\n",
       "      <th>138</th>\n",
       "      <td>138</td>\n",
       "      <td>-0.252569</td>\n",
       "      <td>-0.318728</td>\n",
       "      <td>-0.318728</td>\n",
       "      <td>2.946508</td>\n",
       "      <td>-0.357903</td>\n",
       "      <td>-0.432186</td>\n",
       "      <td>-0.475787</td>\n",
       "      <td>-1.172580</td>\n",
       "      <td>-1.159289</td>\n",
       "      <td>...</td>\n",
       "      <td>-0.435343</td>\n",
       "      <td>-0.733957</td>\n",
       "      <td>-0.500869</td>\n",
       "      <td>-0.580319</td>\n",
       "      <td>-0.681305</td>\n",
       "      <td>0.0</td>\n",
       "      <td>1.0</td>\n",
       "      <td>0.0</td>\n",
       "      <td>0.0</td>\n",
       "      <td>0</td>\n",
       "    </tr>\n",
       "    <tr>\n",
       "      <th>139</th>\n",
       "      <td>139</td>\n",
       "      <td>-0.002871</td>\n",
       "      <td>0.195643</td>\n",
       "      <td>0.195643</td>\n",
       "      <td>-0.614378</td>\n",
       "      <td>-0.613629</td>\n",
       "      <td>-0.298367</td>\n",
       "      <td>-0.369650</td>\n",
       "      <td>0.305279</td>\n",
       "      <td>-0.065207</td>\n",
       "      <td>...</td>\n",
       "      <td>-0.455641</td>\n",
       "      <td>-0.234920</td>\n",
       "      <td>-0.320502</td>\n",
       "      <td>-0.229227</td>\n",
       "      <td>-0.238628</td>\n",
       "      <td>0.0</td>\n",
       "      <td>1.0</td>\n",
       "      <td>0.0</td>\n",
       "      <td>0.0</td>\n",
       "      <td>0</td>\n",
       "    </tr>\n",
       "    <tr>\n",
       "      <th>140</th>\n",
       "      <td>140</td>\n",
       "      <td>0.252865</td>\n",
       "      <td>-0.060224</td>\n",
       "      <td>-0.060224</td>\n",
       "      <td>-0.416551</td>\n",
       "      <td>-0.391551</td>\n",
       "      <td>-0.873061</td>\n",
       "      <td>-0.795612</td>\n",
       "      <td>0.617516</td>\n",
       "      <td>-0.324087</td>\n",
       "      <td>...</td>\n",
       "      <td>-0.672637</td>\n",
       "      <td>-0.559973</td>\n",
       "      <td>-0.449351</td>\n",
       "      <td>-0.602978</td>\n",
       "      <td>-0.582368</td>\n",
       "      <td>1.0</td>\n",
       "      <td>0.0</td>\n",
       "      <td>0.0</td>\n",
       "      <td>0.0</td>\n",
       "      <td>0</td>\n",
       "    </tr>\n",
       "    <tr>\n",
       "      <th>141</th>\n",
       "      <td>141</td>\n",
       "      <td>0.034215</td>\n",
       "      <td>1.016000</td>\n",
       "      <td>1.016000</td>\n",
       "      <td>0.275843</td>\n",
       "      <td>3.175158</td>\n",
       "      <td>-0.100269</td>\n",
       "      <td>-0.204785</td>\n",
       "      <td>-0.112157</td>\n",
       "      <td>0.646637</td>\n",
       "      <td>...</td>\n",
       "      <td>-0.356567</td>\n",
       "      <td>-0.382108</td>\n",
       "      <td>-0.384107</td>\n",
       "      <td>-0.413825</td>\n",
       "      <td>-0.400397</td>\n",
       "      <td>1.0</td>\n",
       "      <td>0.0</td>\n",
       "      <td>0.0</td>\n",
       "      <td>0.0</td>\n",
       "      <td>0</td>\n",
       "    </tr>\n",
       "    <tr>\n",
       "      <th>142</th>\n",
       "      <td>142</td>\n",
       "      <td>0.305317</td>\n",
       "      <td>-0.062861</td>\n",
       "      <td>-0.062861</td>\n",
       "      <td>-0.614378</td>\n",
       "      <td>-0.115636</td>\n",
       "      <td>-0.608956</td>\n",
       "      <td>-0.609522</td>\n",
       "      <td>1.006144</td>\n",
       "      <td>-0.192998</td>\n",
       "      <td>...</td>\n",
       "      <td>-0.647023</td>\n",
       "      <td>-0.695961</td>\n",
       "      <td>-0.490657</td>\n",
       "      <td>-0.691417</td>\n",
       "      <td>-0.701323</td>\n",
       "      <td>1.0</td>\n",
       "      <td>0.0</td>\n",
       "      <td>0.0</td>\n",
       "      <td>0.0</td>\n",
       "      <td>0</td>\n",
       "    </tr>\n",
       "  </tbody>\n",
       "</table>\n",
       "<p>142 rows × 30 columns</p>\n",
       "</div>"
      ],
      "text/plain": [
       "      id  DaysInMilk__sum_values  Total_MilkProduction__maximum  \\\n",
       "1      1                0.041416                      -0.606249   \n",
       "2      2               -0.127943                      -0.830462   \n",
       "3      3               -0.667363                       0.433045   \n",
       "4      4                0.259103                      -0.550855   \n",
       "5      5               -0.624533                       0.546471   \n",
       "..   ...                     ...                            ...   \n",
       "138  138               -0.252569                      -0.318728   \n",
       "139  139               -0.002871                       0.195643   \n",
       "140  140                0.252865                      -0.060224   \n",
       "141  141                0.034215                       1.016000   \n",
       "142  142                0.305317                      -0.062861   \n",
       "\n",
       "     Total_MilkProduction__absolute_maximum  DaysInMilk__minimum  \\\n",
       "1                                 -0.606249            -0.515465   \n",
       "2                                 -0.830462             0.671497   \n",
       "3                                  0.433045            -0.317638   \n",
       "4                                 -0.550855             0.374757   \n",
       "5                                  0.546471            -0.119811   \n",
       "..                                      ...                  ...   \n",
       "138                               -0.318728             2.946508   \n",
       "139                                0.195643            -0.614378   \n",
       "140                               -0.060224            -0.416551   \n",
       "141                                1.016000             0.275843   \n",
       "142                               -0.062861            -0.614378   \n",
       "\n",
       "     Total_MilkProduction__minimum  Total_MilkProduction__standard_deviation  \\\n",
       "1                        -0.485766                                 -0.870912   \n",
       "2                        -0.081988                                 -0.697685   \n",
       "3                        -0.135825                                  1.468895   \n",
       "4                        -0.115636                                 -1.411532   \n",
       "5                         1.176455                                 -0.153387   \n",
       "..                             ...                                       ...   \n",
       "138                      -0.357903                                 -0.432186   \n",
       "139                      -0.613629                                 -0.298367   \n",
       "140                      -0.391551                                 -0.873061   \n",
       "141                       3.175158                                 -0.100269   \n",
       "142                      -0.115636                                 -0.608956   \n",
       "\n",
       "     Total_MilkProduction__variance  Age__sum_values  \\\n",
       "1                         -0.794164         0.682971   \n",
       "2                         -0.673874        -0.355900   \n",
       "3                          1.427846        -0.826430   \n",
       "4                         -1.124109         0.258860   \n",
       "5                         -0.249899        -1.314833   \n",
       "..                              ...              ...   \n",
       "138                       -0.475787        -1.172580   \n",
       "139                       -0.369650         0.305279   \n",
       "140                       -0.795612         0.617516   \n",
       "141                       -0.204785        -0.112157   \n",
       "142                       -0.609522         1.006144   \n",
       "\n",
       "     Total_MilkProduction__mean  ...  Total_timeDelta_Seconds__median  \\\n",
       "1                     -0.743696  ...                        -0.713234   \n",
       "2                     -0.524190  ...                        -0.198049   \n",
       "3                      0.562645  ...                         1.048832   \n",
       "4                     -0.287375  ...                        -0.814724   \n",
       "5                      0.457778  ...                         1.562084   \n",
       "..                          ...  ...                              ...   \n",
       "138                   -1.159289  ...                        -0.435343   \n",
       "139                   -0.065207  ...                        -0.455641   \n",
       "140                   -0.324087  ...                        -0.672637   \n",
       "141                    0.646637  ...                        -0.356567   \n",
       "142                   -0.192998  ...                        -0.647023   \n",
       "\n",
       "     Total_timeDelta_Seconds__standard_deviation  \\\n",
       "1                                      -0.800136   \n",
       "2                                       1.177999   \n",
       "3                                       2.102698   \n",
       "4                                      -1.162137   \n",
       "5                                       2.195322   \n",
       "..                                           ...   \n",
       "138                                    -0.733957   \n",
       "139                                    -0.234920   \n",
       "140                                    -0.559973   \n",
       "141                                    -0.382108   \n",
       "142                                    -0.695961   \n",
       "\n",
       "     Total_timeDelta_Seconds__variance  Total_timeDelta_Seconds__mean  \\\n",
       "1                            -0.517272                      -0.773052   \n",
       "2                             0.733017                       0.232248   \n",
       "3                             1.856869                       1.397014   \n",
       "4                            -0.575848                      -1.031936   \n",
       "5                             1.988376                       2.140811   \n",
       "..                                 ...                            ...   \n",
       "138                          -0.500869                      -0.580319   \n",
       "139                          -0.320502                      -0.229227   \n",
       "140                          -0.449351                      -0.602978   \n",
       "141                          -0.384107                      -0.413825   \n",
       "142                          -0.490657                      -0.691417   \n",
       "\n",
       "     Total_timeDelta_Seconds__root_mean_square  BreedName_1  BreedName_2  \\\n",
       "1                                    -0.797385          1.0          0.0   \n",
       "2                                     0.851429          0.0          1.0   \n",
       "3                                     1.842398          0.0          0.0   \n",
       "4                                    -1.121810          1.0          0.0   \n",
       "5                                     2.181163          0.0          0.0   \n",
       "..                                         ...          ...          ...   \n",
       "138                                  -0.681305          0.0          1.0   \n",
       "139                                  -0.238628          0.0          1.0   \n",
       "140                                  -0.582368          1.0          0.0   \n",
       "141                                  -0.400397          1.0          0.0   \n",
       "142                                  -0.701323          1.0          0.0   \n",
       "\n",
       "     BreedName_4  BreedName_99  problematic  \n",
       "1            0.0           0.0            0  \n",
       "2            0.0           0.0            1  \n",
       "3            0.0           1.0            1  \n",
       "4            0.0           0.0            0  \n",
       "5            1.0           0.0            1  \n",
       "..           ...           ...          ...  \n",
       "138          0.0           0.0            0  \n",
       "139          0.0           0.0            0  \n",
       "140          0.0           0.0            0  \n",
       "141          0.0           0.0            0  \n",
       "142          0.0           0.0            0  \n",
       "\n",
       "[142 rows x 30 columns]"
      ]
     },
     "execution_count": 25,
     "metadata": {},
     "output_type": "execute_result"
    }
   ],
   "source": [
    "# Construct extracted training data\n",
    "ts_extracted_id = cow_total[['id']].copy()\n",
    "ts_extracted_id.drop_duplicates(subset=['id'], inplace=True)\n",
    "ts_extracted_id.index = range(1, len(ts_extracted_id)+1)\n",
    "ts_extracted_dataset = pd.concat([ts_extracted_id, ts_extracted_dataset], axis=1)\n",
    "\n",
    "ts_extracted_features = ts_extracted_dataset.iloc[:, 1:len(ts_extracted_dataset.columns)].copy()\n",
    "# normalize numerical features\n",
    "ts_extracted_cols = ts_extracted_features.columns\n",
    "scaler_std = StandardScaler()\n",
    "ts_std = scaler_std.fit_transform(ts_extracted_features)\n",
    "# transform standard data into dataframe\n",
    "ts_extracted_processed = pd.DataFrame(ts_std, columns=ts_extracted_cols)\n",
    "ts_extracted_processed.index = range(1,len(ts_extracted_processed)+1)\n",
    "# append id col to the dataframe\n",
    "ts_extracted_processed = pd.concat([ts_extracted_dataset['id'], ts_extracted_processed], axis=1)\n",
    "\n",
    "# One-Hot encoding categorical feature - BreedName\n",
    "ohe = OneHotEncoder(handle_unknown='ignore',sparse=False)\n",
    "cow_breed = cow_total[['id', 'BreedName']].copy()\n",
    "cow_breed.drop_duplicates(subset=['id'], inplace=True)\n",
    "cat = ohe.fit_transform(np.array(cow_breed['BreedName']).reshape(-1, 1))\n",
    "col_names = ohe.get_feature_names_out(['BreedName'])\n",
    "cat_breed = pd.DataFrame(cat, columns=col_names)\n",
    "cat_breed.index = range(1,len(cow_breed)+1)\n",
    "\n",
    "# append features on extracted dataset\n",
    "ts_dataset = pd.concat([ts_extracted_processed, cat_breed], axis=1)\n",
    "ts_dataset = pd.concat([ts_dataset, y], axis=1)\n",
    "ts_dataset.to_csv(dataDir/\"problematic_100cows_7200s_5percent_features.csv\", index=False)\n",
    "ts_dataset"
   ]
  },
  {
   "cell_type": "code",
   "execution_count": 26,
   "metadata": {},
   "outputs": [],
   "source": [
    "\"\"\"Implementation on Gaussian Process Classifier\"\"\"\n",
    "\n",
    "import numpy as np\n",
    "from pathlib import Path\n",
    "import pandas as pd\n",
    "from matplotlib import pyplot as plt\n",
    "from sklearn.gaussian_process import GaussianProcessClassifier\n",
    "from sklearn.model_selection import GridSearchCV, train_test_split, RepeatedStratifiedKFold\n",
    "from sklearn.metrics import accuracy_score, log_loss\n",
    "pd.options.mode.chained_assignment = None\n",
    "\n",
    "from sklearn.gaussian_process.kernels import RBF, DotProduct, Matern, RationalQuadratic, WhiteKernel, ExpSineSquared\n",
    "grid = dict()\n",
    "grid['kernel'] = [1*RBF(length_scale=1.0, length_scale_bounds=(1e-2, 1e2)), \n",
    "                  1*DotProduct(), 1*Matern(),  1*RationalQuadratic(),\n",
    "                  1*Matern()+1*WhiteKernel(noise_level=0.5),\n",
    "                  1*ExpSineSquared(),\n",
    "                  1.0 * ExpSineSquared(length_scale=1.0, periodicity=3.0, length_scale_bounds=(0.1, 10.0), periodicity_bounds=(1.0, 10.0)),\n",
    "                  1*Matern(length_scale=1.0, length_scale_bounds=(1e-1, 10.0), nu=1.5)+1*WhiteKernel(noise_level=0.5),\n",
    "                ]\n",
    "\n",
    "\n",
    "dataDir = Path.cwd().parent.parent/'Data/processed'\n",
    "ts_dataset = pd.read_csv(dataDir/\"problematic_100cows_7200s_5percent.csv\", index_col=\"id\")"
   ]
  },
  {
   "cell_type": "code",
   "execution_count": 27,
   "metadata": {},
   "outputs": [
    {
     "name": "stderr",
     "output_type": "stream",
     "text": [
      "C:\\Users\\tokm0001\\AppData\\Local\\Packages\\PythonSoftwareFoundation.Python.3.11_qbz5n2kfra8p0\\LocalCache\\local-packages\\Python311\\site-packages\\sklearn\\model_selection\\_validation.py:425: FitFailedWarning: \n",
      "50 fits failed out of a total of 200.\n",
      "The score on these train-test partitions for these parameters will be set to nan.\n",
      "If these failures are not expected, you can try to debug them by setting error_score='raise'.\n",
      "\n",
      "Below are more details about the failures:\n",
      "--------------------------------------------------------------------------------\n",
      "4 fits failed with the following error:\n",
      "Traceback (most recent call last):\n",
      "  File \"C:\\Users\\tokm0001\\AppData\\Local\\Packages\\PythonSoftwareFoundation.Python.3.11_qbz5n2kfra8p0\\LocalCache\\local-packages\\Python311\\site-packages\\sklearn\\model_selection\\_validation.py\", line 729, in _fit_and_score\n",
      "    estimator.fit(X_train, y_train, **fit_params)\n",
      "  File \"C:\\Users\\tokm0001\\AppData\\Local\\Packages\\PythonSoftwareFoundation.Python.3.11_qbz5n2kfra8p0\\LocalCache\\local-packages\\Python311\\site-packages\\sklearn\\base.py\", line 1152, in wrapper\n",
      "    return fit_method(estimator, *args, **kwargs)\n",
      "           ^^^^^^^^^^^^^^^^^^^^^^^^^^^^^^^^^^^^^^\n",
      "  File \"C:\\Users\\tokm0001\\AppData\\Local\\Packages\\PythonSoftwareFoundation.Python.3.11_qbz5n2kfra8p0\\LocalCache\\local-packages\\Python311\\site-packages\\sklearn\\gaussian_process\\_gpc.py\", line 741, in fit\n",
      "    self.base_estimator_.fit(X, y)\n",
      "  File \"C:\\Users\\tokm0001\\AppData\\Local\\Packages\\PythonSoftwareFoundation.Python.3.11_qbz5n2kfra8p0\\LocalCache\\local-packages\\Python311\\site-packages\\sklearn\\gaussian_process\\_gpc.py\", line 229, in fit\n",
      "    self._constrained_optimization(\n",
      "  File \"C:\\Users\\tokm0001\\AppData\\Local\\Packages\\PythonSoftwareFoundation.Python.3.11_qbz5n2kfra8p0\\LocalCache\\local-packages\\Python311\\site-packages\\sklearn\\gaussian_process\\_gpc.py\", line 474, in _constrained_optimization\n",
      "    opt_res = scipy.optimize.minimize(\n",
      "              ^^^^^^^^^^^^^^^^^^^^^^^^\n",
      "  File \"C:\\Users\\tokm0001\\AppData\\Local\\Packages\\PythonSoftwareFoundation.Python.3.11_qbz5n2kfra8p0\\LocalCache\\local-packages\\Python311\\site-packages\\scipy\\optimize\\_minimize.py\", line 710, in minimize\n",
      "    res = _minimize_lbfgsb(fun, x0, args, jac, bounds,\n",
      "          ^^^^^^^^^^^^^^^^^^^^^^^^^^^^^^^^^^^^^^^^^^^^\n",
      "  File \"C:\\Users\\tokm0001\\AppData\\Local\\Packages\\PythonSoftwareFoundation.Python.3.11_qbz5n2kfra8p0\\LocalCache\\local-packages\\Python311\\site-packages\\scipy\\optimize\\_lbfgsb_py.py\", line 307, in _minimize_lbfgsb\n",
      "    sf = _prepare_scalar_function(fun, x0, jac=jac, args=args, epsilon=eps,\n",
      "         ^^^^^^^^^^^^^^^^^^^^^^^^^^^^^^^^^^^^^^^^^^^^^^^^^^^^^^^^^^^^^^^^^^\n",
      "  File \"C:\\Users\\tokm0001\\AppData\\Local\\Packages\\PythonSoftwareFoundation.Python.3.11_qbz5n2kfra8p0\\LocalCache\\local-packages\\Python311\\site-packages\\scipy\\optimize\\_optimize.py\", line 383, in _prepare_scalar_function\n",
      "    sf = ScalarFunction(fun, x0, args, grad, hess,\n",
      "         ^^^^^^^^^^^^^^^^^^^^^^^^^^^^^^^^^^^^^^^^^\n",
      "  File \"C:\\Users\\tokm0001\\AppData\\Local\\Packages\\PythonSoftwareFoundation.Python.3.11_qbz5n2kfra8p0\\LocalCache\\local-packages\\Python311\\site-packages\\scipy\\optimize\\_differentiable_functions.py\", line 158, in __init__\n",
      "    self._update_fun()\n",
      "  File \"C:\\Users\\tokm0001\\AppData\\Local\\Packages\\PythonSoftwareFoundation.Python.3.11_qbz5n2kfra8p0\\LocalCache\\local-packages\\Python311\\site-packages\\scipy\\optimize\\_differentiable_functions.py\", line 251, in _update_fun\n",
      "    self._update_fun_impl()\n",
      "  File \"C:\\Users\\tokm0001\\AppData\\Local\\Packages\\PythonSoftwareFoundation.Python.3.11_qbz5n2kfra8p0\\LocalCache\\local-packages\\Python311\\site-packages\\scipy\\optimize\\_differentiable_functions.py\", line 155, in update_fun\n",
      "    self.f = fun_wrapped(self.x)\n",
      "             ^^^^^^^^^^^^^^^^^^^\n",
      "  File \"C:\\Users\\tokm0001\\AppData\\Local\\Packages\\PythonSoftwareFoundation.Python.3.11_qbz5n2kfra8p0\\LocalCache\\local-packages\\Python311\\site-packages\\scipy\\optimize\\_differentiable_functions.py\", line 137, in fun_wrapped\n",
      "    fx = fun(np.copy(x), *args)\n",
      "         ^^^^^^^^^^^^^^^^^^^^^^\n",
      "  File \"C:\\Users\\tokm0001\\AppData\\Local\\Packages\\PythonSoftwareFoundation.Python.3.11_qbz5n2kfra8p0\\LocalCache\\local-packages\\Python311\\site-packages\\scipy\\optimize\\_optimize.py\", line 77, in __call__\n",
      "    self._compute_if_needed(x, *args)\n",
      "  File \"C:\\Users\\tokm0001\\AppData\\Local\\Packages\\PythonSoftwareFoundation.Python.3.11_qbz5n2kfra8p0\\LocalCache\\local-packages\\Python311\\site-packages\\scipy\\optimize\\_optimize.py\", line 71, in _compute_if_needed\n",
      "    fg = self.fun(x, *args)\n",
      "         ^^^^^^^^^^^^^^^^^^\n",
      "  File \"C:\\Users\\tokm0001\\AppData\\Local\\Packages\\PythonSoftwareFoundation.Python.3.11_qbz5n2kfra8p0\\LocalCache\\local-packages\\Python311\\site-packages\\sklearn\\gaussian_process\\_gpc.py\", line 220, in obj_func\n",
      "    lml, grad = self.log_marginal_likelihood(\n",
      "                ^^^^^^^^^^^^^^^^^^^^^^^^^^^^^\n",
      "  File \"C:\\Users\\tokm0001\\AppData\\Local\\Packages\\PythonSoftwareFoundation.Python.3.11_qbz5n2kfra8p0\\LocalCache\\local-packages\\Python311\\site-packages\\sklearn\\gaussian_process\\_gpc.py\", line 385, in log_marginal_likelihood\n",
      "    Z, (pi, W_sr, L, b, a) = self._posterior_mode(K, return_temporaries=True)\n",
      "                             ^^^^^^^^^^^^^^^^^^^^^^^^^^^^^^^^^^^^^^^^^^^^^^^^\n",
      "  File \"C:\\Users\\tokm0001\\AppData\\Local\\Packages\\PythonSoftwareFoundation.Python.3.11_qbz5n2kfra8p0\\LocalCache\\local-packages\\Python311\\site-packages\\sklearn\\gaussian_process\\_gpc.py\", line 444, in _posterior_mode\n",
      "    L = cholesky(B, lower=True)\n",
      "        ^^^^^^^^^^^^^^^^^^^^^^^\n",
      "  File \"C:\\Users\\tokm0001\\AppData\\Local\\Packages\\PythonSoftwareFoundation.Python.3.11_qbz5n2kfra8p0\\LocalCache\\local-packages\\Python311\\site-packages\\scipy\\linalg\\_decomp_cholesky.py\", line 89, in cholesky\n",
      "    c, lower = _cholesky(a, lower=lower, overwrite_a=overwrite_a, clean=True,\n",
      "               ^^^^^^^^^^^^^^^^^^^^^^^^^^^^^^^^^^^^^^^^^^^^^^^^^^^^^^^^^^^^^^\n",
      "  File \"C:\\Users\\tokm0001\\AppData\\Local\\Packages\\PythonSoftwareFoundation.Python.3.11_qbz5n2kfra8p0\\LocalCache\\local-packages\\Python311\\site-packages\\scipy\\linalg\\_decomp_cholesky.py\", line 37, in _cholesky\n",
      "    raise LinAlgError(\"%d-th leading minor of the array is not positive \"\n",
      "numpy.linalg.LinAlgError: 54-th leading minor of the array is not positive definite\n",
      "\n",
      "--------------------------------------------------------------------------------\n",
      "2 fits failed with the following error:\n",
      "Traceback (most recent call last):\n",
      "  File \"C:\\Users\\tokm0001\\AppData\\Local\\Packages\\PythonSoftwareFoundation.Python.3.11_qbz5n2kfra8p0\\LocalCache\\local-packages\\Python311\\site-packages\\sklearn\\model_selection\\_validation.py\", line 729, in _fit_and_score\n",
      "    estimator.fit(X_train, y_train, **fit_params)\n",
      "  File \"C:\\Users\\tokm0001\\AppData\\Local\\Packages\\PythonSoftwareFoundation.Python.3.11_qbz5n2kfra8p0\\LocalCache\\local-packages\\Python311\\site-packages\\sklearn\\base.py\", line 1152, in wrapper\n",
      "    return fit_method(estimator, *args, **kwargs)\n",
      "           ^^^^^^^^^^^^^^^^^^^^^^^^^^^^^^^^^^^^^^\n",
      "  File \"C:\\Users\\tokm0001\\AppData\\Local\\Packages\\PythonSoftwareFoundation.Python.3.11_qbz5n2kfra8p0\\LocalCache\\local-packages\\Python311\\site-packages\\sklearn\\gaussian_process\\_gpc.py\", line 741, in fit\n",
      "    self.base_estimator_.fit(X, y)\n",
      "  File \"C:\\Users\\tokm0001\\AppData\\Local\\Packages\\PythonSoftwareFoundation.Python.3.11_qbz5n2kfra8p0\\LocalCache\\local-packages\\Python311\\site-packages\\sklearn\\gaussian_process\\_gpc.py\", line 229, in fit\n",
      "    self._constrained_optimization(\n",
      "  File \"C:\\Users\\tokm0001\\AppData\\Local\\Packages\\PythonSoftwareFoundation.Python.3.11_qbz5n2kfra8p0\\LocalCache\\local-packages\\Python311\\site-packages\\sklearn\\gaussian_process\\_gpc.py\", line 474, in _constrained_optimization\n",
      "    opt_res = scipy.optimize.minimize(\n",
      "              ^^^^^^^^^^^^^^^^^^^^^^^^\n",
      "  File \"C:\\Users\\tokm0001\\AppData\\Local\\Packages\\PythonSoftwareFoundation.Python.3.11_qbz5n2kfra8p0\\LocalCache\\local-packages\\Python311\\site-packages\\scipy\\optimize\\_minimize.py\", line 710, in minimize\n",
      "    res = _minimize_lbfgsb(fun, x0, args, jac, bounds,\n",
      "          ^^^^^^^^^^^^^^^^^^^^^^^^^^^^^^^^^^^^^^^^^^^^\n",
      "  File \"C:\\Users\\tokm0001\\AppData\\Local\\Packages\\PythonSoftwareFoundation.Python.3.11_qbz5n2kfra8p0\\LocalCache\\local-packages\\Python311\\site-packages\\scipy\\optimize\\_lbfgsb_py.py\", line 307, in _minimize_lbfgsb\n",
      "    sf = _prepare_scalar_function(fun, x0, jac=jac, args=args, epsilon=eps,\n",
      "         ^^^^^^^^^^^^^^^^^^^^^^^^^^^^^^^^^^^^^^^^^^^^^^^^^^^^^^^^^^^^^^^^^^\n",
      "  File \"C:\\Users\\tokm0001\\AppData\\Local\\Packages\\PythonSoftwareFoundation.Python.3.11_qbz5n2kfra8p0\\LocalCache\\local-packages\\Python311\\site-packages\\scipy\\optimize\\_optimize.py\", line 383, in _prepare_scalar_function\n",
      "    sf = ScalarFunction(fun, x0, args, grad, hess,\n",
      "         ^^^^^^^^^^^^^^^^^^^^^^^^^^^^^^^^^^^^^^^^^\n",
      "  File \"C:\\Users\\tokm0001\\AppData\\Local\\Packages\\PythonSoftwareFoundation.Python.3.11_qbz5n2kfra8p0\\LocalCache\\local-packages\\Python311\\site-packages\\scipy\\optimize\\_differentiable_functions.py\", line 158, in __init__\n",
      "    self._update_fun()\n",
      "  File \"C:\\Users\\tokm0001\\AppData\\Local\\Packages\\PythonSoftwareFoundation.Python.3.11_qbz5n2kfra8p0\\LocalCache\\local-packages\\Python311\\site-packages\\scipy\\optimize\\_differentiable_functions.py\", line 251, in _update_fun\n",
      "    self._update_fun_impl()\n",
      "  File \"C:\\Users\\tokm0001\\AppData\\Local\\Packages\\PythonSoftwareFoundation.Python.3.11_qbz5n2kfra8p0\\LocalCache\\local-packages\\Python311\\site-packages\\scipy\\optimize\\_differentiable_functions.py\", line 155, in update_fun\n",
      "    self.f = fun_wrapped(self.x)\n",
      "             ^^^^^^^^^^^^^^^^^^^\n",
      "  File \"C:\\Users\\tokm0001\\AppData\\Local\\Packages\\PythonSoftwareFoundation.Python.3.11_qbz5n2kfra8p0\\LocalCache\\local-packages\\Python311\\site-packages\\scipy\\optimize\\_differentiable_functions.py\", line 137, in fun_wrapped\n",
      "    fx = fun(np.copy(x), *args)\n",
      "         ^^^^^^^^^^^^^^^^^^^^^^\n",
      "  File \"C:\\Users\\tokm0001\\AppData\\Local\\Packages\\PythonSoftwareFoundation.Python.3.11_qbz5n2kfra8p0\\LocalCache\\local-packages\\Python311\\site-packages\\scipy\\optimize\\_optimize.py\", line 77, in __call__\n",
      "    self._compute_if_needed(x, *args)\n",
      "  File \"C:\\Users\\tokm0001\\AppData\\Local\\Packages\\PythonSoftwareFoundation.Python.3.11_qbz5n2kfra8p0\\LocalCache\\local-packages\\Python311\\site-packages\\scipy\\optimize\\_optimize.py\", line 71, in _compute_if_needed\n",
      "    fg = self.fun(x, *args)\n",
      "         ^^^^^^^^^^^^^^^^^^\n",
      "  File \"C:\\Users\\tokm0001\\AppData\\Local\\Packages\\PythonSoftwareFoundation.Python.3.11_qbz5n2kfra8p0\\LocalCache\\local-packages\\Python311\\site-packages\\sklearn\\gaussian_process\\_gpc.py\", line 220, in obj_func\n",
      "    lml, grad = self.log_marginal_likelihood(\n",
      "                ^^^^^^^^^^^^^^^^^^^^^^^^^^^^^\n",
      "  File \"C:\\Users\\tokm0001\\AppData\\Local\\Packages\\PythonSoftwareFoundation.Python.3.11_qbz5n2kfra8p0\\LocalCache\\local-packages\\Python311\\site-packages\\sklearn\\gaussian_process\\_gpc.py\", line 385, in log_marginal_likelihood\n",
      "    Z, (pi, W_sr, L, b, a) = self._posterior_mode(K, return_temporaries=True)\n",
      "                             ^^^^^^^^^^^^^^^^^^^^^^^^^^^^^^^^^^^^^^^^^^^^^^^^\n",
      "  File \"C:\\Users\\tokm0001\\AppData\\Local\\Packages\\PythonSoftwareFoundation.Python.3.11_qbz5n2kfra8p0\\LocalCache\\local-packages\\Python311\\site-packages\\sklearn\\gaussian_process\\_gpc.py\", line 444, in _posterior_mode\n",
      "    L = cholesky(B, lower=True)\n",
      "        ^^^^^^^^^^^^^^^^^^^^^^^\n",
      "  File \"C:\\Users\\tokm0001\\AppData\\Local\\Packages\\PythonSoftwareFoundation.Python.3.11_qbz5n2kfra8p0\\LocalCache\\local-packages\\Python311\\site-packages\\scipy\\linalg\\_decomp_cholesky.py\", line 89, in cholesky\n",
      "    c, lower = _cholesky(a, lower=lower, overwrite_a=overwrite_a, clean=True,\n",
      "               ^^^^^^^^^^^^^^^^^^^^^^^^^^^^^^^^^^^^^^^^^^^^^^^^^^^^^^^^^^^^^^\n",
      "  File \"C:\\Users\\tokm0001\\AppData\\Local\\Packages\\PythonSoftwareFoundation.Python.3.11_qbz5n2kfra8p0\\LocalCache\\local-packages\\Python311\\site-packages\\scipy\\linalg\\_decomp_cholesky.py\", line 37, in _cholesky\n",
      "    raise LinAlgError(\"%d-th leading minor of the array is not positive \"\n",
      "numpy.linalg.LinAlgError: 53-th leading minor of the array is not positive definite\n",
      "\n",
      "--------------------------------------------------------------------------------\n",
      "2 fits failed with the following error:\n",
      "Traceback (most recent call last):\n",
      "  File \"C:\\Users\\tokm0001\\AppData\\Local\\Packages\\PythonSoftwareFoundation.Python.3.11_qbz5n2kfra8p0\\LocalCache\\local-packages\\Python311\\site-packages\\sklearn\\model_selection\\_validation.py\", line 729, in _fit_and_score\n",
      "    estimator.fit(X_train, y_train, **fit_params)\n",
      "  File \"C:\\Users\\tokm0001\\AppData\\Local\\Packages\\PythonSoftwareFoundation.Python.3.11_qbz5n2kfra8p0\\LocalCache\\local-packages\\Python311\\site-packages\\sklearn\\base.py\", line 1152, in wrapper\n",
      "    return fit_method(estimator, *args, **kwargs)\n",
      "           ^^^^^^^^^^^^^^^^^^^^^^^^^^^^^^^^^^^^^^\n",
      "  File \"C:\\Users\\tokm0001\\AppData\\Local\\Packages\\PythonSoftwareFoundation.Python.3.11_qbz5n2kfra8p0\\LocalCache\\local-packages\\Python311\\site-packages\\sklearn\\gaussian_process\\_gpc.py\", line 741, in fit\n",
      "    self.base_estimator_.fit(X, y)\n",
      "  File \"C:\\Users\\tokm0001\\AppData\\Local\\Packages\\PythonSoftwareFoundation.Python.3.11_qbz5n2kfra8p0\\LocalCache\\local-packages\\Python311\\site-packages\\sklearn\\gaussian_process\\_gpc.py\", line 229, in fit\n",
      "    self._constrained_optimization(\n",
      "  File \"C:\\Users\\tokm0001\\AppData\\Local\\Packages\\PythonSoftwareFoundation.Python.3.11_qbz5n2kfra8p0\\LocalCache\\local-packages\\Python311\\site-packages\\sklearn\\gaussian_process\\_gpc.py\", line 474, in _constrained_optimization\n",
      "    opt_res = scipy.optimize.minimize(\n",
      "              ^^^^^^^^^^^^^^^^^^^^^^^^\n",
      "  File \"C:\\Users\\tokm0001\\AppData\\Local\\Packages\\PythonSoftwareFoundation.Python.3.11_qbz5n2kfra8p0\\LocalCache\\local-packages\\Python311\\site-packages\\scipy\\optimize\\_minimize.py\", line 710, in minimize\n",
      "    res = _minimize_lbfgsb(fun, x0, args, jac, bounds,\n",
      "          ^^^^^^^^^^^^^^^^^^^^^^^^^^^^^^^^^^^^^^^^^^^^\n",
      "  File \"C:\\Users\\tokm0001\\AppData\\Local\\Packages\\PythonSoftwareFoundation.Python.3.11_qbz5n2kfra8p0\\LocalCache\\local-packages\\Python311\\site-packages\\scipy\\optimize\\_lbfgsb_py.py\", line 307, in _minimize_lbfgsb\n",
      "    sf = _prepare_scalar_function(fun, x0, jac=jac, args=args, epsilon=eps,\n",
      "         ^^^^^^^^^^^^^^^^^^^^^^^^^^^^^^^^^^^^^^^^^^^^^^^^^^^^^^^^^^^^^^^^^^\n",
      "  File \"C:\\Users\\tokm0001\\AppData\\Local\\Packages\\PythonSoftwareFoundation.Python.3.11_qbz5n2kfra8p0\\LocalCache\\local-packages\\Python311\\site-packages\\scipy\\optimize\\_optimize.py\", line 383, in _prepare_scalar_function\n",
      "    sf = ScalarFunction(fun, x0, args, grad, hess,\n",
      "         ^^^^^^^^^^^^^^^^^^^^^^^^^^^^^^^^^^^^^^^^^\n",
      "  File \"C:\\Users\\tokm0001\\AppData\\Local\\Packages\\PythonSoftwareFoundation.Python.3.11_qbz5n2kfra8p0\\LocalCache\\local-packages\\Python311\\site-packages\\scipy\\optimize\\_differentiable_functions.py\", line 158, in __init__\n",
      "    self._update_fun()\n",
      "  File \"C:\\Users\\tokm0001\\AppData\\Local\\Packages\\PythonSoftwareFoundation.Python.3.11_qbz5n2kfra8p0\\LocalCache\\local-packages\\Python311\\site-packages\\scipy\\optimize\\_differentiable_functions.py\", line 251, in _update_fun\n",
      "    self._update_fun_impl()\n",
      "  File \"C:\\Users\\tokm0001\\AppData\\Local\\Packages\\PythonSoftwareFoundation.Python.3.11_qbz5n2kfra8p0\\LocalCache\\local-packages\\Python311\\site-packages\\scipy\\optimize\\_differentiable_functions.py\", line 155, in update_fun\n",
      "    self.f = fun_wrapped(self.x)\n",
      "             ^^^^^^^^^^^^^^^^^^^\n",
      "  File \"C:\\Users\\tokm0001\\AppData\\Local\\Packages\\PythonSoftwareFoundation.Python.3.11_qbz5n2kfra8p0\\LocalCache\\local-packages\\Python311\\site-packages\\scipy\\optimize\\_differentiable_functions.py\", line 137, in fun_wrapped\n",
      "    fx = fun(np.copy(x), *args)\n",
      "         ^^^^^^^^^^^^^^^^^^^^^^\n",
      "  File \"C:\\Users\\tokm0001\\AppData\\Local\\Packages\\PythonSoftwareFoundation.Python.3.11_qbz5n2kfra8p0\\LocalCache\\local-packages\\Python311\\site-packages\\scipy\\optimize\\_optimize.py\", line 77, in __call__\n",
      "    self._compute_if_needed(x, *args)\n",
      "  File \"C:\\Users\\tokm0001\\AppData\\Local\\Packages\\PythonSoftwareFoundation.Python.3.11_qbz5n2kfra8p0\\LocalCache\\local-packages\\Python311\\site-packages\\scipy\\optimize\\_optimize.py\", line 71, in _compute_if_needed\n",
      "    fg = self.fun(x, *args)\n",
      "         ^^^^^^^^^^^^^^^^^^\n",
      "  File \"C:\\Users\\tokm0001\\AppData\\Local\\Packages\\PythonSoftwareFoundation.Python.3.11_qbz5n2kfra8p0\\LocalCache\\local-packages\\Python311\\site-packages\\sklearn\\gaussian_process\\_gpc.py\", line 220, in obj_func\n",
      "    lml, grad = self.log_marginal_likelihood(\n",
      "                ^^^^^^^^^^^^^^^^^^^^^^^^^^^^^\n",
      "  File \"C:\\Users\\tokm0001\\AppData\\Local\\Packages\\PythonSoftwareFoundation.Python.3.11_qbz5n2kfra8p0\\LocalCache\\local-packages\\Python311\\site-packages\\sklearn\\gaussian_process\\_gpc.py\", line 385, in log_marginal_likelihood\n",
      "    Z, (pi, W_sr, L, b, a) = self._posterior_mode(K, return_temporaries=True)\n",
      "                             ^^^^^^^^^^^^^^^^^^^^^^^^^^^^^^^^^^^^^^^^^^^^^^^^\n",
      "  File \"C:\\Users\\tokm0001\\AppData\\Local\\Packages\\PythonSoftwareFoundation.Python.3.11_qbz5n2kfra8p0\\LocalCache\\local-packages\\Python311\\site-packages\\sklearn\\gaussian_process\\_gpc.py\", line 444, in _posterior_mode\n",
      "    L = cholesky(B, lower=True)\n",
      "        ^^^^^^^^^^^^^^^^^^^^^^^\n",
      "  File \"C:\\Users\\tokm0001\\AppData\\Local\\Packages\\PythonSoftwareFoundation.Python.3.11_qbz5n2kfra8p0\\LocalCache\\local-packages\\Python311\\site-packages\\scipy\\linalg\\_decomp_cholesky.py\", line 89, in cholesky\n",
      "    c, lower = _cholesky(a, lower=lower, overwrite_a=overwrite_a, clean=True,\n",
      "               ^^^^^^^^^^^^^^^^^^^^^^^^^^^^^^^^^^^^^^^^^^^^^^^^^^^^^^^^^^^^^^\n",
      "  File \"C:\\Users\\tokm0001\\AppData\\Local\\Packages\\PythonSoftwareFoundation.Python.3.11_qbz5n2kfra8p0\\LocalCache\\local-packages\\Python311\\site-packages\\scipy\\linalg\\_decomp_cholesky.py\", line 37, in _cholesky\n",
      "    raise LinAlgError(\"%d-th leading minor of the array is not positive \"\n",
      "numpy.linalg.LinAlgError: 57-th leading minor of the array is not positive definite\n",
      "\n",
      "--------------------------------------------------------------------------------\n",
      "2 fits failed with the following error:\n",
      "Traceback (most recent call last):\n",
      "  File \"C:\\Users\\tokm0001\\AppData\\Local\\Packages\\PythonSoftwareFoundation.Python.3.11_qbz5n2kfra8p0\\LocalCache\\local-packages\\Python311\\site-packages\\sklearn\\model_selection\\_validation.py\", line 729, in _fit_and_score\n",
      "    estimator.fit(X_train, y_train, **fit_params)\n",
      "  File \"C:\\Users\\tokm0001\\AppData\\Local\\Packages\\PythonSoftwareFoundation.Python.3.11_qbz5n2kfra8p0\\LocalCache\\local-packages\\Python311\\site-packages\\sklearn\\base.py\", line 1152, in wrapper\n",
      "    return fit_method(estimator, *args, **kwargs)\n",
      "           ^^^^^^^^^^^^^^^^^^^^^^^^^^^^^^^^^^^^^^\n",
      "  File \"C:\\Users\\tokm0001\\AppData\\Local\\Packages\\PythonSoftwareFoundation.Python.3.11_qbz5n2kfra8p0\\LocalCache\\local-packages\\Python311\\site-packages\\sklearn\\gaussian_process\\_gpc.py\", line 741, in fit\n",
      "    self.base_estimator_.fit(X, y)\n",
      "  File \"C:\\Users\\tokm0001\\AppData\\Local\\Packages\\PythonSoftwareFoundation.Python.3.11_qbz5n2kfra8p0\\LocalCache\\local-packages\\Python311\\site-packages\\sklearn\\gaussian_process\\_gpc.py\", line 229, in fit\n",
      "    self._constrained_optimization(\n",
      "  File \"C:\\Users\\tokm0001\\AppData\\Local\\Packages\\PythonSoftwareFoundation.Python.3.11_qbz5n2kfra8p0\\LocalCache\\local-packages\\Python311\\site-packages\\sklearn\\gaussian_process\\_gpc.py\", line 474, in _constrained_optimization\n",
      "    opt_res = scipy.optimize.minimize(\n",
      "              ^^^^^^^^^^^^^^^^^^^^^^^^\n",
      "  File \"C:\\Users\\tokm0001\\AppData\\Local\\Packages\\PythonSoftwareFoundation.Python.3.11_qbz5n2kfra8p0\\LocalCache\\local-packages\\Python311\\site-packages\\scipy\\optimize\\_minimize.py\", line 710, in minimize\n",
      "    res = _minimize_lbfgsb(fun, x0, args, jac, bounds,\n",
      "          ^^^^^^^^^^^^^^^^^^^^^^^^^^^^^^^^^^^^^^^^^^^^\n",
      "  File \"C:\\Users\\tokm0001\\AppData\\Local\\Packages\\PythonSoftwareFoundation.Python.3.11_qbz5n2kfra8p0\\LocalCache\\local-packages\\Python311\\site-packages\\scipy\\optimize\\_lbfgsb_py.py\", line 307, in _minimize_lbfgsb\n",
      "    sf = _prepare_scalar_function(fun, x0, jac=jac, args=args, epsilon=eps,\n",
      "         ^^^^^^^^^^^^^^^^^^^^^^^^^^^^^^^^^^^^^^^^^^^^^^^^^^^^^^^^^^^^^^^^^^\n",
      "  File \"C:\\Users\\tokm0001\\AppData\\Local\\Packages\\PythonSoftwareFoundation.Python.3.11_qbz5n2kfra8p0\\LocalCache\\local-packages\\Python311\\site-packages\\scipy\\optimize\\_optimize.py\", line 383, in _prepare_scalar_function\n",
      "    sf = ScalarFunction(fun, x0, args, grad, hess,\n",
      "         ^^^^^^^^^^^^^^^^^^^^^^^^^^^^^^^^^^^^^^^^^\n",
      "  File \"C:\\Users\\tokm0001\\AppData\\Local\\Packages\\PythonSoftwareFoundation.Python.3.11_qbz5n2kfra8p0\\LocalCache\\local-packages\\Python311\\site-packages\\scipy\\optimize\\_differentiable_functions.py\", line 158, in __init__\n",
      "    self._update_fun()\n",
      "  File \"C:\\Users\\tokm0001\\AppData\\Local\\Packages\\PythonSoftwareFoundation.Python.3.11_qbz5n2kfra8p0\\LocalCache\\local-packages\\Python311\\site-packages\\scipy\\optimize\\_differentiable_functions.py\", line 251, in _update_fun\n",
      "    self._update_fun_impl()\n",
      "  File \"C:\\Users\\tokm0001\\AppData\\Local\\Packages\\PythonSoftwareFoundation.Python.3.11_qbz5n2kfra8p0\\LocalCache\\local-packages\\Python311\\site-packages\\scipy\\optimize\\_differentiable_functions.py\", line 155, in update_fun\n",
      "    self.f = fun_wrapped(self.x)\n",
      "             ^^^^^^^^^^^^^^^^^^^\n",
      "  File \"C:\\Users\\tokm0001\\AppData\\Local\\Packages\\PythonSoftwareFoundation.Python.3.11_qbz5n2kfra8p0\\LocalCache\\local-packages\\Python311\\site-packages\\scipy\\optimize\\_differentiable_functions.py\", line 137, in fun_wrapped\n",
      "    fx = fun(np.copy(x), *args)\n",
      "         ^^^^^^^^^^^^^^^^^^^^^^\n",
      "  File \"C:\\Users\\tokm0001\\AppData\\Local\\Packages\\PythonSoftwareFoundation.Python.3.11_qbz5n2kfra8p0\\LocalCache\\local-packages\\Python311\\site-packages\\scipy\\optimize\\_optimize.py\", line 77, in __call__\n",
      "    self._compute_if_needed(x, *args)\n",
      "  File \"C:\\Users\\tokm0001\\AppData\\Local\\Packages\\PythonSoftwareFoundation.Python.3.11_qbz5n2kfra8p0\\LocalCache\\local-packages\\Python311\\site-packages\\scipy\\optimize\\_optimize.py\", line 71, in _compute_if_needed\n",
      "    fg = self.fun(x, *args)\n",
      "         ^^^^^^^^^^^^^^^^^^\n",
      "  File \"C:\\Users\\tokm0001\\AppData\\Local\\Packages\\PythonSoftwareFoundation.Python.3.11_qbz5n2kfra8p0\\LocalCache\\local-packages\\Python311\\site-packages\\sklearn\\gaussian_process\\_gpc.py\", line 220, in obj_func\n",
      "    lml, grad = self.log_marginal_likelihood(\n",
      "                ^^^^^^^^^^^^^^^^^^^^^^^^^^^^^\n",
      "  File \"C:\\Users\\tokm0001\\AppData\\Local\\Packages\\PythonSoftwareFoundation.Python.3.11_qbz5n2kfra8p0\\LocalCache\\local-packages\\Python311\\site-packages\\sklearn\\gaussian_process\\_gpc.py\", line 385, in log_marginal_likelihood\n",
      "    Z, (pi, W_sr, L, b, a) = self._posterior_mode(K, return_temporaries=True)\n",
      "                             ^^^^^^^^^^^^^^^^^^^^^^^^^^^^^^^^^^^^^^^^^^^^^^^^\n",
      "  File \"C:\\Users\\tokm0001\\AppData\\Local\\Packages\\PythonSoftwareFoundation.Python.3.11_qbz5n2kfra8p0\\LocalCache\\local-packages\\Python311\\site-packages\\sklearn\\gaussian_process\\_gpc.py\", line 444, in _posterior_mode\n",
      "    L = cholesky(B, lower=True)\n",
      "        ^^^^^^^^^^^^^^^^^^^^^^^\n",
      "  File \"C:\\Users\\tokm0001\\AppData\\Local\\Packages\\PythonSoftwareFoundation.Python.3.11_qbz5n2kfra8p0\\LocalCache\\local-packages\\Python311\\site-packages\\scipy\\linalg\\_decomp_cholesky.py\", line 89, in cholesky\n",
      "    c, lower = _cholesky(a, lower=lower, overwrite_a=overwrite_a, clean=True,\n",
      "               ^^^^^^^^^^^^^^^^^^^^^^^^^^^^^^^^^^^^^^^^^^^^^^^^^^^^^^^^^^^^^^\n",
      "  File \"C:\\Users\\tokm0001\\AppData\\Local\\Packages\\PythonSoftwareFoundation.Python.3.11_qbz5n2kfra8p0\\LocalCache\\local-packages\\Python311\\site-packages\\scipy\\linalg\\_decomp_cholesky.py\", line 37, in _cholesky\n",
      "    raise LinAlgError(\"%d-th leading minor of the array is not positive \"\n",
      "numpy.linalg.LinAlgError: 59-th leading minor of the array is not positive definite\n",
      "\n",
      "--------------------------------------------------------------------------------\n",
      "3 fits failed with the following error:\n",
      "Traceback (most recent call last):\n",
      "  File \"C:\\Users\\tokm0001\\AppData\\Local\\Packages\\PythonSoftwareFoundation.Python.3.11_qbz5n2kfra8p0\\LocalCache\\local-packages\\Python311\\site-packages\\sklearn\\model_selection\\_validation.py\", line 729, in _fit_and_score\n",
      "    estimator.fit(X_train, y_train, **fit_params)\n",
      "  File \"C:\\Users\\tokm0001\\AppData\\Local\\Packages\\PythonSoftwareFoundation.Python.3.11_qbz5n2kfra8p0\\LocalCache\\local-packages\\Python311\\site-packages\\sklearn\\base.py\", line 1152, in wrapper\n",
      "    return fit_method(estimator, *args, **kwargs)\n",
      "           ^^^^^^^^^^^^^^^^^^^^^^^^^^^^^^^^^^^^^^\n",
      "  File \"C:\\Users\\tokm0001\\AppData\\Local\\Packages\\PythonSoftwareFoundation.Python.3.11_qbz5n2kfra8p0\\LocalCache\\local-packages\\Python311\\site-packages\\sklearn\\gaussian_process\\_gpc.py\", line 741, in fit\n",
      "    self.base_estimator_.fit(X, y)\n",
      "  File \"C:\\Users\\tokm0001\\AppData\\Local\\Packages\\PythonSoftwareFoundation.Python.3.11_qbz5n2kfra8p0\\LocalCache\\local-packages\\Python311\\site-packages\\sklearn\\gaussian_process\\_gpc.py\", line 229, in fit\n",
      "    self._constrained_optimization(\n",
      "  File \"C:\\Users\\tokm0001\\AppData\\Local\\Packages\\PythonSoftwareFoundation.Python.3.11_qbz5n2kfra8p0\\LocalCache\\local-packages\\Python311\\site-packages\\sklearn\\gaussian_process\\_gpc.py\", line 474, in _constrained_optimization\n",
      "    opt_res = scipy.optimize.minimize(\n",
      "              ^^^^^^^^^^^^^^^^^^^^^^^^\n",
      "  File \"C:\\Users\\tokm0001\\AppData\\Local\\Packages\\PythonSoftwareFoundation.Python.3.11_qbz5n2kfra8p0\\LocalCache\\local-packages\\Python311\\site-packages\\scipy\\optimize\\_minimize.py\", line 710, in minimize\n",
      "    res = _minimize_lbfgsb(fun, x0, args, jac, bounds,\n",
      "          ^^^^^^^^^^^^^^^^^^^^^^^^^^^^^^^^^^^^^^^^^^^^\n",
      "  File \"C:\\Users\\tokm0001\\AppData\\Local\\Packages\\PythonSoftwareFoundation.Python.3.11_qbz5n2kfra8p0\\LocalCache\\local-packages\\Python311\\site-packages\\scipy\\optimize\\_lbfgsb_py.py\", line 307, in _minimize_lbfgsb\n",
      "    sf = _prepare_scalar_function(fun, x0, jac=jac, args=args, epsilon=eps,\n",
      "         ^^^^^^^^^^^^^^^^^^^^^^^^^^^^^^^^^^^^^^^^^^^^^^^^^^^^^^^^^^^^^^^^^^\n",
      "  File \"C:\\Users\\tokm0001\\AppData\\Local\\Packages\\PythonSoftwareFoundation.Python.3.11_qbz5n2kfra8p0\\LocalCache\\local-packages\\Python311\\site-packages\\scipy\\optimize\\_optimize.py\", line 383, in _prepare_scalar_function\n",
      "    sf = ScalarFunction(fun, x0, args, grad, hess,\n",
      "         ^^^^^^^^^^^^^^^^^^^^^^^^^^^^^^^^^^^^^^^^^\n",
      "  File \"C:\\Users\\tokm0001\\AppData\\Local\\Packages\\PythonSoftwareFoundation.Python.3.11_qbz5n2kfra8p0\\LocalCache\\local-packages\\Python311\\site-packages\\scipy\\optimize\\_differentiable_functions.py\", line 158, in __init__\n",
      "    self._update_fun()\n",
      "  File \"C:\\Users\\tokm0001\\AppData\\Local\\Packages\\PythonSoftwareFoundation.Python.3.11_qbz5n2kfra8p0\\LocalCache\\local-packages\\Python311\\site-packages\\scipy\\optimize\\_differentiable_functions.py\", line 251, in _update_fun\n",
      "    self._update_fun_impl()\n",
      "  File \"C:\\Users\\tokm0001\\AppData\\Local\\Packages\\PythonSoftwareFoundation.Python.3.11_qbz5n2kfra8p0\\LocalCache\\local-packages\\Python311\\site-packages\\scipy\\optimize\\_differentiable_functions.py\", line 155, in update_fun\n",
      "    self.f = fun_wrapped(self.x)\n",
      "             ^^^^^^^^^^^^^^^^^^^\n",
      "  File \"C:\\Users\\tokm0001\\AppData\\Local\\Packages\\PythonSoftwareFoundation.Python.3.11_qbz5n2kfra8p0\\LocalCache\\local-packages\\Python311\\site-packages\\scipy\\optimize\\_differentiable_functions.py\", line 137, in fun_wrapped\n",
      "    fx = fun(np.copy(x), *args)\n",
      "         ^^^^^^^^^^^^^^^^^^^^^^\n",
      "  File \"C:\\Users\\tokm0001\\AppData\\Local\\Packages\\PythonSoftwareFoundation.Python.3.11_qbz5n2kfra8p0\\LocalCache\\local-packages\\Python311\\site-packages\\scipy\\optimize\\_optimize.py\", line 77, in __call__\n",
      "    self._compute_if_needed(x, *args)\n",
      "  File \"C:\\Users\\tokm0001\\AppData\\Local\\Packages\\PythonSoftwareFoundation.Python.3.11_qbz5n2kfra8p0\\LocalCache\\local-packages\\Python311\\site-packages\\scipy\\optimize\\_optimize.py\", line 71, in _compute_if_needed\n",
      "    fg = self.fun(x, *args)\n",
      "         ^^^^^^^^^^^^^^^^^^\n",
      "  File \"C:\\Users\\tokm0001\\AppData\\Local\\Packages\\PythonSoftwareFoundation.Python.3.11_qbz5n2kfra8p0\\LocalCache\\local-packages\\Python311\\site-packages\\sklearn\\gaussian_process\\_gpc.py\", line 220, in obj_func\n",
      "    lml, grad = self.log_marginal_likelihood(\n",
      "                ^^^^^^^^^^^^^^^^^^^^^^^^^^^^^\n",
      "  File \"C:\\Users\\tokm0001\\AppData\\Local\\Packages\\PythonSoftwareFoundation.Python.3.11_qbz5n2kfra8p0\\LocalCache\\local-packages\\Python311\\site-packages\\sklearn\\gaussian_process\\_gpc.py\", line 385, in log_marginal_likelihood\n",
      "    Z, (pi, W_sr, L, b, a) = self._posterior_mode(K, return_temporaries=True)\n",
      "                             ^^^^^^^^^^^^^^^^^^^^^^^^^^^^^^^^^^^^^^^^^^^^^^^^\n",
      "  File \"C:\\Users\\tokm0001\\AppData\\Local\\Packages\\PythonSoftwareFoundation.Python.3.11_qbz5n2kfra8p0\\LocalCache\\local-packages\\Python311\\site-packages\\sklearn\\gaussian_process\\_gpc.py\", line 444, in _posterior_mode\n",
      "    L = cholesky(B, lower=True)\n",
      "        ^^^^^^^^^^^^^^^^^^^^^^^\n",
      "  File \"C:\\Users\\tokm0001\\AppData\\Local\\Packages\\PythonSoftwareFoundation.Python.3.11_qbz5n2kfra8p0\\LocalCache\\local-packages\\Python311\\site-packages\\scipy\\linalg\\_decomp_cholesky.py\", line 89, in cholesky\n",
      "    c, lower = _cholesky(a, lower=lower, overwrite_a=overwrite_a, clean=True,\n",
      "               ^^^^^^^^^^^^^^^^^^^^^^^^^^^^^^^^^^^^^^^^^^^^^^^^^^^^^^^^^^^^^^\n",
      "  File \"C:\\Users\\tokm0001\\AppData\\Local\\Packages\\PythonSoftwareFoundation.Python.3.11_qbz5n2kfra8p0\\LocalCache\\local-packages\\Python311\\site-packages\\scipy\\linalg\\_decomp_cholesky.py\", line 37, in _cholesky\n",
      "    raise LinAlgError(\"%d-th leading minor of the array is not positive \"\n",
      "numpy.linalg.LinAlgError: 52-th leading minor of the array is not positive definite\n",
      "\n",
      "--------------------------------------------------------------------------------\n",
      "1 fits failed with the following error:\n",
      "Traceback (most recent call last):\n",
      "  File \"C:\\Users\\tokm0001\\AppData\\Local\\Packages\\PythonSoftwareFoundation.Python.3.11_qbz5n2kfra8p0\\LocalCache\\local-packages\\Python311\\site-packages\\sklearn\\model_selection\\_validation.py\", line 729, in _fit_and_score\n",
      "    estimator.fit(X_train, y_train, **fit_params)\n",
      "  File \"C:\\Users\\tokm0001\\AppData\\Local\\Packages\\PythonSoftwareFoundation.Python.3.11_qbz5n2kfra8p0\\LocalCache\\local-packages\\Python311\\site-packages\\sklearn\\base.py\", line 1152, in wrapper\n",
      "    return fit_method(estimator, *args, **kwargs)\n",
      "           ^^^^^^^^^^^^^^^^^^^^^^^^^^^^^^^^^^^^^^\n",
      "  File \"C:\\Users\\tokm0001\\AppData\\Local\\Packages\\PythonSoftwareFoundation.Python.3.11_qbz5n2kfra8p0\\LocalCache\\local-packages\\Python311\\site-packages\\sklearn\\gaussian_process\\_gpc.py\", line 741, in fit\n",
      "    self.base_estimator_.fit(X, y)\n",
      "  File \"C:\\Users\\tokm0001\\AppData\\Local\\Packages\\PythonSoftwareFoundation.Python.3.11_qbz5n2kfra8p0\\LocalCache\\local-packages\\Python311\\site-packages\\sklearn\\gaussian_process\\_gpc.py\", line 229, in fit\n",
      "    self._constrained_optimization(\n",
      "  File \"C:\\Users\\tokm0001\\AppData\\Local\\Packages\\PythonSoftwareFoundation.Python.3.11_qbz5n2kfra8p0\\LocalCache\\local-packages\\Python311\\site-packages\\sklearn\\gaussian_process\\_gpc.py\", line 474, in _constrained_optimization\n",
      "    opt_res = scipy.optimize.minimize(\n",
      "              ^^^^^^^^^^^^^^^^^^^^^^^^\n",
      "  File \"C:\\Users\\tokm0001\\AppData\\Local\\Packages\\PythonSoftwareFoundation.Python.3.11_qbz5n2kfra8p0\\LocalCache\\local-packages\\Python311\\site-packages\\scipy\\optimize\\_minimize.py\", line 710, in minimize\n",
      "    res = _minimize_lbfgsb(fun, x0, args, jac, bounds,\n",
      "          ^^^^^^^^^^^^^^^^^^^^^^^^^^^^^^^^^^^^^^^^^^^^\n",
      "  File \"C:\\Users\\tokm0001\\AppData\\Local\\Packages\\PythonSoftwareFoundation.Python.3.11_qbz5n2kfra8p0\\LocalCache\\local-packages\\Python311\\site-packages\\scipy\\optimize\\_lbfgsb_py.py\", line 307, in _minimize_lbfgsb\n",
      "    sf = _prepare_scalar_function(fun, x0, jac=jac, args=args, epsilon=eps,\n",
      "         ^^^^^^^^^^^^^^^^^^^^^^^^^^^^^^^^^^^^^^^^^^^^^^^^^^^^^^^^^^^^^^^^^^\n",
      "  File \"C:\\Users\\tokm0001\\AppData\\Local\\Packages\\PythonSoftwareFoundation.Python.3.11_qbz5n2kfra8p0\\LocalCache\\local-packages\\Python311\\site-packages\\scipy\\optimize\\_optimize.py\", line 383, in _prepare_scalar_function\n",
      "    sf = ScalarFunction(fun, x0, args, grad, hess,\n",
      "         ^^^^^^^^^^^^^^^^^^^^^^^^^^^^^^^^^^^^^^^^^\n",
      "  File \"C:\\Users\\tokm0001\\AppData\\Local\\Packages\\PythonSoftwareFoundation.Python.3.11_qbz5n2kfra8p0\\LocalCache\\local-packages\\Python311\\site-packages\\scipy\\optimize\\_differentiable_functions.py\", line 158, in __init__\n",
      "    self._update_fun()\n",
      "  File \"C:\\Users\\tokm0001\\AppData\\Local\\Packages\\PythonSoftwareFoundation.Python.3.11_qbz5n2kfra8p0\\LocalCache\\local-packages\\Python311\\site-packages\\scipy\\optimize\\_differentiable_functions.py\", line 251, in _update_fun\n",
      "    self._update_fun_impl()\n",
      "  File \"C:\\Users\\tokm0001\\AppData\\Local\\Packages\\PythonSoftwareFoundation.Python.3.11_qbz5n2kfra8p0\\LocalCache\\local-packages\\Python311\\site-packages\\scipy\\optimize\\_differentiable_functions.py\", line 155, in update_fun\n",
      "    self.f = fun_wrapped(self.x)\n",
      "             ^^^^^^^^^^^^^^^^^^^\n",
      "  File \"C:\\Users\\tokm0001\\AppData\\Local\\Packages\\PythonSoftwareFoundation.Python.3.11_qbz5n2kfra8p0\\LocalCache\\local-packages\\Python311\\site-packages\\scipy\\optimize\\_differentiable_functions.py\", line 137, in fun_wrapped\n",
      "    fx = fun(np.copy(x), *args)\n",
      "         ^^^^^^^^^^^^^^^^^^^^^^\n",
      "  File \"C:\\Users\\tokm0001\\AppData\\Local\\Packages\\PythonSoftwareFoundation.Python.3.11_qbz5n2kfra8p0\\LocalCache\\local-packages\\Python311\\site-packages\\scipy\\optimize\\_optimize.py\", line 77, in __call__\n",
      "    self._compute_if_needed(x, *args)\n",
      "  File \"C:\\Users\\tokm0001\\AppData\\Local\\Packages\\PythonSoftwareFoundation.Python.3.11_qbz5n2kfra8p0\\LocalCache\\local-packages\\Python311\\site-packages\\scipy\\optimize\\_optimize.py\", line 71, in _compute_if_needed\n",
      "    fg = self.fun(x, *args)\n",
      "         ^^^^^^^^^^^^^^^^^^\n",
      "  File \"C:\\Users\\tokm0001\\AppData\\Local\\Packages\\PythonSoftwareFoundation.Python.3.11_qbz5n2kfra8p0\\LocalCache\\local-packages\\Python311\\site-packages\\sklearn\\gaussian_process\\_gpc.py\", line 220, in obj_func\n",
      "    lml, grad = self.log_marginal_likelihood(\n",
      "                ^^^^^^^^^^^^^^^^^^^^^^^^^^^^^\n",
      "  File \"C:\\Users\\tokm0001\\AppData\\Local\\Packages\\PythonSoftwareFoundation.Python.3.11_qbz5n2kfra8p0\\LocalCache\\local-packages\\Python311\\site-packages\\sklearn\\gaussian_process\\_gpc.py\", line 385, in log_marginal_likelihood\n",
      "    Z, (pi, W_sr, L, b, a) = self._posterior_mode(K, return_temporaries=True)\n",
      "                             ^^^^^^^^^^^^^^^^^^^^^^^^^^^^^^^^^^^^^^^^^^^^^^^^\n",
      "  File \"C:\\Users\\tokm0001\\AppData\\Local\\Packages\\PythonSoftwareFoundation.Python.3.11_qbz5n2kfra8p0\\LocalCache\\local-packages\\Python311\\site-packages\\sklearn\\gaussian_process\\_gpc.py\", line 444, in _posterior_mode\n",
      "    L = cholesky(B, lower=True)\n",
      "        ^^^^^^^^^^^^^^^^^^^^^^^\n",
      "  File \"C:\\Users\\tokm0001\\AppData\\Local\\Packages\\PythonSoftwareFoundation.Python.3.11_qbz5n2kfra8p0\\LocalCache\\local-packages\\Python311\\site-packages\\scipy\\linalg\\_decomp_cholesky.py\", line 89, in cholesky\n",
      "    c, lower = _cholesky(a, lower=lower, overwrite_a=overwrite_a, clean=True,\n",
      "               ^^^^^^^^^^^^^^^^^^^^^^^^^^^^^^^^^^^^^^^^^^^^^^^^^^^^^^^^^^^^^^\n",
      "  File \"C:\\Users\\tokm0001\\AppData\\Local\\Packages\\PythonSoftwareFoundation.Python.3.11_qbz5n2kfra8p0\\LocalCache\\local-packages\\Python311\\site-packages\\scipy\\linalg\\_decomp_cholesky.py\", line 37, in _cholesky\n",
      "    raise LinAlgError(\"%d-th leading minor of the array is not positive \"\n",
      "numpy.linalg.LinAlgError: 58-th leading minor of the array is not positive definite\n",
      "\n",
      "--------------------------------------------------------------------------------\n",
      "2 fits failed with the following error:\n",
      "Traceback (most recent call last):\n",
      "  File \"C:\\Users\\tokm0001\\AppData\\Local\\Packages\\PythonSoftwareFoundation.Python.3.11_qbz5n2kfra8p0\\LocalCache\\local-packages\\Python311\\site-packages\\sklearn\\model_selection\\_validation.py\", line 729, in _fit_and_score\n",
      "    estimator.fit(X_train, y_train, **fit_params)\n",
      "  File \"C:\\Users\\tokm0001\\AppData\\Local\\Packages\\PythonSoftwareFoundation.Python.3.11_qbz5n2kfra8p0\\LocalCache\\local-packages\\Python311\\site-packages\\sklearn\\base.py\", line 1152, in wrapper\n",
      "    return fit_method(estimator, *args, **kwargs)\n",
      "           ^^^^^^^^^^^^^^^^^^^^^^^^^^^^^^^^^^^^^^\n",
      "  File \"C:\\Users\\tokm0001\\AppData\\Local\\Packages\\PythonSoftwareFoundation.Python.3.11_qbz5n2kfra8p0\\LocalCache\\local-packages\\Python311\\site-packages\\sklearn\\gaussian_process\\_gpc.py\", line 741, in fit\n",
      "    self.base_estimator_.fit(X, y)\n",
      "  File \"C:\\Users\\tokm0001\\AppData\\Local\\Packages\\PythonSoftwareFoundation.Python.3.11_qbz5n2kfra8p0\\LocalCache\\local-packages\\Python311\\site-packages\\sklearn\\gaussian_process\\_gpc.py\", line 229, in fit\n",
      "    self._constrained_optimization(\n",
      "  File \"C:\\Users\\tokm0001\\AppData\\Local\\Packages\\PythonSoftwareFoundation.Python.3.11_qbz5n2kfra8p0\\LocalCache\\local-packages\\Python311\\site-packages\\sklearn\\gaussian_process\\_gpc.py\", line 474, in _constrained_optimization\n",
      "    opt_res = scipy.optimize.minimize(\n",
      "              ^^^^^^^^^^^^^^^^^^^^^^^^\n",
      "  File \"C:\\Users\\tokm0001\\AppData\\Local\\Packages\\PythonSoftwareFoundation.Python.3.11_qbz5n2kfra8p0\\LocalCache\\local-packages\\Python311\\site-packages\\scipy\\optimize\\_minimize.py\", line 710, in minimize\n",
      "    res = _minimize_lbfgsb(fun, x0, args, jac, bounds,\n",
      "          ^^^^^^^^^^^^^^^^^^^^^^^^^^^^^^^^^^^^^^^^^^^^\n",
      "  File \"C:\\Users\\tokm0001\\AppData\\Local\\Packages\\PythonSoftwareFoundation.Python.3.11_qbz5n2kfra8p0\\LocalCache\\local-packages\\Python311\\site-packages\\scipy\\optimize\\_lbfgsb_py.py\", line 307, in _minimize_lbfgsb\n",
      "    sf = _prepare_scalar_function(fun, x0, jac=jac, args=args, epsilon=eps,\n",
      "         ^^^^^^^^^^^^^^^^^^^^^^^^^^^^^^^^^^^^^^^^^^^^^^^^^^^^^^^^^^^^^^^^^^\n",
      "  File \"C:\\Users\\tokm0001\\AppData\\Local\\Packages\\PythonSoftwareFoundation.Python.3.11_qbz5n2kfra8p0\\LocalCache\\local-packages\\Python311\\site-packages\\scipy\\optimize\\_optimize.py\", line 383, in _prepare_scalar_function\n",
      "    sf = ScalarFunction(fun, x0, args, grad, hess,\n",
      "         ^^^^^^^^^^^^^^^^^^^^^^^^^^^^^^^^^^^^^^^^^\n",
      "  File \"C:\\Users\\tokm0001\\AppData\\Local\\Packages\\PythonSoftwareFoundation.Python.3.11_qbz5n2kfra8p0\\LocalCache\\local-packages\\Python311\\site-packages\\scipy\\optimize\\_differentiable_functions.py\", line 158, in __init__\n",
      "    self._update_fun()\n",
      "  File \"C:\\Users\\tokm0001\\AppData\\Local\\Packages\\PythonSoftwareFoundation.Python.3.11_qbz5n2kfra8p0\\LocalCache\\local-packages\\Python311\\site-packages\\scipy\\optimize\\_differentiable_functions.py\", line 251, in _update_fun\n",
      "    self._update_fun_impl()\n",
      "  File \"C:\\Users\\tokm0001\\AppData\\Local\\Packages\\PythonSoftwareFoundation.Python.3.11_qbz5n2kfra8p0\\LocalCache\\local-packages\\Python311\\site-packages\\scipy\\optimize\\_differentiable_functions.py\", line 155, in update_fun\n",
      "    self.f = fun_wrapped(self.x)\n",
      "             ^^^^^^^^^^^^^^^^^^^\n",
      "  File \"C:\\Users\\tokm0001\\AppData\\Local\\Packages\\PythonSoftwareFoundation.Python.3.11_qbz5n2kfra8p0\\LocalCache\\local-packages\\Python311\\site-packages\\scipy\\optimize\\_differentiable_functions.py\", line 137, in fun_wrapped\n",
      "    fx = fun(np.copy(x), *args)\n",
      "         ^^^^^^^^^^^^^^^^^^^^^^\n",
      "  File \"C:\\Users\\tokm0001\\AppData\\Local\\Packages\\PythonSoftwareFoundation.Python.3.11_qbz5n2kfra8p0\\LocalCache\\local-packages\\Python311\\site-packages\\scipy\\optimize\\_optimize.py\", line 77, in __call__\n",
      "    self._compute_if_needed(x, *args)\n",
      "  File \"C:\\Users\\tokm0001\\AppData\\Local\\Packages\\PythonSoftwareFoundation.Python.3.11_qbz5n2kfra8p0\\LocalCache\\local-packages\\Python311\\site-packages\\scipy\\optimize\\_optimize.py\", line 71, in _compute_if_needed\n",
      "    fg = self.fun(x, *args)\n",
      "         ^^^^^^^^^^^^^^^^^^\n",
      "  File \"C:\\Users\\tokm0001\\AppData\\Local\\Packages\\PythonSoftwareFoundation.Python.3.11_qbz5n2kfra8p0\\LocalCache\\local-packages\\Python311\\site-packages\\sklearn\\gaussian_process\\_gpc.py\", line 220, in obj_func\n",
      "    lml, grad = self.log_marginal_likelihood(\n",
      "                ^^^^^^^^^^^^^^^^^^^^^^^^^^^^^\n",
      "  File \"C:\\Users\\tokm0001\\AppData\\Local\\Packages\\PythonSoftwareFoundation.Python.3.11_qbz5n2kfra8p0\\LocalCache\\local-packages\\Python311\\site-packages\\sklearn\\gaussian_process\\_gpc.py\", line 385, in log_marginal_likelihood\n",
      "    Z, (pi, W_sr, L, b, a) = self._posterior_mode(K, return_temporaries=True)\n",
      "                             ^^^^^^^^^^^^^^^^^^^^^^^^^^^^^^^^^^^^^^^^^^^^^^^^\n",
      "  File \"C:\\Users\\tokm0001\\AppData\\Local\\Packages\\PythonSoftwareFoundation.Python.3.11_qbz5n2kfra8p0\\LocalCache\\local-packages\\Python311\\site-packages\\sklearn\\gaussian_process\\_gpc.py\", line 444, in _posterior_mode\n",
      "    L = cholesky(B, lower=True)\n",
      "        ^^^^^^^^^^^^^^^^^^^^^^^\n",
      "  File \"C:\\Users\\tokm0001\\AppData\\Local\\Packages\\PythonSoftwareFoundation.Python.3.11_qbz5n2kfra8p0\\LocalCache\\local-packages\\Python311\\site-packages\\scipy\\linalg\\_decomp_cholesky.py\", line 89, in cholesky\n",
      "    c, lower = _cholesky(a, lower=lower, overwrite_a=overwrite_a, clean=True,\n",
      "               ^^^^^^^^^^^^^^^^^^^^^^^^^^^^^^^^^^^^^^^^^^^^^^^^^^^^^^^^^^^^^^\n",
      "  File \"C:\\Users\\tokm0001\\AppData\\Local\\Packages\\PythonSoftwareFoundation.Python.3.11_qbz5n2kfra8p0\\LocalCache\\local-packages\\Python311\\site-packages\\scipy\\linalg\\_decomp_cholesky.py\", line 37, in _cholesky\n",
      "    raise LinAlgError(\"%d-th leading minor of the array is not positive \"\n",
      "numpy.linalg.LinAlgError: 62-th leading minor of the array is not positive definite\n",
      "\n",
      "--------------------------------------------------------------------------------\n",
      "5 fits failed with the following error:\n",
      "Traceback (most recent call last):\n",
      "  File \"C:\\Users\\tokm0001\\AppData\\Local\\Packages\\PythonSoftwareFoundation.Python.3.11_qbz5n2kfra8p0\\LocalCache\\local-packages\\Python311\\site-packages\\sklearn\\model_selection\\_validation.py\", line 729, in _fit_and_score\n",
      "    estimator.fit(X_train, y_train, **fit_params)\n",
      "  File \"C:\\Users\\tokm0001\\AppData\\Local\\Packages\\PythonSoftwareFoundation.Python.3.11_qbz5n2kfra8p0\\LocalCache\\local-packages\\Python311\\site-packages\\sklearn\\base.py\", line 1152, in wrapper\n",
      "    return fit_method(estimator, *args, **kwargs)\n",
      "           ^^^^^^^^^^^^^^^^^^^^^^^^^^^^^^^^^^^^^^\n",
      "  File \"C:\\Users\\tokm0001\\AppData\\Local\\Packages\\PythonSoftwareFoundation.Python.3.11_qbz5n2kfra8p0\\LocalCache\\local-packages\\Python311\\site-packages\\sklearn\\gaussian_process\\_gpc.py\", line 741, in fit\n",
      "    self.base_estimator_.fit(X, y)\n",
      "  File \"C:\\Users\\tokm0001\\AppData\\Local\\Packages\\PythonSoftwareFoundation.Python.3.11_qbz5n2kfra8p0\\LocalCache\\local-packages\\Python311\\site-packages\\sklearn\\gaussian_process\\_gpc.py\", line 229, in fit\n",
      "    self._constrained_optimization(\n",
      "  File \"C:\\Users\\tokm0001\\AppData\\Local\\Packages\\PythonSoftwareFoundation.Python.3.11_qbz5n2kfra8p0\\LocalCache\\local-packages\\Python311\\site-packages\\sklearn\\gaussian_process\\_gpc.py\", line 474, in _constrained_optimization\n",
      "    opt_res = scipy.optimize.minimize(\n",
      "              ^^^^^^^^^^^^^^^^^^^^^^^^\n",
      "  File \"C:\\Users\\tokm0001\\AppData\\Local\\Packages\\PythonSoftwareFoundation.Python.3.11_qbz5n2kfra8p0\\LocalCache\\local-packages\\Python311\\site-packages\\scipy\\optimize\\_minimize.py\", line 710, in minimize\n",
      "    res = _minimize_lbfgsb(fun, x0, args, jac, bounds,\n",
      "          ^^^^^^^^^^^^^^^^^^^^^^^^^^^^^^^^^^^^^^^^^^^^\n",
      "  File \"C:\\Users\\tokm0001\\AppData\\Local\\Packages\\PythonSoftwareFoundation.Python.3.11_qbz5n2kfra8p0\\LocalCache\\local-packages\\Python311\\site-packages\\scipy\\optimize\\_lbfgsb_py.py\", line 307, in _minimize_lbfgsb\n",
      "    sf = _prepare_scalar_function(fun, x0, jac=jac, args=args, epsilon=eps,\n",
      "         ^^^^^^^^^^^^^^^^^^^^^^^^^^^^^^^^^^^^^^^^^^^^^^^^^^^^^^^^^^^^^^^^^^\n",
      "  File \"C:\\Users\\tokm0001\\AppData\\Local\\Packages\\PythonSoftwareFoundation.Python.3.11_qbz5n2kfra8p0\\LocalCache\\local-packages\\Python311\\site-packages\\scipy\\optimize\\_optimize.py\", line 383, in _prepare_scalar_function\n",
      "    sf = ScalarFunction(fun, x0, args, grad, hess,\n",
      "         ^^^^^^^^^^^^^^^^^^^^^^^^^^^^^^^^^^^^^^^^^\n",
      "  File \"C:\\Users\\tokm0001\\AppData\\Local\\Packages\\PythonSoftwareFoundation.Python.3.11_qbz5n2kfra8p0\\LocalCache\\local-packages\\Python311\\site-packages\\scipy\\optimize\\_differentiable_functions.py\", line 158, in __init__\n",
      "    self._update_fun()\n",
      "  File \"C:\\Users\\tokm0001\\AppData\\Local\\Packages\\PythonSoftwareFoundation.Python.3.11_qbz5n2kfra8p0\\LocalCache\\local-packages\\Python311\\site-packages\\scipy\\optimize\\_differentiable_functions.py\", line 251, in _update_fun\n",
      "    self._update_fun_impl()\n",
      "  File \"C:\\Users\\tokm0001\\AppData\\Local\\Packages\\PythonSoftwareFoundation.Python.3.11_qbz5n2kfra8p0\\LocalCache\\local-packages\\Python311\\site-packages\\scipy\\optimize\\_differentiable_functions.py\", line 155, in update_fun\n",
      "    self.f = fun_wrapped(self.x)\n",
      "             ^^^^^^^^^^^^^^^^^^^\n",
      "  File \"C:\\Users\\tokm0001\\AppData\\Local\\Packages\\PythonSoftwareFoundation.Python.3.11_qbz5n2kfra8p0\\LocalCache\\local-packages\\Python311\\site-packages\\scipy\\optimize\\_differentiable_functions.py\", line 137, in fun_wrapped\n",
      "    fx = fun(np.copy(x), *args)\n",
      "         ^^^^^^^^^^^^^^^^^^^^^^\n",
      "  File \"C:\\Users\\tokm0001\\AppData\\Local\\Packages\\PythonSoftwareFoundation.Python.3.11_qbz5n2kfra8p0\\LocalCache\\local-packages\\Python311\\site-packages\\scipy\\optimize\\_optimize.py\", line 77, in __call__\n",
      "    self._compute_if_needed(x, *args)\n",
      "  File \"C:\\Users\\tokm0001\\AppData\\Local\\Packages\\PythonSoftwareFoundation.Python.3.11_qbz5n2kfra8p0\\LocalCache\\local-packages\\Python311\\site-packages\\scipy\\optimize\\_optimize.py\", line 71, in _compute_if_needed\n",
      "    fg = self.fun(x, *args)\n",
      "         ^^^^^^^^^^^^^^^^^^\n",
      "  File \"C:\\Users\\tokm0001\\AppData\\Local\\Packages\\PythonSoftwareFoundation.Python.3.11_qbz5n2kfra8p0\\LocalCache\\local-packages\\Python311\\site-packages\\sklearn\\gaussian_process\\_gpc.py\", line 220, in obj_func\n",
      "    lml, grad = self.log_marginal_likelihood(\n",
      "                ^^^^^^^^^^^^^^^^^^^^^^^^^^^^^\n",
      "  File \"C:\\Users\\tokm0001\\AppData\\Local\\Packages\\PythonSoftwareFoundation.Python.3.11_qbz5n2kfra8p0\\LocalCache\\local-packages\\Python311\\site-packages\\sklearn\\gaussian_process\\_gpc.py\", line 385, in log_marginal_likelihood\n",
      "    Z, (pi, W_sr, L, b, a) = self._posterior_mode(K, return_temporaries=True)\n",
      "                             ^^^^^^^^^^^^^^^^^^^^^^^^^^^^^^^^^^^^^^^^^^^^^^^^\n",
      "  File \"C:\\Users\\tokm0001\\AppData\\Local\\Packages\\PythonSoftwareFoundation.Python.3.11_qbz5n2kfra8p0\\LocalCache\\local-packages\\Python311\\site-packages\\sklearn\\gaussian_process\\_gpc.py\", line 444, in _posterior_mode\n",
      "    L = cholesky(B, lower=True)\n",
      "        ^^^^^^^^^^^^^^^^^^^^^^^\n",
      "  File \"C:\\Users\\tokm0001\\AppData\\Local\\Packages\\PythonSoftwareFoundation.Python.3.11_qbz5n2kfra8p0\\LocalCache\\local-packages\\Python311\\site-packages\\scipy\\linalg\\_decomp_cholesky.py\", line 89, in cholesky\n",
      "    c, lower = _cholesky(a, lower=lower, overwrite_a=overwrite_a, clean=True,\n",
      "               ^^^^^^^^^^^^^^^^^^^^^^^^^^^^^^^^^^^^^^^^^^^^^^^^^^^^^^^^^^^^^^\n",
      "  File \"C:\\Users\\tokm0001\\AppData\\Local\\Packages\\PythonSoftwareFoundation.Python.3.11_qbz5n2kfra8p0\\LocalCache\\local-packages\\Python311\\site-packages\\scipy\\linalg\\_decomp_cholesky.py\", line 37, in _cholesky\n",
      "    raise LinAlgError(\"%d-th leading minor of the array is not positive \"\n",
      "numpy.linalg.LinAlgError: 56-th leading minor of the array is not positive definite\n",
      "\n",
      "--------------------------------------------------------------------------------\n",
      "3 fits failed with the following error:\n",
      "Traceback (most recent call last):\n",
      "  File \"C:\\Users\\tokm0001\\AppData\\Local\\Packages\\PythonSoftwareFoundation.Python.3.11_qbz5n2kfra8p0\\LocalCache\\local-packages\\Python311\\site-packages\\sklearn\\model_selection\\_validation.py\", line 729, in _fit_and_score\n",
      "    estimator.fit(X_train, y_train, **fit_params)\n",
      "  File \"C:\\Users\\tokm0001\\AppData\\Local\\Packages\\PythonSoftwareFoundation.Python.3.11_qbz5n2kfra8p0\\LocalCache\\local-packages\\Python311\\site-packages\\sklearn\\base.py\", line 1152, in wrapper\n",
      "    return fit_method(estimator, *args, **kwargs)\n",
      "           ^^^^^^^^^^^^^^^^^^^^^^^^^^^^^^^^^^^^^^\n",
      "  File \"C:\\Users\\tokm0001\\AppData\\Local\\Packages\\PythonSoftwareFoundation.Python.3.11_qbz5n2kfra8p0\\LocalCache\\local-packages\\Python311\\site-packages\\sklearn\\gaussian_process\\_gpc.py\", line 741, in fit\n",
      "    self.base_estimator_.fit(X, y)\n",
      "  File \"C:\\Users\\tokm0001\\AppData\\Local\\Packages\\PythonSoftwareFoundation.Python.3.11_qbz5n2kfra8p0\\LocalCache\\local-packages\\Python311\\site-packages\\sklearn\\gaussian_process\\_gpc.py\", line 229, in fit\n",
      "    self._constrained_optimization(\n",
      "  File \"C:\\Users\\tokm0001\\AppData\\Local\\Packages\\PythonSoftwareFoundation.Python.3.11_qbz5n2kfra8p0\\LocalCache\\local-packages\\Python311\\site-packages\\sklearn\\gaussian_process\\_gpc.py\", line 474, in _constrained_optimization\n",
      "    opt_res = scipy.optimize.minimize(\n",
      "              ^^^^^^^^^^^^^^^^^^^^^^^^\n",
      "  File \"C:\\Users\\tokm0001\\AppData\\Local\\Packages\\PythonSoftwareFoundation.Python.3.11_qbz5n2kfra8p0\\LocalCache\\local-packages\\Python311\\site-packages\\scipy\\optimize\\_minimize.py\", line 710, in minimize\n",
      "    res = _minimize_lbfgsb(fun, x0, args, jac, bounds,\n",
      "          ^^^^^^^^^^^^^^^^^^^^^^^^^^^^^^^^^^^^^^^^^^^^\n",
      "  File \"C:\\Users\\tokm0001\\AppData\\Local\\Packages\\PythonSoftwareFoundation.Python.3.11_qbz5n2kfra8p0\\LocalCache\\local-packages\\Python311\\site-packages\\scipy\\optimize\\_lbfgsb_py.py\", line 307, in _minimize_lbfgsb\n",
      "    sf = _prepare_scalar_function(fun, x0, jac=jac, args=args, epsilon=eps,\n",
      "         ^^^^^^^^^^^^^^^^^^^^^^^^^^^^^^^^^^^^^^^^^^^^^^^^^^^^^^^^^^^^^^^^^^\n",
      "  File \"C:\\Users\\tokm0001\\AppData\\Local\\Packages\\PythonSoftwareFoundation.Python.3.11_qbz5n2kfra8p0\\LocalCache\\local-packages\\Python311\\site-packages\\scipy\\optimize\\_optimize.py\", line 383, in _prepare_scalar_function\n",
      "    sf = ScalarFunction(fun, x0, args, grad, hess,\n",
      "         ^^^^^^^^^^^^^^^^^^^^^^^^^^^^^^^^^^^^^^^^^\n",
      "  File \"C:\\Users\\tokm0001\\AppData\\Local\\Packages\\PythonSoftwareFoundation.Python.3.11_qbz5n2kfra8p0\\LocalCache\\local-packages\\Python311\\site-packages\\scipy\\optimize\\_differentiable_functions.py\", line 158, in __init__\n",
      "    self._update_fun()\n",
      "  File \"C:\\Users\\tokm0001\\AppData\\Local\\Packages\\PythonSoftwareFoundation.Python.3.11_qbz5n2kfra8p0\\LocalCache\\local-packages\\Python311\\site-packages\\scipy\\optimize\\_differentiable_functions.py\", line 251, in _update_fun\n",
      "    self._update_fun_impl()\n",
      "  File \"C:\\Users\\tokm0001\\AppData\\Local\\Packages\\PythonSoftwareFoundation.Python.3.11_qbz5n2kfra8p0\\LocalCache\\local-packages\\Python311\\site-packages\\scipy\\optimize\\_differentiable_functions.py\", line 155, in update_fun\n",
      "    self.f = fun_wrapped(self.x)\n",
      "             ^^^^^^^^^^^^^^^^^^^\n",
      "  File \"C:\\Users\\tokm0001\\AppData\\Local\\Packages\\PythonSoftwareFoundation.Python.3.11_qbz5n2kfra8p0\\LocalCache\\local-packages\\Python311\\site-packages\\scipy\\optimize\\_differentiable_functions.py\", line 137, in fun_wrapped\n",
      "    fx = fun(np.copy(x), *args)\n",
      "         ^^^^^^^^^^^^^^^^^^^^^^\n",
      "  File \"C:\\Users\\tokm0001\\AppData\\Local\\Packages\\PythonSoftwareFoundation.Python.3.11_qbz5n2kfra8p0\\LocalCache\\local-packages\\Python311\\site-packages\\scipy\\optimize\\_optimize.py\", line 77, in __call__\n",
      "    self._compute_if_needed(x, *args)\n",
      "  File \"C:\\Users\\tokm0001\\AppData\\Local\\Packages\\PythonSoftwareFoundation.Python.3.11_qbz5n2kfra8p0\\LocalCache\\local-packages\\Python311\\site-packages\\scipy\\optimize\\_optimize.py\", line 71, in _compute_if_needed\n",
      "    fg = self.fun(x, *args)\n",
      "         ^^^^^^^^^^^^^^^^^^\n",
      "  File \"C:\\Users\\tokm0001\\AppData\\Local\\Packages\\PythonSoftwareFoundation.Python.3.11_qbz5n2kfra8p0\\LocalCache\\local-packages\\Python311\\site-packages\\sklearn\\gaussian_process\\_gpc.py\", line 220, in obj_func\n",
      "    lml, grad = self.log_marginal_likelihood(\n",
      "                ^^^^^^^^^^^^^^^^^^^^^^^^^^^^^\n",
      "  File \"C:\\Users\\tokm0001\\AppData\\Local\\Packages\\PythonSoftwareFoundation.Python.3.11_qbz5n2kfra8p0\\LocalCache\\local-packages\\Python311\\site-packages\\sklearn\\gaussian_process\\_gpc.py\", line 385, in log_marginal_likelihood\n",
      "    Z, (pi, W_sr, L, b, a) = self._posterior_mode(K, return_temporaries=True)\n",
      "                             ^^^^^^^^^^^^^^^^^^^^^^^^^^^^^^^^^^^^^^^^^^^^^^^^\n",
      "  File \"C:\\Users\\tokm0001\\AppData\\Local\\Packages\\PythonSoftwareFoundation.Python.3.11_qbz5n2kfra8p0\\LocalCache\\local-packages\\Python311\\site-packages\\sklearn\\gaussian_process\\_gpc.py\", line 444, in _posterior_mode\n",
      "    L = cholesky(B, lower=True)\n",
      "        ^^^^^^^^^^^^^^^^^^^^^^^\n",
      "  File \"C:\\Users\\tokm0001\\AppData\\Local\\Packages\\PythonSoftwareFoundation.Python.3.11_qbz5n2kfra8p0\\LocalCache\\local-packages\\Python311\\site-packages\\scipy\\linalg\\_decomp_cholesky.py\", line 89, in cholesky\n",
      "    c, lower = _cholesky(a, lower=lower, overwrite_a=overwrite_a, clean=True,\n",
      "               ^^^^^^^^^^^^^^^^^^^^^^^^^^^^^^^^^^^^^^^^^^^^^^^^^^^^^^^^^^^^^^\n",
      "  File \"C:\\Users\\tokm0001\\AppData\\Local\\Packages\\PythonSoftwareFoundation.Python.3.11_qbz5n2kfra8p0\\LocalCache\\local-packages\\Python311\\site-packages\\scipy\\linalg\\_decomp_cholesky.py\", line 37, in _cholesky\n",
      "    raise LinAlgError(\"%d-th leading minor of the array is not positive \"\n",
      "numpy.linalg.LinAlgError: 55-th leading minor of the array is not positive definite\n",
      "\n",
      "--------------------------------------------------------------------------------\n",
      "1 fits failed with the following error:\n",
      "Traceback (most recent call last):\n",
      "  File \"C:\\Users\\tokm0001\\AppData\\Local\\Packages\\PythonSoftwareFoundation.Python.3.11_qbz5n2kfra8p0\\LocalCache\\local-packages\\Python311\\site-packages\\sklearn\\model_selection\\_validation.py\", line 729, in _fit_and_score\n",
      "    estimator.fit(X_train, y_train, **fit_params)\n",
      "  File \"C:\\Users\\tokm0001\\AppData\\Local\\Packages\\PythonSoftwareFoundation.Python.3.11_qbz5n2kfra8p0\\LocalCache\\local-packages\\Python311\\site-packages\\sklearn\\base.py\", line 1152, in wrapper\n",
      "    return fit_method(estimator, *args, **kwargs)\n",
      "           ^^^^^^^^^^^^^^^^^^^^^^^^^^^^^^^^^^^^^^\n",
      "  File \"C:\\Users\\tokm0001\\AppData\\Local\\Packages\\PythonSoftwareFoundation.Python.3.11_qbz5n2kfra8p0\\LocalCache\\local-packages\\Python311\\site-packages\\sklearn\\gaussian_process\\_gpc.py\", line 741, in fit\n",
      "    self.base_estimator_.fit(X, y)\n",
      "  File \"C:\\Users\\tokm0001\\AppData\\Local\\Packages\\PythonSoftwareFoundation.Python.3.11_qbz5n2kfra8p0\\LocalCache\\local-packages\\Python311\\site-packages\\sklearn\\gaussian_process\\_gpc.py\", line 229, in fit\n",
      "    self._constrained_optimization(\n",
      "  File \"C:\\Users\\tokm0001\\AppData\\Local\\Packages\\PythonSoftwareFoundation.Python.3.11_qbz5n2kfra8p0\\LocalCache\\local-packages\\Python311\\site-packages\\sklearn\\gaussian_process\\_gpc.py\", line 474, in _constrained_optimization\n",
      "    opt_res = scipy.optimize.minimize(\n",
      "              ^^^^^^^^^^^^^^^^^^^^^^^^\n",
      "  File \"C:\\Users\\tokm0001\\AppData\\Local\\Packages\\PythonSoftwareFoundation.Python.3.11_qbz5n2kfra8p0\\LocalCache\\local-packages\\Python311\\site-packages\\scipy\\optimize\\_minimize.py\", line 710, in minimize\n",
      "    res = _minimize_lbfgsb(fun, x0, args, jac, bounds,\n",
      "          ^^^^^^^^^^^^^^^^^^^^^^^^^^^^^^^^^^^^^^^^^^^^\n",
      "  File \"C:\\Users\\tokm0001\\AppData\\Local\\Packages\\PythonSoftwareFoundation.Python.3.11_qbz5n2kfra8p0\\LocalCache\\local-packages\\Python311\\site-packages\\scipy\\optimize\\_lbfgsb_py.py\", line 307, in _minimize_lbfgsb\n",
      "    sf = _prepare_scalar_function(fun, x0, jac=jac, args=args, epsilon=eps,\n",
      "         ^^^^^^^^^^^^^^^^^^^^^^^^^^^^^^^^^^^^^^^^^^^^^^^^^^^^^^^^^^^^^^^^^^\n",
      "  File \"C:\\Users\\tokm0001\\AppData\\Local\\Packages\\PythonSoftwareFoundation.Python.3.11_qbz5n2kfra8p0\\LocalCache\\local-packages\\Python311\\site-packages\\scipy\\optimize\\_optimize.py\", line 383, in _prepare_scalar_function\n",
      "    sf = ScalarFunction(fun, x0, args, grad, hess,\n",
      "         ^^^^^^^^^^^^^^^^^^^^^^^^^^^^^^^^^^^^^^^^^\n",
      "  File \"C:\\Users\\tokm0001\\AppData\\Local\\Packages\\PythonSoftwareFoundation.Python.3.11_qbz5n2kfra8p0\\LocalCache\\local-packages\\Python311\\site-packages\\scipy\\optimize\\_differentiable_functions.py\", line 158, in __init__\n",
      "    self._update_fun()\n",
      "  File \"C:\\Users\\tokm0001\\AppData\\Local\\Packages\\PythonSoftwareFoundation.Python.3.11_qbz5n2kfra8p0\\LocalCache\\local-packages\\Python311\\site-packages\\scipy\\optimize\\_differentiable_functions.py\", line 251, in _update_fun\n",
      "    self._update_fun_impl()\n",
      "  File \"C:\\Users\\tokm0001\\AppData\\Local\\Packages\\PythonSoftwareFoundation.Python.3.11_qbz5n2kfra8p0\\LocalCache\\local-packages\\Python311\\site-packages\\scipy\\optimize\\_differentiable_functions.py\", line 155, in update_fun\n",
      "    self.f = fun_wrapped(self.x)\n",
      "             ^^^^^^^^^^^^^^^^^^^\n",
      "  File \"C:\\Users\\tokm0001\\AppData\\Local\\Packages\\PythonSoftwareFoundation.Python.3.11_qbz5n2kfra8p0\\LocalCache\\local-packages\\Python311\\site-packages\\scipy\\optimize\\_differentiable_functions.py\", line 137, in fun_wrapped\n",
      "    fx = fun(np.copy(x), *args)\n",
      "         ^^^^^^^^^^^^^^^^^^^^^^\n",
      "  File \"C:\\Users\\tokm0001\\AppData\\Local\\Packages\\PythonSoftwareFoundation.Python.3.11_qbz5n2kfra8p0\\LocalCache\\local-packages\\Python311\\site-packages\\scipy\\optimize\\_optimize.py\", line 77, in __call__\n",
      "    self._compute_if_needed(x, *args)\n",
      "  File \"C:\\Users\\tokm0001\\AppData\\Local\\Packages\\PythonSoftwareFoundation.Python.3.11_qbz5n2kfra8p0\\LocalCache\\local-packages\\Python311\\site-packages\\scipy\\optimize\\_optimize.py\", line 71, in _compute_if_needed\n",
      "    fg = self.fun(x, *args)\n",
      "         ^^^^^^^^^^^^^^^^^^\n",
      "  File \"C:\\Users\\tokm0001\\AppData\\Local\\Packages\\PythonSoftwareFoundation.Python.3.11_qbz5n2kfra8p0\\LocalCache\\local-packages\\Python311\\site-packages\\sklearn\\gaussian_process\\_gpc.py\", line 220, in obj_func\n",
      "    lml, grad = self.log_marginal_likelihood(\n",
      "                ^^^^^^^^^^^^^^^^^^^^^^^^^^^^^\n",
      "  File \"C:\\Users\\tokm0001\\AppData\\Local\\Packages\\PythonSoftwareFoundation.Python.3.11_qbz5n2kfra8p0\\LocalCache\\local-packages\\Python311\\site-packages\\sklearn\\gaussian_process\\_gpc.py\", line 385, in log_marginal_likelihood\n",
      "    Z, (pi, W_sr, L, b, a) = self._posterior_mode(K, return_temporaries=True)\n",
      "                             ^^^^^^^^^^^^^^^^^^^^^^^^^^^^^^^^^^^^^^^^^^^^^^^^\n",
      "  File \"C:\\Users\\tokm0001\\AppData\\Local\\Packages\\PythonSoftwareFoundation.Python.3.11_qbz5n2kfra8p0\\LocalCache\\local-packages\\Python311\\site-packages\\sklearn\\gaussian_process\\_gpc.py\", line 444, in _posterior_mode\n",
      "    L = cholesky(B, lower=True)\n",
      "        ^^^^^^^^^^^^^^^^^^^^^^^\n",
      "  File \"C:\\Users\\tokm0001\\AppData\\Local\\Packages\\PythonSoftwareFoundation.Python.3.11_qbz5n2kfra8p0\\LocalCache\\local-packages\\Python311\\site-packages\\scipy\\linalg\\_decomp_cholesky.py\", line 89, in cholesky\n",
      "    c, lower = _cholesky(a, lower=lower, overwrite_a=overwrite_a, clean=True,\n",
      "               ^^^^^^^^^^^^^^^^^^^^^^^^^^^^^^^^^^^^^^^^^^^^^^^^^^^^^^^^^^^^^^\n",
      "  File \"C:\\Users\\tokm0001\\AppData\\Local\\Packages\\PythonSoftwareFoundation.Python.3.11_qbz5n2kfra8p0\\LocalCache\\local-packages\\Python311\\site-packages\\scipy\\linalg\\_decomp_cholesky.py\", line 37, in _cholesky\n",
      "    raise LinAlgError(\"%d-th leading minor of the array is not positive \"\n",
      "numpy.linalg.LinAlgError: 61-th leading minor of the array is not positive definite\n",
      "\n",
      "--------------------------------------------------------------------------------\n",
      "3 fits failed with the following error:\n",
      "Traceback (most recent call last):\n",
      "  File \"C:\\Users\\tokm0001\\AppData\\Local\\Packages\\PythonSoftwareFoundation.Python.3.11_qbz5n2kfra8p0\\LocalCache\\local-packages\\Python311\\site-packages\\sklearn\\model_selection\\_validation.py\", line 729, in _fit_and_score\n",
      "    estimator.fit(X_train, y_train, **fit_params)\n",
      "  File \"C:\\Users\\tokm0001\\AppData\\Local\\Packages\\PythonSoftwareFoundation.Python.3.11_qbz5n2kfra8p0\\LocalCache\\local-packages\\Python311\\site-packages\\sklearn\\base.py\", line 1152, in wrapper\n",
      "    return fit_method(estimator, *args, **kwargs)\n",
      "           ^^^^^^^^^^^^^^^^^^^^^^^^^^^^^^^^^^^^^^\n",
      "  File \"C:\\Users\\tokm0001\\AppData\\Local\\Packages\\PythonSoftwareFoundation.Python.3.11_qbz5n2kfra8p0\\LocalCache\\local-packages\\Python311\\site-packages\\sklearn\\gaussian_process\\_gpc.py\", line 741, in fit\n",
      "    self.base_estimator_.fit(X, y)\n",
      "  File \"C:\\Users\\tokm0001\\AppData\\Local\\Packages\\PythonSoftwareFoundation.Python.3.11_qbz5n2kfra8p0\\LocalCache\\local-packages\\Python311\\site-packages\\sklearn\\gaussian_process\\_gpc.py\", line 229, in fit\n",
      "    self._constrained_optimization(\n",
      "  File \"C:\\Users\\tokm0001\\AppData\\Local\\Packages\\PythonSoftwareFoundation.Python.3.11_qbz5n2kfra8p0\\LocalCache\\local-packages\\Python311\\site-packages\\sklearn\\gaussian_process\\_gpc.py\", line 474, in _constrained_optimization\n",
      "    opt_res = scipy.optimize.minimize(\n",
      "              ^^^^^^^^^^^^^^^^^^^^^^^^\n",
      "  File \"C:\\Users\\tokm0001\\AppData\\Local\\Packages\\PythonSoftwareFoundation.Python.3.11_qbz5n2kfra8p0\\LocalCache\\local-packages\\Python311\\site-packages\\scipy\\optimize\\_minimize.py\", line 710, in minimize\n",
      "    res = _minimize_lbfgsb(fun, x0, args, jac, bounds,\n",
      "          ^^^^^^^^^^^^^^^^^^^^^^^^^^^^^^^^^^^^^^^^^^^^\n",
      "  File \"C:\\Users\\tokm0001\\AppData\\Local\\Packages\\PythonSoftwareFoundation.Python.3.11_qbz5n2kfra8p0\\LocalCache\\local-packages\\Python311\\site-packages\\scipy\\optimize\\_lbfgsb_py.py\", line 307, in _minimize_lbfgsb\n",
      "    sf = _prepare_scalar_function(fun, x0, jac=jac, args=args, epsilon=eps,\n",
      "         ^^^^^^^^^^^^^^^^^^^^^^^^^^^^^^^^^^^^^^^^^^^^^^^^^^^^^^^^^^^^^^^^^^\n",
      "  File \"C:\\Users\\tokm0001\\AppData\\Local\\Packages\\PythonSoftwareFoundation.Python.3.11_qbz5n2kfra8p0\\LocalCache\\local-packages\\Python311\\site-packages\\scipy\\optimize\\_optimize.py\", line 383, in _prepare_scalar_function\n",
      "    sf = ScalarFunction(fun, x0, args, grad, hess,\n",
      "         ^^^^^^^^^^^^^^^^^^^^^^^^^^^^^^^^^^^^^^^^^\n",
      "  File \"C:\\Users\\tokm0001\\AppData\\Local\\Packages\\PythonSoftwareFoundation.Python.3.11_qbz5n2kfra8p0\\LocalCache\\local-packages\\Python311\\site-packages\\scipy\\optimize\\_differentiable_functions.py\", line 158, in __init__\n",
      "    self._update_fun()\n",
      "  File \"C:\\Users\\tokm0001\\AppData\\Local\\Packages\\PythonSoftwareFoundation.Python.3.11_qbz5n2kfra8p0\\LocalCache\\local-packages\\Python311\\site-packages\\scipy\\optimize\\_differentiable_functions.py\", line 251, in _update_fun\n",
      "    self._update_fun_impl()\n",
      "  File \"C:\\Users\\tokm0001\\AppData\\Local\\Packages\\PythonSoftwareFoundation.Python.3.11_qbz5n2kfra8p0\\LocalCache\\local-packages\\Python311\\site-packages\\scipy\\optimize\\_differentiable_functions.py\", line 155, in update_fun\n",
      "    self.f = fun_wrapped(self.x)\n",
      "             ^^^^^^^^^^^^^^^^^^^\n",
      "  File \"C:\\Users\\tokm0001\\AppData\\Local\\Packages\\PythonSoftwareFoundation.Python.3.11_qbz5n2kfra8p0\\LocalCache\\local-packages\\Python311\\site-packages\\scipy\\optimize\\_differentiable_functions.py\", line 137, in fun_wrapped\n",
      "    fx = fun(np.copy(x), *args)\n",
      "         ^^^^^^^^^^^^^^^^^^^^^^\n",
      "  File \"C:\\Users\\tokm0001\\AppData\\Local\\Packages\\PythonSoftwareFoundation.Python.3.11_qbz5n2kfra8p0\\LocalCache\\local-packages\\Python311\\site-packages\\scipy\\optimize\\_optimize.py\", line 77, in __call__\n",
      "    self._compute_if_needed(x, *args)\n",
      "  File \"C:\\Users\\tokm0001\\AppData\\Local\\Packages\\PythonSoftwareFoundation.Python.3.11_qbz5n2kfra8p0\\LocalCache\\local-packages\\Python311\\site-packages\\scipy\\optimize\\_optimize.py\", line 71, in _compute_if_needed\n",
      "    fg = self.fun(x, *args)\n",
      "         ^^^^^^^^^^^^^^^^^^\n",
      "  File \"C:\\Users\\tokm0001\\AppData\\Local\\Packages\\PythonSoftwareFoundation.Python.3.11_qbz5n2kfra8p0\\LocalCache\\local-packages\\Python311\\site-packages\\sklearn\\gaussian_process\\_gpc.py\", line 220, in obj_func\n",
      "    lml, grad = self.log_marginal_likelihood(\n",
      "                ^^^^^^^^^^^^^^^^^^^^^^^^^^^^^\n",
      "  File \"C:\\Users\\tokm0001\\AppData\\Local\\Packages\\PythonSoftwareFoundation.Python.3.11_qbz5n2kfra8p0\\LocalCache\\local-packages\\Python311\\site-packages\\sklearn\\gaussian_process\\_gpc.py\", line 385, in log_marginal_likelihood\n",
      "    Z, (pi, W_sr, L, b, a) = self._posterior_mode(K, return_temporaries=True)\n",
      "                             ^^^^^^^^^^^^^^^^^^^^^^^^^^^^^^^^^^^^^^^^^^^^^^^^\n",
      "  File \"C:\\Users\\tokm0001\\AppData\\Local\\Packages\\PythonSoftwareFoundation.Python.3.11_qbz5n2kfra8p0\\LocalCache\\local-packages\\Python311\\site-packages\\sklearn\\gaussian_process\\_gpc.py\", line 444, in _posterior_mode\n",
      "    L = cholesky(B, lower=True)\n",
      "        ^^^^^^^^^^^^^^^^^^^^^^^\n",
      "  File \"C:\\Users\\tokm0001\\AppData\\Local\\Packages\\PythonSoftwareFoundation.Python.3.11_qbz5n2kfra8p0\\LocalCache\\local-packages\\Python311\\site-packages\\scipy\\linalg\\_decomp_cholesky.py\", line 89, in cholesky\n",
      "    c, lower = _cholesky(a, lower=lower, overwrite_a=overwrite_a, clean=True,\n",
      "               ^^^^^^^^^^^^^^^^^^^^^^^^^^^^^^^^^^^^^^^^^^^^^^^^^^^^^^^^^^^^^^\n",
      "  File \"C:\\Users\\tokm0001\\AppData\\Local\\Packages\\PythonSoftwareFoundation.Python.3.11_qbz5n2kfra8p0\\LocalCache\\local-packages\\Python311\\site-packages\\scipy\\linalg\\_decomp_cholesky.py\", line 37, in _cholesky\n",
      "    raise LinAlgError(\"%d-th leading minor of the array is not positive \"\n",
      "numpy.linalg.LinAlgError: 36-th leading minor of the array is not positive definite\n",
      "\n",
      "--------------------------------------------------------------------------------\n",
      "7 fits failed with the following error:\n",
      "Traceback (most recent call last):\n",
      "  File \"C:\\Users\\tokm0001\\AppData\\Local\\Packages\\PythonSoftwareFoundation.Python.3.11_qbz5n2kfra8p0\\LocalCache\\local-packages\\Python311\\site-packages\\sklearn\\model_selection\\_validation.py\", line 729, in _fit_and_score\n",
      "    estimator.fit(X_train, y_train, **fit_params)\n",
      "  File \"C:\\Users\\tokm0001\\AppData\\Local\\Packages\\PythonSoftwareFoundation.Python.3.11_qbz5n2kfra8p0\\LocalCache\\local-packages\\Python311\\site-packages\\sklearn\\base.py\", line 1152, in wrapper\n",
      "    return fit_method(estimator, *args, **kwargs)\n",
      "           ^^^^^^^^^^^^^^^^^^^^^^^^^^^^^^^^^^^^^^\n",
      "  File \"C:\\Users\\tokm0001\\AppData\\Local\\Packages\\PythonSoftwareFoundation.Python.3.11_qbz5n2kfra8p0\\LocalCache\\local-packages\\Python311\\site-packages\\sklearn\\gaussian_process\\_gpc.py\", line 741, in fit\n",
      "    self.base_estimator_.fit(X, y)\n",
      "  File \"C:\\Users\\tokm0001\\AppData\\Local\\Packages\\PythonSoftwareFoundation.Python.3.11_qbz5n2kfra8p0\\LocalCache\\local-packages\\Python311\\site-packages\\sklearn\\gaussian_process\\_gpc.py\", line 229, in fit\n",
      "    self._constrained_optimization(\n",
      "  File \"C:\\Users\\tokm0001\\AppData\\Local\\Packages\\PythonSoftwareFoundation.Python.3.11_qbz5n2kfra8p0\\LocalCache\\local-packages\\Python311\\site-packages\\sklearn\\gaussian_process\\_gpc.py\", line 474, in _constrained_optimization\n",
      "    opt_res = scipy.optimize.minimize(\n",
      "              ^^^^^^^^^^^^^^^^^^^^^^^^\n",
      "  File \"C:\\Users\\tokm0001\\AppData\\Local\\Packages\\PythonSoftwareFoundation.Python.3.11_qbz5n2kfra8p0\\LocalCache\\local-packages\\Python311\\site-packages\\scipy\\optimize\\_minimize.py\", line 710, in minimize\n",
      "    res = _minimize_lbfgsb(fun, x0, args, jac, bounds,\n",
      "          ^^^^^^^^^^^^^^^^^^^^^^^^^^^^^^^^^^^^^^^^^^^^\n",
      "  File \"C:\\Users\\tokm0001\\AppData\\Local\\Packages\\PythonSoftwareFoundation.Python.3.11_qbz5n2kfra8p0\\LocalCache\\local-packages\\Python311\\site-packages\\scipy\\optimize\\_lbfgsb_py.py\", line 307, in _minimize_lbfgsb\n",
      "    sf = _prepare_scalar_function(fun, x0, jac=jac, args=args, epsilon=eps,\n",
      "         ^^^^^^^^^^^^^^^^^^^^^^^^^^^^^^^^^^^^^^^^^^^^^^^^^^^^^^^^^^^^^^^^^^\n",
      "  File \"C:\\Users\\tokm0001\\AppData\\Local\\Packages\\PythonSoftwareFoundation.Python.3.11_qbz5n2kfra8p0\\LocalCache\\local-packages\\Python311\\site-packages\\scipy\\optimize\\_optimize.py\", line 383, in _prepare_scalar_function\n",
      "    sf = ScalarFunction(fun, x0, args, grad, hess,\n",
      "         ^^^^^^^^^^^^^^^^^^^^^^^^^^^^^^^^^^^^^^^^^\n",
      "  File \"C:\\Users\\tokm0001\\AppData\\Local\\Packages\\PythonSoftwareFoundation.Python.3.11_qbz5n2kfra8p0\\LocalCache\\local-packages\\Python311\\site-packages\\scipy\\optimize\\_differentiable_functions.py\", line 158, in __init__\n",
      "    self._update_fun()\n",
      "  File \"C:\\Users\\tokm0001\\AppData\\Local\\Packages\\PythonSoftwareFoundation.Python.3.11_qbz5n2kfra8p0\\LocalCache\\local-packages\\Python311\\site-packages\\scipy\\optimize\\_differentiable_functions.py\", line 251, in _update_fun\n",
      "    self._update_fun_impl()\n",
      "  File \"C:\\Users\\tokm0001\\AppData\\Local\\Packages\\PythonSoftwareFoundation.Python.3.11_qbz5n2kfra8p0\\LocalCache\\local-packages\\Python311\\site-packages\\scipy\\optimize\\_differentiable_functions.py\", line 155, in update_fun\n",
      "    self.f = fun_wrapped(self.x)\n",
      "             ^^^^^^^^^^^^^^^^^^^\n",
      "  File \"C:\\Users\\tokm0001\\AppData\\Local\\Packages\\PythonSoftwareFoundation.Python.3.11_qbz5n2kfra8p0\\LocalCache\\local-packages\\Python311\\site-packages\\scipy\\optimize\\_differentiable_functions.py\", line 137, in fun_wrapped\n",
      "    fx = fun(np.copy(x), *args)\n",
      "         ^^^^^^^^^^^^^^^^^^^^^^\n",
      "  File \"C:\\Users\\tokm0001\\AppData\\Local\\Packages\\PythonSoftwareFoundation.Python.3.11_qbz5n2kfra8p0\\LocalCache\\local-packages\\Python311\\site-packages\\scipy\\optimize\\_optimize.py\", line 77, in __call__\n",
      "    self._compute_if_needed(x, *args)\n",
      "  File \"C:\\Users\\tokm0001\\AppData\\Local\\Packages\\PythonSoftwareFoundation.Python.3.11_qbz5n2kfra8p0\\LocalCache\\local-packages\\Python311\\site-packages\\scipy\\optimize\\_optimize.py\", line 71, in _compute_if_needed\n",
      "    fg = self.fun(x, *args)\n",
      "         ^^^^^^^^^^^^^^^^^^\n",
      "  File \"C:\\Users\\tokm0001\\AppData\\Local\\Packages\\PythonSoftwareFoundation.Python.3.11_qbz5n2kfra8p0\\LocalCache\\local-packages\\Python311\\site-packages\\sklearn\\gaussian_process\\_gpc.py\", line 220, in obj_func\n",
      "    lml, grad = self.log_marginal_likelihood(\n",
      "                ^^^^^^^^^^^^^^^^^^^^^^^^^^^^^\n",
      "  File \"C:\\Users\\tokm0001\\AppData\\Local\\Packages\\PythonSoftwareFoundation.Python.3.11_qbz5n2kfra8p0\\LocalCache\\local-packages\\Python311\\site-packages\\sklearn\\gaussian_process\\_gpc.py\", line 385, in log_marginal_likelihood\n",
      "    Z, (pi, W_sr, L, b, a) = self._posterior_mode(K, return_temporaries=True)\n",
      "                             ^^^^^^^^^^^^^^^^^^^^^^^^^^^^^^^^^^^^^^^^^^^^^^^^\n",
      "  File \"C:\\Users\\tokm0001\\AppData\\Local\\Packages\\PythonSoftwareFoundation.Python.3.11_qbz5n2kfra8p0\\LocalCache\\local-packages\\Python311\\site-packages\\sklearn\\gaussian_process\\_gpc.py\", line 444, in _posterior_mode\n",
      "    L = cholesky(B, lower=True)\n",
      "        ^^^^^^^^^^^^^^^^^^^^^^^\n",
      "  File \"C:\\Users\\tokm0001\\AppData\\Local\\Packages\\PythonSoftwareFoundation.Python.3.11_qbz5n2kfra8p0\\LocalCache\\local-packages\\Python311\\site-packages\\scipy\\linalg\\_decomp_cholesky.py\", line 89, in cholesky\n",
      "    c, lower = _cholesky(a, lower=lower, overwrite_a=overwrite_a, clean=True,\n",
      "               ^^^^^^^^^^^^^^^^^^^^^^^^^^^^^^^^^^^^^^^^^^^^^^^^^^^^^^^^^^^^^^\n",
      "  File \"C:\\Users\\tokm0001\\AppData\\Local\\Packages\\PythonSoftwareFoundation.Python.3.11_qbz5n2kfra8p0\\LocalCache\\local-packages\\Python311\\site-packages\\scipy\\linalg\\_decomp_cholesky.py\", line 37, in _cholesky\n",
      "    raise LinAlgError(\"%d-th leading minor of the array is not positive \"\n",
      "numpy.linalg.LinAlgError: 40-th leading minor of the array is not positive definite\n",
      "\n",
      "--------------------------------------------------------------------------------\n",
      "3 fits failed with the following error:\n",
      "Traceback (most recent call last):\n",
      "  File \"C:\\Users\\tokm0001\\AppData\\Local\\Packages\\PythonSoftwareFoundation.Python.3.11_qbz5n2kfra8p0\\LocalCache\\local-packages\\Python311\\site-packages\\sklearn\\model_selection\\_validation.py\", line 729, in _fit_and_score\n",
      "    estimator.fit(X_train, y_train, **fit_params)\n",
      "  File \"C:\\Users\\tokm0001\\AppData\\Local\\Packages\\PythonSoftwareFoundation.Python.3.11_qbz5n2kfra8p0\\LocalCache\\local-packages\\Python311\\site-packages\\sklearn\\base.py\", line 1152, in wrapper\n",
      "    return fit_method(estimator, *args, **kwargs)\n",
      "           ^^^^^^^^^^^^^^^^^^^^^^^^^^^^^^^^^^^^^^\n",
      "  File \"C:\\Users\\tokm0001\\AppData\\Local\\Packages\\PythonSoftwareFoundation.Python.3.11_qbz5n2kfra8p0\\LocalCache\\local-packages\\Python311\\site-packages\\sklearn\\gaussian_process\\_gpc.py\", line 741, in fit\n",
      "    self.base_estimator_.fit(X, y)\n",
      "  File \"C:\\Users\\tokm0001\\AppData\\Local\\Packages\\PythonSoftwareFoundation.Python.3.11_qbz5n2kfra8p0\\LocalCache\\local-packages\\Python311\\site-packages\\sklearn\\gaussian_process\\_gpc.py\", line 229, in fit\n",
      "    self._constrained_optimization(\n",
      "  File \"C:\\Users\\tokm0001\\AppData\\Local\\Packages\\PythonSoftwareFoundation.Python.3.11_qbz5n2kfra8p0\\LocalCache\\local-packages\\Python311\\site-packages\\sklearn\\gaussian_process\\_gpc.py\", line 474, in _constrained_optimization\n",
      "    opt_res = scipy.optimize.minimize(\n",
      "              ^^^^^^^^^^^^^^^^^^^^^^^^\n",
      "  File \"C:\\Users\\tokm0001\\AppData\\Local\\Packages\\PythonSoftwareFoundation.Python.3.11_qbz5n2kfra8p0\\LocalCache\\local-packages\\Python311\\site-packages\\scipy\\optimize\\_minimize.py\", line 710, in minimize\n",
      "    res = _minimize_lbfgsb(fun, x0, args, jac, bounds,\n",
      "          ^^^^^^^^^^^^^^^^^^^^^^^^^^^^^^^^^^^^^^^^^^^^\n",
      "  File \"C:\\Users\\tokm0001\\AppData\\Local\\Packages\\PythonSoftwareFoundation.Python.3.11_qbz5n2kfra8p0\\LocalCache\\local-packages\\Python311\\site-packages\\scipy\\optimize\\_lbfgsb_py.py\", line 307, in _minimize_lbfgsb\n",
      "    sf = _prepare_scalar_function(fun, x0, jac=jac, args=args, epsilon=eps,\n",
      "         ^^^^^^^^^^^^^^^^^^^^^^^^^^^^^^^^^^^^^^^^^^^^^^^^^^^^^^^^^^^^^^^^^^\n",
      "  File \"C:\\Users\\tokm0001\\AppData\\Local\\Packages\\PythonSoftwareFoundation.Python.3.11_qbz5n2kfra8p0\\LocalCache\\local-packages\\Python311\\site-packages\\scipy\\optimize\\_optimize.py\", line 383, in _prepare_scalar_function\n",
      "    sf = ScalarFunction(fun, x0, args, grad, hess,\n",
      "         ^^^^^^^^^^^^^^^^^^^^^^^^^^^^^^^^^^^^^^^^^\n",
      "  File \"C:\\Users\\tokm0001\\AppData\\Local\\Packages\\PythonSoftwareFoundation.Python.3.11_qbz5n2kfra8p0\\LocalCache\\local-packages\\Python311\\site-packages\\scipy\\optimize\\_differentiable_functions.py\", line 158, in __init__\n",
      "    self._update_fun()\n",
      "  File \"C:\\Users\\tokm0001\\AppData\\Local\\Packages\\PythonSoftwareFoundation.Python.3.11_qbz5n2kfra8p0\\LocalCache\\local-packages\\Python311\\site-packages\\scipy\\optimize\\_differentiable_functions.py\", line 251, in _update_fun\n",
      "    self._update_fun_impl()\n",
      "  File \"C:\\Users\\tokm0001\\AppData\\Local\\Packages\\PythonSoftwareFoundation.Python.3.11_qbz5n2kfra8p0\\LocalCache\\local-packages\\Python311\\site-packages\\scipy\\optimize\\_differentiable_functions.py\", line 155, in update_fun\n",
      "    self.f = fun_wrapped(self.x)\n",
      "             ^^^^^^^^^^^^^^^^^^^\n",
      "  File \"C:\\Users\\tokm0001\\AppData\\Local\\Packages\\PythonSoftwareFoundation.Python.3.11_qbz5n2kfra8p0\\LocalCache\\local-packages\\Python311\\site-packages\\scipy\\optimize\\_differentiable_functions.py\", line 137, in fun_wrapped\n",
      "    fx = fun(np.copy(x), *args)\n",
      "         ^^^^^^^^^^^^^^^^^^^^^^\n",
      "  File \"C:\\Users\\tokm0001\\AppData\\Local\\Packages\\PythonSoftwareFoundation.Python.3.11_qbz5n2kfra8p0\\LocalCache\\local-packages\\Python311\\site-packages\\scipy\\optimize\\_optimize.py\", line 77, in __call__\n",
      "    self._compute_if_needed(x, *args)\n",
      "  File \"C:\\Users\\tokm0001\\AppData\\Local\\Packages\\PythonSoftwareFoundation.Python.3.11_qbz5n2kfra8p0\\LocalCache\\local-packages\\Python311\\site-packages\\scipy\\optimize\\_optimize.py\", line 71, in _compute_if_needed\n",
      "    fg = self.fun(x, *args)\n",
      "         ^^^^^^^^^^^^^^^^^^\n",
      "  File \"C:\\Users\\tokm0001\\AppData\\Local\\Packages\\PythonSoftwareFoundation.Python.3.11_qbz5n2kfra8p0\\LocalCache\\local-packages\\Python311\\site-packages\\sklearn\\gaussian_process\\_gpc.py\", line 220, in obj_func\n",
      "    lml, grad = self.log_marginal_likelihood(\n",
      "                ^^^^^^^^^^^^^^^^^^^^^^^^^^^^^\n",
      "  File \"C:\\Users\\tokm0001\\AppData\\Local\\Packages\\PythonSoftwareFoundation.Python.3.11_qbz5n2kfra8p0\\LocalCache\\local-packages\\Python311\\site-packages\\sklearn\\gaussian_process\\_gpc.py\", line 385, in log_marginal_likelihood\n",
      "    Z, (pi, W_sr, L, b, a) = self._posterior_mode(K, return_temporaries=True)\n",
      "                             ^^^^^^^^^^^^^^^^^^^^^^^^^^^^^^^^^^^^^^^^^^^^^^^^\n",
      "  File \"C:\\Users\\tokm0001\\AppData\\Local\\Packages\\PythonSoftwareFoundation.Python.3.11_qbz5n2kfra8p0\\LocalCache\\local-packages\\Python311\\site-packages\\sklearn\\gaussian_process\\_gpc.py\", line 444, in _posterior_mode\n",
      "    L = cholesky(B, lower=True)\n",
      "        ^^^^^^^^^^^^^^^^^^^^^^^\n",
      "  File \"C:\\Users\\tokm0001\\AppData\\Local\\Packages\\PythonSoftwareFoundation.Python.3.11_qbz5n2kfra8p0\\LocalCache\\local-packages\\Python311\\site-packages\\scipy\\linalg\\_decomp_cholesky.py\", line 89, in cholesky\n",
      "    c, lower = _cholesky(a, lower=lower, overwrite_a=overwrite_a, clean=True,\n",
      "               ^^^^^^^^^^^^^^^^^^^^^^^^^^^^^^^^^^^^^^^^^^^^^^^^^^^^^^^^^^^^^^\n",
      "  File \"C:\\Users\\tokm0001\\AppData\\Local\\Packages\\PythonSoftwareFoundation.Python.3.11_qbz5n2kfra8p0\\LocalCache\\local-packages\\Python311\\site-packages\\scipy\\linalg\\_decomp_cholesky.py\", line 37, in _cholesky\n",
      "    raise LinAlgError(\"%d-th leading minor of the array is not positive \"\n",
      "numpy.linalg.LinAlgError: 42-th leading minor of the array is not positive definite\n",
      "\n",
      "--------------------------------------------------------------------------------\n",
      "4 fits failed with the following error:\n",
      "Traceback (most recent call last):\n",
      "  File \"C:\\Users\\tokm0001\\AppData\\Local\\Packages\\PythonSoftwareFoundation.Python.3.11_qbz5n2kfra8p0\\LocalCache\\local-packages\\Python311\\site-packages\\sklearn\\model_selection\\_validation.py\", line 729, in _fit_and_score\n",
      "    estimator.fit(X_train, y_train, **fit_params)\n",
      "  File \"C:\\Users\\tokm0001\\AppData\\Local\\Packages\\PythonSoftwareFoundation.Python.3.11_qbz5n2kfra8p0\\LocalCache\\local-packages\\Python311\\site-packages\\sklearn\\base.py\", line 1152, in wrapper\n",
      "    return fit_method(estimator, *args, **kwargs)\n",
      "           ^^^^^^^^^^^^^^^^^^^^^^^^^^^^^^^^^^^^^^\n",
      "  File \"C:\\Users\\tokm0001\\AppData\\Local\\Packages\\PythonSoftwareFoundation.Python.3.11_qbz5n2kfra8p0\\LocalCache\\local-packages\\Python311\\site-packages\\sklearn\\gaussian_process\\_gpc.py\", line 741, in fit\n",
      "    self.base_estimator_.fit(X, y)\n",
      "  File \"C:\\Users\\tokm0001\\AppData\\Local\\Packages\\PythonSoftwareFoundation.Python.3.11_qbz5n2kfra8p0\\LocalCache\\local-packages\\Python311\\site-packages\\sklearn\\gaussian_process\\_gpc.py\", line 229, in fit\n",
      "    self._constrained_optimization(\n",
      "  File \"C:\\Users\\tokm0001\\AppData\\Local\\Packages\\PythonSoftwareFoundation.Python.3.11_qbz5n2kfra8p0\\LocalCache\\local-packages\\Python311\\site-packages\\sklearn\\gaussian_process\\_gpc.py\", line 474, in _constrained_optimization\n",
      "    opt_res = scipy.optimize.minimize(\n",
      "              ^^^^^^^^^^^^^^^^^^^^^^^^\n",
      "  File \"C:\\Users\\tokm0001\\AppData\\Local\\Packages\\PythonSoftwareFoundation.Python.3.11_qbz5n2kfra8p0\\LocalCache\\local-packages\\Python311\\site-packages\\scipy\\optimize\\_minimize.py\", line 710, in minimize\n",
      "    res = _minimize_lbfgsb(fun, x0, args, jac, bounds,\n",
      "          ^^^^^^^^^^^^^^^^^^^^^^^^^^^^^^^^^^^^^^^^^^^^\n",
      "  File \"C:\\Users\\tokm0001\\AppData\\Local\\Packages\\PythonSoftwareFoundation.Python.3.11_qbz5n2kfra8p0\\LocalCache\\local-packages\\Python311\\site-packages\\scipy\\optimize\\_lbfgsb_py.py\", line 307, in _minimize_lbfgsb\n",
      "    sf = _prepare_scalar_function(fun, x0, jac=jac, args=args, epsilon=eps,\n",
      "         ^^^^^^^^^^^^^^^^^^^^^^^^^^^^^^^^^^^^^^^^^^^^^^^^^^^^^^^^^^^^^^^^^^\n",
      "  File \"C:\\Users\\tokm0001\\AppData\\Local\\Packages\\PythonSoftwareFoundation.Python.3.11_qbz5n2kfra8p0\\LocalCache\\local-packages\\Python311\\site-packages\\scipy\\optimize\\_optimize.py\", line 383, in _prepare_scalar_function\n",
      "    sf = ScalarFunction(fun, x0, args, grad, hess,\n",
      "         ^^^^^^^^^^^^^^^^^^^^^^^^^^^^^^^^^^^^^^^^^\n",
      "  File \"C:\\Users\\tokm0001\\AppData\\Local\\Packages\\PythonSoftwareFoundation.Python.3.11_qbz5n2kfra8p0\\LocalCache\\local-packages\\Python311\\site-packages\\scipy\\optimize\\_differentiable_functions.py\", line 158, in __init__\n",
      "    self._update_fun()\n",
      "  File \"C:\\Users\\tokm0001\\AppData\\Local\\Packages\\PythonSoftwareFoundation.Python.3.11_qbz5n2kfra8p0\\LocalCache\\local-packages\\Python311\\site-packages\\scipy\\optimize\\_differentiable_functions.py\", line 251, in _update_fun\n",
      "    self._update_fun_impl()\n",
      "  File \"C:\\Users\\tokm0001\\AppData\\Local\\Packages\\PythonSoftwareFoundation.Python.3.11_qbz5n2kfra8p0\\LocalCache\\local-packages\\Python311\\site-packages\\scipy\\optimize\\_differentiable_functions.py\", line 155, in update_fun\n",
      "    self.f = fun_wrapped(self.x)\n",
      "             ^^^^^^^^^^^^^^^^^^^\n",
      "  File \"C:\\Users\\tokm0001\\AppData\\Local\\Packages\\PythonSoftwareFoundation.Python.3.11_qbz5n2kfra8p0\\LocalCache\\local-packages\\Python311\\site-packages\\scipy\\optimize\\_differentiable_functions.py\", line 137, in fun_wrapped\n",
      "    fx = fun(np.copy(x), *args)\n",
      "         ^^^^^^^^^^^^^^^^^^^^^^\n",
      "  File \"C:\\Users\\tokm0001\\AppData\\Local\\Packages\\PythonSoftwareFoundation.Python.3.11_qbz5n2kfra8p0\\LocalCache\\local-packages\\Python311\\site-packages\\scipy\\optimize\\_optimize.py\", line 77, in __call__\n",
      "    self._compute_if_needed(x, *args)\n",
      "  File \"C:\\Users\\tokm0001\\AppData\\Local\\Packages\\PythonSoftwareFoundation.Python.3.11_qbz5n2kfra8p0\\LocalCache\\local-packages\\Python311\\site-packages\\scipy\\optimize\\_optimize.py\", line 71, in _compute_if_needed\n",
      "    fg = self.fun(x, *args)\n",
      "         ^^^^^^^^^^^^^^^^^^\n",
      "  File \"C:\\Users\\tokm0001\\AppData\\Local\\Packages\\PythonSoftwareFoundation.Python.3.11_qbz5n2kfra8p0\\LocalCache\\local-packages\\Python311\\site-packages\\sklearn\\gaussian_process\\_gpc.py\", line 220, in obj_func\n",
      "    lml, grad = self.log_marginal_likelihood(\n",
      "                ^^^^^^^^^^^^^^^^^^^^^^^^^^^^^\n",
      "  File \"C:\\Users\\tokm0001\\AppData\\Local\\Packages\\PythonSoftwareFoundation.Python.3.11_qbz5n2kfra8p0\\LocalCache\\local-packages\\Python311\\site-packages\\sklearn\\gaussian_process\\_gpc.py\", line 385, in log_marginal_likelihood\n",
      "    Z, (pi, W_sr, L, b, a) = self._posterior_mode(K, return_temporaries=True)\n",
      "                             ^^^^^^^^^^^^^^^^^^^^^^^^^^^^^^^^^^^^^^^^^^^^^^^^\n",
      "  File \"C:\\Users\\tokm0001\\AppData\\Local\\Packages\\PythonSoftwareFoundation.Python.3.11_qbz5n2kfra8p0\\LocalCache\\local-packages\\Python311\\site-packages\\sklearn\\gaussian_process\\_gpc.py\", line 444, in _posterior_mode\n",
      "    L = cholesky(B, lower=True)\n",
      "        ^^^^^^^^^^^^^^^^^^^^^^^\n",
      "  File \"C:\\Users\\tokm0001\\AppData\\Local\\Packages\\PythonSoftwareFoundation.Python.3.11_qbz5n2kfra8p0\\LocalCache\\local-packages\\Python311\\site-packages\\scipy\\linalg\\_decomp_cholesky.py\", line 89, in cholesky\n",
      "    c, lower = _cholesky(a, lower=lower, overwrite_a=overwrite_a, clean=True,\n",
      "               ^^^^^^^^^^^^^^^^^^^^^^^^^^^^^^^^^^^^^^^^^^^^^^^^^^^^^^^^^^^^^^\n",
      "  File \"C:\\Users\\tokm0001\\AppData\\Local\\Packages\\PythonSoftwareFoundation.Python.3.11_qbz5n2kfra8p0\\LocalCache\\local-packages\\Python311\\site-packages\\scipy\\linalg\\_decomp_cholesky.py\", line 37, in _cholesky\n",
      "    raise LinAlgError(\"%d-th leading minor of the array is not positive \"\n",
      "numpy.linalg.LinAlgError: 41-th leading minor of the array is not positive definite\n",
      "\n",
      "--------------------------------------------------------------------------------\n",
      "4 fits failed with the following error:\n",
      "Traceback (most recent call last):\n",
      "  File \"C:\\Users\\tokm0001\\AppData\\Local\\Packages\\PythonSoftwareFoundation.Python.3.11_qbz5n2kfra8p0\\LocalCache\\local-packages\\Python311\\site-packages\\sklearn\\model_selection\\_validation.py\", line 729, in _fit_and_score\n",
      "    estimator.fit(X_train, y_train, **fit_params)\n",
      "  File \"C:\\Users\\tokm0001\\AppData\\Local\\Packages\\PythonSoftwareFoundation.Python.3.11_qbz5n2kfra8p0\\LocalCache\\local-packages\\Python311\\site-packages\\sklearn\\base.py\", line 1152, in wrapper\n",
      "    return fit_method(estimator, *args, **kwargs)\n",
      "           ^^^^^^^^^^^^^^^^^^^^^^^^^^^^^^^^^^^^^^\n",
      "  File \"C:\\Users\\tokm0001\\AppData\\Local\\Packages\\PythonSoftwareFoundation.Python.3.11_qbz5n2kfra8p0\\LocalCache\\local-packages\\Python311\\site-packages\\sklearn\\gaussian_process\\_gpc.py\", line 741, in fit\n",
      "    self.base_estimator_.fit(X, y)\n",
      "  File \"C:\\Users\\tokm0001\\AppData\\Local\\Packages\\PythonSoftwareFoundation.Python.3.11_qbz5n2kfra8p0\\LocalCache\\local-packages\\Python311\\site-packages\\sklearn\\gaussian_process\\_gpc.py\", line 229, in fit\n",
      "    self._constrained_optimization(\n",
      "  File \"C:\\Users\\tokm0001\\AppData\\Local\\Packages\\PythonSoftwareFoundation.Python.3.11_qbz5n2kfra8p0\\LocalCache\\local-packages\\Python311\\site-packages\\sklearn\\gaussian_process\\_gpc.py\", line 474, in _constrained_optimization\n",
      "    opt_res = scipy.optimize.minimize(\n",
      "              ^^^^^^^^^^^^^^^^^^^^^^^^\n",
      "  File \"C:\\Users\\tokm0001\\AppData\\Local\\Packages\\PythonSoftwareFoundation.Python.3.11_qbz5n2kfra8p0\\LocalCache\\local-packages\\Python311\\site-packages\\scipy\\optimize\\_minimize.py\", line 710, in minimize\n",
      "    res = _minimize_lbfgsb(fun, x0, args, jac, bounds,\n",
      "          ^^^^^^^^^^^^^^^^^^^^^^^^^^^^^^^^^^^^^^^^^^^^\n",
      "  File \"C:\\Users\\tokm0001\\AppData\\Local\\Packages\\PythonSoftwareFoundation.Python.3.11_qbz5n2kfra8p0\\LocalCache\\local-packages\\Python311\\site-packages\\scipy\\optimize\\_lbfgsb_py.py\", line 307, in _minimize_lbfgsb\n",
      "    sf = _prepare_scalar_function(fun, x0, jac=jac, args=args, epsilon=eps,\n",
      "         ^^^^^^^^^^^^^^^^^^^^^^^^^^^^^^^^^^^^^^^^^^^^^^^^^^^^^^^^^^^^^^^^^^\n",
      "  File \"C:\\Users\\tokm0001\\AppData\\Local\\Packages\\PythonSoftwareFoundation.Python.3.11_qbz5n2kfra8p0\\LocalCache\\local-packages\\Python311\\site-packages\\scipy\\optimize\\_optimize.py\", line 383, in _prepare_scalar_function\n",
      "    sf = ScalarFunction(fun, x0, args, grad, hess,\n",
      "         ^^^^^^^^^^^^^^^^^^^^^^^^^^^^^^^^^^^^^^^^^\n",
      "  File \"C:\\Users\\tokm0001\\AppData\\Local\\Packages\\PythonSoftwareFoundation.Python.3.11_qbz5n2kfra8p0\\LocalCache\\local-packages\\Python311\\site-packages\\scipy\\optimize\\_differentiable_functions.py\", line 158, in __init__\n",
      "    self._update_fun()\n",
      "  File \"C:\\Users\\tokm0001\\AppData\\Local\\Packages\\PythonSoftwareFoundation.Python.3.11_qbz5n2kfra8p0\\LocalCache\\local-packages\\Python311\\site-packages\\scipy\\optimize\\_differentiable_functions.py\", line 251, in _update_fun\n",
      "    self._update_fun_impl()\n",
      "  File \"C:\\Users\\tokm0001\\AppData\\Local\\Packages\\PythonSoftwareFoundation.Python.3.11_qbz5n2kfra8p0\\LocalCache\\local-packages\\Python311\\site-packages\\scipy\\optimize\\_differentiable_functions.py\", line 155, in update_fun\n",
      "    self.f = fun_wrapped(self.x)\n",
      "             ^^^^^^^^^^^^^^^^^^^\n",
      "  File \"C:\\Users\\tokm0001\\AppData\\Local\\Packages\\PythonSoftwareFoundation.Python.3.11_qbz5n2kfra8p0\\LocalCache\\local-packages\\Python311\\site-packages\\scipy\\optimize\\_differentiable_functions.py\", line 137, in fun_wrapped\n",
      "    fx = fun(np.copy(x), *args)\n",
      "         ^^^^^^^^^^^^^^^^^^^^^^\n",
      "  File \"C:\\Users\\tokm0001\\AppData\\Local\\Packages\\PythonSoftwareFoundation.Python.3.11_qbz5n2kfra8p0\\LocalCache\\local-packages\\Python311\\site-packages\\scipy\\optimize\\_optimize.py\", line 77, in __call__\n",
      "    self._compute_if_needed(x, *args)\n",
      "  File \"C:\\Users\\tokm0001\\AppData\\Local\\Packages\\PythonSoftwareFoundation.Python.3.11_qbz5n2kfra8p0\\LocalCache\\local-packages\\Python311\\site-packages\\scipy\\optimize\\_optimize.py\", line 71, in _compute_if_needed\n",
      "    fg = self.fun(x, *args)\n",
      "         ^^^^^^^^^^^^^^^^^^\n",
      "  File \"C:\\Users\\tokm0001\\AppData\\Local\\Packages\\PythonSoftwareFoundation.Python.3.11_qbz5n2kfra8p0\\LocalCache\\local-packages\\Python311\\site-packages\\sklearn\\gaussian_process\\_gpc.py\", line 220, in obj_func\n",
      "    lml, grad = self.log_marginal_likelihood(\n",
      "                ^^^^^^^^^^^^^^^^^^^^^^^^^^^^^\n",
      "  File \"C:\\Users\\tokm0001\\AppData\\Local\\Packages\\PythonSoftwareFoundation.Python.3.11_qbz5n2kfra8p0\\LocalCache\\local-packages\\Python311\\site-packages\\sklearn\\gaussian_process\\_gpc.py\", line 385, in log_marginal_likelihood\n",
      "    Z, (pi, W_sr, L, b, a) = self._posterior_mode(K, return_temporaries=True)\n",
      "                             ^^^^^^^^^^^^^^^^^^^^^^^^^^^^^^^^^^^^^^^^^^^^^^^^\n",
      "  File \"C:\\Users\\tokm0001\\AppData\\Local\\Packages\\PythonSoftwareFoundation.Python.3.11_qbz5n2kfra8p0\\LocalCache\\local-packages\\Python311\\site-packages\\sklearn\\gaussian_process\\_gpc.py\", line 444, in _posterior_mode\n",
      "    L = cholesky(B, lower=True)\n",
      "        ^^^^^^^^^^^^^^^^^^^^^^^\n",
      "  File \"C:\\Users\\tokm0001\\AppData\\Local\\Packages\\PythonSoftwareFoundation.Python.3.11_qbz5n2kfra8p0\\LocalCache\\local-packages\\Python311\\site-packages\\scipy\\linalg\\_decomp_cholesky.py\", line 89, in cholesky\n",
      "    c, lower = _cholesky(a, lower=lower, overwrite_a=overwrite_a, clean=True,\n",
      "               ^^^^^^^^^^^^^^^^^^^^^^^^^^^^^^^^^^^^^^^^^^^^^^^^^^^^^^^^^^^^^^\n",
      "  File \"C:\\Users\\tokm0001\\AppData\\Local\\Packages\\PythonSoftwareFoundation.Python.3.11_qbz5n2kfra8p0\\LocalCache\\local-packages\\Python311\\site-packages\\scipy\\linalg\\_decomp_cholesky.py\", line 37, in _cholesky\n",
      "    raise LinAlgError(\"%d-th leading minor of the array is not positive \"\n",
      "numpy.linalg.LinAlgError: 39-th leading minor of the array is not positive definite\n",
      "\n",
      "--------------------------------------------------------------------------------\n",
      "2 fits failed with the following error:\n",
      "Traceback (most recent call last):\n",
      "  File \"C:\\Users\\tokm0001\\AppData\\Local\\Packages\\PythonSoftwareFoundation.Python.3.11_qbz5n2kfra8p0\\LocalCache\\local-packages\\Python311\\site-packages\\sklearn\\model_selection\\_validation.py\", line 729, in _fit_and_score\n",
      "    estimator.fit(X_train, y_train, **fit_params)\n",
      "  File \"C:\\Users\\tokm0001\\AppData\\Local\\Packages\\PythonSoftwareFoundation.Python.3.11_qbz5n2kfra8p0\\LocalCache\\local-packages\\Python311\\site-packages\\sklearn\\base.py\", line 1152, in wrapper\n",
      "    return fit_method(estimator, *args, **kwargs)\n",
      "           ^^^^^^^^^^^^^^^^^^^^^^^^^^^^^^^^^^^^^^\n",
      "  File \"C:\\Users\\tokm0001\\AppData\\Local\\Packages\\PythonSoftwareFoundation.Python.3.11_qbz5n2kfra8p0\\LocalCache\\local-packages\\Python311\\site-packages\\sklearn\\gaussian_process\\_gpc.py\", line 741, in fit\n",
      "    self.base_estimator_.fit(X, y)\n",
      "  File \"C:\\Users\\tokm0001\\AppData\\Local\\Packages\\PythonSoftwareFoundation.Python.3.11_qbz5n2kfra8p0\\LocalCache\\local-packages\\Python311\\site-packages\\sklearn\\gaussian_process\\_gpc.py\", line 229, in fit\n",
      "    self._constrained_optimization(\n",
      "  File \"C:\\Users\\tokm0001\\AppData\\Local\\Packages\\PythonSoftwareFoundation.Python.3.11_qbz5n2kfra8p0\\LocalCache\\local-packages\\Python311\\site-packages\\sklearn\\gaussian_process\\_gpc.py\", line 474, in _constrained_optimization\n",
      "    opt_res = scipy.optimize.minimize(\n",
      "              ^^^^^^^^^^^^^^^^^^^^^^^^\n",
      "  File \"C:\\Users\\tokm0001\\AppData\\Local\\Packages\\PythonSoftwareFoundation.Python.3.11_qbz5n2kfra8p0\\LocalCache\\local-packages\\Python311\\site-packages\\scipy\\optimize\\_minimize.py\", line 710, in minimize\n",
      "    res = _minimize_lbfgsb(fun, x0, args, jac, bounds,\n",
      "          ^^^^^^^^^^^^^^^^^^^^^^^^^^^^^^^^^^^^^^^^^^^^\n",
      "  File \"C:\\Users\\tokm0001\\AppData\\Local\\Packages\\PythonSoftwareFoundation.Python.3.11_qbz5n2kfra8p0\\LocalCache\\local-packages\\Python311\\site-packages\\scipy\\optimize\\_lbfgsb_py.py\", line 307, in _minimize_lbfgsb\n",
      "    sf = _prepare_scalar_function(fun, x0, jac=jac, args=args, epsilon=eps,\n",
      "         ^^^^^^^^^^^^^^^^^^^^^^^^^^^^^^^^^^^^^^^^^^^^^^^^^^^^^^^^^^^^^^^^^^\n",
      "  File \"C:\\Users\\tokm0001\\AppData\\Local\\Packages\\PythonSoftwareFoundation.Python.3.11_qbz5n2kfra8p0\\LocalCache\\local-packages\\Python311\\site-packages\\scipy\\optimize\\_optimize.py\", line 383, in _prepare_scalar_function\n",
      "    sf = ScalarFunction(fun, x0, args, grad, hess,\n",
      "         ^^^^^^^^^^^^^^^^^^^^^^^^^^^^^^^^^^^^^^^^^\n",
      "  File \"C:\\Users\\tokm0001\\AppData\\Local\\Packages\\PythonSoftwareFoundation.Python.3.11_qbz5n2kfra8p0\\LocalCache\\local-packages\\Python311\\site-packages\\scipy\\optimize\\_differentiable_functions.py\", line 158, in __init__\n",
      "    self._update_fun()\n",
      "  File \"C:\\Users\\tokm0001\\AppData\\Local\\Packages\\PythonSoftwareFoundation.Python.3.11_qbz5n2kfra8p0\\LocalCache\\local-packages\\Python311\\site-packages\\scipy\\optimize\\_differentiable_functions.py\", line 251, in _update_fun\n",
      "    self._update_fun_impl()\n",
      "  File \"C:\\Users\\tokm0001\\AppData\\Local\\Packages\\PythonSoftwareFoundation.Python.3.11_qbz5n2kfra8p0\\LocalCache\\local-packages\\Python311\\site-packages\\scipy\\optimize\\_differentiable_functions.py\", line 155, in update_fun\n",
      "    self.f = fun_wrapped(self.x)\n",
      "             ^^^^^^^^^^^^^^^^^^^\n",
      "  File \"C:\\Users\\tokm0001\\AppData\\Local\\Packages\\PythonSoftwareFoundation.Python.3.11_qbz5n2kfra8p0\\LocalCache\\local-packages\\Python311\\site-packages\\scipy\\optimize\\_differentiable_functions.py\", line 137, in fun_wrapped\n",
      "    fx = fun(np.copy(x), *args)\n",
      "         ^^^^^^^^^^^^^^^^^^^^^^\n",
      "  File \"C:\\Users\\tokm0001\\AppData\\Local\\Packages\\PythonSoftwareFoundation.Python.3.11_qbz5n2kfra8p0\\LocalCache\\local-packages\\Python311\\site-packages\\scipy\\optimize\\_optimize.py\", line 77, in __call__\n",
      "    self._compute_if_needed(x, *args)\n",
      "  File \"C:\\Users\\tokm0001\\AppData\\Local\\Packages\\PythonSoftwareFoundation.Python.3.11_qbz5n2kfra8p0\\LocalCache\\local-packages\\Python311\\site-packages\\scipy\\optimize\\_optimize.py\", line 71, in _compute_if_needed\n",
      "    fg = self.fun(x, *args)\n",
      "         ^^^^^^^^^^^^^^^^^^\n",
      "  File \"C:\\Users\\tokm0001\\AppData\\Local\\Packages\\PythonSoftwareFoundation.Python.3.11_qbz5n2kfra8p0\\LocalCache\\local-packages\\Python311\\site-packages\\sklearn\\gaussian_process\\_gpc.py\", line 220, in obj_func\n",
      "    lml, grad = self.log_marginal_likelihood(\n",
      "                ^^^^^^^^^^^^^^^^^^^^^^^^^^^^^\n",
      "  File \"C:\\Users\\tokm0001\\AppData\\Local\\Packages\\PythonSoftwareFoundation.Python.3.11_qbz5n2kfra8p0\\LocalCache\\local-packages\\Python311\\site-packages\\sklearn\\gaussian_process\\_gpc.py\", line 385, in log_marginal_likelihood\n",
      "    Z, (pi, W_sr, L, b, a) = self._posterior_mode(K, return_temporaries=True)\n",
      "                             ^^^^^^^^^^^^^^^^^^^^^^^^^^^^^^^^^^^^^^^^^^^^^^^^\n",
      "  File \"C:\\Users\\tokm0001\\AppData\\Local\\Packages\\PythonSoftwareFoundation.Python.3.11_qbz5n2kfra8p0\\LocalCache\\local-packages\\Python311\\site-packages\\sklearn\\gaussian_process\\_gpc.py\", line 444, in _posterior_mode\n",
      "    L = cholesky(B, lower=True)\n",
      "        ^^^^^^^^^^^^^^^^^^^^^^^\n",
      "  File \"C:\\Users\\tokm0001\\AppData\\Local\\Packages\\PythonSoftwareFoundation.Python.3.11_qbz5n2kfra8p0\\LocalCache\\local-packages\\Python311\\site-packages\\scipy\\linalg\\_decomp_cholesky.py\", line 89, in cholesky\n",
      "    c, lower = _cholesky(a, lower=lower, overwrite_a=overwrite_a, clean=True,\n",
      "               ^^^^^^^^^^^^^^^^^^^^^^^^^^^^^^^^^^^^^^^^^^^^^^^^^^^^^^^^^^^^^^\n",
      "  File \"C:\\Users\\tokm0001\\AppData\\Local\\Packages\\PythonSoftwareFoundation.Python.3.11_qbz5n2kfra8p0\\LocalCache\\local-packages\\Python311\\site-packages\\scipy\\linalg\\_decomp_cholesky.py\", line 37, in _cholesky\n",
      "    raise LinAlgError(\"%d-th leading minor of the array is not positive \"\n",
      "numpy.linalg.LinAlgError: 38-th leading minor of the array is not positive definite\n",
      "\n",
      "--------------------------------------------------------------------------------\n",
      "1 fits failed with the following error:\n",
      "Traceback (most recent call last):\n",
      "  File \"C:\\Users\\tokm0001\\AppData\\Local\\Packages\\PythonSoftwareFoundation.Python.3.11_qbz5n2kfra8p0\\LocalCache\\local-packages\\Python311\\site-packages\\sklearn\\model_selection\\_validation.py\", line 729, in _fit_and_score\n",
      "    estimator.fit(X_train, y_train, **fit_params)\n",
      "  File \"C:\\Users\\tokm0001\\AppData\\Local\\Packages\\PythonSoftwareFoundation.Python.3.11_qbz5n2kfra8p0\\LocalCache\\local-packages\\Python311\\site-packages\\sklearn\\base.py\", line 1152, in wrapper\n",
      "    return fit_method(estimator, *args, **kwargs)\n",
      "           ^^^^^^^^^^^^^^^^^^^^^^^^^^^^^^^^^^^^^^\n",
      "  File \"C:\\Users\\tokm0001\\AppData\\Local\\Packages\\PythonSoftwareFoundation.Python.3.11_qbz5n2kfra8p0\\LocalCache\\local-packages\\Python311\\site-packages\\sklearn\\gaussian_process\\_gpc.py\", line 741, in fit\n",
      "    self.base_estimator_.fit(X, y)\n",
      "  File \"C:\\Users\\tokm0001\\AppData\\Local\\Packages\\PythonSoftwareFoundation.Python.3.11_qbz5n2kfra8p0\\LocalCache\\local-packages\\Python311\\site-packages\\sklearn\\gaussian_process\\_gpc.py\", line 229, in fit\n",
      "    self._constrained_optimization(\n",
      "  File \"C:\\Users\\tokm0001\\AppData\\Local\\Packages\\PythonSoftwareFoundation.Python.3.11_qbz5n2kfra8p0\\LocalCache\\local-packages\\Python311\\site-packages\\sklearn\\gaussian_process\\_gpc.py\", line 474, in _constrained_optimization\n",
      "    opt_res = scipy.optimize.minimize(\n",
      "              ^^^^^^^^^^^^^^^^^^^^^^^^\n",
      "  File \"C:\\Users\\tokm0001\\AppData\\Local\\Packages\\PythonSoftwareFoundation.Python.3.11_qbz5n2kfra8p0\\LocalCache\\local-packages\\Python311\\site-packages\\scipy\\optimize\\_minimize.py\", line 710, in minimize\n",
      "    res = _minimize_lbfgsb(fun, x0, args, jac, bounds,\n",
      "          ^^^^^^^^^^^^^^^^^^^^^^^^^^^^^^^^^^^^^^^^^^^^\n",
      "  File \"C:\\Users\\tokm0001\\AppData\\Local\\Packages\\PythonSoftwareFoundation.Python.3.11_qbz5n2kfra8p0\\LocalCache\\local-packages\\Python311\\site-packages\\scipy\\optimize\\_lbfgsb_py.py\", line 307, in _minimize_lbfgsb\n",
      "    sf = _prepare_scalar_function(fun, x0, jac=jac, args=args, epsilon=eps,\n",
      "         ^^^^^^^^^^^^^^^^^^^^^^^^^^^^^^^^^^^^^^^^^^^^^^^^^^^^^^^^^^^^^^^^^^\n",
      "  File \"C:\\Users\\tokm0001\\AppData\\Local\\Packages\\PythonSoftwareFoundation.Python.3.11_qbz5n2kfra8p0\\LocalCache\\local-packages\\Python311\\site-packages\\scipy\\optimize\\_optimize.py\", line 383, in _prepare_scalar_function\n",
      "    sf = ScalarFunction(fun, x0, args, grad, hess,\n",
      "         ^^^^^^^^^^^^^^^^^^^^^^^^^^^^^^^^^^^^^^^^^\n",
      "  File \"C:\\Users\\tokm0001\\AppData\\Local\\Packages\\PythonSoftwareFoundation.Python.3.11_qbz5n2kfra8p0\\LocalCache\\local-packages\\Python311\\site-packages\\scipy\\optimize\\_differentiable_functions.py\", line 158, in __init__\n",
      "    self._update_fun()\n",
      "  File \"C:\\Users\\tokm0001\\AppData\\Local\\Packages\\PythonSoftwareFoundation.Python.3.11_qbz5n2kfra8p0\\LocalCache\\local-packages\\Python311\\site-packages\\scipy\\optimize\\_differentiable_functions.py\", line 251, in _update_fun\n",
      "    self._update_fun_impl()\n",
      "  File \"C:\\Users\\tokm0001\\AppData\\Local\\Packages\\PythonSoftwareFoundation.Python.3.11_qbz5n2kfra8p0\\LocalCache\\local-packages\\Python311\\site-packages\\scipy\\optimize\\_differentiable_functions.py\", line 155, in update_fun\n",
      "    self.f = fun_wrapped(self.x)\n",
      "             ^^^^^^^^^^^^^^^^^^^\n",
      "  File \"C:\\Users\\tokm0001\\AppData\\Local\\Packages\\PythonSoftwareFoundation.Python.3.11_qbz5n2kfra8p0\\LocalCache\\local-packages\\Python311\\site-packages\\scipy\\optimize\\_differentiable_functions.py\", line 137, in fun_wrapped\n",
      "    fx = fun(np.copy(x), *args)\n",
      "         ^^^^^^^^^^^^^^^^^^^^^^\n",
      "  File \"C:\\Users\\tokm0001\\AppData\\Local\\Packages\\PythonSoftwareFoundation.Python.3.11_qbz5n2kfra8p0\\LocalCache\\local-packages\\Python311\\site-packages\\scipy\\optimize\\_optimize.py\", line 77, in __call__\n",
      "    self._compute_if_needed(x, *args)\n",
      "  File \"C:\\Users\\tokm0001\\AppData\\Local\\Packages\\PythonSoftwareFoundation.Python.3.11_qbz5n2kfra8p0\\LocalCache\\local-packages\\Python311\\site-packages\\scipy\\optimize\\_optimize.py\", line 71, in _compute_if_needed\n",
      "    fg = self.fun(x, *args)\n",
      "         ^^^^^^^^^^^^^^^^^^\n",
      "  File \"C:\\Users\\tokm0001\\AppData\\Local\\Packages\\PythonSoftwareFoundation.Python.3.11_qbz5n2kfra8p0\\LocalCache\\local-packages\\Python311\\site-packages\\sklearn\\gaussian_process\\_gpc.py\", line 220, in obj_func\n",
      "    lml, grad = self.log_marginal_likelihood(\n",
      "                ^^^^^^^^^^^^^^^^^^^^^^^^^^^^^\n",
      "  File \"C:\\Users\\tokm0001\\AppData\\Local\\Packages\\PythonSoftwareFoundation.Python.3.11_qbz5n2kfra8p0\\LocalCache\\local-packages\\Python311\\site-packages\\sklearn\\gaussian_process\\_gpc.py\", line 385, in log_marginal_likelihood\n",
      "    Z, (pi, W_sr, L, b, a) = self._posterior_mode(K, return_temporaries=True)\n",
      "                             ^^^^^^^^^^^^^^^^^^^^^^^^^^^^^^^^^^^^^^^^^^^^^^^^\n",
      "  File \"C:\\Users\\tokm0001\\AppData\\Local\\Packages\\PythonSoftwareFoundation.Python.3.11_qbz5n2kfra8p0\\LocalCache\\local-packages\\Python311\\site-packages\\sklearn\\gaussian_process\\_gpc.py\", line 444, in _posterior_mode\n",
      "    L = cholesky(B, lower=True)\n",
      "        ^^^^^^^^^^^^^^^^^^^^^^^\n",
      "  File \"C:\\Users\\tokm0001\\AppData\\Local\\Packages\\PythonSoftwareFoundation.Python.3.11_qbz5n2kfra8p0\\LocalCache\\local-packages\\Python311\\site-packages\\scipy\\linalg\\_decomp_cholesky.py\", line 89, in cholesky\n",
      "    c, lower = _cholesky(a, lower=lower, overwrite_a=overwrite_a, clean=True,\n",
      "               ^^^^^^^^^^^^^^^^^^^^^^^^^^^^^^^^^^^^^^^^^^^^^^^^^^^^^^^^^^^^^^\n",
      "  File \"C:\\Users\\tokm0001\\AppData\\Local\\Packages\\PythonSoftwareFoundation.Python.3.11_qbz5n2kfra8p0\\LocalCache\\local-packages\\Python311\\site-packages\\scipy\\linalg\\_decomp_cholesky.py\", line 37, in _cholesky\n",
      "    raise LinAlgError(\"%d-th leading minor of the array is not positive \"\n",
      "numpy.linalg.LinAlgError: 37-th leading minor of the array is not positive definite\n",
      "\n",
      "--------------------------------------------------------------------------------\n",
      "1 fits failed with the following error:\n",
      "Traceback (most recent call last):\n",
      "  File \"C:\\Users\\tokm0001\\AppData\\Local\\Packages\\PythonSoftwareFoundation.Python.3.11_qbz5n2kfra8p0\\LocalCache\\local-packages\\Python311\\site-packages\\sklearn\\model_selection\\_validation.py\", line 729, in _fit_and_score\n",
      "    estimator.fit(X_train, y_train, **fit_params)\n",
      "  File \"C:\\Users\\tokm0001\\AppData\\Local\\Packages\\PythonSoftwareFoundation.Python.3.11_qbz5n2kfra8p0\\LocalCache\\local-packages\\Python311\\site-packages\\sklearn\\base.py\", line 1152, in wrapper\n",
      "    return fit_method(estimator, *args, **kwargs)\n",
      "           ^^^^^^^^^^^^^^^^^^^^^^^^^^^^^^^^^^^^^^\n",
      "  File \"C:\\Users\\tokm0001\\AppData\\Local\\Packages\\PythonSoftwareFoundation.Python.3.11_qbz5n2kfra8p0\\LocalCache\\local-packages\\Python311\\site-packages\\sklearn\\gaussian_process\\_gpc.py\", line 741, in fit\n",
      "    self.base_estimator_.fit(X, y)\n",
      "  File \"C:\\Users\\tokm0001\\AppData\\Local\\Packages\\PythonSoftwareFoundation.Python.3.11_qbz5n2kfra8p0\\LocalCache\\local-packages\\Python311\\site-packages\\sklearn\\gaussian_process\\_gpc.py\", line 229, in fit\n",
      "    self._constrained_optimization(\n",
      "  File \"C:\\Users\\tokm0001\\AppData\\Local\\Packages\\PythonSoftwareFoundation.Python.3.11_qbz5n2kfra8p0\\LocalCache\\local-packages\\Python311\\site-packages\\sklearn\\gaussian_process\\_gpc.py\", line 474, in _constrained_optimization\n",
      "    opt_res = scipy.optimize.minimize(\n",
      "              ^^^^^^^^^^^^^^^^^^^^^^^^\n",
      "  File \"C:\\Users\\tokm0001\\AppData\\Local\\Packages\\PythonSoftwareFoundation.Python.3.11_qbz5n2kfra8p0\\LocalCache\\local-packages\\Python311\\site-packages\\scipy\\optimize\\_minimize.py\", line 710, in minimize\n",
      "    res = _minimize_lbfgsb(fun, x0, args, jac, bounds,\n",
      "          ^^^^^^^^^^^^^^^^^^^^^^^^^^^^^^^^^^^^^^^^^^^^\n",
      "  File \"C:\\Users\\tokm0001\\AppData\\Local\\Packages\\PythonSoftwareFoundation.Python.3.11_qbz5n2kfra8p0\\LocalCache\\local-packages\\Python311\\site-packages\\scipy\\optimize\\_lbfgsb_py.py\", line 307, in _minimize_lbfgsb\n",
      "    sf = _prepare_scalar_function(fun, x0, jac=jac, args=args, epsilon=eps,\n",
      "         ^^^^^^^^^^^^^^^^^^^^^^^^^^^^^^^^^^^^^^^^^^^^^^^^^^^^^^^^^^^^^^^^^^\n",
      "  File \"C:\\Users\\tokm0001\\AppData\\Local\\Packages\\PythonSoftwareFoundation.Python.3.11_qbz5n2kfra8p0\\LocalCache\\local-packages\\Python311\\site-packages\\scipy\\optimize\\_optimize.py\", line 383, in _prepare_scalar_function\n",
      "    sf = ScalarFunction(fun, x0, args, grad, hess,\n",
      "         ^^^^^^^^^^^^^^^^^^^^^^^^^^^^^^^^^^^^^^^^^\n",
      "  File \"C:\\Users\\tokm0001\\AppData\\Local\\Packages\\PythonSoftwareFoundation.Python.3.11_qbz5n2kfra8p0\\LocalCache\\local-packages\\Python311\\site-packages\\scipy\\optimize\\_differentiable_functions.py\", line 158, in __init__\n",
      "    self._update_fun()\n",
      "  File \"C:\\Users\\tokm0001\\AppData\\Local\\Packages\\PythonSoftwareFoundation.Python.3.11_qbz5n2kfra8p0\\LocalCache\\local-packages\\Python311\\site-packages\\scipy\\optimize\\_differentiable_functions.py\", line 251, in _update_fun\n",
      "    self._update_fun_impl()\n",
      "  File \"C:\\Users\\tokm0001\\AppData\\Local\\Packages\\PythonSoftwareFoundation.Python.3.11_qbz5n2kfra8p0\\LocalCache\\local-packages\\Python311\\site-packages\\scipy\\optimize\\_differentiable_functions.py\", line 155, in update_fun\n",
      "    self.f = fun_wrapped(self.x)\n",
      "             ^^^^^^^^^^^^^^^^^^^\n",
      "  File \"C:\\Users\\tokm0001\\AppData\\Local\\Packages\\PythonSoftwareFoundation.Python.3.11_qbz5n2kfra8p0\\LocalCache\\local-packages\\Python311\\site-packages\\scipy\\optimize\\_differentiable_functions.py\", line 137, in fun_wrapped\n",
      "    fx = fun(np.copy(x), *args)\n",
      "         ^^^^^^^^^^^^^^^^^^^^^^\n",
      "  File \"C:\\Users\\tokm0001\\AppData\\Local\\Packages\\PythonSoftwareFoundation.Python.3.11_qbz5n2kfra8p0\\LocalCache\\local-packages\\Python311\\site-packages\\scipy\\optimize\\_optimize.py\", line 77, in __call__\n",
      "    self._compute_if_needed(x, *args)\n",
      "  File \"C:\\Users\\tokm0001\\AppData\\Local\\Packages\\PythonSoftwareFoundation.Python.3.11_qbz5n2kfra8p0\\LocalCache\\local-packages\\Python311\\site-packages\\scipy\\optimize\\_optimize.py\", line 71, in _compute_if_needed\n",
      "    fg = self.fun(x, *args)\n",
      "         ^^^^^^^^^^^^^^^^^^\n",
      "  File \"C:\\Users\\tokm0001\\AppData\\Local\\Packages\\PythonSoftwareFoundation.Python.3.11_qbz5n2kfra8p0\\LocalCache\\local-packages\\Python311\\site-packages\\sklearn\\gaussian_process\\_gpc.py\", line 220, in obj_func\n",
      "    lml, grad = self.log_marginal_likelihood(\n",
      "                ^^^^^^^^^^^^^^^^^^^^^^^^^^^^^\n",
      "  File \"C:\\Users\\tokm0001\\AppData\\Local\\Packages\\PythonSoftwareFoundation.Python.3.11_qbz5n2kfra8p0\\LocalCache\\local-packages\\Python311\\site-packages\\sklearn\\gaussian_process\\_gpc.py\", line 385, in log_marginal_likelihood\n",
      "    Z, (pi, W_sr, L, b, a) = self._posterior_mode(K, return_temporaries=True)\n",
      "                             ^^^^^^^^^^^^^^^^^^^^^^^^^^^^^^^^^^^^^^^^^^^^^^^^\n",
      "  File \"C:\\Users\\tokm0001\\AppData\\Local\\Packages\\PythonSoftwareFoundation.Python.3.11_qbz5n2kfra8p0\\LocalCache\\local-packages\\Python311\\site-packages\\sklearn\\gaussian_process\\_gpc.py\", line 444, in _posterior_mode\n",
      "    L = cholesky(B, lower=True)\n",
      "        ^^^^^^^^^^^^^^^^^^^^^^^\n",
      "  File \"C:\\Users\\tokm0001\\AppData\\Local\\Packages\\PythonSoftwareFoundation.Python.3.11_qbz5n2kfra8p0\\LocalCache\\local-packages\\Python311\\site-packages\\scipy\\linalg\\_decomp_cholesky.py\", line 89, in cholesky\n",
      "    c, lower = _cholesky(a, lower=lower, overwrite_a=overwrite_a, clean=True,\n",
      "               ^^^^^^^^^^^^^^^^^^^^^^^^^^^^^^^^^^^^^^^^^^^^^^^^^^^^^^^^^^^^^^\n",
      "  File \"C:\\Users\\tokm0001\\AppData\\Local\\Packages\\PythonSoftwareFoundation.Python.3.11_qbz5n2kfra8p0\\LocalCache\\local-packages\\Python311\\site-packages\\scipy\\linalg\\_decomp_cholesky.py\", line 37, in _cholesky\n",
      "    raise LinAlgError(\"%d-th leading minor of the array is not positive \"\n",
      "numpy.linalg.LinAlgError: 43-th leading minor of the array is not positive definite\n",
      "\n",
      "  warnings.warn(some_fits_failed_message, FitFailedWarning)\n",
      "C:\\Users\\tokm0001\\AppData\\Local\\Packages\\PythonSoftwareFoundation.Python.3.11_qbz5n2kfra8p0\\LocalCache\\local-packages\\Python311\\site-packages\\sklearn\\model_selection\\_search.py:979: UserWarning: One or more of the test scores are non-finite: [0.96068966 0.9620197  0.89098522 0.96625616 0.89098522        nan\n",
      "        nan 0.92275862]\n",
      "  warnings.warn(\n",
      "C:\\Users\\tokm0001\\AppData\\Local\\Packages\\PythonSoftwareFoundation.Python.3.11_qbz5n2kfra8p0\\LocalCache\\local-packages\\Python311\\site-packages\\sklearn\\utils\\validation.py:1183: DataConversionWarning: A column-vector y was passed when a 1d array was expected. Please change the shape of y to (n_samples, ), for example using ravel().\n",
      "  y = column_or_1d(y, warn=True)\n"
     ]
    },
    {
     "name": "stdout",
     "output_type": "stream",
     "text": [
      "Mean cross-validated score of the best_estimator:  0.966256157635468\n",
      "Best estimator parameters:  {'kernel': 1**2 * RationalQuadratic(alpha=1, length_scale=1)}\n",
      "Accuracy 0.961 with: {'kernel': 1**2 * RBF(length_scale=1)}\n",
      "Accuracy 0.962 with: {'kernel': 1**2 * DotProduct(sigma_0=1)}\n",
      "Accuracy 0.891 with: {'kernel': 1**2 * Matern(length_scale=1, nu=1.5)}\n",
      "Accuracy 0.966 with: {'kernel': 1**2 * RationalQuadratic(alpha=1, length_scale=1)}\n",
      "Accuracy 0.891 with: {'kernel': 1**2 * Matern(length_scale=1, nu=1.5) + 1**2 * WhiteKernel(noise_level=0.5)}\n",
      "Accuracy nan with: {'kernel': 1**2 * ExpSineSquared(length_scale=1, periodicity=1)}\n",
      "Accuracy nan with: {'kernel': 1**2 * ExpSineSquared(length_scale=1, periodicity=3)}\n",
      "Accuracy 0.923 with: {'kernel': 1**2 * Matern(length_scale=1, nu=1.5) + 1**2 * WhiteKernel(noise_level=0.5)}\n"
     ]
    },
    {
     "name": "stderr",
     "output_type": "stream",
     "text": [
      "C:\\Users\\tokm0001\\AppData\\Local\\Packages\\PythonSoftwareFoundation.Python.3.11_qbz5n2kfra8p0\\LocalCache\\local-packages\\Python311\\site-packages\\sklearn\\gaussian_process\\kernels.py:429: ConvergenceWarning: The optimal value found for dimension 0 of parameter k1__constant_value is close to the specified upper bound 100000.0. Increasing the bound and calling fit again may find a better value.\n",
      "  warnings.warn(\n"
     ]
    }
   ],
   "source": [
    "X = ts_dataset.iloc[:, 0:len(ts_dataset.columns)-1].copy()\n",
    "y = pd.DataFrame(ts_dataset.iloc[:, -1])\n",
    "# split dataset into training and test set\n",
    "X_train, X_test, y_train, y_test = train_test_split(X, y, test_size=0.25, random_state=86)\n",
    "model = GaussianProcessClassifier()\n",
    "cv = RepeatedStratifiedKFold(n_splits=5, n_repeats=5, random_state=5)\n",
    "# exhausive search over different kernels\n",
    "search = GridSearchCV(estimator=model, param_grid=grid, scoring='accuracy', cv=cv, n_jobs=-1)\n",
    "# fit model into the dataset\n",
    "result = search.fit(X, y)\n",
    "\n",
    "print(\"Mean cross-validated score of the best_estimator: \", result.best_score_)\n",
    "print(\"Best estimator parameters: \", result.best_params_)\n",
    "\n",
    "means = result.cv_results_['mean_test_score']\n",
    "params = result.cv_results_['params']\n",
    "for mean, param in zip(means, params):\n",
    "    print(\"Accuracy %.3f with: %r\" % (mean, param))"
   ]
  },
  {
   "cell_type": "code",
   "execution_count": 28,
   "metadata": {},
   "outputs": [
    {
     "data": {
      "text/plain": [
       "{'kernel': 1**2 * RationalQuadratic(alpha=1, length_scale=1)}"
      ]
     },
     "execution_count": 28,
     "metadata": {},
     "output_type": "execute_result"
    }
   ],
   "source": [
    "search.best_params_"
   ]
  },
  {
   "cell_type": "code",
   "execution_count": 29,
   "metadata": {},
   "outputs": [
    {
     "data": {
      "text/plain": [
       "problematic\n",
       "0              73\n",
       "1              33\n",
       "Name: count, dtype: int64"
      ]
     },
     "execution_count": 29,
     "metadata": {},
     "output_type": "execute_result"
    }
   ],
   "source": [
    "y_train.value_counts()"
   ]
  },
  {
   "cell_type": "code",
   "execution_count": 30,
   "metadata": {},
   "outputs": [
    {
     "data": {
      "text/plain": [
       "problematic\n",
       "0              24\n",
       "1              12\n",
       "Name: count, dtype: int64"
      ]
     },
     "execution_count": 30,
     "metadata": {},
     "output_type": "execute_result"
    }
   ],
   "source": [
    "y_test.value_counts()"
   ]
  },
  {
   "cell_type": "code",
   "execution_count": 31,
   "metadata": {},
   "outputs": [
    {
     "name": "stdout",
     "output_type": "stream",
     "text": [
      "Mean accuracy on training data:  1.0\n",
      "Prediction on test data:  [1 1 0 1 0 0 1 0 0 0 1 1 1 0 0 0 1 0 1 0 0 0 0 0 0 1 0 0 1 0 0 1 0 0 0 1]\n",
      "Prediction accuracy on test data:  0.9722222222222222\n"
     ]
    },
    {
     "name": "stderr",
     "output_type": "stream",
     "text": [
      "C:\\Users\\tokm0001\\AppData\\Local\\Packages\\PythonSoftwareFoundation.Python.3.11_qbz5n2kfra8p0\\LocalCache\\local-packages\\Python311\\site-packages\\sklearn\\gaussian_process\\kernels.py:429: ConvergenceWarning: The optimal value found for dimension 0 of parameter k1__k1__constant_value is close to the specified upper bound 100000.0. Increasing the bound and calling fit again may find a better value.\n",
      "  warnings.warn(\n"
     ]
    }
   ],
   "source": [
    "# best_kernel = 1*DotProduct()\n",
    "# best_kernel = 1**2 * RationalQuadratic(alpha=1, length_scale=1)\n",
    "best_kernel = 1**2 * Matern(length_scale=1, nu=1.5) + 1**2 * WhiteKernel(noise_level=0.5)\n",
    "# best_kernel = 1**2 * Matern(length_scale=1, nu=1.5)\n",
    "# best_kernel = 1**2 * RBF(length_scale=1)\n",
    "model = GaussianProcessClassifier(kernel=best_kernel, random_state=30, n_jobs=-1)\n",
    "model.fit(X_train, y_train.values.ravel())\n",
    "print(\"Mean accuracy on training data: \", model.score(X_train, y_train))\n",
    "print(\"Prediction on test data: \", model.predict(X_test))\n",
    "pred_test = model.predict(X_test)\n",
    "print(\"Prediction accuracy on test data: \", accuracy_score(y_test, pred_test))"
   ]
  },
  {
   "cell_type": "code",
   "execution_count": 32,
   "metadata": {},
   "outputs": [
    {
     "data": {
      "text/plain": [
       "array([[0.37185235, 0.62814765],\n",
       "       [0.4064951 , 0.5935049 ],\n",
       "       [0.86770898, 0.13229102],\n",
       "       [0.05025946, 0.94974054],\n",
       "       [0.84716531, 0.15283469],\n",
       "       [0.82723157, 0.17276843],\n",
       "       [0.11689736, 0.88310264],\n",
       "       [0.77017023, 0.22982977],\n",
       "       [0.94315655, 0.05684345],\n",
       "       [0.95584687, 0.04415313],\n",
       "       [0.03257254, 0.96742746],\n",
       "       [0.47979117, 0.52020883],\n",
       "       [0.3390078 , 0.6609922 ],\n",
       "       [0.93524286, 0.06475714],\n",
       "       [0.90258323, 0.09741677],\n",
       "       [0.93465881, 0.06534119],\n",
       "       [0.04704377, 0.95295623],\n",
       "       [0.78907209, 0.21092791],\n",
       "       [0.27084476, 0.72915524],\n",
       "       [0.95894809, 0.04105191],\n",
       "       [0.91339589, 0.08660411],\n",
       "       [0.97025945, 0.02974055],\n",
       "       [0.98567672, 0.01432328],\n",
       "       [0.96423458, 0.03576542],\n",
       "       [0.95183931, 0.04816069],\n",
       "       [0.05490722, 0.94509278],\n",
       "       [0.93422476, 0.06577524],\n",
       "       [0.96227879, 0.03772121],\n",
       "       [0.04999278, 0.95000722],\n",
       "       [0.93382346, 0.06617654],\n",
       "       [0.89379443, 0.10620557],\n",
       "       [0.30784751, 0.69215249],\n",
       "       [0.85149806, 0.14850194],\n",
       "       [0.89383241, 0.10616759],\n",
       "       [0.94566175, 0.05433825],\n",
       "       [0.39483165, 0.60516835]])"
      ]
     },
     "execution_count": 32,
     "metadata": {},
     "output_type": "execute_result"
    }
   ],
   "source": [
    "prob_list = model.predict_proba(X_test)\n",
    "prob_list"
   ]
  },
  {
   "cell_type": "code",
   "execution_count": 33,
   "metadata": {},
   "outputs": [
    {
     "data": {
      "image/png": "[encoded data removed]",
      "text/plain": [
       "<Figure size 1000x500 with 2 Axes>"
      ]
     },
     "metadata": {},
     "output_type": "display_data"
    }
   ],
   "source": [
    "import matplotlib.pyplot as plt\n",
    "import matplotlib as mpl\n",
    "import pandas as pd\n",
    "import seaborn as sns\n",
    "sns.set()\n",
    "\n",
    "cow_id = X_test.index.copy()\n",
    "cow_id = cow_id.astype(str)\n",
    "\n",
    "font_color = '#525252'\n",
    "hfont = {'fontname':'Calibri'}\n",
    "facecolor = '#eaeaf2'\n",
    "color_red = '#f44336'\n",
    "color_blue = '#4496df'\n",
    "index = cow_id\n",
    "column0 = prob_list[:, 0]\n",
    "column1 = prob_list[:, 1]\n",
    "title0 = 'Problematic Cows, test set'\n",
    "title1 = 'Normal Cows, test set'\n",
    "\n",
    "fig, axes = plt.subplots(figsize=(10,5), facecolor=facecolor, ncols=2, sharey=True)\n",
    "fig.tight_layout()\n",
    "\n",
    "axes[0].barh(index, column0, align='center', color=color_red, zorder=10)\n",
    "axes[0].set_title(title0, fontsize=18, pad=15, color=color_red, **hfont)\n",
    "axes[1].barh(index, column1, align='center', color=color_blue, zorder=10)\n",
    "axes[1].set_title(title1, fontsize=18, pad=15, color=color_blue, **hfont)\n",
    "\n",
    "# If you have positive numbers and want to invert the x-axis of the left plot\n",
    "axes[0].invert_xaxis() \n",
    "\n",
    "# To show data from highest to lowest\n",
    "plt.gca().invert_yaxis()\n",
    "\n",
    "axes[0].set(yticks=cow_id, yticklabels=cow_id)\n",
    "axes[0].yaxis.tick_left()\n",
    "axes[0].tick_params(axis='y', colors='black') # tick color\n",
    "\n",
    "axes[0].set_xticks([0, 0.1, 0.2, 0.3, 0.4, 0.5, 0.6, 0.7, 0.8, 0.9, 1])\n",
    "axes[0].set_xticklabels([0, 0.1, 0.2, 0.3, 0.4, 0.5, 0.6, 0.7, 0.8, 0.9, 1])\n",
    "axes[1].set_xticks([0, 0.1, 0.2, 0.3, 0.4, 0.5, 0.6, 0.7, 0.8, 0.9, 1])\n",
    "axes[1].set_xticklabels([0, 0.1, 0.2, 0.3, 0.4, 0.5, 0.6, 0.7, 0.8, 0.9, 1])\n",
    "\n",
    "for label in (axes[0].get_xticklabels() + axes[0].get_yticklabels()):\n",
    "    label.set(fontsize=13, color=font_color, **hfont)\n",
    "for label in (axes[1].get_xticklabels() + axes[1].get_yticklabels()):\n",
    "    label.set(fontsize=13, color=font_color, **hfont)\n",
    "\n",
    "plt.subplots_adjust(wspace=0, top=0.85, bottom=0.1, left=0.18, right=0.95)\n",
    "filename = 'Problematic_Cows'\n",
    "plt.savefig(filename+'.png', facecolor=facecolor)"
   ]
  }
 ],
 "metadata": {
  "kernelspec": {
   "display_name": "Python 3",
   "language": "python",
   "name": "python3"
  },
  "language_info": {
   "codemirror_mode": {
    "name": "ipython",
    "version": 3
   },
   "file_extension": ".py",
   "mimetype": "text/x-python",
   "name": "python",
   "nbconvert_exporter": "python",
   "pygments_lexer": "ipython3",
   "version": "3.11.6"
  },
  "orig_nbformat": 4,
  "vscode": {
   "interpreter": {
    "hash": "7857ada9c2c05e5ee75d334d60fb77cca110ad03375c3b02029444557fa6212d"
   }
  }
 },
 "nbformat": 4,
 "nbformat_minor": 2
}
